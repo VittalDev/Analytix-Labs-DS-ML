{
 "cells": [
  {
   "cell_type": "code",
   "execution_count": 11,
   "id": "3d8cbb9a",
   "metadata": {},
   "outputs": [],
   "source": [
    "var1 = 2\n",
    "var2 = 3.14\n",
    "var3 = 'hello world'  ## both single and double quotes are fine"
   ]
  },
  {
   "cell_type": "code",
   "execution_count": 14,
   "id": "6fcccc1b",
   "metadata": {},
   "outputs": [
    {
     "name": "stdout",
     "output_type": "stream",
     "text": [
      "2\n",
      "3.14\n",
      "hello world\n"
     ]
    }
   ],
   "source": [
    "print(var1)\n",
    "print(var2)\n",
    "print(var3)"
   ]
  },
  {
   "cell_type": "markdown",
   "id": "dbb91e5e",
   "metadata": {},
   "source": [
    "## INC rules - Identifier Naming Convention\n",
    "\n",
    "1. the names can be alphanumeric. However, they can't start with a numeric\n",
    "2. No special characters allowed. The only exception to this rule is the underscore (_). Evern underscore. we usually \n",
    "use to denote spaces in  the variable's name\n",
    "\n",
    "3. The names can't be existing keywords. for example, python already has a meaning assigned to `print`. So, you shouldn't create a variable that is named `print`.  However, even if we try to create a variable with the name print, it won't throw an error here. As a programmer, you will need to be wary of this.\n",
    "\n",
    "4. Python is extremely case sensitive. Most of the pre exsting functions or keywords are written in small case. there\n",
    "are exceptions"
   ]
  },
  {
   "cell_type": "code",
   "execution_count": 4,
   "id": "a64b93f8",
   "metadata": {},
   "outputs": [],
   "source": [
    "var1 = 2"
   ]
  },
  {
   "cell_type": "code",
   "execution_count": 6,
   "id": "7aa0aca0",
   "metadata": {},
   "outputs": [],
   "source": [
    "var_1 = 2"
   ]
  },
  {
   "cell_type": "code",
   "execution_count": 7,
   "id": "35958929",
   "metadata": {},
   "outputs": [],
   "source": [
    "interest_rate = 0.1"
   ]
  },
  {
   "cell_type": "code",
   "execution_count": 8,
   "id": "a310f58c",
   "metadata": {},
   "outputs": [],
   "source": [
    "print = 'hello'"
   ]
  },
  {
   "cell_type": "code",
   "execution_count": 9,
   "id": "33799010",
   "metadata": {},
   "outputs": [
    {
     "data": {
      "text/plain": [
       "'hello'"
      ]
     },
     "execution_count": 9,
     "metadata": {},
     "output_type": "execute_result"
    }
   ],
   "source": [
    "print"
   ]
  },
  {
   "cell_type": "code",
   "execution_count": 13,
   "id": "c4da8dac",
   "metadata": {},
   "outputs": [],
   "source": [
    "del print  ## del is a command"
   ]
  },
  {
   "cell_type": "code",
   "execution_count": 15,
   "id": "03811390",
   "metadata": {},
   "outputs": [],
   "source": [
    "Var = 1\n",
    "var = 'hello'"
   ]
  },
  {
   "cell_type": "code",
   "execution_count": 16,
   "id": "e0df66d3",
   "metadata": {},
   "outputs": [
    {
     "data": {
      "text/plain": [
       "1"
      ]
     },
     "execution_count": 16,
     "metadata": {},
     "output_type": "execute_result"
    }
   ],
   "source": [
    "Var"
   ]
  },
  {
   "cell_type": "markdown",
   "id": "5fd888e5",
   "metadata": {},
   "source": [
    "## Data types\n"
   ]
  },
  {
   "cell_type": "markdown",
   "id": "b4685d14",
   "metadata": {},
   "source": [
    "In SQL, there are many data types available to us as all these data types help us manage our memory better.\n",
    "\n",
    "char, varchar, blob, nvarchar, nchar\n",
    "int, tinyint, smallint, bigint,\n",
    "float, double\n",
    "date\n",
    "boolean\n",
    "\n",
    "Python, however, was not built to be a data science tool. It only provides 4 basic data types to us. To get more data types\n",
    "we will need to import some additional packages/libraries.\n",
    "\n",
    "\n",
    "`int`\n",
    "\n",
    "`str`\n",
    "\n",
    "`float`\n",
    " \n",
    "`bool` - `True` or `False`\n",
    "\n",
    "If we want to check the data type assigned to a variable by python, use the `type()` function\n",
    "\n",
    "Basic Python also has 4 type conversion functions which go by the same as the data types.\n",
    "\n",
    "`int()` - float or bool to integers. with respect to strings, only numbers which are currently being interpreted as strings\n",
    "\n",
    "`float()`\n",
    "\n",
    "`str()` - anything can be converted to a string.\n",
    "\n",
    "`bool()` - won't have the desired effect for a string. If a string has anything at all in it, it will just return `True`\n",
    "\n"
   ]
  },
  {
   "cell_type": "code",
   "execution_count": 24,
   "id": "822aa4ae",
   "metadata": {},
   "outputs": [],
   "source": [
    "var1 = 2\n",
    "var2 = 2.4\n",
    "var3 = 'hello word'\n",
    "var4 = True"
   ]
  },
  {
   "cell_type": "code",
   "execution_count": 19,
   "id": "83532a78",
   "metadata": {},
   "outputs": [
    {
     "data": {
      "text/plain": [
       "int"
      ]
     },
     "execution_count": 19,
     "metadata": {},
     "output_type": "execute_result"
    }
   ],
   "source": [
    "type(var1)"
   ]
  },
  {
   "cell_type": "code",
   "execution_count": 20,
   "id": "7fccbac5",
   "metadata": {},
   "outputs": [
    {
     "data": {
      "text/plain": [
       "float"
      ]
     },
     "execution_count": 20,
     "metadata": {},
     "output_type": "execute_result"
    }
   ],
   "source": [
    "type(var2)"
   ]
  },
  {
   "cell_type": "code",
   "execution_count": 21,
   "id": "18398c0f",
   "metadata": {},
   "outputs": [
    {
     "data": {
      "text/plain": [
       "str"
      ]
     },
     "execution_count": 21,
     "metadata": {},
     "output_type": "execute_result"
    }
   ],
   "source": [
    "type(var3)"
   ]
  },
  {
   "cell_type": "code",
   "execution_count": 22,
   "id": "df5181c6",
   "metadata": {},
   "outputs": [
    {
     "data": {
      "text/plain": [
       "bool"
      ]
     },
     "execution_count": 22,
     "metadata": {},
     "output_type": "execute_result"
    }
   ],
   "source": [
    "type(var4)"
   ]
  },
  {
   "cell_type": "code",
   "execution_count": 25,
   "id": "042ae4cb",
   "metadata": {},
   "outputs": [
    {
     "data": {
      "text/plain": [
       "'1'"
      ]
     },
     "execution_count": 25,
     "metadata": {},
     "output_type": "execute_result"
    }
   ],
   "source": [
    "'1'"
   ]
  },
  {
   "cell_type": "code",
   "execution_count": 27,
   "id": "8d5b3cb3",
   "metadata": {},
   "outputs": [
    {
     "name": "stdout",
     "output_type": "stream",
     "text": [
      "2.4\n",
      "<class 'float'>\n"
     ]
    }
   ],
   "source": [
    "print(var2)\n",
    "print(type(var2))"
   ]
  },
  {
   "cell_type": "code",
   "execution_count": 30,
   "id": "fc808573",
   "metadata": {},
   "outputs": [],
   "source": [
    "var2 = int(var2)"
   ]
  },
  {
   "cell_type": "code",
   "execution_count": 31,
   "id": "3a1192d7",
   "metadata": {},
   "outputs": [
    {
     "name": "stdout",
     "output_type": "stream",
     "text": [
      "2\n"
     ]
    }
   ],
   "source": [
    "print(var2)"
   ]
  },
  {
   "cell_type": "code",
   "execution_count": 33,
   "id": "bc9d1be2",
   "metadata": {},
   "outputs": [
    {
     "data": {
      "text/plain": [
       "'2'"
      ]
     },
     "execution_count": 33,
     "metadata": {},
     "output_type": "execute_result"
    }
   ],
   "source": [
    "str(var1)"
   ]
  },
  {
   "cell_type": "code",
   "execution_count": 38,
   "id": "e7134b12",
   "metadata": {},
   "outputs": [
    {
     "ename": "ValueError",
     "evalue": "invalid literal for int() with base 10: '123.4'",
     "output_type": "error",
     "traceback": [
      "\u001b[1;31m---------------------------------------------------------------------------\u001b[0m",
      "\u001b[1;31mValueError\u001b[0m                                Traceback (most recent call last)",
      "\u001b[1;32m<ipython-input-38-581646fd3721>\u001b[0m in \u001b[0;36m<module>\u001b[1;34m\u001b[0m\n\u001b[1;32m----> 1\u001b[1;33m \u001b[0mint\u001b[0m\u001b[1;33m(\u001b[0m\u001b[1;34m'123.4'\u001b[0m\u001b[1;33m)\u001b[0m\u001b[1;33m\u001b[0m\u001b[1;33m\u001b[0m\u001b[0m\n\u001b[0m",
      "\u001b[1;31mValueError\u001b[0m: invalid literal for int() with base 10: '123.4'"
     ]
    }
   ],
   "source": [
    "int('123.4')  ## int wont' recognize the dot '.' automatically"
   ]
  },
  {
   "cell_type": "code",
   "execution_count": 37,
   "id": "8cff6b8b",
   "metadata": {},
   "outputs": [
    {
     "data": {
      "text/plain": [
       "123"
      ]
     },
     "execution_count": 37,
     "metadata": {},
     "output_type": "execute_result"
    }
   ],
   "source": [
    "int(float('123.4'))"
   ]
  },
  {
   "cell_type": "code",
   "execution_count": 39,
   "id": "d9d9497a",
   "metadata": {},
   "outputs": [
    {
     "data": {
      "text/plain": [
       "True"
      ]
     },
     "execution_count": 39,
     "metadata": {},
     "output_type": "execute_result"
    }
   ],
   "source": [
    "var4"
   ]
  },
  {
   "cell_type": "code",
   "execution_count": 40,
   "id": "b1f65c6e",
   "metadata": {},
   "outputs": [
    {
     "data": {
      "text/plain": [
       "1"
      ]
     },
     "execution_count": 40,
     "metadata": {},
     "output_type": "execute_result"
    }
   ],
   "source": [
    "int(var4)"
   ]
  },
  {
   "cell_type": "code",
   "execution_count": 42,
   "id": "9dfa292c",
   "metadata": {},
   "outputs": [],
   "source": [
    "var1, var2, var3, var4 = 2, 2.4, 'hello word', True"
   ]
  },
  {
   "cell_type": "code",
   "execution_count": 60,
   "id": "86faafce",
   "metadata": {},
   "outputs": [],
   "source": [
    "var5 = 'False'\n",
    "var6 = ''"
   ]
  },
  {
   "cell_type": "code",
   "execution_count": 61,
   "id": "013d2b1d",
   "metadata": {},
   "outputs": [
    {
     "data": {
      "text/plain": [
       "True"
      ]
     },
     "execution_count": 61,
     "metadata": {},
     "output_type": "execute_result"
    }
   ],
   "source": [
    "bool(var5)"
   ]
  },
  {
   "cell_type": "code",
   "execution_count": 62,
   "id": "30760dd4",
   "metadata": {},
   "outputs": [
    {
     "data": {
      "text/plain": [
       "False"
      ]
     },
     "execution_count": 62,
     "metadata": {},
     "output_type": "execute_result"
    }
   ],
   "source": [
    "bool(var6)"
   ]
  },
  {
   "cell_type": "code",
   "execution_count": 67,
   "id": "0bdcf4ec",
   "metadata": {},
   "outputs": [],
   "source": [
    "var1 = '0'"
   ]
  },
  {
   "cell_type": "code",
   "execution_count": 68,
   "id": "b19accf6",
   "metadata": {},
   "outputs": [
    {
     "data": {
      "text/plain": [
       "True"
      ]
     },
     "execution_count": 68,
     "metadata": {},
     "output_type": "execute_result"
    }
   ],
   "source": [
    "bool(var1)"
   ]
  },
  {
   "cell_type": "markdown",
   "id": "3a6c072a",
   "metadata": {},
   "source": [
    "## using the print() function to print some dynamic messages\n",
    "\n",
    "1. `.format()`\n",
    "2. just use commas to separate out text from variables\n",
    "3. `f strings`"
   ]
  },
  {
   "cell_type": "code",
   "execution_count": 72,
   "id": "85adb83e",
   "metadata": {},
   "outputs": [
    {
     "name": "stdout",
     "output_type": "stream",
     "text": [
      "The interest rate currently is  0.2\n"
     ]
    }
   ],
   "source": [
    "interest_rate = 0.2\n",
    "\n",
    "print('The interest rate currently is ', interest_rate)"
   ]
  },
  {
   "cell_type": "code",
   "execution_count": 73,
   "id": "ea12de5b",
   "metadata": {},
   "outputs": [
    {
     "name": "stdout",
     "output_type": "stream",
     "text": [
      "10000\n"
     ]
    }
   ],
   "source": [
    "loan_amount = 10_000  ## just for readability\n",
    "print(loan_amount)"
   ]
  },
  {
   "cell_type": "code",
   "execution_count": 75,
   "id": "f4d9cf7f",
   "metadata": {},
   "outputs": [
    {
     "name": "stdout",
     "output_type": "stream",
     "text": [
      "The interest rate currently is 0.2 and the loan amount currently is 10000\n",
      "You interest amount comes out to be 2000.0\n"
     ]
    }
   ],
   "source": [
    "print('The interest rate currently is', interest_rate, 'and the loan amount currently is', loan_amount)\n",
    "print('You interest amount comes out to be', interest_rate * loan_amount)"
   ]
  },
  {
   "cell_type": "code",
   "execution_count": 81,
   "id": "1e6a211c",
   "metadata": {},
   "outputs": [
    {
     "name": "stdout",
     "output_type": "stream",
     "text": [
      "The interest rate is 0.2 and the loand amount is 10000\n"
     ]
    }
   ],
   "source": [
    "## f strings - format strings\n",
    "\n",
    "print(f'The interest rate is {interest_rate} and the loand amount is {loan_amount}')"
   ]
  },
  {
   "cell_type": "code",
   "execution_count": 82,
   "id": "aa2cc95a",
   "metadata": {},
   "outputs": [
    {
     "name": "stdout",
     "output_type": "stream",
     "text": [
      "The interest rate is 0.2 and the loan amount is 10000.0\n"
     ]
    }
   ],
   "source": [
    "## .format()\n",
    "\n",
    "print('The interest rate is {} and the loan amount is {}'.format(interest_rate,loan_amount))"
   ]
  },
  {
   "cell_type": "markdown",
   "id": "ca29d325",
   "metadata": {},
   "source": [
    "## Operators in python\n",
    "\n",
    "these are just symbols used to perform a certain operation\n",
    "\n",
    "1. Assignment operator (=)\n",
    "\n",
    "2. Arithmetic operators\n",
    "\n",
    "    `+` `-`  `*`  `/`   `%`  `**`   `//` (integer division)\n",
    "    \n",
    "    \n",
    "3. Relational operators / Conditional operators / Comparison operators\n",
    "\n",
    "    `==`  `!=`  `>`  `<`   `>=`   `<=`\n",
    "    \n",
    "    ** always the output of these operators will be boolean in nature **\n",
    "    \n",
    "    \n",
    "    multivalue contional operator `in`\n",
    "    \n",
    "    \n",
    "4. Logical operators\n",
    "\n",
    "    `and`   `or`    `not`\n",
    "    \n",
    "    bitwise logical operators\n",
    "    \n",
    "        `&`   `|`  `~`\n",
    "        \n",
    "        5. "
   ]
  },
  {
   "cell_type": "code",
   "execution_count": 87,
   "id": "3712d0db",
   "metadata": {},
   "outputs": [
    {
     "data": {
      "text/plain": [
       "5"
      ]
     },
     "execution_count": 87,
     "metadata": {},
     "output_type": "execute_result"
    }
   ],
   "source": [
    "2 + 3"
   ]
  },
  {
   "cell_type": "code",
   "execution_count": 88,
   "id": "cedc34a2",
   "metadata": {},
   "outputs": [
    {
     "data": {
      "text/plain": [
       "-1"
      ]
     },
     "execution_count": 88,
     "metadata": {},
     "output_type": "execute_result"
    }
   ],
   "source": [
    "4 - 5"
   ]
  },
  {
   "cell_type": "code",
   "execution_count": 89,
   "id": "e275f4cd",
   "metadata": {},
   "outputs": [
    {
     "data": {
      "text/plain": [
       "12"
      ]
     },
     "execution_count": 89,
     "metadata": {},
     "output_type": "execute_result"
    }
   ],
   "source": [
    "4 * 3"
   ]
  },
  {
   "cell_type": "code",
   "execution_count": 90,
   "id": "4ee987e3",
   "metadata": {},
   "outputs": [
    {
     "data": {
      "text/plain": [
       "1.3333333333333333"
      ]
     },
     "execution_count": 90,
     "metadata": {},
     "output_type": "execute_result"
    }
   ],
   "source": [
    "4 / 3"
   ]
  },
  {
   "cell_type": "code",
   "execution_count": 91,
   "id": "f750f29e",
   "metadata": {},
   "outputs": [
    {
     "data": {
      "text/plain": [
       "1"
      ]
     },
     "execution_count": 91,
     "metadata": {},
     "output_type": "execute_result"
    }
   ],
   "source": [
    "4 // 3  ## integer division   int(4/3)"
   ]
  },
  {
   "cell_type": "code",
   "execution_count": 92,
   "id": "30c80aa1",
   "metadata": {},
   "outputs": [
    {
     "data": {
      "text/plain": [
       "8"
      ]
     },
     "execution_count": 92,
     "metadata": {},
     "output_type": "execute_result"
    }
   ],
   "source": [
    "2 ** 3"
   ]
  },
  {
   "cell_type": "code",
   "execution_count": 93,
   "id": "ac5e81df",
   "metadata": {},
   "outputs": [
    {
     "data": {
      "text/plain": [
       "False"
      ]
     },
     "execution_count": 93,
     "metadata": {},
     "output_type": "execute_result"
    }
   ],
   "source": [
    "3 == 4"
   ]
  },
  {
   "cell_type": "code",
   "execution_count": 94,
   "id": "2f405061",
   "metadata": {},
   "outputs": [
    {
     "data": {
      "text/plain": [
       "True"
      ]
     },
     "execution_count": 94,
     "metadata": {},
     "output_type": "execute_result"
    }
   ],
   "source": [
    "3 == 3"
   ]
  },
  {
   "cell_type": "code",
   "execution_count": 95,
   "id": "fd57c2b5",
   "metadata": {},
   "outputs": [
    {
     "data": {
      "text/plain": [
       "True"
      ]
     },
     "execution_count": 95,
     "metadata": {},
     "output_type": "execute_result"
    }
   ],
   "source": [
    "3 < 4"
   ]
  },
  {
   "cell_type": "code",
   "execution_count": 96,
   "id": "3f326113",
   "metadata": {},
   "outputs": [
    {
     "data": {
      "text/plain": [
       "False"
      ]
     },
     "execution_count": 96,
     "metadata": {},
     "output_type": "execute_result"
    }
   ],
   "source": [
    "3 != 3"
   ]
  },
  {
   "cell_type": "code",
   "execution_count": 99,
   "id": "c831ecbe",
   "metadata": {},
   "outputs": [
    {
     "data": {
      "text/plain": [
       "243"
      ]
     },
     "execution_count": 99,
     "metadata": {},
     "output_type": "execute_result"
    }
   ],
   "source": [
    "3 ** 5"
   ]
  },
  {
   "cell_type": "code",
   "execution_count": 100,
   "id": "229a22a8",
   "metadata": {},
   "outputs": [
    {
     "data": {
      "text/plain": [
       "15"
      ]
     },
     "execution_count": 100,
     "metadata": {},
     "output_type": "execute_result"
    }
   ],
   "source": [
    "3 * 5"
   ]
  },
  {
   "cell_type": "code",
   "execution_count": 102,
   "id": "37a1fe59",
   "metadata": {},
   "outputs": [
    {
     "data": {
      "text/plain": [
       "False"
      ]
     },
     "execution_count": 102,
     "metadata": {},
     "output_type": "execute_result"
    }
   ],
   "source": [
    "3 > 4 or 4 > 5"
   ]
  },
  {
   "cell_type": "code",
   "execution_count": 104,
   "id": "151ffeaf",
   "metadata": {},
   "outputs": [
    {
     "data": {
      "text/plain": [
       "True"
      ]
     },
     "execution_count": 104,
     "metadata": {},
     "output_type": "execute_result"
    }
   ],
   "source": [
    "3 < 4 and 4 < 5"
   ]
  },
  {
   "cell_type": "code",
   "execution_count": 105,
   "id": "ed8cc259",
   "metadata": {},
   "outputs": [
    {
     "data": {
      "text/plain": [
       "False"
      ]
     },
     "execution_count": 105,
     "metadata": {},
     "output_type": "execute_result"
    }
   ],
   "source": [
    "not 3 < 4"
   ]
  },
  {
   "cell_type": "code",
   "execution_count": 108,
   "id": "b27cce5e",
   "metadata": {},
   "outputs": [
    {
     "data": {
      "text/plain": [
       "True"
      ]
     },
     "execution_count": 108,
     "metadata": {},
     "output_type": "execute_result"
    }
   ],
   "source": [
    "not 3 in (4, 5, 6)"
   ]
  },
  {
   "cell_type": "code",
   "execution_count": 113,
   "id": "938a8cc4",
   "metadata": {},
   "outputs": [
    {
     "data": {
      "text/plain": [
       "False"
      ]
     },
     "execution_count": 113,
     "metadata": {},
     "output_type": "execute_result"
    }
   ],
   "source": [
    "3 == '3'"
   ]
  },
  {
   "cell_type": "code",
   "execution_count": 112,
   "id": "d4e17b12",
   "metadata": {},
   "outputs": [
    {
     "data": {
      "text/plain": [
       "True"
      ]
     },
     "execution_count": 112,
     "metadata": {},
     "output_type": "execute_result"
    }
   ],
   "source": [
    "3 not in ('3', 3, '4', '5', '6')"
   ]
  },
  {
   "cell_type": "code",
   "execution_count": 114,
   "id": "e74e480d",
   "metadata": {},
   "outputs": [
    {
     "data": {
      "text/plain": [
       "1"
      ]
     },
     "execution_count": 114,
     "metadata": {},
     "output_type": "execute_result"
    }
   ],
   "source": [
    "3 % 2"
   ]
  },
  {
   "cell_type": "markdown",
   "id": "00e7dfcf",
   "metadata": {},
   "source": [
    "## Operator precedence\n",
    "\n",
    "`B` - Brackets \n",
    "\n",
    "`O` - order ( power )\n",
    "\n",
    "`D` `M` - Both division and multiplication have the same precedence, but the execution happens left to right\n",
    "\n",
    "`A` `S` - Addition and subtraction both have the same precedence, but the execution happens left to right\n",
    "\n"
   ]
  },
  {
   "cell_type": "code",
   "execution_count": 120,
   "id": "ac085d44",
   "metadata": {},
   "outputs": [
    {
     "data": {
      "text/plain": [
       "4.0"
      ]
     },
     "execution_count": 120,
     "metadata": {},
     "output_type": "execute_result"
    }
   ],
   "source": [
    "5 + 4 * 9 % (3 + 1) / 6 - 1"
   ]
  },
  {
   "cell_type": "code",
   "execution_count": null,
   "id": "c9b23644",
   "metadata": {},
   "outputs": [],
   "source": [
    "## 5 + 4 * 9 % (3 + 1) / 6 - 1\n",
    "## 5 + 4 * 9 % 4 / 6 - 1\n",
    "## 5 + 36 %  4 / 6  - 1\n",
    "## 5 + 0 // 6 - 1\n",
    "## 5 + 0.0 - 1\n",
    "## 4.0"
   ]
  },
  {
   "cell_type": "code",
   "execution_count": 116,
   "id": "92eba07e",
   "metadata": {},
   "outputs": [
    {
     "data": {
      "text/plain": [
       "0"
      ]
     },
     "execution_count": 116,
     "metadata": {},
     "output_type": "execute_result"
    }
   ],
   "source": [
    "36 % 4"
   ]
  },
  {
   "cell_type": "code",
   "execution_count": 118,
   "id": "b7289b5f",
   "metadata": {},
   "outputs": [
    {
     "data": {
      "text/plain": [
       "9"
      ]
     },
     "execution_count": 118,
     "metadata": {},
     "output_type": "execute_result"
    }
   ],
   "source": [
    "36 // 4"
   ]
  },
  {
   "cell_type": "code",
   "execution_count": 123,
   "id": "e029fe8c",
   "metadata": {},
   "outputs": [
    {
     "data": {
      "text/plain": [
       "1.9984014443252818e-15"
      ]
     },
     "execution_count": 123,
     "metadata": {},
     "output_type": "execute_result"
    }
   ],
   "source": [
    "36 % ( 4 / 6)"
   ]
  },
  {
   "cell_type": "code",
   "execution_count": 121,
   "id": "47ecc379",
   "metadata": {},
   "outputs": [
    {
     "data": {
      "text/plain": [
       "0.6666666666666666"
      ]
     },
     "execution_count": 121,
     "metadata": {},
     "output_type": "execute_result"
    }
   ],
   "source": [
    "4 / 6"
   ]
  },
  {
   "cell_type": "markdown",
   "id": "9506a92f",
   "metadata": {},
   "source": [
    "## taking input from the user\n",
    "\n",
    "use the `input()` function to take inputs from the user\n",
    "\n",
    "always returns the value entered as a string."
   ]
  },
  {
   "cell_type": "code",
   "execution_count": 124,
   "id": "55170a77",
   "metadata": {},
   "outputs": [
    {
     "name": "stdout",
     "output_type": "stream",
     "text": [
      "34561234asdfddfdfd\n"
     ]
    },
    {
     "data": {
      "text/plain": [
       "'34561234asdfddfdfd'"
      ]
     },
     "execution_count": 124,
     "metadata": {},
     "output_type": "execute_result"
    }
   ],
   "source": [
    "input()"
   ]
  },
  {
   "cell_type": "code",
   "execution_count": 133,
   "id": "3e0c8333",
   "metadata": {},
   "outputs": [
    {
     "name": "stdout",
     "output_type": "stream",
     "text": [
      "45\n"
     ]
    },
    {
     "data": {
      "text/plain": [
       "'45'"
      ]
     },
     "execution_count": 133,
     "metadata": {},
     "output_type": "execute_result"
    }
   ],
   "source": [
    "input()"
   ]
  },
  {
   "cell_type": "code",
   "execution_count": 131,
   "id": "29c86925",
   "metadata": {},
   "outputs": [
    {
     "data": {
      "text/plain": [
       "7"
      ]
     },
     "execution_count": 131,
     "metadata": {},
     "output_type": "execute_result"
    }
   ],
   "source": [
    "3 + 4"
   ]
  },
  {
   "cell_type": "code",
   "execution_count": 132,
   "id": "94566511",
   "metadata": {},
   "outputs": [],
   "source": [
    "var4 = 5"
   ]
  },
  {
   "cell_type": "code",
   "execution_count": 134,
   "id": "457727f6",
   "metadata": {},
   "outputs": [
    {
     "name": "stdout",
     "output_type": "stream",
     "text": [
      "Please enter a number34\n"
     ]
    },
    {
     "data": {
      "text/plain": [
       "'34'"
      ]
     },
     "execution_count": 134,
     "metadata": {},
     "output_type": "execute_result"
    }
   ],
   "source": [
    "input('Please enter a number')"
   ]
  },
  {
   "cell_type": "code",
   "execution_count": 142,
   "id": "11c6bcc9",
   "metadata": {},
   "outputs": [
    {
     "name": "stdout",
     "output_type": "stream",
     "text": [
      "Please enter your age30\n"
     ]
    }
   ],
   "source": [
    "user_input = int(input('Please enter your age'))"
   ]
  },
  {
   "cell_type": "code",
   "execution_count": 143,
   "id": "cf797904",
   "metadata": {},
   "outputs": [
    {
     "data": {
      "text/plain": [
       "'30'"
      ]
     },
     "execution_count": 143,
     "metadata": {},
     "output_type": "execute_result"
    }
   ],
   "source": [
    "user_input = int(user_input)"
   ]
  },
  {
   "cell_type": "code",
   "execution_count": 144,
   "id": "b3217360",
   "metadata": {},
   "outputs": [
    {
     "ename": "SyntaxError",
     "evalue": "invalid syntax (<ipython-input-144-9784ded1f008>, line 1)",
     "output_type": "error",
     "traceback": [
      "\u001b[1;36m  File \u001b[1;32m\"<ipython-input-144-9784ded1f008>\"\u001b[1;36m, line \u001b[1;32m1\u001b[0m\n\u001b[1;33m    int user_input\u001b[0m\n\u001b[1;37m        ^\u001b[0m\n\u001b[1;31mSyntaxError\u001b[0m\u001b[1;31m:\u001b[0m invalid syntax\n"
     ]
    }
   ],
   "source": [
    "int user_input"
   ]
  },
  {
   "cell_type": "code",
   "execution_count": null,
   "id": "6912edca",
   "metadata": {},
   "outputs": [],
   "source": [
    "interest_rate = 0.1"
   ]
  },
  {
   "cell_type": "code",
   "execution_count": 146,
   "id": "6c215a46",
   "metadata": {},
   "outputs": [
    {
     "name": "stdout",
     "output_type": "stream",
     "text": [
      "Please enter a loan amount: 500000\n",
      "Please enter the interest rate as a float value: 0.11\n",
      "Your interest amount is 55000.0\n"
     ]
    }
   ],
   "source": [
    "## ask the user to enter a loan amount and an interest rate\n",
    "## return the interest amount\n",
    "\n",
    "loan_amt = int(input('Please enter a loan amount: '))\n",
    "interest_rate = float(input('Please enter the interest rate as a float value: '))\n",
    "\n",
    "interest = loan_amt * interest_rate\n",
    "\n",
    "print('Your interest amount is', int(interest))"
   ]
  },
  {
   "cell_type": "code",
   "execution_count": 147,
   "id": "5416d2ed",
   "metadata": {},
   "outputs": [
    {
     "data": {
      "text/plain": [
       "0"
      ]
     },
     "execution_count": 147,
     "metadata": {},
     "output_type": "execute_result"
    }
   ],
   "source": [
    "int(interest_rate)"
   ]
  },
  {
   "cell_type": "code",
   "execution_count": 148,
   "id": "e44d8b45",
   "metadata": {},
   "outputs": [
    {
     "data": {
      "text/plain": [
       "2.15"
      ]
     },
     "execution_count": 148,
     "metadata": {},
     "output_type": "execute_result"
    }
   ],
   "source": [
    "round(2.1455, 2)"
   ]
  },
  {
   "cell_type": "markdown",
   "id": "1e153a2f",
   "metadata": {},
   "source": [
    "## Control flow statements\n",
    "\n",
    "1. Conditional statements\n",
    "\n",
    "    `if elif else` block\n",
    "    \n",
    "    `ternary if`\n",
    "    \n",
    "\n",
    "2. Iterative statements or loops\n",
    "\n",
    "    `for` loop\n",
    "    \n",
    "    `while` loop\n"
   ]
  },
  {
   "cell_type": "code",
   "execution_count": 149,
   "id": "46583f5d",
   "metadata": {},
   "outputs": [],
   "source": [
    "## 1. Conditional statements\n",
    "\n",
    "##     1. if elif else block"
   ]
  },
  {
   "cell_type": "raw",
   "id": "fcbd2431",
   "metadata": {},
   "source": [
    "if condition/s:\n",
    "\n",
    "    code...\n",
    "    ...\n",
    "    ....\n",
    "    ..\n",
    "    \n",
    "elif condition/s:\n",
    "\n",
    "    code...\n",
    "    ...\n",
    "    \n",
    "    ...\n",
    "    \n",
    "    \n",
    "else:\n",
    "\n",
    "    code..\n",
    "    \n",
    "    ....\n",
    "    \n",
    "it is not mandatory to have else or elif. Only if will also work.\n",
    "    "
   ]
  },
  {
   "cell_type": "code",
   "execution_count": 155,
   "id": "ce21a75d",
   "metadata": {},
   "outputs": [
    {
     "name": "stdout",
     "output_type": "stream",
     "text": [
      "The number is positive\n",
      "This is else\n"
     ]
    }
   ],
   "source": [
    "## check if a number is positive or not\n",
    "## if positive: print `the number is positive`\n",
    "## if negative: print 'the number is negative'\n",
    "\n",
    "num = 7\n",
    "\n",
    "if num > 0:\n",
    "   \n",
    "    print('The number is positive')\n",
    "    \n",
    "else:\n",
    "    \n",
    "    print('The number is not positive')\n",
    "\n",
    "print('This is else')"
   ]
  },
  {
   "cell_type": "code",
   "execution_count": 158,
   "id": "6ce101e3",
   "metadata": {},
   "outputs": [
    {
     "name": "stdout",
     "output_type": "stream",
     "text": [
      "enter a number -1\n",
      "Number is Negative\n"
     ]
    }
   ],
   "source": [
    "## check if a number is positive or not\n",
    "## if positive: print `the number is positive`\n",
    "## if zero: print `the number is zero`\n",
    "## if negative: print 'the number is negative'\n",
    "\n",
    "num = int(input('enter a number '))\n",
    "        \n",
    "if num > 0:\n",
    "    print('Number is Positive')\n",
    "        \n",
    "elif num == 0:\n",
    "    print('Number is Zero')\n",
    "\n",
    "else:\n",
    "    print('Number is Negative')"
   ]
  },
  {
   "cell_type": "code",
   "execution_count": 162,
   "id": "a1d57d40",
   "metadata": {},
   "outputs": [
    {
     "name": "stdout",
     "output_type": "stream",
     "text": [
      "Please enter a number4\n",
      "The number is even\n"
     ]
    }
   ],
   "source": [
    "## check if a number is even or odd. take the input from the user\n",
    "\n",
    "num = int(input(\"Please enter a number\"))\n",
    "\n",
    "if num % 2 == 0:\n",
    "    \n",
    "    print('The number is even')\n",
    "\n",
    "    \n",
    "    \n",
    "else:\n",
    "    \n",
    "    print('The number is odd')\n"
   ]
  },
  {
   "cell_type": "code",
   "execution_count": null,
   "id": "c6a6bf48",
   "metadata": {},
   "outputs": [],
   "source": [
    "## if the number is positive and even: print `positive and even`\n",
    "## if the number is positive and odd: print `positive and odd`\n",
    "## 0: print the number is zero and so on...\n",
    "\n",
    "## using nesting"
   ]
  },
  {
   "cell_type": "code",
   "execution_count": 165,
   "id": "ef39af86",
   "metadata": {},
   "outputs": [
    {
     "name": "stdout",
     "output_type": "stream",
     "text": [
      "Please enter a number0\n",
      "The number is zero\n"
     ]
    }
   ],
   "source": [
    "num = int(input(\"Please enter a number\"))\n",
    "\n",
    "if num > 0:\n",
    "    \n",
    "    if num % 2 == 0:\n",
    "        \n",
    "        print('Positive and even')\n",
    "        \n",
    "    else:\n",
    "        \n",
    "        print('Positive and odd')\n",
    "        \n",
    "        \n",
    "elif num == 0:\n",
    "    \n",
    "    print('The number is zero')\n",
    "    \n",
    "    \n",
    "else:\n",
    "    \n",
    "    if num % 2 == 0:\n",
    "        \n",
    "        print('Negative and even')\n",
    "        \n",
    "    else:\n",
    "        \n",
    "        print('Negative and odd')"
   ]
  },
  {
   "cell_type": "code",
   "execution_count": 166,
   "id": "b6ecc292",
   "metadata": {},
   "outputs": [
    {
     "data": {
      "text/plain": [
       "0"
      ]
     },
     "execution_count": 166,
     "metadata": {},
     "output_type": "execute_result"
    }
   ],
   "source": [
    "0 % 2"
   ]
  },
  {
   "cell_type": "code",
   "execution_count": null,
   "id": "cd6459c3",
   "metadata": {},
   "outputs": [],
   "source": [
    "if num > 0 and num % 2 == 0:\n",
    "    print('positive and even')\n",
    "    \n",
    "elif num > 0 and num % 2 != 0:\n",
    "    print('positive and odd')\n",
    "    \n",
    "    \n",
    "elif num == 0:\n",
    "    print('number is zero')\n",
    "    \n",
    "    \n",
    "elif num < 0 and num % 2 == 0:\n",
    "    print('negative and even')\n",
    "    \n",
    "else:\n",
    "    print('negative and odd')\n",
    "    \n",
    "# for and while loops\n",
    "## question on if else"
   ]
  }
 ],
 "metadata": {
  "kernelspec": {
   "display_name": "Python 3",
   "language": "python",
   "name": "python3"
  },
  "language_info": {
   "codemirror_mode": {
    "name": "ipython",
    "version": 3
   },
   "file_extension": ".py",
   "mimetype": "text/x-python",
   "name": "python",
   "nbconvert_exporter": "python",
   "pygments_lexer": "ipython3",
   "version": "3.8.8"
  }
 },
 "nbformat": 4,
 "nbformat_minor": 5
}
