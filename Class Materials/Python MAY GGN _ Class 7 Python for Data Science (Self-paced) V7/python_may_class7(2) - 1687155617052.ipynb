{
 "cells": [
  {
   "cell_type": "markdown",
   "id": "a8832032",
   "metadata": {},
   "source": [
    "## tuple\n",
    "\n",
    "A tuple is like a list. However, tuples are **immutable** in nature meaning that they cannot be changed or updated in the same memory location. However, they can be overwritten completely.\n",
    "\n",
    "1. How to create\n",
    "`()` `tuple()`"
   ]
  },
  {
   "cell_type": "code",
   "execution_count": 36,
   "id": "1c7e1df6",
   "metadata": {},
   "outputs": [],
   "source": [
    "t1 = (1, 2, 'python', True, [1, 2, 3]) ## tuples are also heterogeneous"
   ]
  },
  {
   "cell_type": "code",
   "execution_count": 37,
   "id": "0c190684",
   "metadata": {},
   "outputs": [
    {
     "data": {
      "text/plain": [
       "(1, 2, 'python', True, [1, 2, 3])"
      ]
     },
     "execution_count": 37,
     "metadata": {},
     "output_type": "execute_result"
    }
   ],
   "source": [
    "t1"
   ]
  },
  {
   "cell_type": "code",
   "execution_count": 38,
   "id": "7b741419",
   "metadata": {},
   "outputs": [
    {
     "name": "stdout",
     "output_type": "stream",
     "text": [
      "<class 'tuple'>\n"
     ]
    }
   ],
   "source": [
    "print(type(t1))"
   ]
  },
  {
   "cell_type": "code",
   "execution_count": 39,
   "id": "471d90f8",
   "metadata": {},
   "outputs": [],
   "source": [
    "t2 = tuple(range(11))  ## another way to create a tuple is to use type conversion"
   ]
  },
  {
   "cell_type": "code",
   "execution_count": 40,
   "id": "6b6751d2",
   "metadata": {},
   "outputs": [
    {
     "name": "stdout",
     "output_type": "stream",
     "text": [
      "<class 'tuple'>\n"
     ]
    }
   ],
   "source": [
    "print(type(t2))"
   ]
  },
  {
   "cell_type": "code",
   "execution_count": 41,
   "id": "10834fc1",
   "metadata": {},
   "outputs": [
    {
     "data": {
      "text/plain": [
       "(0, 1, 2, 3, 4, 5, 6, 7, 8, 9, 10)"
      ]
     },
     "execution_count": 41,
     "metadata": {},
     "output_type": "execute_result"
    }
   ],
   "source": [
    "t2"
   ]
  },
  {
   "cell_type": "markdown",
   "id": "d0c8a3e5",
   "metadata": {},
   "source": [
    "2. How to access elements from a tuple\n",
    "\n",
    "Using the indexing and slicing syntax using `[]`"
   ]
  },
  {
   "cell_type": "code",
   "execution_count": 89,
   "id": "2c2f245b",
   "metadata": {},
   "outputs": [
    {
     "data": {
      "text/plain": [
       "1"
      ]
     },
     "execution_count": 89,
     "metadata": {},
     "output_type": "execute_result"
    }
   ],
   "source": [
    "t3[0]"
   ]
  },
  {
   "cell_type": "code",
   "execution_count": 90,
   "id": "d0293fcf",
   "metadata": {},
   "outputs": [
    {
     "data": {
      "text/plain": [
       "6"
      ]
     },
     "execution_count": 90,
     "metadata": {},
     "output_type": "execute_result"
    }
   ],
   "source": [
    "t3[-1]"
   ]
  },
  {
   "cell_type": "code",
   "execution_count": 91,
   "id": "e82a53d3",
   "metadata": {},
   "outputs": [
    {
     "data": {
      "text/plain": [
       "(1, 2, 3)"
      ]
     },
     "execution_count": 91,
     "metadata": {},
     "output_type": "execute_result"
    }
   ],
   "source": [
    "t3[:3]"
   ]
  },
  {
   "cell_type": "markdown",
   "id": "8d4b3010",
   "metadata": {},
   "source": [
    "3. Updating elements in a tuple\n",
    "\n",
    "**Not possible** since tuples are immutable."
   ]
  },
  {
   "cell_type": "code",
   "execution_count": 43,
   "id": "fd63af58",
   "metadata": {},
   "outputs": [
    {
     "ename": "TypeError",
     "evalue": "'tuple' object does not support item assignment",
     "output_type": "error",
     "traceback": [
      "\u001b[1;31m---------------------------------------------------------------------------\u001b[0m",
      "\u001b[1;31mTypeError\u001b[0m                                 Traceback (most recent call last)",
      "\u001b[1;32m<ipython-input-43-2bd5dad651ee>\u001b[0m in \u001b[0;36m<module>\u001b[1;34m\u001b[0m\n\u001b[1;32m----> 1\u001b[1;33m \u001b[0mt2\u001b[0m\u001b[1;33m[\u001b[0m\u001b[1;36m0\u001b[0m\u001b[1;33m]\u001b[0m \u001b[1;33m=\u001b[0m \u001b[1;34m'world'\u001b[0m\u001b[1;33m\u001b[0m\u001b[1;33m\u001b[0m\u001b[0m\n\u001b[0m",
      "\u001b[1;31mTypeError\u001b[0m: 'tuple' object does not support item assignment"
     ]
    }
   ],
   "source": [
    "t2[0] = 'world'"
   ]
  },
  {
   "cell_type": "markdown",
   "id": "823da352",
   "metadata": {},
   "source": [
    "4. Methods of a tuple"
   ]
  },
  {
   "cell_type": "code",
   "execution_count": 94,
   "id": "12e764e2",
   "metadata": {},
   "outputs": [
    {
     "name": "stdout",
     "output_type": "stream",
     "text": [
      "['__add__', '__class__', '__contains__', '__delattr__', '__dir__', '__doc__', '__eq__', '__format__', '__ge__', '__getattribute__', '__getitem__', '__getnewargs__', '__gt__', '__hash__', '__init__', '__init_subclass__', '__iter__', '__le__', '__len__', '__lt__', '__mul__', '__ne__', '__new__', '__reduce__', '__reduce_ex__', '__repr__', '__rmul__', '__setattr__', '__sizeof__', '__str__', '__subclasshook__', 'count', 'index']\n"
     ]
    }
   ],
   "source": [
    "print(dir(tuple))"
   ]
  },
  {
   "cell_type": "code",
   "execution_count": 45,
   "id": "99871f0d",
   "metadata": {},
   "outputs": [
    {
     "data": {
      "text/plain": [
       "(1, 2, 'python', True, [1, 2, 3])"
      ]
     },
     "execution_count": 45,
     "metadata": {},
     "output_type": "execute_result"
    }
   ],
   "source": [
    "t1"
   ]
  },
  {
   "cell_type": "code",
   "execution_count": 46,
   "id": "880bd460",
   "metadata": {},
   "outputs": [
    {
     "data": {
      "text/plain": [
       "2"
      ]
     },
     "execution_count": 46,
     "metadata": {},
     "output_type": "execute_result"
    }
   ],
   "source": [
    "t1.count(1) ##"
   ]
  },
  {
   "cell_type": "markdown",
   "id": "bcb27043",
   "metadata": {},
   "source": [
    "## `set`\n",
    "\n",
    "keyless dictionary \n",
    "`{}` `set()`\n",
    "\n",
    "syntax: `{ value1, value2, .... }`\n",
    "\n",
    "sets will only store unique values and that too in an ascending order. These datastructures are the same as sets in Mathematics and can be used to do operations like `intersection`, `union`, `difference`, etc."
   ]
  },
  {
   "cell_type": "code",
   "execution_count": 116,
   "id": "897e12df",
   "metadata": {},
   "outputs": [],
   "source": [
    "s1 = {1, 2, 3, 4}"
   ]
  },
  {
   "cell_type": "code",
   "execution_count": 117,
   "id": "fa0651b7",
   "metadata": {},
   "outputs": [
    {
     "name": "stdout",
     "output_type": "stream",
     "text": [
      "<class 'set'>\n"
     ]
    }
   ],
   "source": [
    "print(type(s1))"
   ]
  },
  {
   "cell_type": "code",
   "execution_count": 47,
   "id": "a583e499",
   "metadata": {},
   "outputs": [],
   "source": [
    "s2 = {1, 1, 2, 2, 3, 3, 4, 4}"
   ]
  },
  {
   "cell_type": "code",
   "execution_count": 49,
   "id": "f234a820",
   "metadata": {},
   "outputs": [
    {
     "data": {
      "text/plain": [
       "{1, 2, 3, 4}"
      ]
     },
     "execution_count": 49,
     "metadata": {},
     "output_type": "execute_result"
    }
   ],
   "source": [
    "s2 ## a set will only store unique values and that too in an ascending order"
   ]
  },
  {
   "cell_type": "code",
   "execution_count": 50,
   "id": "96e0f428",
   "metadata": {},
   "outputs": [],
   "source": [
    "## Q1: Extract the unique items out of a list.\n",
    "\n",
    "l1 = [1, 2, 2, 3, 4, 1, 2, 3]"
   ]
  },
  {
   "cell_type": "code",
   "execution_count": 51,
   "id": "0b640920",
   "metadata": {},
   "outputs": [
    {
     "data": {
      "text/plain": [
       "[1, 2, 3, 4]"
      ]
     },
     "execution_count": 51,
     "metadata": {},
     "output_type": "execute_result"
    }
   ],
   "source": [
    "list(set(l1))"
   ]
  },
  {
   "cell_type": "code",
   "execution_count": 52,
   "id": "c96a0c84",
   "metadata": {},
   "outputs": [],
   "source": [
    "s4 = {'hello', 'hello', 1, 2, 3} ## sets are also heterogeneous. However, they cannot store other collections within them."
   ]
  },
  {
   "cell_type": "code",
   "execution_count": 53,
   "id": "7ec05569",
   "metadata": {},
   "outputs": [
    {
     "data": {
      "text/plain": [
       "{1, 2, 3, 'hello'}"
      ]
     },
     "execution_count": 53,
     "metadata": {},
     "output_type": "execute_result"
    }
   ],
   "source": [
    "s4"
   ]
  },
  {
   "cell_type": "code",
   "execution_count": 54,
   "id": "c4818037",
   "metadata": {},
   "outputs": [],
   "source": [
    "## accessing elements is not possible in a set"
   ]
  },
  {
   "cell_type": "code",
   "execution_count": 55,
   "id": "40fc6742",
   "metadata": {},
   "outputs": [
    {
     "ename": "TypeError",
     "evalue": "'set' object does not support item assignment",
     "output_type": "error",
     "traceback": [
      "\u001b[1;31m---------------------------------------------------------------------------\u001b[0m",
      "\u001b[1;31mTypeError\u001b[0m                                 Traceback (most recent call last)",
      "\u001b[1;32m<ipython-input-55-1c750faa6380>\u001b[0m in \u001b[0;36m<module>\u001b[1;34m\u001b[0m\n\u001b[1;32m----> 1\u001b[1;33m \u001b[0ms4\u001b[0m\u001b[1;33m[\u001b[0m\u001b[1;36m0\u001b[0m\u001b[1;33m]\u001b[0m \u001b[1;33m=\u001b[0m \u001b[1;36m1\u001b[0m\u001b[1;33m\u001b[0m\u001b[1;33m\u001b[0m\u001b[0m\n\u001b[0m",
      "\u001b[1;31mTypeError\u001b[0m: 'set' object does not support item assignment"
     ]
    }
   ],
   "source": [
    "s4[0] = 1"
   ]
  },
  {
   "cell_type": "code",
   "execution_count": 56,
   "id": "fa9c327b",
   "metadata": {},
   "outputs": [],
   "source": [
    "s4 = {1, 1, 'python', True}"
   ]
  },
  {
   "cell_type": "code",
   "execution_count": 57,
   "id": "b27a179d",
   "metadata": {},
   "outputs": [
    {
     "data": {
      "text/plain": [
       "{1, 'python'}"
      ]
     },
     "execution_count": 57,
     "metadata": {},
     "output_type": "execute_result"
    }
   ],
   "source": [
    "s4"
   ]
  },
  {
   "cell_type": "markdown",
   "id": "608cbc1f",
   "metadata": {},
   "source": [
    "### Methods of a set"
   ]
  },
  {
   "cell_type": "code",
   "execution_count": 58,
   "id": "55f7778c",
   "metadata": {},
   "outputs": [
    {
     "name": "stdout",
     "output_type": "stream",
     "text": [
      "['__and__', '__class__', '__contains__', '__delattr__', '__dir__', '__doc__', '__eq__', '__format__', '__ge__', '__getattribute__', '__gt__', '__hash__', '__iand__', '__init__', '__init_subclass__', '__ior__', '__isub__', '__iter__', '__ixor__', '__le__', '__len__', '__lt__', '__ne__', '__new__', '__or__', '__rand__', '__reduce__', '__reduce_ex__', '__repr__', '__ror__', '__rsub__', '__rxor__', '__setattr__', '__sizeof__', '__str__', '__sub__', '__subclasshook__', '__xor__', 'add', 'clear', 'copy', 'difference', 'difference_update', 'discard', 'intersection', 'intersection_update', 'isdisjoint', 'issubset', 'issuperset', 'pop', 'remove', 'symmetric_difference', 'symmetric_difference_update', 'union', 'update']\n"
     ]
    }
   ],
   "source": [
    "print(dir(s4))"
   ]
  },
  {
   "cell_type": "code",
   "execution_count": 59,
   "id": "1ce87863",
   "metadata": {},
   "outputs": [],
   "source": [
    "a = {1, 2, 3}\n",
    "b = {3, 4, 5}"
   ]
  },
  {
   "cell_type": "code",
   "execution_count": 60,
   "id": "4e3471c8",
   "metadata": {},
   "outputs": [],
   "source": [
    "## .union(), .intersection(), .difference()"
   ]
  },
  {
   "cell_type": "code",
   "execution_count": 61,
   "id": "1bab6f37",
   "metadata": {},
   "outputs": [
    {
     "data": {
      "text/plain": [
       "{1, 2, 3, 4, 5}"
      ]
     },
     "execution_count": 61,
     "metadata": {},
     "output_type": "execute_result"
    }
   ],
   "source": [
    "a.union(b)"
   ]
  },
  {
   "cell_type": "code",
   "execution_count": 62,
   "id": "8207a192",
   "metadata": {},
   "outputs": [
    {
     "data": {
      "text/plain": [
       "{1, 2}"
      ]
     },
     "execution_count": 62,
     "metadata": {},
     "output_type": "execute_result"
    }
   ],
   "source": [
    "a.difference(b)"
   ]
  },
  {
   "cell_type": "code",
   "execution_count": 63,
   "id": "4329a86b",
   "metadata": {},
   "outputs": [
    {
     "data": {
      "text/plain": [
       "{4, 5}"
      ]
     },
     "execution_count": 63,
     "metadata": {},
     "output_type": "execute_result"
    }
   ],
   "source": [
    "b.difference(a)"
   ]
  },
  {
   "cell_type": "code",
   "execution_count": 64,
   "id": "057b6ca9",
   "metadata": {},
   "outputs": [
    {
     "data": {
      "text/plain": [
       "{3}"
      ]
     },
     "execution_count": 64,
     "metadata": {},
     "output_type": "execute_result"
    }
   ],
   "source": [
    "a.intersection(b)"
   ]
  },
  {
   "cell_type": "code",
   "execution_count": 143,
   "id": "f6c00991",
   "metadata": {},
   "outputs": [
    {
     "data": {
      "text/plain": [
       "{1, 2, 3}"
      ]
     },
     "execution_count": 143,
     "metadata": {},
     "output_type": "execute_result"
    }
   ],
   "source": [
    "a  ## these methods do not lead to any permanent change"
   ]
  },
  {
   "cell_type": "code",
   "execution_count": 144,
   "id": "63b9d01e",
   "metadata": {},
   "outputs": [
    {
     "data": {
      "text/plain": [
       "{3, 4, 5}"
      ]
     },
     "execution_count": 144,
     "metadata": {},
     "output_type": "execute_result"
    }
   ],
   "source": [
    "b"
   ]
  },
  {
   "cell_type": "code",
   "execution_count": 65,
   "id": "fe40fc77",
   "metadata": {},
   "outputs": [],
   "source": [
    "a.intersection_update(b)  ## In order to make a permanent change, we have other methods available with _update added\n",
    "                        ## to their names"
   ]
  },
  {
   "cell_type": "code",
   "execution_count": 66,
   "id": "88a1084d",
   "metadata": {},
   "outputs": [
    {
     "data": {
      "text/plain": [
       "{3}"
      ]
     },
     "execution_count": 66,
     "metadata": {},
     "output_type": "execute_result"
    }
   ],
   "source": [
    "a"
   ]
  },
  {
   "cell_type": "markdown",
   "id": "dd0b7c93",
   "metadata": {},
   "source": [
    "## Functions"
   ]
  },
  {
   "cell_type": "markdown",
   "id": "7db08830",
   "metadata": {},
   "source": [
    "These are pieces of code that we can save in memory and then use and resuse them later.\n",
    "\n",
    "There are 2 parts to a function:\n",
    "    \n",
    "1. Function definition: This is the definition where we create the logic of our function\n",
    "2. Function call: Whenever now we need to use the function, we will need to call it.\n",
    "\n",
    "syntax for function definition\n",
    "\n",
    "`def function_name(argument1, argument2, argument2):\n",
    "    logic\n",
    "    return output`\n",
    "    \n",
    "\n",
    "    \n",
    "    \n",
    "2 ways to provide arguments in a function call\n",
    "1. positional arguments\n",
    "2. keyword arguments\n",
    "\n"
   ]
  },
  {
   "cell_type": "code",
   "execution_count": 67,
   "id": "ea8ed852",
   "metadata": {},
   "outputs": [],
   "source": [
    "## Q1: create a function to sum 2 numbers."
   ]
  },
  {
   "cell_type": "code",
   "execution_count": 69,
   "id": "de116455",
   "metadata": {},
   "outputs": [],
   "source": [
    "## function definition\n",
    "\n",
    "def sum_2_nums(n1, n2):\n",
    "    output = n1 + n2\n",
    "    return output"
   ]
  },
  {
   "cell_type": "code",
   "execution_count": 70,
   "id": "faf0c47e",
   "metadata": {},
   "outputs": [
    {
     "data": {
      "text/plain": [
       "3"
      ]
     },
     "execution_count": 70,
     "metadata": {},
     "output_type": "execute_result"
    }
   ],
   "source": [
    "## function call\n",
    "\n",
    "sum_2_nums(1, 2)"
   ]
  },
  {
   "cell_type": "code",
   "execution_count": 71,
   "id": "6e156490",
   "metadata": {},
   "outputs": [
    {
     "data": {
      "text/plain": [
       "'helloworld'"
      ]
     },
     "execution_count": 71,
     "metadata": {},
     "output_type": "execute_result"
    }
   ],
   "source": [
    "## python is dynamically typed. So again we do not need to specify the types of arguments expected.\n",
    "\n",
    "sum_2_nums('hello', 'world')"
   ]
  },
  {
   "cell_type": "code",
   "execution_count": 163,
   "id": "fe08e1cd",
   "metadata": {},
   "outputs": [
    {
     "data": {
      "text/plain": [
       "9.5"
      ]
     },
     "execution_count": 163,
     "metadata": {},
     "output_type": "execute_result"
    }
   ],
   "source": [
    "sum_2_nums(4, 5.5)"
   ]
  },
  {
   "cell_type": "markdown",
   "id": "79bf85bd",
   "metadata": {},
   "source": [
    "### Default arguments"
   ]
  },
  {
   "cell_type": "code",
   "execution_count": 72,
   "id": "45329250",
   "metadata": {},
   "outputs": [
    {
     "ename": "TypeError",
     "evalue": "sum_2_nums() missing 1 required positional argument: 'n2'",
     "output_type": "error",
     "traceback": [
      "\u001b[1;31m---------------------------------------------------------------------------\u001b[0m",
      "\u001b[1;31mTypeError\u001b[0m                                 Traceback (most recent call last)",
      "\u001b[1;32m<ipython-input-72-5a6571d7c35e>\u001b[0m in \u001b[0;36m<module>\u001b[1;34m\u001b[0m\n\u001b[0;32m      1\u001b[0m \u001b[1;31m## By default all arguments are mandatory in nature. If the user skips an argument, they will get an error\u001b[0m\u001b[1;33m\u001b[0m\u001b[1;33m\u001b[0m\u001b[1;33m\u001b[0m\u001b[0m\n\u001b[0;32m      2\u001b[0m \u001b[1;33m\u001b[0m\u001b[0m\n\u001b[1;32m----> 3\u001b[1;33m \u001b[0msum_2_nums\u001b[0m\u001b[1;33m(\u001b[0m\u001b[1;36m4\u001b[0m\u001b[1;33m)\u001b[0m\u001b[1;33m\u001b[0m\u001b[1;33m\u001b[0m\u001b[0m\n\u001b[0m",
      "\u001b[1;31mTypeError\u001b[0m: sum_2_nums() missing 1 required positional argument: 'n2'"
     ]
    }
   ],
   "source": [
    "## By default all arguments are mandatory in nature. If the user skips an argument, they will get an error\n",
    "\n",
    "sum_2_nums(4)"
   ]
  },
  {
   "cell_type": "code",
   "execution_count": 74,
   "id": "6aed9897",
   "metadata": {},
   "outputs": [],
   "source": [
    "## To avoid this, we can provide default values to arguments in the function's definition\n",
    "\n",
    "def sum_2_nums(n1, n2=10):  ## default values\n",
    "    \"\"\"this function takes in two numbers and returns their sum\"\"\"   ## docstring\n",
    "    return n1 + n2"
   ]
  },
  {
   "cell_type": "code",
   "execution_count": 75,
   "id": "7fbf4fba",
   "metadata": {},
   "outputs": [
    {
     "data": {
      "text/plain": [
       "14"
      ]
     },
     "execution_count": 75,
     "metadata": {},
     "output_type": "execute_result"
    }
   ],
   "source": [
    "sum_2_nums(4)"
   ]
  },
  {
   "cell_type": "code",
   "execution_count": 76,
   "id": "ee99cbbc",
   "metadata": {},
   "outputs": [
    {
     "ename": "SyntaxError",
     "evalue": "non-default argument follows default argument (<ipython-input-76-4e23530ccf48>, line 4)",
     "output_type": "error",
     "traceback": [
      "\u001b[1;36m  File \u001b[1;32m\"<ipython-input-76-4e23530ccf48>\"\u001b[1;36m, line \u001b[1;32m4\u001b[0m\n\u001b[1;33m    def sum_2_nums(n1=5, n2):  ## default arguments cannot come before mandatory arguments\u001b[0m\n\u001b[1;37m                   ^\u001b[0m\n\u001b[1;31mSyntaxError\u001b[0m\u001b[1;31m:\u001b[0m non-default argument follows default argument\n"
     ]
    }
   ],
   "source": [
    "## Please note that default arguments should always come after the mandatory arguments in a function definition.\n",
    "## Otherwise, we will get an error.\n",
    "\n",
    "def sum_2_nums(n1=5, n2):  ## default arguments cannot come before mandatory arguments\n",
    "    return n1 + n2"
   ]
  },
  {
   "cell_type": "markdown",
   "id": "010bd8f3",
   "metadata": {},
   "source": [
    "### Keyword and positional arguments"
   ]
  },
  {
   "cell_type": "code",
   "execution_count": 77,
   "id": "330d9845",
   "metadata": {},
   "outputs": [],
   "source": [
    "def difference_2(n1, n2):\n",
    "    return n1 - n2"
   ]
  },
  {
   "cell_type": "code",
   "execution_count": 78,
   "id": "443dac8e",
   "metadata": {},
   "outputs": [
    {
     "data": {
      "text/plain": [
       "3"
      ]
     },
     "execution_count": 78,
     "metadata": {},
     "output_type": "execute_result"
    }
   ],
   "source": [
    "difference_2(5, 2)  ## positional arguments where values are passed based on position"
   ]
  },
  {
   "cell_type": "code",
   "execution_count": 168,
   "id": "80b3c5df",
   "metadata": {},
   "outputs": [
    {
     "data": {
      "text/plain": [
       "-3"
      ]
     },
     "execution_count": 168,
     "metadata": {},
     "output_type": "execute_result"
    }
   ],
   "source": [
    "difference_2(2, 5)"
   ]
  },
  {
   "cell_type": "code",
   "execution_count": 79,
   "id": "d6e22c2a",
   "metadata": {},
   "outputs": [
    {
     "data": {
      "text/plain": [
       "3"
      ]
     },
     "execution_count": 79,
     "metadata": {},
     "output_type": "execute_result"
    }
   ],
   "source": [
    "difference_2(n1=5, n2=2) ## keyword arguments where what values need to go to what argument is specified explicitly."
   ]
  },
  {
   "cell_type": "code",
   "execution_count": 80,
   "id": "d54b7a03",
   "metadata": {},
   "outputs": [
    {
     "data": {
      "text/plain": [
       "3"
      ]
     },
     "execution_count": 80,
     "metadata": {},
     "output_type": "execute_result"
    }
   ],
   "source": [
    "difference_2(n2=2, n1=5)"
   ]
  },
  {
   "cell_type": "code",
   "execution_count": 81,
   "id": "2bff08b6",
   "metadata": {},
   "outputs": [
    {
     "ename": "SyntaxError",
     "evalue": "positional argument follows keyword argument (<ipython-input-81-402e88f9d6b3>, line 1)",
     "output_type": "error",
     "traceback": [
      "\u001b[1;36m  File \u001b[1;32m\"<ipython-input-81-402e88f9d6b3>\"\u001b[1;36m, line \u001b[1;32m1\u001b[0m\n\u001b[1;33m    difference_2(n1=2, 5)  ## as a rule, always keyword arguments must come after positional arguments\u001b[0m\n\u001b[1;37m                       ^\u001b[0m\n\u001b[1;31mSyntaxError\u001b[0m\u001b[1;31m:\u001b[0m positional argument follows keyword argument\n"
     ]
    }
   ],
   "source": [
    "difference_2(n1=2, 5)  ## as a rule, always keyword arguments must come after positional arguments"
   ]
  },
  {
   "cell_type": "code",
   "execution_count": 82,
   "id": "11016e49",
   "metadata": {},
   "outputs": [
    {
     "data": {
      "text/plain": [
       "-3"
      ]
     },
     "execution_count": 82,
     "metadata": {},
     "output_type": "execute_result"
    }
   ],
   "source": [
    "difference_2(2, n2=5)"
   ]
  },
  {
   "cell_type": "code",
   "execution_count": 83,
   "id": "c618004c",
   "metadata": {},
   "outputs": [
    {
     "data": {
      "text/plain": [
       "3"
      ]
     },
     "execution_count": 83,
     "metadata": {},
     "output_type": "execute_result"
    }
   ],
   "source": [
    "difference_2(10, 7)"
   ]
  },
  {
   "cell_type": "code",
   "execution_count": 194,
   "id": "8673c857",
   "metadata": {},
   "outputs": [],
   "source": [
    "## Please ponder on the following:\n",
    "\n",
    "## why positional arguments must come before keyword arguments?\n",
    "## why default arguments always come towards the end?"
   ]
  },
  {
   "cell_type": "markdown",
   "id": "d7457350",
   "metadata": {},
   "source": [
    "In the above examples, we have specified how many arguments a function should expect by providing the arguments and their names in the function's definition. However, sometimes it is not possible to write down all the arguments in the function's definition either because we do not know how many arguments the user will enter.\n",
    "\n",
    "\n",
    "Or, it can be possible that the function takes too many arguments to write them down manually in the function's definition.\n",
    "\n",
    "In such scenarios, python provides us two important symbols: `*` and `**`.\n",
    "\n",
    "`*args` - 0 or n positional arguments\n",
    "\n",
    "`**kwargs` - 0 or n keyword arguments\n",
    "\n",
    "<b> Please note here that args and kwargs are just variable names and can be anything as such. The important thing is that they should follow either `*` or `**` </b>"
   ]
  },
  {
   "cell_type": "code",
   "execution_count": 84,
   "id": "a69c5dd1",
   "metadata": {},
   "outputs": [],
   "source": [
    "## create a function that sums any number of values that the user provides\n",
    "\n",
    "def sum_dynamic(*args):  ## here please note that we do not know how many arguments to expect from the user\n",
    "    return sum(args)"
   ]
  },
  {
   "cell_type": "code",
   "execution_count": 214,
   "id": "8cf228e5",
   "metadata": {},
   "outputs": [
    {
     "data": {
      "text/plain": [
       "10"
      ]
     },
     "execution_count": 214,
     "metadata": {},
     "output_type": "execute_result"
    }
   ],
   "source": [
    "sum_dynamic(1, 2, 3, 4)"
   ]
  },
  {
   "cell_type": "code",
   "execution_count": 85,
   "id": "a9fc814b",
   "metadata": {},
   "outputs": [
    {
     "data": {
      "text/plain": [
       "1253"
      ]
     },
     "execution_count": 85,
     "metadata": {},
     "output_type": "execute_result"
    }
   ],
   "source": [
    "sum_dynamic(1, 2, 100, 1000, 150)"
   ]
  },
  {
   "cell_type": "code",
   "execution_count": 86,
   "id": "1e51e668",
   "metadata": {},
   "outputs": [
    {
     "data": {
      "text/plain": [
       "3"
      ]
     },
     "execution_count": 86,
     "metadata": {},
     "output_type": "execute_result"
    }
   ],
   "source": [
    "sum_dynamic(1, 2)"
   ]
  },
  {
   "cell_type": "code",
   "execution_count": 87,
   "id": "ab55baed",
   "metadata": {},
   "outputs": [],
   "source": [
    "## create a function that takes in a list and a number. Return to the user a new list where all the elements of \n",
    "## the list are added by that number.\n",
    "\n",
    "def sum_list(lst, num):\n",
    "    return [ var + num for var in lst ]"
   ]
  },
  {
   "cell_type": "code",
   "execution_count": 88,
   "id": "7cd3e9bc",
   "metadata": {},
   "outputs": [
    {
     "data": {
      "text/plain": [
       "[11, 12, 13, 14]"
      ]
     },
     "execution_count": 88,
     "metadata": {},
     "output_type": "execute_result"
    }
   ],
   "source": [
    "sum_list([1, 2, 3, 4], 10)"
   ]
  },
  {
   "cell_type": "markdown",
   "id": "43c01522",
   "metadata": {},
   "source": [
    "## `None` data type\n",
    "\n",
    "used to represent nothing in basic python."
   ]
  },
  {
   "cell_type": "markdown",
   "id": "34491b7d",
   "metadata": {},
   "source": [
    "### Functions continued."
   ]
  },
  {
   "cell_type": "code",
   "execution_count": 1,
   "id": "9f0dbe90",
   "metadata": {},
   "outputs": [],
   "source": [
    "## Q: Is it mandatory to have a return statement in a function's definition?\n",
    "\n",
    "## Ans: return statement is not mandatory as such. However, functions are meant to be modules that take in an input \n",
    "## from the function's call and returns some output to the user. Therefore, we should always try to have our function\n",
    "## return some value or output to the user."
   ]
  },
  {
   "cell_type": "code",
   "execution_count": 2,
   "id": "a296b92b",
   "metadata": {},
   "outputs": [],
   "source": [
    "## example of a function without a return statement\n",
    "\n",
    "def print_hello():\n",
    "    print('hello word')"
   ]
  },
  {
   "cell_type": "code",
   "execution_count": 3,
   "id": "177636ac",
   "metadata": {},
   "outputs": [
    {
     "name": "stdout",
     "output_type": "stream",
     "text": [
      "hello word\n"
     ]
    }
   ],
   "source": [
    "print_hello()"
   ]
  },
  {
   "cell_type": "markdown",
   "id": "e79ac33f",
   "metadata": {},
   "source": [
    "### Questions on functions"
   ]
  },
  {
   "cell_type": "code",
   "execution_count": 4,
   "id": "383bb3c5",
   "metadata": {},
   "outputs": [],
   "source": [
    "## Q: create a function to check if a number is divisible by 2 and 3 both"
   ]
  },
  {
   "cell_type": "code",
   "execution_count": 12,
   "id": "683f8e1b",
   "metadata": {},
   "outputs": [],
   "source": [
    "## example of having more than one return statement in a function's definition\n",
    "\n",
    "def isDivisibleBy2And3(num):\n",
    "    \n",
    "    if num % 2 == 0 and num % 3 == 0:\n",
    "        \n",
    "        return True\n",
    "        \n",
    "    else:\n",
    "        \n",
    "        return False"
   ]
  },
  {
   "cell_type": "code",
   "execution_count": 13,
   "id": "073d2587",
   "metadata": {},
   "outputs": [
    {
     "data": {
      "text/plain": [
       "True"
      ]
     },
     "execution_count": 13,
     "metadata": {},
     "output_type": "execute_result"
    }
   ],
   "source": [
    "isDivisibleBy2And3(6)"
   ]
  },
  {
   "cell_type": "code",
   "execution_count": 14,
   "id": "e8ef26a8",
   "metadata": {},
   "outputs": [],
   "source": [
    "# Q: create a function isPrime() that takes in a number and returns True if the number is Prime.\n",
    "# Otherwise returns False."
   ]
  },
  {
   "cell_type": "code",
   "execution_count": 21,
   "id": "2c07afc2",
   "metadata": {},
   "outputs": [],
   "source": [
    "def isPrime(num):\n",
    "\n",
    "        \n",
    "    \n",
    "    for i in range(2, num):\n",
    "\n",
    "        if num % i == 0:\n",
    "\n",
    "            return False\n",
    "\n",
    "\n",
    "\n",
    "    return True"
   ]
  },
  {
   "cell_type": "code",
   "execution_count": 17,
   "id": "309e82da",
   "metadata": {},
   "outputs": [
    {
     "data": {
      "text/plain": [
       "False"
      ]
     },
     "execution_count": 17,
     "metadata": {},
     "output_type": "execute_result"
    }
   ],
   "source": [
    "isPrime(4)"
   ]
  },
  {
   "cell_type": "code",
   "execution_count": 18,
   "id": "cc635e7e",
   "metadata": {},
   "outputs": [
    {
     "data": {
      "text/plain": [
       "True"
      ]
     },
     "execution_count": 18,
     "metadata": {},
     "output_type": "execute_result"
    }
   ],
   "source": [
    "isPrime(5)"
   ]
  },
  {
   "cell_type": "markdown",
   "id": "bd34e1c7",
   "metadata": {},
   "source": [
    "## The concept of `*args` and `**kwargs`\n",
    "\n",
    "used as placeholders when we are not sure how many arguments to expect from the user.\n",
    "\n",
    "`*args` - 0 or n positional arguments. All the arguments provided by the user during the function call get passed\n",
    "to the variable `args` as a **tuple**.\n",
    "\n",
    "`**kwargs` - 0 or n keyword arguments. All the arguments provided by the user get passed to variable after ** as\n",
    "a **dictionary**."
   ]
  },
  {
   "cell_type": "code",
   "execution_count": 1,
   "id": "ba936857",
   "metadata": {},
   "outputs": [],
   "source": [
    "## *args\n",
    "\n",
    "def sum_dynamic(*args):\n",
    "    \n",
    "    return sum(args)"
   ]
  },
  {
   "cell_type": "code",
   "execution_count": 2,
   "id": "5f3ff2c0",
   "metadata": {},
   "outputs": [
    {
     "data": {
      "text/plain": [
       "1011"
      ]
     },
     "execution_count": 2,
     "metadata": {},
     "output_type": "execute_result"
    }
   ],
   "source": [
    "sum_dynamic(1, 2, 3, 5, 1000)"
   ]
  },
  {
   "cell_type": "code",
   "execution_count": 3,
   "id": "67a3f820",
   "metadata": {},
   "outputs": [
    {
     "data": {
      "text/plain": [
       "3"
      ]
     },
     "execution_count": 3,
     "metadata": {},
     "output_type": "execute_result"
    }
   ],
   "source": [
    "sum_dynamic(1, 2) ## because of *args, the number of arguments passed to the function are dynamic"
   ]
  },
  {
   "cell_type": "code",
   "execution_count": 33,
   "id": "31315786",
   "metadata": {},
   "outputs": [],
   "source": [
    "## **args\n",
    "\n",
    "def func2(**kwargs):\n",
    "    return kwargs"
   ]
  },
  {
   "cell_type": "code",
   "execution_count": 35,
   "id": "05efb72f",
   "metadata": {},
   "outputs": [
    {
     "data": {
      "text/plain": [
       "{'num1': 1, 'num2': 3}"
      ]
     },
     "execution_count": 35,
     "metadata": {},
     "output_type": "execute_result"
    }
   ],
   "source": [
    "func2(num1=1, num2=3) ## all the keyword arguments are passed to kwargs as a dictionary"
   ]
  },
  {
   "cell_type": "code",
   "execution_count": 37,
   "id": "28f2866f",
   "metadata": {},
   "outputs": [],
   "source": [
    "# Q: Create a function that calculates the area of a shape. The type of shape should also be passed by the user.\n",
    "\n",
    "# triangle - 0.5 * base * height\n",
    "# square - side ** 2\n",
    "# circle - 3.14 * radius ** 2"
   ]
  },
  {
   "cell_type": "code",
   "execution_count": 4,
   "id": "ff03262d",
   "metadata": {},
   "outputs": [],
   "source": [
    "def calculate_area(shape, **kwargs):\n",
    "    \n",
    "    if shape == 'triangle':\n",
    "        \n",
    "        return 0.5 * kwargs['base'] * kwargs['height']\n",
    "    \n",
    "    if shape == 'square':\n",
    "        \n",
    "        return kwargs['side'] ** 2\n",
    "    "
   ]
  },
  {
   "cell_type": "code",
   "execution_count": 5,
   "id": "d7c48858",
   "metadata": {},
   "outputs": [
    {
     "data": {
      "text/plain": [
       "5.0"
      ]
     },
     "execution_count": 5,
     "metadata": {},
     "output_type": "execute_result"
    }
   ],
   "source": [
    "calculate_area('triangle', base=2, height=5)"
   ]
  },
  {
   "cell_type": "code",
   "execution_count": 6,
   "id": "004923fc",
   "metadata": {},
   "outputs": [
    {
     "data": {
      "text/plain": [
       "16"
      ]
     },
     "execution_count": 6,
     "metadata": {},
     "output_type": "execute_result"
    }
   ],
   "source": [
    "calculate_area('square', side=4)"
   ]
  },
  {
   "cell_type": "markdown",
   "id": "5787efb2",
   "metadata": {},
   "source": [
    "## `lambda functions`\n",
    "\n",
    "- single line function\n",
    "- anonymous in nature\n",
    "- these are not even stored in memory\n"
   ]
  },
  {
   "cell_type": "markdown",
   "id": "58462212",
   "metadata": {},
   "source": [
    "syntax:\n",
    "\n",
    "`lambda arg1, arg2: output`"
   ]
  },
  {
   "cell_type": "code",
   "execution_count": 45,
   "id": "ef91d6c0",
   "metadata": {},
   "outputs": [
    {
     "data": {
      "text/plain": [
       "<function __main__.<lambda>(n1, n2)>"
      ]
     },
     "execution_count": 45,
     "metadata": {},
     "output_type": "execute_result"
    }
   ],
   "source": [
    "## create a lambda function to sum 2 numbers\n",
    "\n",
    "lambda n1, n2: n1 + n2"
   ]
  },
  {
   "cell_type": "markdown",
   "id": "28a80f7e",
   "metadata": {},
   "source": [
    "## The concept of `map()` and `filter()`\n",
    "\n",
    "A lambda function is of NO use by itself. But it is very useful when combined with some other functions.\n",
    "\n",
    "Basic python provides two such functions that can be combined with lambda functions. These are:\n",
    "\n",
    "1. `map()`\n",
    "\n",
    "    syntax: `map(function_name, iterator)`\n",
    "    \n",
    "    used to map a particular function to all the values of an iterator.\n",
    "    \n",
    "    Here, the function that you can provide to map can be any of the following:\n",
    "    \n",
    "    - a system function (print(), type(), ... )\n",
    "    - a user defined function\n",
    "    - lambda function\n",
    "    \n",
    "\n",
    "2. `filter()`\n",
    "\n",
    "    syntax: `filter(function_name, iterator)`\n",
    "    \n",
    "    used to filter values from an iterator based on True and False value. "
   ]
  },
  {
   "cell_type": "code",
   "execution_count": 7,
   "id": "70ee1d48",
   "metadata": {},
   "outputs": [],
   "source": [
    "## Q: Given the list l1, add 10 to each element of this list using map()\n",
    "\n",
    "l1 = [5, 10, 15, 20, 25, 30]"
   ]
  },
  {
   "cell_type": "code",
   "execution_count": 8,
   "id": "f1830889",
   "metadata": {},
   "outputs": [],
   "source": [
    "## function that will be passed to map\n",
    "\n",
    "def add_10(num):\n",
    "    return num + 10"
   ]
  },
  {
   "cell_type": "code",
   "execution_count": null,
   "id": "b148c3a2",
   "metadata": {},
   "outputs": [],
   "source": [
    "print()"
   ]
  },
  {
   "cell_type": "code",
   "execution_count": 2,
   "id": "d4b43cfe",
   "metadata": {},
   "outputs": [
    {
     "data": {
      "text/plain": [
       "[2, 4, 6]"
      ]
     },
     "execution_count": 2,
     "metadata": {},
     "output_type": "execute_result"
    }
   ],
   "source": [
    "l1 = [1, 2, 3, 4, 5, 6]\n",
    "\n",
    "## filter the even numbers out\n",
    "\n",
    "list(filter(lambda x: x % 2 == 0, l1))"
   ]
  },
  {
   "cell_type": "code",
   "execution_count": 9,
   "id": "b80cbd11",
   "metadata": {},
   "outputs": [
    {
     "data": {
      "text/plain": [
       "[15, 20, 25, 30, 35, 40]"
      ]
     },
     "execution_count": 9,
     "metadata": {},
     "output_type": "execute_result"
    }
   ],
   "source": [
    "list( map(add_10, l1) )"
   ]
  },
  {
   "cell_type": "code",
   "execution_count": 53,
   "id": "0af99387",
   "metadata": {},
   "outputs": [
    {
     "data": {
      "text/plain": [
       "[15, 20, 25, 30, 35, 40]"
      ]
     },
     "execution_count": 53,
     "metadata": {},
     "output_type": "execute_result"
    }
   ],
   "source": [
    "list( map( lambda x: x+10 , l1) )"
   ]
  },
  {
   "cell_type": "code",
   "execution_count": 10,
   "id": "6fd7e0e2",
   "metadata": {},
   "outputs": [],
   "source": [
    "## Q: Given the list l1, filter elements greater than 15 using filter()"
   ]
  },
  {
   "cell_type": "code",
   "execution_count": 11,
   "id": "471e13a3",
   "metadata": {},
   "outputs": [
    {
     "data": {
      "text/plain": [
       "[5, 10, 15, 20, 25, 30]"
      ]
     },
     "execution_count": 11,
     "metadata": {},
     "output_type": "execute_result"
    }
   ],
   "source": [
    "l1"
   ]
  },
  {
   "cell_type": "code",
   "execution_count": 12,
   "id": "02c6b651",
   "metadata": {},
   "outputs": [
    {
     "data": {
      "text/plain": [
       "[20, 25, 30]"
      ]
     },
     "execution_count": 12,
     "metadata": {},
     "output_type": "execute_result"
    }
   ],
   "source": [
    "## filter numbers greater than 15\n",
    "\n",
    "list( filter(lambda x: x > 15, l1 ) ) ## based on whether we get True or False for a particular element,\n",
    "                                        ## elements are filtered. Only the ones with True values appear in the output"
   ]
  },
  {
   "cell_type": "code",
   "execution_count": 57,
   "id": "8ef69e23",
   "metadata": {},
   "outputs": [
    {
     "data": {
      "text/plain": [
       "[20, 25]"
      ]
     },
     "execution_count": 57,
     "metadata": {},
     "output_type": "execute_result"
    }
   ],
   "source": [
    "## filter numbers greater than 15 and less than 30\n",
    "\n",
    "list( filter(lambda x: x > 15 and x < 30, l1 ) )"
   ]
  },
  {
   "cell_type": "code",
   "execution_count": 59,
   "id": "4b0325f7",
   "metadata": {},
   "outputs": [
    {
     "data": {
      "text/plain": [
       "False"
      ]
     },
     "execution_count": 59,
     "metadata": {},
     "output_type": "execute_result"
    }
   ],
   "source": [
    "5 > 15"
   ]
  },
  {
   "cell_type": "code",
   "execution_count": 60,
   "id": "b100e405",
   "metadata": {},
   "outputs": [
    {
     "data": {
      "text/plain": [
       "[False, False, False, True, True, True]"
      ]
     },
     "execution_count": 60,
     "metadata": {},
     "output_type": "execute_result"
    }
   ],
   "source": [
    "list( map(lambda x: x > 15, l1) )  ## what happens if we use similar concept with map()"
   ]
  },
  {
   "cell_type": "code",
   "execution_count": 61,
   "id": "e7712a39",
   "metadata": {},
   "outputs": [],
   "source": [
    "## Q: Given a list, use filter to filter out only integer values"
   ]
  },
  {
   "cell_type": "code",
   "execution_count": 63,
   "id": "d553daf5",
   "metadata": {},
   "outputs": [],
   "source": [
    "l2 = ['python', 1, 2, [1, 2, 3]]"
   ]
  },
  {
   "cell_type": "code",
   "execution_count": 64,
   "id": "13dc2d59",
   "metadata": {},
   "outputs": [
    {
     "data": {
      "text/plain": [
       "[1, 2]"
      ]
     },
     "execution_count": 64,
     "metadata": {},
     "output_type": "execute_result"
    }
   ],
   "source": [
    "list( filter(lambda x: type(x) == int, l2) )"
   ]
  },
  {
   "cell_type": "markdown",
   "id": "fa153962",
   "metadata": {},
   "source": [
    "## creating a module\n",
    "\n",
    "2 extensions of python files\n",
    "- `.ipynb` - cell like structure\n",
    "- `.py` - proper end to end programs; also called **scripts**\n",
    "\n",
    "Modules are `.py` files that can be imported into a separate file using the `import` statement in python. For example,\n",
    "if we had a module named `module2.py` somewhere in the working directorty, we can import that file here as `import module2`. Notice that we do not provide the extension here.\n",
    "\n",
    "3 popular ways of using the import statement\n",
    "\n",
    "- `import package_name`\n",
    "\n",
    "- `import package_name as alias_name`\n",
    "\n",
    "- `from package import func_or_object_name`\n",
    "\n",
    "Once a module is imported, if we wish to use anything from that module, we can access it using the `dot (.) operator`."
   ]
  },
  {
   "cell_type": "code",
   "execution_count": 13,
   "id": "13f4b3b4",
   "metadata": {},
   "outputs": [],
   "source": [
    "import module2"
   ]
  },
  {
   "cell_type": "code",
   "execution_count": 14,
   "id": "2d0dfc0a",
   "metadata": {},
   "outputs": [
    {
     "name": "stdout",
     "output_type": "stream",
     "text": [
      "['__builtins__', '__cached__', '__doc__', '__file__', '__loader__', '__name__', '__package__', '__spec__', 'calculate_area', 'isDivisibleBy2And3', 'isPrime']\n"
     ]
    }
   ],
   "source": [
    "print(dir(module2))"
   ]
  },
  {
   "cell_type": "code",
   "execution_count": 15,
   "id": "c5c543c4",
   "metadata": {},
   "outputs": [
    {
     "data": {
      "text/plain": [
       "True"
      ]
     },
     "execution_count": 15,
     "metadata": {},
     "output_type": "execute_result"
    }
   ],
   "source": [
    "module2.isPrime(5)"
   ]
  },
  {
   "cell_type": "code",
   "execution_count": 16,
   "id": "8f9dde55",
   "metadata": {},
   "outputs": [],
   "source": [
    "## importing module2 with an alias\n",
    "\n",
    "import module2 as m2"
   ]
  },
  {
   "cell_type": "code",
   "execution_count": 17,
   "id": "8f5afb2e",
   "metadata": {},
   "outputs": [
    {
     "data": {
      "text/plain": [
       "True"
      ]
     },
     "execution_count": 17,
     "metadata": {},
     "output_type": "execute_result"
    }
   ],
   "source": [
    "m2.isPrime(5)"
   ]
  },
  {
   "cell_type": "code",
   "execution_count": 18,
   "id": "35781649",
   "metadata": {},
   "outputs": [],
   "source": [
    "## importing only the isPrime() from module2\n",
    "\n",
    "from module2 import isPrime"
   ]
  },
  {
   "cell_type": "code",
   "execution_count": 20,
   "id": "8f24e23e",
   "metadata": {},
   "outputs": [
    {
     "data": {
      "text/plain": [
       "True"
      ]
     },
     "execution_count": 20,
     "metadata": {},
     "output_type": "execute_result"
    }
   ],
   "source": [
    "isPrime(5) ## when importing a function or object directly, we do not need to use the dot operator syntax"
   ]
  }
 ],
 "metadata": {
  "kernelspec": {
   "display_name": "Python 3",
   "language": "python",
   "name": "python3"
  },
  "language_info": {
   "codemirror_mode": {
    "name": "ipython",
    "version": 3
   },
   "file_extension": ".py",
   "mimetype": "text/x-python",
   "name": "python",
   "nbconvert_exporter": "python",
   "pygments_lexer": "ipython3",
   "version": "3.8.8"
  }
 },
 "nbformat": 4,
 "nbformat_minor": 5
}
