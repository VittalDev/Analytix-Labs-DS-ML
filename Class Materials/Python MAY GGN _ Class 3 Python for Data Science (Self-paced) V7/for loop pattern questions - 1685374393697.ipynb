{
 "cells": [
  {
   "cell_type": "markdown",
   "id": "0d4b926e",
   "metadata": {},
   "source": [
    "### Generating patterns using single for loop\n",
    "\n",
    "for and while loops can be used in different ways to generate simple patterns in python. Knowing some of these tricks\n",
    "can come in handy to implement certain logic, these are just fun to solve, and are important from an interview point of view."
   ]
  },
  {
   "cell_type": "code",
   "execution_count": 2,
   "id": "d100ba61",
   "metadata": {},
   "outputs": [
    {
     "name": "stdout",
     "output_type": "stream",
     "text": [
      "\n",
      "*\n",
      "**\n",
      "***\n",
      "****\n",
      "*****\n",
      "******\n",
      "*******\n",
      "********\n",
      "*********\n"
     ]
    }
   ],
   "source": [
    "## Generate a simple pyramid using for loop in python\n",
    "\n",
    "shape = '*'   ## the shape to be printed\n",
    "n_rows = 10   ## the number of rows to be printed\n",
    "\n",
    "for i in range(n_rows):  ## the loop will run as many rows as we want in the output\n",
    "    \n",
    "    print(shape*i)       ## each line printed"
   ]
  },
  {
   "cell_type": "code",
   "execution_count": 6,
   "id": "397df766",
   "metadata": {},
   "outputs": [
    {
     "name": "stdout",
     "output_type": "stream",
     "text": [
      "           \n",
      "          *\n",
      "         **\n",
      "        ***\n",
      "       ****\n",
      "      *****\n",
      "     ******\n",
      "    *******\n",
      "   ********\n",
      "  *********\n"
     ]
    }
   ],
   "source": [
    "## Invert the above output\n",
    "\n",
    "shape = '*'   ## the shape to be printed\n",
    "n_rows = 10   ## the number of rows to be printed\n",
    "\n",
    "for i in range(n_rows):  ## the loop will run as many rows as we want in the output\n",
    "    \n",
    "    print(' '*(n_rows - i), shape*i)       ## print (n_rows - i) spaces and i shapes"
   ]
  },
  {
   "cell_type": "code",
   "execution_count": 7,
   "id": "334a8e40",
   "metadata": {},
   "outputs": [
    {
     "name": "stdout",
     "output_type": "stream",
     "text": [
      "            \n",
      "          * *\n",
      "         ** **\n",
      "        *** ***\n",
      "       **** ****\n",
      "      ***** *****\n",
      "     ****** ******\n",
      "    ******* *******\n",
      "   ******** ********\n",
      "  ********* *********\n"
     ]
    }
   ],
   "source": [
    "### Combine the above outputs to create a triangle\n",
    "\n",
    "shape = '*'   ## the shape to be printed\n",
    "n_rows = 10   ## the number of rows to be printed\n",
    "\n",
    "for i in range(n_rows):  ## the loop will run as many rows as we want in the output\n",
    "    \n",
    "    print(' '*(n_rows - i), shape*i, shape*i)       ## print (n_rows - i) spaces, i shapes, and then again i shapes"
   ]
  },
  {
   "cell_type": "markdown",
   "id": "950a4454",
   "metadata": {},
   "source": [
    "### Generating patterns using nested loops\n",
    "\n",
    "A nested loop is a loop within a loop. When generating 2D patterns, one can use\n",
    "two for loops, one nested inside the other. The outer loop is generally responsible\n",
    "for the number of rows and the inner loop is responsible for number of columns.\n",
    "\n",
    "**Please try all these questions first by yourself without looking at the solution.**"
   ]
  },
  {
   "cell_type": "code",
   "execution_count": 9,
   "id": "d6aaf22d",
   "metadata": {},
   "outputs": [
    {
     "name": "stdout",
     "output_type": "stream",
     "text": [
      "*****\n",
      "*****\n",
      "*****\n"
     ]
    }
   ],
   "source": [
    "## Example 1: Generate a rectangular pattern of stars\n",
    "\n",
    "n_rows=3\n",
    "n_cols=5\n",
    "\n",
    "for i in range(n_rows):\n",
    "    for j in range(n_cols):\n",
    "        print('*', end='')  ## here, the end argument controls the end of the sentence. by default, it is a new line\n",
    "        \n",
    "    print()   ## to provide a new line after each inner loop concludes"
   ]
  },
  {
   "cell_type": "code",
   "execution_count": 12,
   "id": "01cd7f0c",
   "metadata": {},
   "outputs": [
    {
     "name": "stdout",
     "output_type": "stream",
     "text": [
      "12345\n",
      "12345\n",
      "12345\n"
     ]
    }
   ],
   "source": [
    "## Example 2: Print the following pattern\n",
    "\n",
    "## 1 2 3 4 5\n",
    "## 1 2 3 4 5\n",
    "## 1 2 3 4 5\n",
    "\n",
    "n_rows=3\n",
    "n_cols=5\n",
    "\n",
    "for i in range(n_rows):   ## the outer loop controls the number of rows\n",
    "    for j in range(1, n_cols+1):  ## inner loops controls what goes on in each column of a row\n",
    "        print(j, end='') ## print the number\n",
    "        \n",
    "    print() ## a new line after the end of each row"
   ]
  },
  {
   "cell_type": "code",
   "execution_count": 14,
   "id": "5e7b1fbf",
   "metadata": {},
   "outputs": [
    {
     "name": "stdout",
     "output_type": "stream",
     "text": [
      "11111\n",
      "22222\n",
      "33333\n"
     ]
    }
   ],
   "source": [
    "## Example 2: Print the following pattern\n",
    "\n",
    "## 1 1 1 1 1\n",
    "## 2 2 2 2 2\n",
    "## 3 3 3 3 3\n",
    "\n",
    "n_rows=3\n",
    "n_cols=5\n",
    "\n",
    "for i in range(1, n_rows+1):  \n",
    "    for j in range(1, n_cols+1):  \n",
    "        print(i, end='') ## Entirely the same code as above. Just that we are printing i instead of j\n",
    "        \n",
    "    print() ## a new line after the end of each row"
   ]
  },
  {
   "cell_type": "code",
   "execution_count": 16,
   "id": "ece06d22",
   "metadata": {},
   "outputs": [
    {
     "name": "stdout",
     "output_type": "stream",
     "text": [
      "1\n",
      "12\n",
      "123\n",
      "1234\n",
      "12345\n"
     ]
    }
   ],
   "source": [
    "## Example 3: Print the following pattern\n",
    "\n",
    "## 1 \n",
    "## 1 2 \n",
    "## 1 2 3\n",
    "## 1 2 3 4\n",
    "## 1 2 3 4 5\n",
    "\n",
    "## here the no of columns depends on the number of rows\n",
    "## so instead of running the inner loop a fixed number of times\n",
    "## we can make it a function of how many times the outer loop is running\n",
    "\n",
    "n_rows=5\n",
    "\n",
    "for i in range(1, n_rows+1):  \n",
    "    for j in range(1, i+1):  ## the no. of times inner loop runs is a function of times that the outer loop runs\n",
    "        print(j, end='') \n",
    "        \n",
    "    print() "
   ]
  },
  {
   "cell_type": "code",
   "execution_count": 19,
   "id": "54a2440c",
   "metadata": {},
   "outputs": [
    {
     "name": "stdout",
     "output_type": "stream",
     "text": [
      "1\n",
      "21\n",
      "321\n",
      "4321\n",
      "54321\n"
     ]
    }
   ],
   "source": [
    "## Example 4: Print the following pattern\n",
    "\n",
    "## 1 \n",
    "## 2 1 \n",
    "## 3 2 1\n",
    "## 4 3 2 1\n",
    "## 5 4 3 2 1\n",
    "\n",
    "\n",
    "n_rows=5\n",
    "\n",
    "for i in range(1, n_rows+1):  \n",
    "    for j in range(i, 0, -1):  ## the range is simply inverted here, the rest is same as example 3\n",
    "        print(j, end='') \n",
    "        \n",
    "    print() "
   ]
  },
  {
   "cell_type": "code",
   "execution_count": 25,
   "id": "5359b2ff",
   "metadata": {},
   "outputs": [
    {
     "name": "stdout",
     "output_type": "stream",
     "text": [
      "5\n",
      "45\n",
      "345\n",
      "2345\n",
      "12345\n"
     ]
    }
   ],
   "source": [
    "## Example 5: Print the following pattern\n",
    "\n",
    "## 5\n",
    "## 4 5 \n",
    "## 3 4 5\n",
    "## 2 3 4 5\n",
    "## 1 2 3 4 5\n",
    "\n",
    "n_rows=5\n",
    "\n",
    "for i in range(1, n_rows+1):  \n",
    "    for j in range(i, 0, -1):  \n",
    "        print(n_rows+1-j, end='') ## here since we have to go in the opposite direction, we subtract j from n_rows\n",
    "        \n",
    "    print() "
   ]
  },
  {
   "cell_type": "code",
   "execution_count": null,
   "id": "974cec70",
   "metadata": {},
   "outputs": [],
   "source": []
  }
 ],
 "metadata": {
  "kernelspec": {
   "display_name": "Python 3",
   "language": "python",
   "name": "python3"
  },
  "language_info": {
   "codemirror_mode": {
    "name": "ipython",
    "version": 3
   },
   "file_extension": ".py",
   "mimetype": "text/x-python",
   "name": "python",
   "nbconvert_exporter": "python",
   "pygments_lexer": "ipython3",
   "version": "3.8.8"
  }
 },
 "nbformat": 4,
 "nbformat_minor": 5
}
