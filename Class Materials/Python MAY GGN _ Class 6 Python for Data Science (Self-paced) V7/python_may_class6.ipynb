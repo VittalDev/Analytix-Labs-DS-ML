{
 "cells": [
  {
   "cell_type": "markdown",
   "id": "5110a055",
   "metadata": {},
   "source": [
    "## Dictionaries\n",
    "\n",
    "`dict` `dict()`\n",
    "\n",
    "- created using the curly braces `{}`\n",
    "- used to store data in the form of **key value pairs**\n",
    "- syntax: `{key1: value1, key2: value2, ... }`\n",
    "\n",
    "example:"
   ]
  },
  {
   "cell_type": "code",
   "execution_count": 2,
   "id": "456a98cc",
   "metadata": {},
   "outputs": [],
   "source": [
    "dict1 = {'Name': 'John', 'Salary': 1000, 'Grade': 'B'}"
   ]
  },
  {
   "cell_type": "code",
   "execution_count": 2,
   "id": "20d99123",
   "metadata": {},
   "outputs": [
    {
     "data": {
      "text/plain": [
       "{'Name': 'John', 'Salary': 1000, 'Grade': 'B'}"
      ]
     },
     "execution_count": 2,
     "metadata": {},
     "output_type": "execute_result"
    }
   ],
   "source": [
    "dict1"
   ]
  },
  {
   "cell_type": "markdown",
   "id": "b650d871",
   "metadata": {},
   "source": [
    "### Important properties of dictionaries\n",
    "\n",
    "1. Heterogeneous in nature\n",
    "2. Values can repeat. However, keys can't\n",
    "3. Very useful when storing data in the form of key values."
   ]
  },
  {
   "cell_type": "code",
   "execution_count": 3,
   "id": "7f0459c1",
   "metadata": {},
   "outputs": [
    {
     "data": {
      "text/plain": [
       "'John'"
      ]
     },
     "execution_count": 3,
     "metadata": {},
     "output_type": "execute_result"
    }
   ],
   "source": [
    "dict1['Name'] ## access elements from a dictionary"
   ]
  },
  {
   "cell_type": "code",
   "execution_count": 5,
   "id": "52ab5d95",
   "metadata": {},
   "outputs": [
    {
     "data": {
      "text/plain": [
       "'B'"
      ]
     },
     "execution_count": 5,
     "metadata": {},
     "output_type": "execute_result"
    }
   ],
   "source": [
    "dict1['Grade']"
   ]
  },
  {
   "cell_type": "code",
   "execution_count": 6,
   "id": "e12a5072",
   "metadata": {},
   "outputs": [],
   "source": [
    "## slicing not possible"
   ]
  },
  {
   "cell_type": "code",
   "execution_count": 7,
   "id": "b5033511",
   "metadata": {},
   "outputs": [
    {
     "ename": "TypeError",
     "evalue": "unhashable type: 'slice'",
     "output_type": "error",
     "traceback": [
      "\u001b[1;31m---------------------------------------------------------------------------\u001b[0m",
      "\u001b[1;31mTypeError\u001b[0m                                 Traceback (most recent call last)",
      "\u001b[1;32m<ipython-input-7-1f9d4ceebfa6>\u001b[0m in \u001b[0;36m<module>\u001b[1;34m\u001b[0m\n\u001b[1;32m----> 1\u001b[1;33m \u001b[0mdict1\u001b[0m\u001b[1;33m[\u001b[0m\u001b[1;34m'Name'\u001b[0m\u001b[1;33m:\u001b[0m \u001b[1;34m'Grade'\u001b[0m\u001b[1;33m]\u001b[0m\u001b[1;33m\u001b[0m\u001b[1;33m\u001b[0m\u001b[0m\n\u001b[0m",
      "\u001b[1;31mTypeError\u001b[0m: unhashable type: 'slice'"
     ]
    }
   ],
   "source": [
    "dict1['Name': 'Grade']"
   ]
  },
  {
   "cell_type": "code",
   "execution_count": null,
   "id": "632f3693",
   "metadata": {},
   "outputs": [],
   "source": [
    "## updating dictionaries\n",
    "\n",
    "## in order to update a dictionary, just access the element to update using [] and provide the new value"
   ]
  },
  {
   "cell_type": "code",
   "execution_count": 3,
   "id": "03abe2de",
   "metadata": {},
   "outputs": [
    {
     "name": "stdout",
     "output_type": "stream",
     "text": [
      "{'Name': 'John', 'Salary': 1000, 'Grade': 'B'}\n",
      "{'Name': 'Brad', 'Salary': 1000, 'Grade': 'B'}\n"
     ]
    }
   ],
   "source": [
    "print(dict1)\n",
    "dict1['Name'] = 'Brad'\n",
    "print(dict1)"
   ]
  },
  {
   "cell_type": "code",
   "execution_count": null,
   "id": "113f0955",
   "metadata": {},
   "outputs": [],
   "source": [
    "## if an existing key is provided while updating a dictionary, the dictionary gets updated.\n",
    "## if a new key is provided, a new item is added in the dictionary"
   ]
  },
  {
   "cell_type": "code",
   "execution_count": 4,
   "id": "3858d99a",
   "metadata": {},
   "outputs": [
    {
     "name": "stdout",
     "output_type": "stream",
     "text": [
      "{'Name': 'Brad', 'Salary': 1000, 'Grade': 'B'}\n",
      "{'Name': 'Brad', 'Salary': 1000, 'Grade': 'B', 'PAN': 1001}\n"
     ]
    }
   ],
   "source": [
    "print(dict1)\n",
    "dict1['PAN'] = 1001\n",
    "print(dict1)"
   ]
  },
  {
   "cell_type": "markdown",
   "id": "9a81f96e",
   "metadata": {},
   "source": [
    "With a combination of lists and dictionaries, we can start storing some real world data."
   ]
  },
  {
   "cell_type": "code",
   "execution_count": 57,
   "id": "ec0fe33a",
   "metadata": {},
   "outputs": [],
   "source": [
    "data1 = {'Name': ['John', 'Chris', 'Brad'],\n",
    "        'Salary': [1000, 2000, 2500],\n",
    "        'Age': [30, 40, 50]}"
   ]
  },
  {
   "cell_type": "code",
   "execution_count": 1,
   "id": "dfccf1f1",
   "metadata": {},
   "outputs": [],
   "source": [
    "data2 = [{'Ticker': 'HDFC', 'NetIncome': 200, 'Revenue': 1000},\n",
    "      {'Ticker': 'TATA', 'NetIncome': 100, 'Revenue': 1000, 'PE':1.2}]\n",
    "\n",
    "## example of semi structured. Similar to json files and documents in MongoDB Databases"
   ]
  },
  {
   "cell_type": "markdown",
   "id": "5a5fdb37",
   "metadata": {},
   "source": [
    "### Important methods of a dictionary"
   ]
  },
  {
   "cell_type": "code",
   "execution_count": 6,
   "id": "a2e4c5b1",
   "metadata": {},
   "outputs": [
    {
     "name": "stdout",
     "output_type": "stream",
     "text": [
      "['__class__', '__contains__', '__delattr__', '__delitem__', '__dir__', '__doc__', '__eq__', '__format__', '__ge__', '__getattribute__', '__getitem__', '__gt__', '__hash__', '__init__', '__init_subclass__', '__iter__', '__le__', '__len__', '__lt__', '__ne__', '__new__', '__reduce__', '__reduce_ex__', '__repr__', '__reversed__', '__setattr__', '__setitem__', '__sizeof__', '__str__', '__subclasshook__', 'clear', 'copy', 'fromkeys', 'get', 'items', 'keys', 'pop', 'popitem', 'setdefault', 'update', 'values']\n"
     ]
    }
   ],
   "source": [
    "print(dir(dict))"
   ]
  },
  {
   "cell_type": "markdown",
   "id": "6c0e29be",
   "metadata": {},
   "source": [
    "### `.items()`, `.keys()`, and `.values()`"
   ]
  },
  {
   "cell_type": "code",
   "execution_count": 11,
   "id": "242231bf",
   "metadata": {},
   "outputs": [
    {
     "data": {
      "text/plain": [
       "dict_keys(['Name', 'Salary', 'Grade'])"
      ]
     },
     "execution_count": 11,
     "metadata": {},
     "output_type": "execute_result"
    }
   ],
   "source": [
    "dict1.keys() ## returns all the keys of a dictionary"
   ]
  },
  {
   "cell_type": "code",
   "execution_count": 12,
   "id": "9a626edf",
   "metadata": {},
   "outputs": [
    {
     "data": {
      "text/plain": [
       "dict_values(['John', 1000, 'B'])"
      ]
     },
     "execution_count": 12,
     "metadata": {},
     "output_type": "execute_result"
    }
   ],
   "source": [
    "dict1.values()  ## returns all the values"
   ]
  },
  {
   "cell_type": "code",
   "execution_count": 13,
   "id": "f3d5fde5",
   "metadata": {},
   "outputs": [
    {
     "data": {
      "text/plain": [
       "dict_items([('Name', 'John'), ('Salary', 1000), ('Grade', 'B')])"
      ]
     },
     "execution_count": 13,
     "metadata": {},
     "output_type": "execute_result"
    }
   ],
   "source": [
    "dict1.items()  ## returns all the items as a *list of tuples "
   ]
  },
  {
   "cell_type": "markdown",
   "id": "40ccb2e8",
   "metadata": {},
   "source": [
    "### Iterating over the items of a dictionary\n",
    "\n",
    "There are three ways of iterating over a dictionary.\n",
    "\n",
    "1. Iterate over the keys\n",
    "2. Iterate over the values\n",
    "3. Iterate over both keys and values at the same time"
   ]
  },
  {
   "cell_type": "code",
   "execution_count": 5,
   "id": "3bcc3638",
   "metadata": {},
   "outputs": [
    {
     "name": "stdout",
     "output_type": "stream",
     "text": [
      "Brad\n",
      "1000\n",
      "B\n",
      "1001\n"
     ]
    }
   ],
   "source": [
    "## 1. Iterate over the keys\n",
    "\n",
    "\n",
    "for key in dict1.keys():\n",
    "    print(dict1[key])"
   ]
  },
  {
   "cell_type": "markdown",
   "id": "8a3d7a99",
   "metadata": {},
   "source": [
    "**Important**: use the `TAB` key for autocomplete in jupyter"
   ]
  },
  {
   "cell_type": "code",
   "execution_count": 6,
   "id": "50f10b96",
   "metadata": {},
   "outputs": [],
   "source": [
    "dict2 = {0: 'A', 1: 'B', 2: 'C'}"
   ]
  },
  {
   "cell_type": "code",
   "execution_count": 7,
   "id": "58514eae",
   "metadata": {},
   "outputs": [
    {
     "data": {
      "text/plain": [
       "'A'"
      ]
     },
     "execution_count": 7,
     "metadata": {},
     "output_type": "execute_result"
    }
   ],
   "source": [
    "dict2[0]"
   ]
  },
  {
   "cell_type": "code",
   "execution_count": 8,
   "id": "db0f4825",
   "metadata": {},
   "outputs": [
    {
     "name": "stdout",
     "output_type": "stream",
     "text": [
      "Brad\n",
      "1000\n",
      "B\n",
      "1001\n"
     ]
    }
   ],
   "source": [
    "## iterate over the values:\n",
    "\n",
    "for value in dict1.values():\n",
    "    print(value)"
   ]
  },
  {
   "cell_type": "code",
   "execution_count": 11,
   "id": "6e201b1d",
   "metadata": {},
   "outputs": [
    {
     "name": "stdout",
     "output_type": "stream",
     "text": [
      "Name : Brad\n",
      "Salary : 1000\n",
      "Grade : B\n",
      "PAN : 1001\n"
     ]
    }
   ],
   "source": [
    "## 3. Iterate over both\n",
    "\n",
    "for key, value in dict1.items():\n",
    "    print(key, ':', value)\n",
    "\n",
    "    "
   ]
  },
  {
   "cell_type": "code",
   "execution_count": 12,
   "id": "9b73729d",
   "metadata": {},
   "outputs": [
    {
     "name": "stdout",
     "output_type": "stream",
     "text": [
      "{'Name': 'BRAD', 'Salary': 1100, 'Grade': 'B', 'PAN': 1101}\n"
     ]
    }
   ],
   "source": [
    "## Adding items to a new dictionary\n",
    "\n",
    "## Q: create a new dictionary that takes in the same items as dict1. However, the values are changed as follows:\n",
    "## - if the value is a string, make it uppercase\n",
    "## - if its a number, add 100 to it\n",
    "\n",
    "new_dict = {} ## In order to add items to a new dictionary, first initialize or create an empty dictionary\n",
    "\n",
    "for key, value in dict1.items():\n",
    "    if type(value) == str:\n",
    "        new_dict[key] = value.upper()\n",
    "        \n",
    "    elif type(value) == int:\n",
    "        new_dict[key] = value + 100\n",
    "        \n",
    "print(new_dict)"
   ]
  },
  {
   "cell_type": "markdown",
   "id": "86277f94",
   "metadata": {},
   "source": [
    "### Applying our knowledge of lists and dictionaries so far to get some context out of textual data.\n",
    "\n",
    "1. Get some text data and store it in a string.\n",
    "2. Clean the data to make it consistent ( all lowercase ) and remove symbols like `.` (period) and `,`.\n",
    "2. Split the cleaned string into a list of separate words.\n",
    "3. Count the occurences of each word in the text and store the word and its count as key value pairs in a dictionary."
   ]
  },
  {
   "cell_type": "code",
   "execution_count": 1,
   "id": "356db86b",
   "metadata": {},
   "outputs": [],
   "source": [
    "## Step 1: read the data\n",
    "\n",
    "with open('d:/python_new/news1.txt') as f:\n",
    "    data = f.read()"
   ]
  },
  {
   "cell_type": "code",
   "execution_count": 4,
   "id": "31be6049",
   "metadata": {},
   "outputs": [
    {
     "name": "stdout",
     "output_type": "stream",
     "text": [
      "for the first time since early november the total market capitalization of the cryptocurrency industry exceeded $1 trillion according to data from coingecko on january 14 bitcoin increased to over $21000 on hopes that inflation may have peaked and reached a bottom the biggest cryptocurrency increased up to 75% to $21299 in value since november 8 it hadn't been above $20000 and january 14 was its 11th straight day of growth ether the second-largest cryptocurrency rose up to 97% and other coins like cardano and dogecoin also registered significant gains before this most recent breakout the price of bitcoin had been trapped in a small range between $16000 and $17000 for weeks the rising movements have surprised shorts according to statistics from coinglass cryptocurrency short liquidations have exceeded $100 million in five of the last six days the biggest amount was reached on january 14 and exceeded $296 million the increases coincided with consumer pricing data released last week that indicated a decline in inflation from december levels to january levels following that additional cooling the federal reserve is on course to transition to smaller interest-rate rises but it's expected to keep doing so until price pressures show more certain indications of moderating risky assets such as the nasdaq 100 stock index which has increased for six days in a row have benefited from this\n"
     ]
    }
   ],
   "source": [
    "## Step 2: clean the data\n",
    "\n",
    "data = data.lower().replace('.', '').replace(',', '').replace(';', '')\n",
    "print(data)"
   ]
  },
  {
   "cell_type": "code",
   "execution_count": 5,
   "id": "ef35ae70",
   "metadata": {},
   "outputs": [
    {
     "name": "stdout",
     "output_type": "stream",
     "text": [
      "['for', 'the', 'first', 'time', 'since', 'early', 'november', 'the', 'total', 'market', 'capitalization', 'of', 'the', 'cryptocurrency', 'industry', 'exceeded', '$1', 'trillion', 'according', 'to', 'data', 'from', 'coingecko', 'on', 'january', '14', 'bitcoin', 'increased', 'to', 'over', '$21000', 'on', 'hopes', 'that', 'inflation', 'may', 'have', 'peaked', 'and', 'reached', 'a', 'bottom', 'the', 'biggest', 'cryptocurrency', 'increased', 'up', 'to', '75%', 'to', '$21299', 'in', 'value', 'since', 'november', '8', 'it', \"hadn't\", 'been', 'above', '$20000', 'and', 'january', '14', 'was', 'its', '11th', 'straight', 'day', 'of', 'growth', 'ether', 'the', 'second-largest', 'cryptocurrency', 'rose', 'up', 'to', '97%', 'and', 'other', 'coins', 'like', 'cardano', 'and', 'dogecoin', 'also', 'registered', 'significant', 'gains', 'before', 'this', 'most', 'recent', 'breakout', 'the', 'price', 'of', 'bitcoin', 'had', 'been', 'trapped', 'in', 'a', 'small', 'range', 'between', '$16000', 'and', '$17000', 'for', 'weeks', 'the', 'rising', 'movements', 'have', 'surprised', 'shorts', 'according', 'to', 'statistics', 'from', 'coinglass', 'cryptocurrency', 'short', 'liquidations', 'have', 'exceeded', '$100', 'million', 'in', 'five', 'of', 'the', 'last', 'six', 'days', 'the', 'biggest', 'amount', 'was', 'reached', 'on', 'january', '14', 'and', 'exceeded', '$296', 'million', 'the', 'increases', 'coincided', 'with', 'consumer', 'pricing', 'data', 'released', 'last', 'week', 'that', 'indicated', 'a', 'decline', 'in', 'inflation', 'from', 'december', 'levels', 'to', 'january', 'levels', 'following', 'that', 'additional', 'cooling', 'the', 'federal', 'reserve', 'is', 'on', 'course', 'to', 'transition', 'to', 'smaller', 'interest-rate', 'rises', 'but', \"it's\", 'expected', 'to', 'keep', 'doing', 'so', 'until', 'price', 'pressures', 'show', 'more', 'certain', 'indications', 'of', 'moderating', 'risky', 'assets', 'such', 'as', 'the', 'nasdaq', '100', 'stock', 'index', 'which', 'has', 'increased', 'for', 'six', 'days', 'in', 'a', 'row', 'have', 'benefited', 'from', 'this']\n"
     ]
    }
   ],
   "source": [
    "## split the string into a list of words\n",
    "\n",
    "words = data.split()\n",
    "print(words)"
   ]
  },
  {
   "cell_type": "code",
   "execution_count": 6,
   "id": "9d29caa9",
   "metadata": {},
   "outputs": [
    {
     "name": "stdout",
     "output_type": "stream",
     "text": [
      "225\n"
     ]
    }
   ],
   "source": [
    "print(len(words))"
   ]
  },
  {
   "cell_type": "code",
   "execution_count": 7,
   "id": "b30f04b1",
   "metadata": {},
   "outputs": [],
   "source": [
    "## In order to get some context, we would want to remove words that occur a lot but don't give much meaning such as \n",
    "## the following\n",
    "\n",
    "stop_words = ['a', 'the', 'so', 'have', 'for', 'and', 'was', 'For', 'of', 'to', 'in', 'up', 'The', 'on', 'from',\n",
    "                'that', 'been']"
   ]
  },
  {
   "cell_type": "code",
   "execution_count": 10,
   "id": "884fc599",
   "metadata": {},
   "outputs": [
    {
     "name": "stdout",
     "output_type": "stream",
     "text": [
      "['first', 'time', 'since', 'early', 'november', 'total', 'market', 'capitalization', 'cryptocurrency', 'industry', 'exceeded', '$1', 'trillion', 'according', 'data', 'coingecko', 'january', '14', 'bitcoin', 'increased', 'over', '$21000', 'hopes', 'inflation', 'may', 'peaked', 'reached', 'bottom', 'biggest', 'cryptocurrency', 'increased', '75%', '$21299', 'value', 'since', 'november', '8', 'it', \"hadn't\", 'above', '$20000', 'january', '14', 'its', '11th', 'straight', 'day', 'growth', 'ether', 'second-largest', 'cryptocurrency', 'rose', '97%', 'other', 'coins', 'like', 'cardano', 'dogecoin', 'also', 'registered', 'significant', 'gains', 'before', 'this', 'most', 'recent', 'breakout', 'price', 'bitcoin', 'had', 'trapped', 'small', 'range', 'between', '$16000', '$17000', 'weeks', 'rising', 'movements', 'surprised', 'shorts', 'according', 'statistics', 'coinglass', 'cryptocurrency', 'short', 'liquidations', 'exceeded', '$100', 'million', 'five', 'last', 'six', 'days', 'biggest', 'amount', 'reached', 'january', '14', 'exceeded', '$296', 'million', 'increases', 'coincided', 'with', 'consumer', 'pricing', 'data', 'released', 'last', 'week', 'indicated', 'decline', 'inflation', 'december', 'levels', 'january', 'levels', 'following', 'additional', 'cooling', 'federal', 'reserve', 'is', 'course', 'transition', 'smaller', 'interest-rate', 'rises', 'but', \"it's\", 'expected', 'keep', 'doing', 'until', 'price', 'pressures', 'show', 'more', 'certain', 'indications', 'moderating', 'risky', 'assets', 'such', 'as', 'nasdaq', '100', 'stock', 'index', 'which', 'has', 'increased', 'six', 'days', 'row', 'benefited', 'this']\n"
     ]
    }
   ],
   "source": [
    "## Create a new list that removes the words in words_to_omit\n",
    "\n",
    "filtered_words = [var for var in words if var not in stop_words]\n",
    "print(filtered_words)"
   ]
  },
  {
   "cell_type": "code",
   "execution_count": 11,
   "id": "bd15e2da",
   "metadata": {},
   "outputs": [
    {
     "name": "stdout",
     "output_type": "stream",
     "text": [
      "158\n"
     ]
    }
   ],
   "source": [
    "print(len(filtered_words))"
   ]
  },
  {
   "cell_type": "code",
   "execution_count": 12,
   "id": "70e0ba9a",
   "metadata": {},
   "outputs": [
    {
     "name": "stdout",
     "output_type": "stream",
     "text": [
      "{'first': 1, 'time': 1, 'since': 2, 'early': 1, 'november': 2, 'total': 1, 'market': 1, 'capitalization': 1, 'cryptocurrency': 4, 'industry': 1, 'exceeded': 3, '$1': 1, 'trillion': 1, 'according': 2, 'data': 2, 'coingecko': 1, 'january': 4, '14': 3, 'bitcoin': 2, 'increased': 3, 'over': 1, '$21000': 1, 'hopes': 1, 'inflation': 2, 'may': 1, 'peaked': 1, 'reached': 2, 'bottom': 1, 'biggest': 2, '75%': 1, '$21299': 1, 'value': 1, '8': 1, 'it': 1, \"hadn't\": 1, 'above': 1, '$20000': 1, 'its': 1, '11th': 1, 'straight': 1, 'day': 1, 'growth': 1, 'ether': 1, 'second-largest': 1, 'rose': 1, '97%': 1, 'other': 1, 'coins': 1, 'like': 1, 'cardano': 1, 'dogecoin': 1, 'also': 1, 'registered': 1, 'significant': 1, 'gains': 1, 'before': 1, 'this': 2, 'most': 1, 'recent': 1, 'breakout': 1, 'price': 2, 'had': 1, 'trapped': 1, 'small': 1, 'range': 1, 'between': 1, '$16000': 1, '$17000': 1, 'weeks': 1, 'rising': 1, 'movements': 1, 'surprised': 1, 'shorts': 1, 'statistics': 1, 'coinglass': 1, 'short': 1, 'liquidations': 1, '$100': 1, 'million': 2, 'five': 1, 'last': 2, 'six': 2, 'days': 2, 'amount': 1, '$296': 1, 'increases': 1, 'coincided': 1, 'with': 1, 'consumer': 1, 'pricing': 1, 'released': 1, 'week': 1, 'indicated': 1, 'decline': 1, 'december': 1, 'levels': 2, 'following': 1, 'additional': 1, 'cooling': 1, 'federal': 1, 'reserve': 1, 'is': 1, 'course': 1, 'transition': 1, 'smaller': 1, 'interest-rate': 1, 'rises': 1, 'but': 1, \"it's\": 1, 'expected': 1, 'keep': 1, 'doing': 1, 'until': 1, 'pressures': 1, 'show': 1, 'more': 1, 'certain': 1, 'indications': 1, 'moderating': 1, 'risky': 1, 'assets': 1, 'such': 1, 'as': 1, 'nasdaq': 1, '100': 1, 'stock': 1, 'index': 1, 'which': 1, 'has': 1, 'row': 1, 'benefited': 1}\n"
     ]
    }
   ],
   "source": [
    "words_count = {}  ## create an empty dictionary that will hold each word and its count\n",
    "\n",
    "for word in filtered_words:\n",
    "    words_count[word] = filtered_words.count(word)  ## count using the .count() method of a list\n",
    "    #print(words_count)\n",
    "    \n",
    "print(words_count)"
   ]
  },
  {
   "cell_type": "code",
   "execution_count": 13,
   "id": "83c19b25",
   "metadata": {},
   "outputs": [
    {
     "name": "stdout",
     "output_type": "stream",
     "text": [
      "since : 2\n",
      "november : 2\n",
      "cryptocurrency : 4\n",
      "exceeded : 3\n",
      "according : 2\n",
      "data : 2\n",
      "january : 4\n",
      "14 : 3\n",
      "bitcoin : 2\n",
      "increased : 3\n",
      "inflation : 2\n",
      "reached : 2\n",
      "biggest : 2\n",
      "this : 2\n",
      "price : 2\n",
      "million : 2\n",
      "last : 2\n",
      "six : 2\n",
      "days : 2\n",
      "levels : 2\n"
     ]
    }
   ],
   "source": [
    "## remove words that occur only once to get some context\n",
    "\n",
    "for key, value in words_count.items():\n",
    "    if value != 1:\n",
    "        print(key, \":\", value)"
   ]
  },
  {
   "cell_type": "markdown",
   "id": "a8832032",
   "metadata": {},
   "source": [
    "## tuple\n",
    "\n",
    "A tuple is like a list. However, tuples are **immutable** in nature meaning that they cannot be changed or updated in the same memory location. However, they can be overwritten completely.\n",
    "\n",
    "1. How to create\n",
    "`()` `tuple()`"
   ]
  },
  {
   "cell_type": "code",
   "execution_count": 36,
   "id": "1c7e1df6",
   "metadata": {},
   "outputs": [],
   "source": [
    "t1 = (1, 2, 'python', True, [1, 2, 3]) ## tuples are also heterogeneous"
   ]
  },
  {
   "cell_type": "code",
   "execution_count": 37,
   "id": "0c190684",
   "metadata": {},
   "outputs": [
    {
     "data": {
      "text/plain": [
       "(1, 2, 'python', True, [1, 2, 3])"
      ]
     },
     "execution_count": 37,
     "metadata": {},
     "output_type": "execute_result"
    }
   ],
   "source": [
    "t1"
   ]
  },
  {
   "cell_type": "code",
   "execution_count": 38,
   "id": "7b741419",
   "metadata": {},
   "outputs": [
    {
     "name": "stdout",
     "output_type": "stream",
     "text": [
      "<class 'tuple'>\n"
     ]
    }
   ],
   "source": [
    "print(type(t1))"
   ]
  },
  {
   "cell_type": "code",
   "execution_count": 39,
   "id": "471d90f8",
   "metadata": {},
   "outputs": [],
   "source": [
    "t2 = tuple(range(11))  ## another way to create a tuple is to use type conversion"
   ]
  },
  {
   "cell_type": "code",
   "execution_count": 40,
   "id": "6b6751d2",
   "metadata": {},
   "outputs": [
    {
     "name": "stdout",
     "output_type": "stream",
     "text": [
      "<class 'tuple'>\n"
     ]
    }
   ],
   "source": [
    "print(type(t2))"
   ]
  },
  {
   "cell_type": "code",
   "execution_count": 41,
   "id": "10834fc1",
   "metadata": {},
   "outputs": [
    {
     "data": {
      "text/plain": [
       "(0, 1, 2, 3, 4, 5, 6, 7, 8, 9, 10)"
      ]
     },
     "execution_count": 41,
     "metadata": {},
     "output_type": "execute_result"
    }
   ],
   "source": [
    "t2"
   ]
  },
  {
   "cell_type": "markdown",
   "id": "d0c8a3e5",
   "metadata": {},
   "source": [
    "2. How to access elements from a tuple\n",
    "\n",
    "Using the indexing and slicing syntax using `[]`"
   ]
  },
  {
   "cell_type": "code",
   "execution_count": 89,
   "id": "2c2f245b",
   "metadata": {},
   "outputs": [
    {
     "data": {
      "text/plain": [
       "1"
      ]
     },
     "execution_count": 89,
     "metadata": {},
     "output_type": "execute_result"
    }
   ],
   "source": [
    "t3[0]"
   ]
  },
  {
   "cell_type": "code",
   "execution_count": 90,
   "id": "d0293fcf",
   "metadata": {},
   "outputs": [
    {
     "data": {
      "text/plain": [
       "6"
      ]
     },
     "execution_count": 90,
     "metadata": {},
     "output_type": "execute_result"
    }
   ],
   "source": [
    "t3[-1]"
   ]
  },
  {
   "cell_type": "code",
   "execution_count": 91,
   "id": "e82a53d3",
   "metadata": {},
   "outputs": [
    {
     "data": {
      "text/plain": [
       "(1, 2, 3)"
      ]
     },
     "execution_count": 91,
     "metadata": {},
     "output_type": "execute_result"
    }
   ],
   "source": [
    "t3[:3]"
   ]
  },
  {
   "cell_type": "markdown",
   "id": "8d4b3010",
   "metadata": {},
   "source": [
    "3. Updating elements in a tuple\n",
    "\n",
    "**Not possible** since tuples are immutable."
   ]
  },
  {
   "cell_type": "code",
   "execution_count": 43,
   "id": "fd63af58",
   "metadata": {},
   "outputs": [
    {
     "ename": "TypeError",
     "evalue": "'tuple' object does not support item assignment",
     "output_type": "error",
     "traceback": [
      "\u001b[1;31m---------------------------------------------------------------------------\u001b[0m",
      "\u001b[1;31mTypeError\u001b[0m                                 Traceback (most recent call last)",
      "\u001b[1;32m<ipython-input-43-2bd5dad651ee>\u001b[0m in \u001b[0;36m<module>\u001b[1;34m\u001b[0m\n\u001b[1;32m----> 1\u001b[1;33m \u001b[0mt2\u001b[0m\u001b[1;33m[\u001b[0m\u001b[1;36m0\u001b[0m\u001b[1;33m]\u001b[0m \u001b[1;33m=\u001b[0m \u001b[1;34m'world'\u001b[0m\u001b[1;33m\u001b[0m\u001b[1;33m\u001b[0m\u001b[0m\n\u001b[0m",
      "\u001b[1;31mTypeError\u001b[0m: 'tuple' object does not support item assignment"
     ]
    }
   ],
   "source": [
    "t2[0] = 'world'"
   ]
  },
  {
   "cell_type": "markdown",
   "id": "823da352",
   "metadata": {},
   "source": [
    "4. Methods of a tuple"
   ]
  },
  {
   "cell_type": "code",
   "execution_count": 94,
   "id": "12e764e2",
   "metadata": {},
   "outputs": [
    {
     "name": "stdout",
     "output_type": "stream",
     "text": [
      "['__add__', '__class__', '__contains__', '__delattr__', '__dir__', '__doc__', '__eq__', '__format__', '__ge__', '__getattribute__', '__getitem__', '__getnewargs__', '__gt__', '__hash__', '__init__', '__init_subclass__', '__iter__', '__le__', '__len__', '__lt__', '__mul__', '__ne__', '__new__', '__reduce__', '__reduce_ex__', '__repr__', '__rmul__', '__setattr__', '__sizeof__', '__str__', '__subclasshook__', 'count', 'index']\n"
     ]
    }
   ],
   "source": [
    "print(dir(tuple))"
   ]
  },
  {
   "cell_type": "code",
   "execution_count": 45,
   "id": "99871f0d",
   "metadata": {},
   "outputs": [
    {
     "data": {
      "text/plain": [
       "(1, 2, 'python', True, [1, 2, 3])"
      ]
     },
     "execution_count": 45,
     "metadata": {},
     "output_type": "execute_result"
    }
   ],
   "source": [
    "t1"
   ]
  },
  {
   "cell_type": "code",
   "execution_count": 46,
   "id": "880bd460",
   "metadata": {},
   "outputs": [
    {
     "data": {
      "text/plain": [
       "2"
      ]
     },
     "execution_count": 46,
     "metadata": {},
     "output_type": "execute_result"
    }
   ],
   "source": [
    "t1.count(1) ##"
   ]
  },
  {
   "cell_type": "markdown",
   "id": "bcb27043",
   "metadata": {},
   "source": [
    "## `set`\n",
    "\n",
    "keyless dictionary \n",
    "`{}` `set()`\n",
    "\n",
    "syntax: `{ value1, value2, .... }`\n",
    "\n",
    "sets will only store unique values and that too in an ascending order. These datastructures are the same as sets in Mathematics and can be used to do operations like `intersection`, `union`, `difference`, etc."
   ]
  },
  {
   "cell_type": "code",
   "execution_count": 116,
   "id": "897e12df",
   "metadata": {},
   "outputs": [],
   "source": [
    "s1 = {1, 2, 3, 4}"
   ]
  },
  {
   "cell_type": "code",
   "execution_count": 117,
   "id": "fa0651b7",
   "metadata": {},
   "outputs": [
    {
     "name": "stdout",
     "output_type": "stream",
     "text": [
      "<class 'set'>\n"
     ]
    }
   ],
   "source": [
    "print(type(s1))"
   ]
  },
  {
   "cell_type": "code",
   "execution_count": 47,
   "id": "a583e499",
   "metadata": {},
   "outputs": [],
   "source": [
    "s2 = {1, 1, 2, 2, 3, 3, 4, 4}"
   ]
  },
  {
   "cell_type": "code",
   "execution_count": 49,
   "id": "f234a820",
   "metadata": {},
   "outputs": [
    {
     "data": {
      "text/plain": [
       "{1, 2, 3, 4}"
      ]
     },
     "execution_count": 49,
     "metadata": {},
     "output_type": "execute_result"
    }
   ],
   "source": [
    "s2 ## a set will only store unique values and that too in an ascending order"
   ]
  },
  {
   "cell_type": "code",
   "execution_count": 50,
   "id": "96e0f428",
   "metadata": {},
   "outputs": [],
   "source": [
    "## Q1: Extract the unique items out of a list.\n",
    "\n",
    "l1 = [1, 2, 2, 3, 4, 1, 2, 3]"
   ]
  },
  {
   "cell_type": "code",
   "execution_count": 51,
   "id": "0b640920",
   "metadata": {},
   "outputs": [
    {
     "data": {
      "text/plain": [
       "[1, 2, 3, 4]"
      ]
     },
     "execution_count": 51,
     "metadata": {},
     "output_type": "execute_result"
    }
   ],
   "source": [
    "list(set(l1))"
   ]
  },
  {
   "cell_type": "code",
   "execution_count": 52,
   "id": "c96a0c84",
   "metadata": {},
   "outputs": [],
   "source": [
    "s4 = {'hello', 'hello', 1, 2, 3} ## sets are also heterogeneous. However, they cannot store other collections within them."
   ]
  },
  {
   "cell_type": "code",
   "execution_count": 53,
   "id": "7ec05569",
   "metadata": {},
   "outputs": [
    {
     "data": {
      "text/plain": [
       "{1, 2, 3, 'hello'}"
      ]
     },
     "execution_count": 53,
     "metadata": {},
     "output_type": "execute_result"
    }
   ],
   "source": [
    "s4"
   ]
  },
  {
   "cell_type": "code",
   "execution_count": 54,
   "id": "c4818037",
   "metadata": {},
   "outputs": [],
   "source": [
    "## accessing elements is not possible in a set"
   ]
  },
  {
   "cell_type": "code",
   "execution_count": 55,
   "id": "40fc6742",
   "metadata": {},
   "outputs": [
    {
     "ename": "TypeError",
     "evalue": "'set' object does not support item assignment",
     "output_type": "error",
     "traceback": [
      "\u001b[1;31m---------------------------------------------------------------------------\u001b[0m",
      "\u001b[1;31mTypeError\u001b[0m                                 Traceback (most recent call last)",
      "\u001b[1;32m<ipython-input-55-1c750faa6380>\u001b[0m in \u001b[0;36m<module>\u001b[1;34m\u001b[0m\n\u001b[1;32m----> 1\u001b[1;33m \u001b[0ms4\u001b[0m\u001b[1;33m[\u001b[0m\u001b[1;36m0\u001b[0m\u001b[1;33m]\u001b[0m \u001b[1;33m=\u001b[0m \u001b[1;36m1\u001b[0m\u001b[1;33m\u001b[0m\u001b[1;33m\u001b[0m\u001b[0m\n\u001b[0m",
      "\u001b[1;31mTypeError\u001b[0m: 'set' object does not support item assignment"
     ]
    }
   ],
   "source": [
    "s4[0] = 1"
   ]
  },
  {
   "cell_type": "code",
   "execution_count": 56,
   "id": "fa9c327b",
   "metadata": {},
   "outputs": [],
   "source": [
    "s4 = {1, 1, 'python', True}"
   ]
  },
  {
   "cell_type": "code",
   "execution_count": 57,
   "id": "b27a179d",
   "metadata": {},
   "outputs": [
    {
     "data": {
      "text/plain": [
       "{1, 'python'}"
      ]
     },
     "execution_count": 57,
     "metadata": {},
     "output_type": "execute_result"
    }
   ],
   "source": [
    "s4"
   ]
  },
  {
   "cell_type": "markdown",
   "id": "608cbc1f",
   "metadata": {},
   "source": [
    "### Methods of a set"
   ]
  },
  {
   "cell_type": "code",
   "execution_count": 58,
   "id": "55f7778c",
   "metadata": {},
   "outputs": [
    {
     "name": "stdout",
     "output_type": "stream",
     "text": [
      "['__and__', '__class__', '__contains__', '__delattr__', '__dir__', '__doc__', '__eq__', '__format__', '__ge__', '__getattribute__', '__gt__', '__hash__', '__iand__', '__init__', '__init_subclass__', '__ior__', '__isub__', '__iter__', '__ixor__', '__le__', '__len__', '__lt__', '__ne__', '__new__', '__or__', '__rand__', '__reduce__', '__reduce_ex__', '__repr__', '__ror__', '__rsub__', '__rxor__', '__setattr__', '__sizeof__', '__str__', '__sub__', '__subclasshook__', '__xor__', 'add', 'clear', 'copy', 'difference', 'difference_update', 'discard', 'intersection', 'intersection_update', 'isdisjoint', 'issubset', 'issuperset', 'pop', 'remove', 'symmetric_difference', 'symmetric_difference_update', 'union', 'update']\n"
     ]
    }
   ],
   "source": [
    "print(dir(s4))"
   ]
  },
  {
   "cell_type": "code",
   "execution_count": 59,
   "id": "1ce87863",
   "metadata": {},
   "outputs": [],
   "source": [
    "a = {1, 2, 3}\n",
    "b = {3, 4, 5}"
   ]
  },
  {
   "cell_type": "code",
   "execution_count": 60,
   "id": "4e3471c8",
   "metadata": {},
   "outputs": [],
   "source": [
    "## .union(), .intersection(), .difference()"
   ]
  },
  {
   "cell_type": "code",
   "execution_count": 61,
   "id": "1bab6f37",
   "metadata": {},
   "outputs": [
    {
     "data": {
      "text/plain": [
       "{1, 2, 3, 4, 5}"
      ]
     },
     "execution_count": 61,
     "metadata": {},
     "output_type": "execute_result"
    }
   ],
   "source": [
    "a.union(b)"
   ]
  },
  {
   "cell_type": "code",
   "execution_count": 62,
   "id": "8207a192",
   "metadata": {},
   "outputs": [
    {
     "data": {
      "text/plain": [
       "{1, 2}"
      ]
     },
     "execution_count": 62,
     "metadata": {},
     "output_type": "execute_result"
    }
   ],
   "source": [
    "a.difference(b)"
   ]
  },
  {
   "cell_type": "code",
   "execution_count": 63,
   "id": "4329a86b",
   "metadata": {},
   "outputs": [
    {
     "data": {
      "text/plain": [
       "{4, 5}"
      ]
     },
     "execution_count": 63,
     "metadata": {},
     "output_type": "execute_result"
    }
   ],
   "source": [
    "b.difference(a)"
   ]
  },
  {
   "cell_type": "code",
   "execution_count": 64,
   "id": "057b6ca9",
   "metadata": {},
   "outputs": [
    {
     "data": {
      "text/plain": [
       "{3}"
      ]
     },
     "execution_count": 64,
     "metadata": {},
     "output_type": "execute_result"
    }
   ],
   "source": [
    "a.intersection(b)"
   ]
  },
  {
   "cell_type": "code",
   "execution_count": 143,
   "id": "f6c00991",
   "metadata": {},
   "outputs": [
    {
     "data": {
      "text/plain": [
       "{1, 2, 3}"
      ]
     },
     "execution_count": 143,
     "metadata": {},
     "output_type": "execute_result"
    }
   ],
   "source": [
    "a  ## these methods do not lead to any permanent change"
   ]
  },
  {
   "cell_type": "code",
   "execution_count": 144,
   "id": "63b9d01e",
   "metadata": {},
   "outputs": [
    {
     "data": {
      "text/plain": [
       "{3, 4, 5}"
      ]
     },
     "execution_count": 144,
     "metadata": {},
     "output_type": "execute_result"
    }
   ],
   "source": [
    "b"
   ]
  },
  {
   "cell_type": "code",
   "execution_count": 65,
   "id": "fe40fc77",
   "metadata": {},
   "outputs": [],
   "source": [
    "a.intersection_update(b)  ## In order to make a permanent change, we have other methods available with _update added\n",
    "                        ## to their names"
   ]
  },
  {
   "cell_type": "code",
   "execution_count": 66,
   "id": "88a1084d",
   "metadata": {},
   "outputs": [
    {
     "data": {
      "text/plain": [
       "{3}"
      ]
     },
     "execution_count": 66,
     "metadata": {},
     "output_type": "execute_result"
    }
   ],
   "source": [
    "a"
   ]
  }
 ],
 "metadata": {
  "kernelspec": {
   "display_name": "Python 3",
   "language": "python",
   "name": "python3"
  },
  "language_info": {
   "codemirror_mode": {
    "name": "ipython",
    "version": 3
   },
   "file_extension": ".py",
   "mimetype": "text/x-python",
   "name": "python",
   "nbconvert_exporter": "python",
   "pygments_lexer": "ipython3",
   "version": "3.8.8"
  }
 },
 "nbformat": 4,
 "nbformat_minor": 5
}
