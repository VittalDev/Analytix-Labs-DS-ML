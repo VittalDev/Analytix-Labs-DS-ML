{
 "cells": [
  {
   "cell_type": "code",
   "execution_count": 1,
   "id": "ef1a78b3",
   "metadata": {},
   "outputs": [],
   "source": [
    "\n",
    "## pandas\n",
    "\n",
    "##    datetime\n",
    "##    group by and pivot table\n",
    "##    joins\n",
    "##    outlier treatment\n"
   ]
  },
  {
   "cell_type": "code",
   "execution_count": null,
   "id": "ffe3a833",
   "metadata": {},
   "outputs": [],
   "source": [
    "## missing values\n",
    "\n",
    "## .fillna(), .dropna(), .isnull(), .isna(), .notna(), .notnull(), .any. .all\n",
    "\n",
    "\n",
    "## .str broadcasting\n",
    "\n",
    "## "
   ]
  },
  {
   "cell_type": "code",
   "execution_count": 2,
   "id": "42f0fcf0",
   "metadata": {},
   "outputs": [],
   "source": [
    "import pandas as pd"
   ]
  },
  {
   "cell_type": "code",
   "execution_count": 31,
   "id": "677046c8",
   "metadata": {},
   "outputs": [],
   "source": [
    "## Loans Data\n",
    "\n",
    "loans_df = pd.read_csv(\"d:/data/LoansData.csv\")"
   ]
  },
  {
   "cell_type": "code",
   "execution_count": 4,
   "id": "c3c71db4",
   "metadata": {},
   "outputs": [
    {
     "data": {
      "text/html": [
       "<div>\n",
       "<style scoped>\n",
       "    .dataframe tbody tr th:only-of-type {\n",
       "        vertical-align: middle;\n",
       "    }\n",
       "\n",
       "    .dataframe tbody tr th {\n",
       "        vertical-align: top;\n",
       "    }\n",
       "\n",
       "    .dataframe thead th {\n",
       "        text-align: right;\n",
       "    }\n",
       "</style>\n",
       "<table border=\"1\" class=\"dataframe\">\n",
       "  <thead>\n",
       "    <tr style=\"text-align: right;\">\n",
       "      <th></th>\n",
       "      <th>LoanID</th>\n",
       "      <th>Amount.Requested</th>\n",
       "      <th>Amount.Funded.By.Investors</th>\n",
       "      <th>Interest.Rate</th>\n",
       "      <th>Loan.Length</th>\n",
       "      <th>Loan.Purpose</th>\n",
       "      <th>Debt.To.Income.Ratio</th>\n",
       "      <th>State</th>\n",
       "      <th>Home.Ownership</th>\n",
       "      <th>Monthly.Income</th>\n",
       "      <th>FICO.Range</th>\n",
       "      <th>Open.CREDIT.Lines</th>\n",
       "      <th>Revolving.CREDIT.Balance</th>\n",
       "      <th>Inquiries.in.the.Last.6.Months</th>\n",
       "      <th>Employment.Length</th>\n",
       "    </tr>\n",
       "  </thead>\n",
       "  <tbody>\n",
       "    <tr>\n",
       "      <th>0</th>\n",
       "      <td>1</td>\n",
       "      <td>20000.0</td>\n",
       "      <td>20000.0</td>\n",
       "      <td>8.90%</td>\n",
       "      <td>36 months</td>\n",
       "      <td>debt_consolidation</td>\n",
       "      <td>14.90%</td>\n",
       "      <td>SC</td>\n",
       "      <td>MORTGAGE</td>\n",
       "      <td>6541.67</td>\n",
       "      <td>735-739</td>\n",
       "      <td>14.0</td>\n",
       "      <td>14272.0</td>\n",
       "      <td>2.0</td>\n",
       "      <td>&lt; 1 year</td>\n",
       "    </tr>\n",
       "    <tr>\n",
       "      <th>1</th>\n",
       "      <td>2</td>\n",
       "      <td>19200.0</td>\n",
       "      <td>19200.0</td>\n",
       "      <td>12.12%</td>\n",
       "      <td>36 months</td>\n",
       "      <td>debt_consolidation</td>\n",
       "      <td>28.36%</td>\n",
       "      <td>TX</td>\n",
       "      <td>MORTGAGE</td>\n",
       "      <td>4583.33</td>\n",
       "      <td>715-719</td>\n",
       "      <td>12.0</td>\n",
       "      <td>11140.0</td>\n",
       "      <td>1.0</td>\n",
       "      <td>2 years</td>\n",
       "    </tr>\n",
       "  </tbody>\n",
       "</table>\n",
       "</div>"
      ],
      "text/plain": [
       "   LoanID  Amount.Requested  Amount.Funded.By.Investors Interest.Rate  \\\n",
       "0       1           20000.0                     20000.0         8.90%   \n",
       "1       2           19200.0                     19200.0        12.12%   \n",
       "\n",
       "  Loan.Length        Loan.Purpose Debt.To.Income.Ratio State Home.Ownership  \\\n",
       "0   36 months  debt_consolidation               14.90%    SC       MORTGAGE   \n",
       "1   36 months  debt_consolidation               28.36%    TX       MORTGAGE   \n",
       "\n",
       "   Monthly.Income FICO.Range  Open.CREDIT.Lines  Revolving.CREDIT.Balance  \\\n",
       "0         6541.67    735-739               14.0                   14272.0   \n",
       "1         4583.33    715-719               12.0                   11140.0   \n",
       "\n",
       "   Inquiries.in.the.Last.6.Months Employment.Length  \n",
       "0                             2.0          < 1 year  \n",
       "1                             1.0           2 years  "
      ]
     },
     "execution_count": 4,
     "metadata": {},
     "output_type": "execute_result"
    }
   ],
   "source": [
    "loans_df.head(2)"
   ]
  },
  {
   "cell_type": "code",
   "execution_count": 5,
   "id": "39c2ab91",
   "metadata": {},
   "outputs": [
    {
     "name": "stdout",
     "output_type": "stream",
     "text": [
      "<class 'pandas.core.frame.DataFrame'>\n",
      "RangeIndex: 2500 entries, 0 to 2499\n",
      "Data columns (total 15 columns):\n",
      " #   Column                          Non-Null Count  Dtype  \n",
      "---  ------                          --------------  -----  \n",
      " 0   LoanID                          2500 non-null   int64  \n",
      " 1   Amount.Requested                2499 non-null   float64\n",
      " 2   Amount.Funded.By.Investors      2499 non-null   float64\n",
      " 3   Interest.Rate                   2498 non-null   object \n",
      " 4   Loan.Length                     2500 non-null   object \n",
      " 5   Loan.Purpose                    2500 non-null   object \n",
      " 6   Debt.To.Income.Ratio            2499 non-null   object \n",
      " 7   State                           2500 non-null   object \n",
      " 8   Home.Ownership                  2499 non-null   object \n",
      " 9   Monthly.Income                  2499 non-null   float64\n",
      " 10  FICO.Range                      2498 non-null   object \n",
      " 11  Open.CREDIT.Lines               2497 non-null   float64\n",
      " 12  Revolving.CREDIT.Balance        2497 non-null   float64\n",
      " 13  Inquiries.in.the.Last.6.Months  2497 non-null   float64\n",
      " 14  Employment.Length               2423 non-null   object \n",
      "dtypes: float64(6), int64(1), object(8)\n",
      "memory usage: 293.1+ KB\n"
     ]
    }
   ],
   "source": [
    "## metadata inspection\n",
    "\n",
    "loans_df.info()"
   ]
  },
  {
   "cell_type": "code",
   "execution_count": null,
   "id": "28a8451e",
   "metadata": {},
   "outputs": [],
   "source": [
    "## 1. rename columns\n",
    "## 2. clean Interest rate, debt to income ratio, and loan length, and employment lenght\n",
    "## 3. take care of missing values"
   ]
  },
  {
   "cell_type": "code",
   "execution_count": 7,
   "id": "48142da4",
   "metadata": {},
   "outputs": [],
   "source": [
    "## Step 1: \n",
    "\n",
    "## Renaming\n",
    "\n",
    "loans_df.columns = [column.replace('.', '') for column in loans_df.columns]"
   ]
  },
  {
   "cell_type": "code",
   "execution_count": null,
   "id": "de8662da",
   "metadata": {},
   "outputs": [],
   "source": []
  },
  {
   "cell_type": "code",
   "execution_count": null,
   "id": "43af6dd9",
   "metadata": {},
   "outputs": [],
   "source": []
  },
  {
   "cell_type": "code",
   "execution_count": 11,
   "id": "aee751fc",
   "metadata": {},
   "outputs": [],
   "source": [
    "## Clean my interest rate\n",
    "\n",
    "loans_df['InterestRate'] = loans_df.InterestRate.str.replace('%', '').astype('float')"
   ]
  },
  {
   "cell_type": "code",
   "execution_count": 12,
   "id": "d53675b8",
   "metadata": {},
   "outputs": [
    {
     "data": {
      "text/html": [
       "<div>\n",
       "<style scoped>\n",
       "    .dataframe tbody tr th:only-of-type {\n",
       "        vertical-align: middle;\n",
       "    }\n",
       "\n",
       "    .dataframe tbody tr th {\n",
       "        vertical-align: top;\n",
       "    }\n",
       "\n",
       "    .dataframe thead th {\n",
       "        text-align: right;\n",
       "    }\n",
       "</style>\n",
       "<table border=\"1\" class=\"dataframe\">\n",
       "  <thead>\n",
       "    <tr style=\"text-align: right;\">\n",
       "      <th></th>\n",
       "      <th>LoanID</th>\n",
       "      <th>AmountRequested</th>\n",
       "      <th>AmountFundedByInvestors</th>\n",
       "      <th>InterestRate</th>\n",
       "      <th>LoanLength</th>\n",
       "      <th>LoanPurpose</th>\n",
       "      <th>DebtToIncomeRatio</th>\n",
       "      <th>State</th>\n",
       "      <th>HomeOwnership</th>\n",
       "      <th>MonthlyIncome</th>\n",
       "      <th>FICORange</th>\n",
       "      <th>OpenCREDITLines</th>\n",
       "      <th>RevolvingCREDITBalance</th>\n",
       "      <th>InquiriesintheLast6Months</th>\n",
       "      <th>EmploymentLength</th>\n",
       "    </tr>\n",
       "  </thead>\n",
       "  <tbody>\n",
       "    <tr>\n",
       "      <th>0</th>\n",
       "      <td>1</td>\n",
       "      <td>20000.0</td>\n",
       "      <td>20000.0</td>\n",
       "      <td>8.90</td>\n",
       "      <td>36 months</td>\n",
       "      <td>debt_consolidation</td>\n",
       "      <td>14.90%</td>\n",
       "      <td>SC</td>\n",
       "      <td>MORTGAGE</td>\n",
       "      <td>6541.67</td>\n",
       "      <td>735-739</td>\n",
       "      <td>14.0</td>\n",
       "      <td>14272.0</td>\n",
       "      <td>2.0</td>\n",
       "      <td>&lt; 1 year</td>\n",
       "    </tr>\n",
       "    <tr>\n",
       "      <th>1</th>\n",
       "      <td>2</td>\n",
       "      <td>19200.0</td>\n",
       "      <td>19200.0</td>\n",
       "      <td>12.12</td>\n",
       "      <td>36 months</td>\n",
       "      <td>debt_consolidation</td>\n",
       "      <td>28.36%</td>\n",
       "      <td>TX</td>\n",
       "      <td>MORTGAGE</td>\n",
       "      <td>4583.33</td>\n",
       "      <td>715-719</td>\n",
       "      <td>12.0</td>\n",
       "      <td>11140.0</td>\n",
       "      <td>1.0</td>\n",
       "      <td>2 years</td>\n",
       "    </tr>\n",
       "    <tr>\n",
       "      <th>2</th>\n",
       "      <td>3</td>\n",
       "      <td>35000.0</td>\n",
       "      <td>35000.0</td>\n",
       "      <td>21.98</td>\n",
       "      <td>60 months</td>\n",
       "      <td>debt_consolidation</td>\n",
       "      <td>23.81%</td>\n",
       "      <td>CA</td>\n",
       "      <td>MORTGAGE</td>\n",
       "      <td>11500.00</td>\n",
       "      <td>690-694</td>\n",
       "      <td>14.0</td>\n",
       "      <td>21977.0</td>\n",
       "      <td>1.0</td>\n",
       "      <td>2 years</td>\n",
       "    </tr>\n",
       "    <tr>\n",
       "      <th>3</th>\n",
       "      <td>4</td>\n",
       "      <td>10000.0</td>\n",
       "      <td>9975.0</td>\n",
       "      <td>9.99</td>\n",
       "      <td>36 months</td>\n",
       "      <td>debt_consolidation</td>\n",
       "      <td>14.30%</td>\n",
       "      <td>KS</td>\n",
       "      <td>MORTGAGE</td>\n",
       "      <td>3833.33</td>\n",
       "      <td>695-699</td>\n",
       "      <td>10.0</td>\n",
       "      <td>9346.0</td>\n",
       "      <td>0.0</td>\n",
       "      <td>5 years</td>\n",
       "    </tr>\n",
       "    <tr>\n",
       "      <th>4</th>\n",
       "      <td>5</td>\n",
       "      <td>12000.0</td>\n",
       "      <td>12000.0</td>\n",
       "      <td>11.71</td>\n",
       "      <td>36 months</td>\n",
       "      <td>credit_card</td>\n",
       "      <td>18.78%</td>\n",
       "      <td>NJ</td>\n",
       "      <td>RENT</td>\n",
       "      <td>3195.00</td>\n",
       "      <td>695-699</td>\n",
       "      <td>11.0</td>\n",
       "      <td>14469.0</td>\n",
       "      <td>0.0</td>\n",
       "      <td>9 years</td>\n",
       "    </tr>\n",
       "  </tbody>\n",
       "</table>\n",
       "</div>"
      ],
      "text/plain": [
       "   LoanID  AmountRequested  AmountFundedByInvestors  InterestRate LoanLength  \\\n",
       "0       1          20000.0                  20000.0          8.90  36 months   \n",
       "1       2          19200.0                  19200.0         12.12  36 months   \n",
       "2       3          35000.0                  35000.0         21.98  60 months   \n",
       "3       4          10000.0                   9975.0          9.99  36 months   \n",
       "4       5          12000.0                  12000.0         11.71  36 months   \n",
       "\n",
       "          LoanPurpose DebtToIncomeRatio State HomeOwnership  MonthlyIncome  \\\n",
       "0  debt_consolidation            14.90%    SC      MORTGAGE        6541.67   \n",
       "1  debt_consolidation            28.36%    TX      MORTGAGE        4583.33   \n",
       "2  debt_consolidation            23.81%    CA      MORTGAGE       11500.00   \n",
       "3  debt_consolidation            14.30%    KS      MORTGAGE        3833.33   \n",
       "4         credit_card            18.78%    NJ          RENT        3195.00   \n",
       "\n",
       "  FICORange  OpenCREDITLines  RevolvingCREDITBalance  \\\n",
       "0   735-739             14.0                 14272.0   \n",
       "1   715-719             12.0                 11140.0   \n",
       "2   690-694             14.0                 21977.0   \n",
       "3   695-699             10.0                  9346.0   \n",
       "4   695-699             11.0                 14469.0   \n",
       "\n",
       "   InquiriesintheLast6Months EmploymentLength  \n",
       "0                        2.0         < 1 year  \n",
       "1                        1.0          2 years  \n",
       "2                        1.0          2 years  \n",
       "3                        0.0          5 years  \n",
       "4                        0.0          9 years  "
      ]
     },
     "execution_count": 12,
     "metadata": {},
     "output_type": "execute_result"
    }
   ],
   "source": [
    "loans_df.head()"
   ]
  },
  {
   "cell_type": "code",
   "execution_count": 13,
   "id": "8d3be83a",
   "metadata": {},
   "outputs": [
    {
     "data": {
      "text/plain": [
       "dtype('float64')"
      ]
     },
     "execution_count": 13,
     "metadata": {},
     "output_type": "execute_result"
    }
   ],
   "source": [
    "loans_df.InterestRate.dtype"
   ]
  },
  {
   "cell_type": "code",
   "execution_count": 15,
   "id": "d95f38e1",
   "metadata": {},
   "outputs": [],
   "source": [
    "loans_df['DebtToIncomeRatio'] = loans_df.DebtToIncomeRatio.str.replace('%', '').astype('float')"
   ]
  },
  {
   "cell_type": "code",
   "execution_count": 21,
   "id": "d5bfcbc8",
   "metadata": {},
   "outputs": [
    {
     "name": "stderr",
     "output_type": "stream",
     "text": [
      "<ipython-input-21-1070e48a2bc4>:1: FutureWarning: The default value of regex will change from True to False in a future version. In addition, single character regular expressions will*not* be treated as literal strings when regex=True.\n",
      "  loans_df['EmploymentLenght'] = ( loans_df.EmploymentLength.str.replace('< ', '')\n"
     ]
    }
   ],
   "source": [
    "loans_df['EmploymentLenght'] = ( loans_df.EmploymentLength.str.replace('< ', '')\n",
    "                            .str.replace(' years', '')\n",
    "                                .str.replace(' year', '')\n",
    "                                    .str.replace('+', '')).astype('float')"
   ]
  },
  {
   "cell_type": "code",
   "execution_count": 22,
   "id": "6ef112fa",
   "metadata": {},
   "outputs": [
    {
     "data": {
      "text/html": [
       "<div>\n",
       "<style scoped>\n",
       "    .dataframe tbody tr th:only-of-type {\n",
       "        vertical-align: middle;\n",
       "    }\n",
       "\n",
       "    .dataframe tbody tr th {\n",
       "        vertical-align: top;\n",
       "    }\n",
       "\n",
       "    .dataframe thead th {\n",
       "        text-align: right;\n",
       "    }\n",
       "</style>\n",
       "<table border=\"1\" class=\"dataframe\">\n",
       "  <thead>\n",
       "    <tr style=\"text-align: right;\">\n",
       "      <th></th>\n",
       "      <th>LoanID</th>\n",
       "      <th>AmountRequested</th>\n",
       "      <th>AmountFundedByInvestors</th>\n",
       "      <th>InterestRate</th>\n",
       "      <th>LoanLength</th>\n",
       "      <th>LoanPurpose</th>\n",
       "      <th>DebtToIncomeRatio</th>\n",
       "      <th>State</th>\n",
       "      <th>HomeOwnership</th>\n",
       "      <th>MonthlyIncome</th>\n",
       "      <th>FICORange</th>\n",
       "      <th>OpenCREDITLines</th>\n",
       "      <th>RevolvingCREDITBalance</th>\n",
       "      <th>InquiriesintheLast6Months</th>\n",
       "      <th>EmploymentLength</th>\n",
       "      <th>EmploymentLenght</th>\n",
       "    </tr>\n",
       "  </thead>\n",
       "  <tbody>\n",
       "    <tr>\n",
       "      <th>0</th>\n",
       "      <td>1</td>\n",
       "      <td>20000.0</td>\n",
       "      <td>20000.0</td>\n",
       "      <td>8.90</td>\n",
       "      <td>36 months</td>\n",
       "      <td>debt_consolidation</td>\n",
       "      <td>14.90</td>\n",
       "      <td>SC</td>\n",
       "      <td>MORTGAGE</td>\n",
       "      <td>6541.67</td>\n",
       "      <td>735-739</td>\n",
       "      <td>14.0</td>\n",
       "      <td>14272.0</td>\n",
       "      <td>2.0</td>\n",
       "      <td>&lt; 1 year</td>\n",
       "      <td>1.0</td>\n",
       "    </tr>\n",
       "    <tr>\n",
       "      <th>1</th>\n",
       "      <td>2</td>\n",
       "      <td>19200.0</td>\n",
       "      <td>19200.0</td>\n",
       "      <td>12.12</td>\n",
       "      <td>36 months</td>\n",
       "      <td>debt_consolidation</td>\n",
       "      <td>28.36</td>\n",
       "      <td>TX</td>\n",
       "      <td>MORTGAGE</td>\n",
       "      <td>4583.33</td>\n",
       "      <td>715-719</td>\n",
       "      <td>12.0</td>\n",
       "      <td>11140.0</td>\n",
       "      <td>1.0</td>\n",
       "      <td>2 years</td>\n",
       "      <td>2.0</td>\n",
       "    </tr>\n",
       "  </tbody>\n",
       "</table>\n",
       "</div>"
      ],
      "text/plain": [
       "   LoanID  AmountRequested  AmountFundedByInvestors  InterestRate LoanLength  \\\n",
       "0       1          20000.0                  20000.0          8.90  36 months   \n",
       "1       2          19200.0                  19200.0         12.12  36 months   \n",
       "\n",
       "          LoanPurpose  DebtToIncomeRatio State HomeOwnership  MonthlyIncome  \\\n",
       "0  debt_consolidation              14.90    SC      MORTGAGE        6541.67   \n",
       "1  debt_consolidation              28.36    TX      MORTGAGE        4583.33   \n",
       "\n",
       "  FICORange  OpenCREDITLines  RevolvingCREDITBalance  \\\n",
       "0   735-739             14.0                 14272.0   \n",
       "1   715-719             12.0                 11140.0   \n",
       "\n",
       "   InquiriesintheLast6Months EmploymentLength  EmploymentLenght  \n",
       "0                        2.0         < 1 year               1.0  \n",
       "1                        1.0          2 years               2.0  "
      ]
     },
     "execution_count": 22,
     "metadata": {},
     "output_type": "execute_result"
    }
   ],
   "source": [
    "loans_df.head(2)"
   ]
  },
  {
   "cell_type": "code",
   "execution_count": 23,
   "id": "e7482760",
   "metadata": {},
   "outputs": [
    {
     "name": "stdout",
     "output_type": "stream",
     "text": [
      "<class 'pandas.core.frame.DataFrame'>\n",
      "RangeIndex: 2500 entries, 0 to 2499\n",
      "Data columns (total 16 columns):\n",
      " #   Column                     Non-Null Count  Dtype  \n",
      "---  ------                     --------------  -----  \n",
      " 0   LoanID                     2500 non-null   int64  \n",
      " 1   AmountRequested            2499 non-null   float64\n",
      " 2   AmountFundedByInvestors    2499 non-null   float64\n",
      " 3   InterestRate               2498 non-null   float64\n",
      " 4   LoanLength                 2500 non-null   object \n",
      " 5   LoanPurpose                2500 non-null   object \n",
      " 6   DebtToIncomeRatio          2499 non-null   float64\n",
      " 7   State                      2500 non-null   object \n",
      " 8   HomeOwnership              2499 non-null   object \n",
      " 9   MonthlyIncome              2499 non-null   float64\n",
      " 10  FICORange                  2498 non-null   object \n",
      " 11  OpenCREDITLines            2497 non-null   float64\n",
      " 12  RevolvingCREDITBalance     2497 non-null   float64\n",
      " 13  InquiriesintheLast6Months  2497 non-null   float64\n",
      " 14  EmploymentLength           2423 non-null   object \n",
      " 15  EmploymentLenght           2423 non-null   float64\n",
      "dtypes: float64(9), int64(1), object(6)\n",
      "memory usage: 312.6+ KB\n"
     ]
    }
   ],
   "source": [
    "loans_df.info()"
   ]
  },
  {
   "cell_type": "code",
   "execution_count": 24,
   "id": "083b613e",
   "metadata": {},
   "outputs": [
    {
     "data": {
      "text/plain": [
       "LoanID                        0\n",
       "AmountRequested               1\n",
       "AmountFundedByInvestors       1\n",
       "InterestRate                  2\n",
       "LoanLength                    0\n",
       "LoanPurpose                   0\n",
       "DebtToIncomeRatio             1\n",
       "State                         0\n",
       "HomeOwnership                 1\n",
       "MonthlyIncome                 1\n",
       "FICORange                     2\n",
       "OpenCREDITLines               3\n",
       "RevolvingCREDITBalance        3\n",
       "InquiriesintheLast6Months     3\n",
       "EmploymentLength             77\n",
       "EmploymentLenght             77\n",
       "dtype: int64"
      ]
     },
     "execution_count": 24,
     "metadata": {},
     "output_type": "execute_result"
    }
   ],
   "source": [
    "loans_df.isna().sum()"
   ]
  },
  {
   "cell_type": "code",
   "execution_count": null,
   "id": "340261a0",
   "metadata": {},
   "outputs": [],
   "source": [
    "## dropping na"
   ]
  },
  {
   "cell_type": "code",
   "execution_count": null,
   "id": "b0b7978f",
   "metadata": {},
   "outputs": [],
   "source": [
    "## dropping\n",
    "## impute\n",
    "\n"
   ]
  },
  {
   "cell_type": "code",
   "execution_count": 25,
   "id": "75371d5a",
   "metadata": {},
   "outputs": [],
   "source": [
    "## dropp rows with missing values\n",
    "\n",
    "\n",
    "loans_df.dropna(inplace=True)"
   ]
  },
  {
   "cell_type": "code",
   "execution_count": 27,
   "id": "92fb8a1f",
   "metadata": {},
   "outputs": [],
   "source": [
    "def wrangle_loans_data(df):\n",
    "    df.columns = [column.replace('.', '') for column in df.columns]\n",
    "    \n",
    "    df['InterestRate'] = df.InterestRate.str.replace('%', '').astype('float')\n",
    "    \n",
    "    df['DebtToIncomeRatio'] = df.DebtToIncomeRatio.str.replace('%', '').astype('float')\n",
    "    \n",
    "    df['EmploymentLenght'] = ( df.EmploymentLength.str.replace('< ', '')\n",
    "                            .str.replace(' years', '')\n",
    "                                .str.replace(' year', '')\n",
    "                                    .str.replace('+', '')).astype('float')\n",
    "    \n",
    "    \n",
    "    df.dropna(inplace=True)\n",
    "    \n",
    "    \n",
    "    return df"
   ]
  },
  {
   "cell_type": "code",
   "execution_count": null,
   "id": "802543c7",
   "metadata": {},
   "outputs": [],
   "source": []
  },
  {
   "cell_type": "code",
   "execution_count": null,
   "id": "6e52c0c4",
   "metadata": {},
   "outputs": [],
   "source": []
  },
  {
   "cell_type": "code",
   "execution_count": null,
   "id": "d0d0d935",
   "metadata": {},
   "outputs": [],
   "source": []
  },
  {
   "cell_type": "code",
   "execution_count": 26,
   "id": "3c546167",
   "metadata": {},
   "outputs": [
    {
     "name": "stdout",
     "output_type": "stream",
     "text": [
      "<class 'pandas.core.frame.DataFrame'>\n",
      "Int64Index: 2413 entries, 0 to 2499\n",
      "Data columns (total 16 columns):\n",
      " #   Column                     Non-Null Count  Dtype  \n",
      "---  ------                     --------------  -----  \n",
      " 0   LoanID                     2413 non-null   int64  \n",
      " 1   AmountRequested            2413 non-null   float64\n",
      " 2   AmountFundedByInvestors    2413 non-null   float64\n",
      " 3   InterestRate               2413 non-null   float64\n",
      " 4   LoanLength                 2413 non-null   object \n",
      " 5   LoanPurpose                2413 non-null   object \n",
      " 6   DebtToIncomeRatio          2413 non-null   float64\n",
      " 7   State                      2413 non-null   object \n",
      " 8   HomeOwnership              2413 non-null   object \n",
      " 9   MonthlyIncome              2413 non-null   float64\n",
      " 10  FICORange                  2413 non-null   object \n",
      " 11  OpenCREDITLines            2413 non-null   float64\n",
      " 12  RevolvingCREDITBalance     2413 non-null   float64\n",
      " 13  InquiriesintheLast6Months  2413 non-null   float64\n",
      " 14  EmploymentLength           2413 non-null   object \n",
      " 15  EmploymentLenght           2413 non-null   float64\n",
      "dtypes: float64(9), int64(1), object(6)\n",
      "memory usage: 320.5+ KB\n"
     ]
    }
   ],
   "source": [
    "loans_df.info()"
   ]
  },
  {
   "cell_type": "markdown",
   "id": "ff1709ae",
   "metadata": {},
   "source": [
    "## Dates in python"
   ]
  },
  {
   "cell_type": "code",
   "execution_count": 18,
   "id": "ee760a65",
   "metadata": {},
   "outputs": [
    {
     "data": {
      "text/plain": [
       "0        < 1 year\n",
       "1         2 years\n",
       "2         2 years\n",
       "3         5 years\n",
       "4         9 years\n",
       "          ...    \n",
       "2495      8 years\n",
       "2496    10+ years\n",
       "2497    10+ years\n",
       "2498      5 years\n",
       "2499    10+ years\n",
       "Name: EmploymentLength, Length: 2500, dtype: object"
      ]
     },
     "execution_count": 18,
     "metadata": {},
     "output_type": "execute_result"
    }
   ],
   "source": [
    "loans_df.EmploymentLength"
   ]
  },
  {
   "cell_type": "code",
   "execution_count": 29,
   "id": "6258fc11",
   "metadata": {},
   "outputs": [
    {
     "name": "stderr",
     "output_type": "stream",
     "text": [
      "<ipython-input-27-e8b962a988e6>:8: FutureWarning: The default value of regex will change from True to False in a future version. In addition, single character regular expressions will*not* be treated as literal strings when regex=True.\n",
      "  df['EmploymentLenght'] = ( df.EmploymentLength.str.replace('< ', '')\n"
     ]
    }
   ],
   "source": [
    "loans_df_clean = wrangle_loans_data(loans_df)"
   ]
  },
  {
   "cell_type": "code",
   "execution_count": 30,
   "id": "8971585b",
   "metadata": {},
   "outputs": [
    {
     "name": "stdout",
     "output_type": "stream",
     "text": [
      "<class 'pandas.core.frame.DataFrame'>\n",
      "Int64Index: 2413 entries, 0 to 2499\n",
      "Data columns (total 16 columns):\n",
      " #   Column                     Non-Null Count  Dtype  \n",
      "---  ------                     --------------  -----  \n",
      " 0   LoanID                     2413 non-null   int64  \n",
      " 1   AmountRequested            2413 non-null   float64\n",
      " 2   AmountFundedByInvestors    2413 non-null   float64\n",
      " 3   InterestRate               2413 non-null   float64\n",
      " 4   LoanLength                 2413 non-null   object \n",
      " 5   LoanPurpose                2413 non-null   object \n",
      " 6   DebtToIncomeRatio          2413 non-null   float64\n",
      " 7   State                      2413 non-null   object \n",
      " 8   HomeOwnership              2413 non-null   object \n",
      " 9   MonthlyIncome              2413 non-null   float64\n",
      " 10  FICORange                  2413 non-null   object \n",
      " 11  OpenCREDITLines            2413 non-null   float64\n",
      " 12  RevolvingCREDITBalance     2413 non-null   float64\n",
      " 13  InquiriesintheLast6Months  2413 non-null   float64\n",
      " 14  EmploymentLength           2413 non-null   object \n",
      " 15  EmploymentLenght           2413 non-null   float64\n",
      "dtypes: float64(9), int64(1), object(6)\n",
      "memory usage: 320.5+ KB\n"
     ]
    }
   ],
   "source": [
    "loans_df_clean.info()"
   ]
  },
  {
   "cell_type": "markdown",
   "id": "e130bc38",
   "metadata": {},
   "source": [
    "## working with dates in python\n",
    "\n",
    "In python, there are most common ways of working with dates.\n",
    "\n",
    "1. `pandas`\n",
    "2. `datetime`\n",
    "\n",
    "You will see 3 major date data types in python.\n",
    "\n",
    "1. `datetime.datetime()` - represent single date\n",
    "2. `pd.Timestamp()` - pandas; represent single date\n",
    "3. `datetime64` - pandas - Series of dates / column of dates\n",
    "\n",
    "\n",
    "\n",
    "\n"
   ]
  },
  {
   "cell_type": "code",
   "execution_count": 32,
   "id": "340fd6cc",
   "metadata": {},
   "outputs": [],
   "source": [
    "from datetime import datetime"
   ]
  },
  {
   "cell_type": "code",
   "execution_count": 33,
   "id": "46876b99",
   "metadata": {},
   "outputs": [],
   "source": [
    "## create a single date object\n",
    "\n",
    "d1 = datetime(2022, 5, 1)"
   ]
  },
  {
   "cell_type": "code",
   "execution_count": 34,
   "id": "5d7a9052",
   "metadata": {},
   "outputs": [
    {
     "data": {
      "text/plain": [
       "datetime.datetime"
      ]
     },
     "execution_count": 34,
     "metadata": {},
     "output_type": "execute_result"
    }
   ],
   "source": [
    "type(d1)"
   ]
  },
  {
   "cell_type": "code",
   "execution_count": 35,
   "id": "6b1e2142",
   "metadata": {},
   "outputs": [
    {
     "name": "stdout",
     "output_type": "stream",
     "text": [
      "['__add__', '__class__', '__delattr__', '__dir__', '__doc__', '__eq__', '__format__', '__ge__', '__getattribute__', '__gt__', '__hash__', '__init__', '__init_subclass__', '__le__', '__lt__', '__ne__', '__new__', '__radd__', '__reduce__', '__reduce_ex__', '__repr__', '__rsub__', '__setattr__', '__sizeof__', '__str__', '__sub__', '__subclasshook__', 'astimezone', 'combine', 'ctime', 'date', 'day', 'dst', 'fold', 'fromisocalendar', 'fromisoformat', 'fromordinal', 'fromtimestamp', 'hour', 'isocalendar', 'isoformat', 'isoweekday', 'max', 'microsecond', 'min', 'minute', 'month', 'now', 'replace', 'resolution', 'second', 'strftime', 'strptime', 'time', 'timestamp', 'timetuple', 'timetz', 'today', 'toordinal', 'tzinfo', 'tzname', 'utcfromtimestamp', 'utcnow', 'utcoffset', 'utctimetuple', 'weekday', 'year']\n"
     ]
    }
   ],
   "source": [
    "print(dir(d1))"
   ]
  },
  {
   "cell_type": "code",
   "execution_count": 37,
   "id": "2ba9c705",
   "metadata": {},
   "outputs": [
    {
     "data": {
      "text/plain": [
       "2022"
      ]
     },
     "execution_count": 37,
     "metadata": {},
     "output_type": "execute_result"
    }
   ],
   "source": [
    "## year, month, day, hour, second, .... \n",
    "\n",
    "d1.year"
   ]
  },
  {
   "cell_type": "code",
   "execution_count": 38,
   "id": "047423da",
   "metadata": {},
   "outputs": [
    {
     "data": {
      "text/plain": [
       "5"
      ]
     },
     "execution_count": 38,
     "metadata": {},
     "output_type": "execute_result"
    }
   ],
   "source": [
    "d1.month"
   ]
  },
  {
   "cell_type": "code",
   "execution_count": 39,
   "id": "b2e6fe8e",
   "metadata": {},
   "outputs": [
    {
     "data": {
      "text/plain": [
       "1"
      ]
     },
     "execution_count": 39,
     "metadata": {},
     "output_type": "execute_result"
    }
   ],
   "source": [
    "d1.day"
   ]
  },
  {
   "cell_type": "code",
   "execution_count": 40,
   "id": "b2bbc99a",
   "metadata": {},
   "outputs": [
    {
     "data": {
      "text/plain": [
       "0"
      ]
     },
     "execution_count": 40,
     "metadata": {},
     "output_type": "execute_result"
    }
   ],
   "source": [
    "d1.hour"
   ]
  },
  {
   "cell_type": "code",
   "execution_count": 41,
   "id": "2bd19ddc",
   "metadata": {},
   "outputs": [
    {
     "data": {
      "text/plain": [
       "0"
      ]
     },
     "execution_count": 41,
     "metadata": {},
     "output_type": "execute_result"
    }
   ],
   "source": [
    "d1.minute"
   ]
  },
  {
   "cell_type": "code",
   "execution_count": 42,
   "id": "3629fee9",
   "metadata": {},
   "outputs": [
    {
     "data": {
      "text/plain": [
       "0"
      ]
     },
     "execution_count": 42,
     "metadata": {},
     "output_type": "execute_result"
    }
   ],
   "source": [
    "d1.second"
   ]
  },
  {
   "cell_type": "code",
   "execution_count": 50,
   "id": "8580d120",
   "metadata": {},
   "outputs": [
    {
     "data": {
      "text/plain": [
       "datetime.datetime(2023, 7, 8, 14, 54, 21, 538352)"
      ]
     },
     "execution_count": 50,
     "metadata": {},
     "output_type": "execute_result"
    }
   ],
   "source": [
    "datetime.today()"
   ]
  },
  {
   "cell_type": "code",
   "execution_count": 44,
   "id": "f369f0db",
   "metadata": {},
   "outputs": [
    {
     "data": {
      "text/plain": [
       "datetime.datetime(2023, 7, 8, 14, 51, 32, 530108)"
      ]
     },
     "execution_count": 44,
     "metadata": {},
     "output_type": "execute_result"
    }
   ],
   "source": [
    "datetime.now()"
   ]
  },
  {
   "cell_type": "code",
   "execution_count": 46,
   "id": "282ed230",
   "metadata": {},
   "outputs": [
    {
     "data": {
      "text/plain": [
       "6"
      ]
     },
     "execution_count": 46,
     "metadata": {},
     "output_type": "execute_result"
    }
   ],
   "source": [
    "## to check what day is it today (mon, tue, sun, sat)\n",
    "\n",
    "d1.weekday()"
   ]
  },
  {
   "cell_type": "code",
   "execution_count": 47,
   "id": "5d35ae13",
   "metadata": {},
   "outputs": [],
   "source": [
    "#0 - Monday\n",
    "#1 - Tue\n",
    "\n",
    "\n",
    "#6 - Sun"
   ]
  },
  {
   "cell_type": "code",
   "execution_count": 54,
   "id": "261e2ca5",
   "metadata": {},
   "outputs": [],
   "source": [
    "d2 = pd.Timestamp(2023, 2, 10)"
   ]
  },
  {
   "cell_type": "code",
   "execution_count": 56,
   "id": "c86f46ef",
   "metadata": {},
   "outputs": [
    {
     "data": {
      "text/plain": [
       "2023"
      ]
     },
     "execution_count": 56,
     "metadata": {},
     "output_type": "execute_result"
    }
   ],
   "source": [
    "d2.year"
   ]
  },
  {
   "cell_type": "code",
   "execution_count": 57,
   "id": "a911b5eb",
   "metadata": {},
   "outputs": [
    {
     "data": {
      "text/plain": [
       "2"
      ]
     },
     "execution_count": 57,
     "metadata": {},
     "output_type": "execute_result"
    }
   ],
   "source": [
    "d2.month"
   ]
  },
  {
   "cell_type": "code",
   "execution_count": 58,
   "id": "64245637",
   "metadata": {},
   "outputs": [
    {
     "data": {
      "text/plain": [
       "10"
      ]
     },
     "execution_count": 58,
     "metadata": {},
     "output_type": "execute_result"
    }
   ],
   "source": [
    "d2.day"
   ]
  },
  {
   "cell_type": "code",
   "execution_count": 59,
   "id": "73ecae05",
   "metadata": {},
   "outputs": [
    {
     "name": "stdout",
     "output_type": "stream",
     "text": [
      "['__add__', '__array_priority__', '__class__', '__delattr__', '__dict__', '__dir__', '__doc__', '__eq__', '__format__', '__ge__', '__getattribute__', '__gt__', '__hash__', '__init__', '__init_subclass__', '__le__', '__lt__', '__module__', '__ne__', '__new__', '__pyx_vtable__', '__radd__', '__reduce__', '__reduce_cython__', '__reduce_ex__', '__repr__', '__rsub__', '__setattr__', '__setstate__', '__setstate_cython__', '__sizeof__', '__str__', '__sub__', '__subclasshook__', '__weakref__', '_date_repr', '_repr_base', '_round', '_short_repr', '_time_repr', 'asm8', 'astimezone', 'ceil', 'combine', 'ctime', 'date', 'day', 'day_name', 'day_of_week', 'day_of_year', 'dayofweek', 'dayofyear', 'days_in_month', 'daysinmonth', 'dst', 'floor', 'fold', 'freq', 'freqstr', 'fromisocalendar', 'fromisoformat', 'fromordinal', 'fromtimestamp', 'hour', 'is_leap_year', 'is_month_end', 'is_month_start', 'is_quarter_end', 'is_quarter_start', 'is_year_end', 'is_year_start', 'isocalendar', 'isoformat', 'isoweekday', 'max', 'microsecond', 'min', 'minute', 'month', 'month_name', 'nanosecond', 'normalize', 'now', 'quarter', 'replace', 'resolution', 'round', 'second', 'strftime', 'strptime', 'time', 'timestamp', 'timetuple', 'timetz', 'to_datetime64', 'to_julian_date', 'to_numpy', 'to_period', 'to_pydatetime', 'today', 'toordinal', 'tz', 'tz_convert', 'tz_localize', 'tzinfo', 'tzname', 'utcfromtimestamp', 'utcnow', 'utcoffset', 'utctimetuple', 'value', 'week', 'weekday', 'weekofyear', 'year']\n"
     ]
    }
   ],
   "source": [
    "print(dir(d2))"
   ]
  },
  {
   "cell_type": "code",
   "execution_count": 60,
   "id": "a7948061",
   "metadata": {},
   "outputs": [
    {
     "data": {
      "text/plain": [
       "Timestamp('2023-07-08 14:57:03.089600')"
      ]
     },
     "execution_count": 60,
     "metadata": {},
     "output_type": "execute_result"
    }
   ],
   "source": [
    "pd.Timestamp.today()"
   ]
  },
  {
   "cell_type": "code",
   "execution_count": 61,
   "id": "2a58f621",
   "metadata": {},
   "outputs": [
    {
     "data": {
      "text/plain": [
       "Timestamp('2023-07-08 14:57:11.165737')"
      ]
     },
     "execution_count": 61,
     "metadata": {},
     "output_type": "execute_result"
    }
   ],
   "source": [
    "pd.Timestamp.now()"
   ]
  },
  {
   "cell_type": "code",
   "execution_count": 62,
   "id": "ecd2708c",
   "metadata": {},
   "outputs": [],
   "source": [
    "## single dates\n",
    "\n",
    "## entire collection of dates\n",
    "## very common to convert a string to date"
   ]
  },
  {
   "cell_type": "markdown",
   "id": "7e29b33a",
   "metadata": {},
   "source": [
    "### `pd.to_datetime()`\n",
    "\n",
    "#### informat\n",
    "\n",
    "%d - date %a - day name (short form) %A - day name (full form)\n",
    "\n",
    "%m - month %b - short name %B - full month name\n",
    "\n",
    "%y - year (without century) %Y - year (with century)\n",
    "\n",
    "%H - hours ( 24 hour format ) %I ( 12 hour format ) %p (AM/PM)\n",
    "\n",
    "%M - minutes\n",
    "\n",
    "%S - seconds"
   ]
  },
  {
   "cell_type": "code",
   "execution_count": 63,
   "id": "8dcf3c31",
   "metadata": {},
   "outputs": [],
   "source": [
    "d1 = ['13-11-2022', '11-10-2022', '11-12-2022']\n",
    "d2 = ['13 Nov 2022', '11 Oct 2022',  '11 Dec 2022'] \n",
    "d3 = ['13/11/2022', '11/10/2022', '11/12/2022']\n",
    "d4 = [\"13 November '20\", \"11 October '20\", \"11 December '20\"]"
   ]
  },
  {
   "cell_type": "code",
   "execution_count": 67,
   "id": "525a3ff0",
   "metadata": {},
   "outputs": [
    {
     "data": {
      "text/plain": [
       "DatetimeIndex(['2022-11-13', '2022-10-11', '2022-12-11'], dtype='datetime64[ns]', freq=None)"
      ]
     },
     "execution_count": 67,
     "metadata": {},
     "output_type": "execute_result"
    }
   ],
   "source": [
    "pd.to_datetime(d1, format=\"%d-%m-%Y\")"
   ]
  },
  {
   "cell_type": "code",
   "execution_count": 68,
   "id": "fad1be49",
   "metadata": {},
   "outputs": [
    {
     "data": {
      "text/plain": [
       "DatetimeIndex(['2022-11-13', '2022-10-11', '2022-12-11'], dtype='datetime64[ns]', freq=None)"
      ]
     },
     "execution_count": 68,
     "metadata": {},
     "output_type": "execute_result"
    }
   ],
   "source": [
    "pd.to_datetime(d2, format=\"%d %b %Y\")"
   ]
  },
  {
   "cell_type": "code",
   "execution_count": 69,
   "id": "dc3d2497",
   "metadata": {},
   "outputs": [
    {
     "data": {
      "text/plain": [
       "DatetimeIndex(['2022-11-13', '2022-10-11', '2022-12-11'], dtype='datetime64[ns]', freq=None)"
      ]
     },
     "execution_count": 69,
     "metadata": {},
     "output_type": "execute_result"
    }
   ],
   "source": [
    "pd.to_datetime(d3, format=\"%d/%m/%Y\")"
   ]
  },
  {
   "cell_type": "code",
   "execution_count": 70,
   "id": "39f0802b",
   "metadata": {},
   "outputs": [
    {
     "data": {
      "text/plain": [
       "DatetimeIndex(['2020-11-13', '2020-10-11', '2020-12-11'], dtype='datetime64[ns]', freq=None)"
      ]
     },
     "execution_count": 70,
     "metadata": {},
     "output_type": "execute_result"
    }
   ],
   "source": [
    "pd.to_datetime(d4, format=\"%d %B '%y\")"
   ]
  },
  {
   "cell_type": "code",
   "execution_count": 71,
   "id": "3107a11b",
   "metadata": {},
   "outputs": [],
   "source": [
    "data = pd.read_csv('d:/data/POS.csv')"
   ]
  },
  {
   "cell_type": "code",
   "execution_count": 73,
   "id": "1416cd22",
   "metadata": {},
   "outputs": [
    {
     "name": "stdout",
     "output_type": "stream",
     "text": [
      "<class 'pandas.core.frame.DataFrame'>\n",
      "RangeIndex: 37 entries, 0 to 36\n",
      "Data columns (total 6 columns):\n",
      " #   Column             Non-Null Count  Dtype \n",
      "---  ------             --------------  ----- \n",
      " 0   Date               37 non-null     object\n",
      " 1   Configuration      37 non-null     int64 \n",
      " 2   Customer Postcode  37 non-null     object\n",
      " 3   Store Postcode     37 non-null     object\n",
      " 4   Retail Price       37 non-null     int64 \n",
      " 5   month              37 non-null     int64 \n",
      "dtypes: int64(3), object(3)\n",
      "memory usage: 1.9+ KB\n"
     ]
    }
   ],
   "source": [
    "data.info()"
   ]
  },
  {
   "cell_type": "code",
   "execution_count": 77,
   "id": "cd06381e",
   "metadata": {},
   "outputs": [],
   "source": [
    "data['Date'] = pd.to_datetime( data.Date, format =  '%d-%m-%Y %H:%M')     ## format = '%d-%m-%Y %H:%M'"
   ]
  },
  {
   "cell_type": "code",
   "execution_count": 78,
   "id": "0e5fdf3e",
   "metadata": {},
   "outputs": [
    {
     "name": "stdout",
     "output_type": "stream",
     "text": [
      "<class 'pandas.core.frame.DataFrame'>\n",
      "RangeIndex: 37 entries, 0 to 36\n",
      "Data columns (total 6 columns):\n",
      " #   Column             Non-Null Count  Dtype         \n",
      "---  ------             --------------  -----         \n",
      " 0   Date               37 non-null     datetime64[ns]\n",
      " 1   Configuration      37 non-null     int64         \n",
      " 2   Customer Postcode  37 non-null     object        \n",
      " 3   Store Postcode     37 non-null     object        \n",
      " 4   Retail Price       37 non-null     int64         \n",
      " 5   month              37 non-null     int64         \n",
      "dtypes: datetime64[ns](1), int64(3), object(2)\n",
      "memory usage: 1.9+ KB\n"
     ]
    }
   ],
   "source": [
    "data.info()"
   ]
  },
  {
   "cell_type": "code",
   "execution_count": 83,
   "id": "29959ffa",
   "metadata": {},
   "outputs": [
    {
     "data": {
      "text/plain": [
       "0     2013\n",
       "1     2013\n",
       "2     2013\n",
       "3     2013\n",
       "4     2013\n",
       "5     2013\n",
       "6     2013\n",
       "7     2013\n",
       "8     2013\n",
       "9     2013\n",
       "10    2013\n",
       "11    2013\n",
       "12    2013\n",
       "13    2013\n",
       "14    2013\n",
       "15    2013\n",
       "16    2013\n",
       "17    2013\n",
       "18    2013\n",
       "19    2013\n",
       "20    2013\n",
       "21    2013\n",
       "22    2013\n",
       "23    2013\n",
       "24    2013\n",
       "25    2013\n",
       "26    2013\n",
       "27    2013\n",
       "28    2013\n",
       "29    2013\n",
       "30    2013\n",
       "31    2013\n",
       "32    2013\n",
       "33    2013\n",
       "34    2013\n",
       "35    2013\n",
       "36    2013\n",
       "Name: Date, dtype: int64"
      ]
     },
     "execution_count": 83,
     "metadata": {},
     "output_type": "execute_result"
    }
   ],
   "source": [
    "data.Date.dt.year"
   ]
  },
  {
   "cell_type": "code",
   "execution_count": 85,
   "id": "331185ad",
   "metadata": {},
   "outputs": [
    {
     "data": {
      "text/plain": [
       "0    1\n",
       "1    1\n",
       "Name: Date, dtype: int64"
      ]
     },
     "execution_count": 85,
     "metadata": {},
     "output_type": "execute_result"
    }
   ],
   "source": [
    "data.Date.dt.day.head(2)"
   ]
  },
  {
   "cell_type": "code",
   "execution_count": 86,
   "id": "5417095e",
   "metadata": {},
   "outputs": [
    {
     "data": {
      "text/plain": [
       "0    1\n",
       "1    1\n",
       "Name: Date, dtype: int64"
      ]
     },
     "execution_count": 86,
     "metadata": {},
     "output_type": "execute_result"
    }
   ],
   "source": [
    "data.Date.dt.month.head(2)"
   ]
  },
  {
   "cell_type": "code",
   "execution_count": 88,
   "id": "7d6d7b7e",
   "metadata": {},
   "outputs": [],
   "source": [
    "data[\"Month\"] = data.Date.dt.month\n",
    "data[\"Year\"] = data.Date.dt.year\n",
    "data[\"Day\"] = data.Date.dt.day"
   ]
  },
  {
   "cell_type": "code",
   "execution_count": 89,
   "id": "9c2fa8e3",
   "metadata": {},
   "outputs": [
    {
     "data": {
      "text/html": [
       "<div>\n",
       "<style scoped>\n",
       "    .dataframe tbody tr th:only-of-type {\n",
       "        vertical-align: middle;\n",
       "    }\n",
       "\n",
       "    .dataframe tbody tr th {\n",
       "        vertical-align: top;\n",
       "    }\n",
       "\n",
       "    .dataframe thead th {\n",
       "        text-align: right;\n",
       "    }\n",
       "</style>\n",
       "<table border=\"1\" class=\"dataframe\">\n",
       "  <thead>\n",
       "    <tr style=\"text-align: right;\">\n",
       "      <th></th>\n",
       "      <th>Date</th>\n",
       "      <th>Configuration</th>\n",
       "      <th>Customer Postcode</th>\n",
       "      <th>Store Postcode</th>\n",
       "      <th>Retail Price</th>\n",
       "      <th>month</th>\n",
       "      <th>Month</th>\n",
       "      <th>Year</th>\n",
       "      <th>Day</th>\n",
       "    </tr>\n",
       "  </thead>\n",
       "  <tbody>\n",
       "    <tr>\n",
       "      <th>0</th>\n",
       "      <td>2013-01-01 00:01:00</td>\n",
       "      <td>163</td>\n",
       "      <td>EC4V 5BH</td>\n",
       "      <td>SE1 2BN</td>\n",
       "      <td>455</td>\n",
       "      <td>1</td>\n",
       "      <td>1</td>\n",
       "      <td>2013</td>\n",
       "      <td>1</td>\n",
       "    </tr>\n",
       "    <tr>\n",
       "      <th>1</th>\n",
       "      <td>2013-01-01 00:02:00</td>\n",
       "      <td>320</td>\n",
       "      <td>SW4 0JL</td>\n",
       "      <td>SW12 9HD</td>\n",
       "      <td>545</td>\n",
       "      <td>1</td>\n",
       "      <td>1</td>\n",
       "      <td>2013</td>\n",
       "      <td>1</td>\n",
       "    </tr>\n",
       "    <tr>\n",
       "      <th>2</th>\n",
       "      <td>2013-01-01 00:04:00</td>\n",
       "      <td>23</td>\n",
       "      <td>EC3V 1LR</td>\n",
       "      <td>E2 0RY</td>\n",
       "      <td>515</td>\n",
       "      <td>1</td>\n",
       "      <td>1</td>\n",
       "      <td>2013</td>\n",
       "      <td>1</td>\n",
       "    </tr>\n",
       "    <tr>\n",
       "      <th>3</th>\n",
       "      <td>2013-01-01 00:04:00</td>\n",
       "      <td>169</td>\n",
       "      <td>SW1P 3AU</td>\n",
       "      <td>SE1 2BN</td>\n",
       "      <td>395</td>\n",
       "      <td>1</td>\n",
       "      <td>1</td>\n",
       "      <td>2013</td>\n",
       "      <td>1</td>\n",
       "    </tr>\n",
       "    <tr>\n",
       "      <th>4</th>\n",
       "      <td>2013-01-01 00:06:00</td>\n",
       "      <td>365</td>\n",
       "      <td>EC4V 4EG</td>\n",
       "      <td>SW1V 4QQ</td>\n",
       "      <td>585</td>\n",
       "      <td>1</td>\n",
       "      <td>1</td>\n",
       "      <td>2013</td>\n",
       "      <td>1</td>\n",
       "    </tr>\n",
       "    <tr>\n",
       "      <th>5</th>\n",
       "      <td>2013-01-04 00:00:00</td>\n",
       "      <td>216</td>\n",
       "      <td>KT2 7PX</td>\n",
       "      <td>W4 3PH</td>\n",
       "      <td>505</td>\n",
       "      <td>4</td>\n",
       "      <td>1</td>\n",
       "      <td>2013</td>\n",
       "      <td>4</td>\n",
       "    </tr>\n",
       "    <tr>\n",
       "      <th>6</th>\n",
       "      <td>2013-01-04 00:05:00</td>\n",
       "      <td>317</td>\n",
       "      <td>EC3N 2AE</td>\n",
       "      <td>SW1P 3AU</td>\n",
       "      <td>520</td>\n",
       "      <td>4</td>\n",
       "      <td>1</td>\n",
       "      <td>2013</td>\n",
       "      <td>4</td>\n",
       "    </tr>\n",
       "    <tr>\n",
       "      <th>7</th>\n",
       "      <td>2013-01-04 00:32:00</td>\n",
       "      <td>176</td>\n",
       "      <td>W1T 1HH</td>\n",
       "      <td>NW5 2QH</td>\n",
       "      <td>450</td>\n",
       "      <td>4</td>\n",
       "      <td>1</td>\n",
       "      <td>2013</td>\n",
       "      <td>4</td>\n",
       "    </tr>\n",
       "    <tr>\n",
       "      <th>8</th>\n",
       "      <td>2013-01-04 00:43:00</td>\n",
       "      <td>176</td>\n",
       "      <td>SE3 0QJ</td>\n",
       "      <td>SE8 3JD</td>\n",
       "      <td>450</td>\n",
       "      <td>4</td>\n",
       "      <td>1</td>\n",
       "      <td>2013</td>\n",
       "      <td>4</td>\n",
       "    </tr>\n",
       "    <tr>\n",
       "      <th>9</th>\n",
       "      <td>2013-01-04 00:47:00</td>\n",
       "      <td>61</td>\n",
       "      <td>W1W 6DL</td>\n",
       "      <td>SW1V 4QQ</td>\n",
       "      <td>430</td>\n",
       "      <td>4</td>\n",
       "      <td>1</td>\n",
       "      <td>2013</td>\n",
       "      <td>4</td>\n",
       "    </tr>\n",
       "    <tr>\n",
       "      <th>10</th>\n",
       "      <td>2013-01-04 00:48:00</td>\n",
       "      <td>163</td>\n",
       "      <td>NW1 4BX</td>\n",
       "      <td>SW1P 3AU</td>\n",
       "      <td>440</td>\n",
       "      <td>4</td>\n",
       "      <td>1</td>\n",
       "      <td>2013</td>\n",
       "      <td>4</td>\n",
       "    </tr>\n",
       "    <tr>\n",
       "      <th>11</th>\n",
       "      <td>2013-01-04 00:56:00</td>\n",
       "      <td>302</td>\n",
       "      <td>E14 0BB</td>\n",
       "      <td>SE1 2BN</td>\n",
       "      <td>445</td>\n",
       "      <td>4</td>\n",
       "      <td>1</td>\n",
       "      <td>2013</td>\n",
       "      <td>4</td>\n",
       "    </tr>\n",
       "    <tr>\n",
       "      <th>12</th>\n",
       "      <td>2013-01-04 00:58:00</td>\n",
       "      <td>21</td>\n",
       "      <td>SE1 8SW</td>\n",
       "      <td>SW1V 4QQ</td>\n",
       "      <td>440</td>\n",
       "      <td>4</td>\n",
       "      <td>1</td>\n",
       "      <td>2013</td>\n",
       "      <td>4</td>\n",
       "    </tr>\n",
       "    <tr>\n",
       "      <th>13</th>\n",
       "      <td>2013-01-04 01:00:00</td>\n",
       "      <td>73</td>\n",
       "      <td>W1U 5JN</td>\n",
       "      <td>SW1P 3AU</td>\n",
       "      <td>395</td>\n",
       "      <td>4</td>\n",
       "      <td>1</td>\n",
       "      <td>2013</td>\n",
       "      <td>4</td>\n",
       "    </tr>\n",
       "    <tr>\n",
       "      <th>14</th>\n",
       "      <td>2013-01-04 01:03:00</td>\n",
       "      <td>317</td>\n",
       "      <td>W8 7SR</td>\n",
       "      <td>W10 6HQ</td>\n",
       "      <td>520</td>\n",
       "      <td>4</td>\n",
       "      <td>1</td>\n",
       "      <td>2013</td>\n",
       "      <td>4</td>\n",
       "    </tr>\n",
       "    <tr>\n",
       "      <th>15</th>\n",
       "      <td>2013-01-07 00:00:00</td>\n",
       "      <td>23</td>\n",
       "      <td>E4 9PB</td>\n",
       "      <td>E7 8NW</td>\n",
       "      <td>485</td>\n",
       "      <td>7</td>\n",
       "      <td>1</td>\n",
       "      <td>2013</td>\n",
       "      <td>7</td>\n",
       "    </tr>\n",
       "    <tr>\n",
       "      <th>16</th>\n",
       "      <td>2013-01-07 00:06:00</td>\n",
       "      <td>55</td>\n",
       "      <td>WC2A 2HF</td>\n",
       "      <td>SW1V 4QQ</td>\n",
       "      <td>480</td>\n",
       "      <td>7</td>\n",
       "      <td>1</td>\n",
       "      <td>2013</td>\n",
       "      <td>7</td>\n",
       "    </tr>\n",
       "    <tr>\n",
       "      <th>17</th>\n",
       "      <td>2013-01-07 00:10:00</td>\n",
       "      <td>222</td>\n",
       "      <td>W1K 6JG</td>\n",
       "      <td>W10 6HQ</td>\n",
       "      <td>395</td>\n",
       "      <td>7</td>\n",
       "      <td>1</td>\n",
       "      <td>2013</td>\n",
       "      <td>7</td>\n",
       "    </tr>\n",
       "    <tr>\n",
       "      <th>18</th>\n",
       "      <td>2013-01-07 00:11:00</td>\n",
       "      <td>595</td>\n",
       "      <td>EC3M 7HR</td>\n",
       "      <td>SE1 2BN</td>\n",
       "      <td>555</td>\n",
       "      <td>7</td>\n",
       "      <td>1</td>\n",
       "      <td>2013</td>\n",
       "      <td>7</td>\n",
       "    </tr>\n",
       "    <tr>\n",
       "      <th>19</th>\n",
       "      <td>2013-01-07 00:13:00</td>\n",
       "      <td>8</td>\n",
       "      <td>W1H 5HT</td>\n",
       "      <td>SW1V 4QQ</td>\n",
       "      <td>410</td>\n",
       "      <td>7</td>\n",
       "      <td>1</td>\n",
       "      <td>2013</td>\n",
       "      <td>7</td>\n",
       "    </tr>\n",
       "    <tr>\n",
       "      <th>20</th>\n",
       "      <td>2013-01-07 00:13:00</td>\n",
       "      <td>323</td>\n",
       "      <td>SE1 2PF</td>\n",
       "      <td>SE1 2BN</td>\n",
       "      <td>560</td>\n",
       "      <td>7</td>\n",
       "      <td>1</td>\n",
       "      <td>2013</td>\n",
       "      <td>7</td>\n",
       "    </tr>\n",
       "    <tr>\n",
       "      <th>21</th>\n",
       "      <td>2013-01-07 00:13:00</td>\n",
       "      <td>628</td>\n",
       "      <td>KT2 5EB</td>\n",
       "      <td>KT2 5AU</td>\n",
       "      <td>530</td>\n",
       "      <td>7</td>\n",
       "      <td>1</td>\n",
       "      <td>2013</td>\n",
       "      <td>7</td>\n",
       "    </tr>\n",
       "    <tr>\n",
       "      <th>22</th>\n",
       "      <td>2013-01-07 00:14:00</td>\n",
       "      <td>465</td>\n",
       "      <td>SW1H 9LA</td>\n",
       "      <td>SE1 2BN</td>\n",
       "      <td>520</td>\n",
       "      <td>7</td>\n",
       "      <td>1</td>\n",
       "      <td>2013</td>\n",
       "      <td>7</td>\n",
       "    </tr>\n",
       "    <tr>\n",
       "      <th>23</th>\n",
       "      <td>2013-01-07 00:14:00</td>\n",
       "      <td>177</td>\n",
       "      <td>SW7 4SS</td>\n",
       "      <td>W10 6HQ</td>\n",
       "      <td>440</td>\n",
       "      <td>7</td>\n",
       "      <td>1</td>\n",
       "      <td>2013</td>\n",
       "      <td>7</td>\n",
       "    </tr>\n",
       "    <tr>\n",
       "      <th>24</th>\n",
       "      <td>2013-01-07 00:14:00</td>\n",
       "      <td>369</td>\n",
       "      <td>EC1R 1UY</td>\n",
       "      <td>SE1 2BN</td>\n",
       "      <td>570</td>\n",
       "      <td>7</td>\n",
       "      <td>1</td>\n",
       "      <td>2013</td>\n",
       "      <td>7</td>\n",
       "    </tr>\n",
       "    <tr>\n",
       "      <th>25</th>\n",
       "      <td>2013-01-07 00:15:00</td>\n",
       "      <td>607</td>\n",
       "      <td>SE24 0NG</td>\n",
       "      <td>SW1P 3AU</td>\n",
       "      <td>615</td>\n",
       "      <td>7</td>\n",
       "      <td>1</td>\n",
       "      <td>2013</td>\n",
       "      <td>7</td>\n",
       "    </tr>\n",
       "    <tr>\n",
       "      <th>26</th>\n",
       "      <td>2013-01-07 00:15:00</td>\n",
       "      <td>606</td>\n",
       "      <td>N7 9BL</td>\n",
       "      <td>E2 0RY</td>\n",
       "      <td>505</td>\n",
       "      <td>7</td>\n",
       "      <td>1</td>\n",
       "      <td>2013</td>\n",
       "      <td>7</td>\n",
       "    </tr>\n",
       "    <tr>\n",
       "      <th>27</th>\n",
       "      <td>2013-01-07 00:17:00</td>\n",
       "      <td>532</td>\n",
       "      <td>W1W 5QU</td>\n",
       "      <td>SW1V 4QQ</td>\n",
       "      <td>610</td>\n",
       "      <td>7</td>\n",
       "      <td>1</td>\n",
       "      <td>2013</td>\n",
       "      <td>7</td>\n",
       "    </tr>\n",
       "    <tr>\n",
       "      <th>28</th>\n",
       "      <td>2013-01-07 00:19:00</td>\n",
       "      <td>316</td>\n",
       "      <td>SE1 9AA</td>\n",
       "      <td>SE1 2BN</td>\n",
       "      <td>435</td>\n",
       "      <td>7</td>\n",
       "      <td>1</td>\n",
       "      <td>2013</td>\n",
       "      <td>7</td>\n",
       "    </tr>\n",
       "    <tr>\n",
       "      <th>29</th>\n",
       "      <td>2013-01-07 00:19:00</td>\n",
       "      <td>386</td>\n",
       "      <td>SE16 4QZ</td>\n",
       "      <td>SE8 3JD</td>\n",
       "      <td>570</td>\n",
       "      <td>7</td>\n",
       "      <td>1</td>\n",
       "      <td>2013</td>\n",
       "      <td>7</td>\n",
       "    </tr>\n",
       "    <tr>\n",
       "      <th>30</th>\n",
       "      <td>2013-01-10 00:02:00</td>\n",
       "      <td>579</td>\n",
       "      <td>EC1V 2QH</td>\n",
       "      <td>SW1P 3AU</td>\n",
       "      <td>510</td>\n",
       "      <td>10</td>\n",
       "      <td>1</td>\n",
       "      <td>2013</td>\n",
       "      <td>10</td>\n",
       "    </tr>\n",
       "    <tr>\n",
       "      <th>31</th>\n",
       "      <td>2013-01-10 00:05:00</td>\n",
       "      <td>523</td>\n",
       "      <td>E3 4QS</td>\n",
       "      <td>E2 0RY</td>\n",
       "      <td>550</td>\n",
       "      <td>10</td>\n",
       "      <td>1</td>\n",
       "      <td>2013</td>\n",
       "      <td>10</td>\n",
       "    </tr>\n",
       "    <tr>\n",
       "      <th>32</th>\n",
       "      <td>2013-01-10 00:07:00</td>\n",
       "      <td>574</td>\n",
       "      <td>EC1M 5NA</td>\n",
       "      <td>NW5 2QH</td>\n",
       "      <td>660</td>\n",
       "      <td>10</td>\n",
       "      <td>1</td>\n",
       "      <td>2013</td>\n",
       "      <td>10</td>\n",
       "    </tr>\n",
       "    <tr>\n",
       "      <th>33</th>\n",
       "      <td>2013-01-10 00:08:00</td>\n",
       "      <td>62</td>\n",
       "      <td>N7 6PN</td>\n",
       "      <td>N17 6QA</td>\n",
       "      <td>320</td>\n",
       "      <td>10</td>\n",
       "      <td>1</td>\n",
       "      <td>2013</td>\n",
       "      <td>10</td>\n",
       "    </tr>\n",
       "    <tr>\n",
       "      <th>34</th>\n",
       "      <td>2013-01-10 00:11:00</td>\n",
       "      <td>295</td>\n",
       "      <td>EC1N 8QS</td>\n",
       "      <td>SW1P 3AU</td>\n",
       "      <td>545</td>\n",
       "      <td>10</td>\n",
       "      <td>1</td>\n",
       "      <td>2013</td>\n",
       "      <td>10</td>\n",
       "    </tr>\n",
       "    <tr>\n",
       "      <th>35</th>\n",
       "      <td>2013-01-10 00:11:00</td>\n",
       "      <td>100</td>\n",
       "      <td>SE1 1NA</td>\n",
       "      <td>SE1 2BN</td>\n",
       "      <td>510</td>\n",
       "      <td>10</td>\n",
       "      <td>1</td>\n",
       "      <td>2013</td>\n",
       "      <td>10</td>\n",
       "    </tr>\n",
       "    <tr>\n",
       "      <th>36</th>\n",
       "      <td>2013-01-10 00:11:00</td>\n",
       "      <td>475</td>\n",
       "      <td>EC1V 9NU</td>\n",
       "      <td>SW1P 3AU</td>\n",
       "      <td>520</td>\n",
       "      <td>10</td>\n",
       "      <td>1</td>\n",
       "      <td>2013</td>\n",
       "      <td>10</td>\n",
       "    </tr>\n",
       "  </tbody>\n",
       "</table>\n",
       "</div>"
      ],
      "text/plain": [
       "                  Date  Configuration Customer Postcode Store Postcode  \\\n",
       "0  2013-01-01 00:01:00            163          EC4V 5BH        SE1 2BN   \n",
       "1  2013-01-01 00:02:00            320           SW4 0JL       SW12 9HD   \n",
       "2  2013-01-01 00:04:00             23          EC3V 1LR         E2 0RY   \n",
       "3  2013-01-01 00:04:00            169          SW1P 3AU        SE1 2BN   \n",
       "4  2013-01-01 00:06:00            365          EC4V 4EG       SW1V 4QQ   \n",
       "5  2013-01-04 00:00:00            216           KT2 7PX         W4 3PH   \n",
       "6  2013-01-04 00:05:00            317          EC3N 2AE       SW1P 3AU   \n",
       "7  2013-01-04 00:32:00            176           W1T 1HH        NW5 2QH   \n",
       "8  2013-01-04 00:43:00            176           SE3 0QJ        SE8 3JD   \n",
       "9  2013-01-04 00:47:00             61           W1W 6DL       SW1V 4QQ   \n",
       "10 2013-01-04 00:48:00            163           NW1 4BX       SW1P 3AU   \n",
       "11 2013-01-04 00:56:00            302           E14 0BB        SE1 2BN   \n",
       "12 2013-01-04 00:58:00             21           SE1 8SW       SW1V 4QQ   \n",
       "13 2013-01-04 01:00:00             73           W1U 5JN       SW1P 3AU   \n",
       "14 2013-01-04 01:03:00            317            W8 7SR        W10 6HQ   \n",
       "15 2013-01-07 00:00:00             23            E4 9PB         E7 8NW   \n",
       "16 2013-01-07 00:06:00             55          WC2A 2HF       SW1V 4QQ   \n",
       "17 2013-01-07 00:10:00            222           W1K 6JG        W10 6HQ   \n",
       "18 2013-01-07 00:11:00            595          EC3M 7HR        SE1 2BN   \n",
       "19 2013-01-07 00:13:00              8           W1H 5HT       SW1V 4QQ   \n",
       "20 2013-01-07 00:13:00            323           SE1 2PF        SE1 2BN   \n",
       "21 2013-01-07 00:13:00            628           KT2 5EB        KT2 5AU   \n",
       "22 2013-01-07 00:14:00            465          SW1H 9LA        SE1 2BN   \n",
       "23 2013-01-07 00:14:00            177           SW7 4SS        W10 6HQ   \n",
       "24 2013-01-07 00:14:00            369          EC1R 1UY        SE1 2BN   \n",
       "25 2013-01-07 00:15:00            607          SE24 0NG       SW1P 3AU   \n",
       "26 2013-01-07 00:15:00            606            N7 9BL         E2 0RY   \n",
       "27 2013-01-07 00:17:00            532           W1W 5QU       SW1V 4QQ   \n",
       "28 2013-01-07 00:19:00            316           SE1 9AA        SE1 2BN   \n",
       "29 2013-01-07 00:19:00            386          SE16 4QZ        SE8 3JD   \n",
       "30 2013-01-10 00:02:00            579          EC1V 2QH       SW1P 3AU   \n",
       "31 2013-01-10 00:05:00            523            E3 4QS         E2 0RY   \n",
       "32 2013-01-10 00:07:00            574          EC1M 5NA        NW5 2QH   \n",
       "33 2013-01-10 00:08:00             62            N7 6PN        N17 6QA   \n",
       "34 2013-01-10 00:11:00            295          EC1N 8QS       SW1P 3AU   \n",
       "35 2013-01-10 00:11:00            100           SE1 1NA        SE1 2BN   \n",
       "36 2013-01-10 00:11:00            475          EC1V 9NU       SW1P 3AU   \n",
       "\n",
       "    Retail Price  month  Month  Year  Day  \n",
       "0            455      1      1  2013    1  \n",
       "1            545      1      1  2013    1  \n",
       "2            515      1      1  2013    1  \n",
       "3            395      1      1  2013    1  \n",
       "4            585      1      1  2013    1  \n",
       "5            505      4      1  2013    4  \n",
       "6            520      4      1  2013    4  \n",
       "7            450      4      1  2013    4  \n",
       "8            450      4      1  2013    4  \n",
       "9            430      4      1  2013    4  \n",
       "10           440      4      1  2013    4  \n",
       "11           445      4      1  2013    4  \n",
       "12           440      4      1  2013    4  \n",
       "13           395      4      1  2013    4  \n",
       "14           520      4      1  2013    4  \n",
       "15           485      7      1  2013    7  \n",
       "16           480      7      1  2013    7  \n",
       "17           395      7      1  2013    7  \n",
       "18           555      7      1  2013    7  \n",
       "19           410      7      1  2013    7  \n",
       "20           560      7      1  2013    7  \n",
       "21           530      7      1  2013    7  \n",
       "22           520      7      1  2013    7  \n",
       "23           440      7      1  2013    7  \n",
       "24           570      7      1  2013    7  \n",
       "25           615      7      1  2013    7  \n",
       "26           505      7      1  2013    7  \n",
       "27           610      7      1  2013    7  \n",
       "28           435      7      1  2013    7  \n",
       "29           570      7      1  2013    7  \n",
       "30           510     10      1  2013   10  \n",
       "31           550     10      1  2013   10  \n",
       "32           660     10      1  2013   10  \n",
       "33           320     10      1  2013   10  \n",
       "34           545     10      1  2013   10  \n",
       "35           510     10      1  2013   10  \n",
       "36           520     10      1  2013   10  "
      ]
     },
     "execution_count": 89,
     "metadata": {},
     "output_type": "execute_result"
    }
   ],
   "source": [
    "data"
   ]
  },
  {
   "cell_type": "code",
   "execution_count": 90,
   "id": "6201cf1f",
   "metadata": {},
   "outputs": [],
   "source": [
    "## outformat\n",
    "\n",
    "\n",
    "## date and convert it into a string in a specific format"
   ]
  },
  {
   "cell_type": "markdown",
   "id": "418f85a8",
   "metadata": {},
   "source": [
    "## `.strftime()`\n",
    "\n",
    "used only for a single date"
   ]
  },
  {
   "cell_type": "code",
   "execution_count": 92,
   "id": "f24bc4f1",
   "metadata": {},
   "outputs": [],
   "source": [
    "d1 = pd.Timestamp.today()"
   ]
  },
  {
   "cell_type": "code",
   "execution_count": 94,
   "id": "11cdf90b",
   "metadata": {},
   "outputs": [
    {
     "data": {
      "text/plain": [
       "'Saturday, 08-July-2023'"
      ]
     },
     "execution_count": 94,
     "metadata": {},
     "output_type": "execute_result"
    }
   ],
   "source": [
    "d1.strftime(\"%A, %d-%B-%Y\")"
   ]
  },
  {
   "cell_type": "code",
   "execution_count": 95,
   "id": "fb6bdc2b",
   "metadata": {},
   "outputs": [
    {
     "data": {
      "text/plain": [
       "'Saturday, 08-July-2023'"
      ]
     },
     "execution_count": 95,
     "metadata": {},
     "output_type": "execute_result"
    }
   ],
   "source": [
    "'Saturday, 08-July-2023'"
   ]
  },
  {
   "cell_type": "code",
   "execution_count": 99,
   "id": "15d0f268",
   "metadata": {},
   "outputs": [],
   "source": [
    "data['Date'] = data.Date.dt.strftime(\"%A, %d-%B-%Y\")"
   ]
  },
  {
   "cell_type": "code",
   "execution_count": 101,
   "id": "ef655e33",
   "metadata": {},
   "outputs": [
    {
     "ename": "AttributeError",
     "evalue": "Can only use .dt accessor with datetimelike values",
     "output_type": "error",
     "traceback": [
      "\u001b[1;31m---------------------------------------------------------------------------\u001b[0m",
      "\u001b[1;31mAttributeError\u001b[0m                            Traceback (most recent call last)",
      "\u001b[1;32m<ipython-input-101-89fef9bd3883>\u001b[0m in \u001b[0;36m<module>\u001b[1;34m\u001b[0m\n\u001b[1;32m----> 1\u001b[1;33m \u001b[0mdata\u001b[0m\u001b[1;33m.\u001b[0m\u001b[0mDate\u001b[0m\u001b[1;33m.\u001b[0m\u001b[0mdt\u001b[0m\u001b[1;33m.\u001b[0m\u001b[0myear\u001b[0m\u001b[1;33m\u001b[0m\u001b[1;33m\u001b[0m\u001b[0m\n\u001b[0m",
      "\u001b[1;32m~\\anaconda3\\lib\\site-packages\\pandas\\core\\generic.py\u001b[0m in \u001b[0;36m__getattr__\u001b[1;34m(self, name)\u001b[0m\n\u001b[0;32m   5459\u001b[0m             \u001b[1;32mor\u001b[0m \u001b[0mname\u001b[0m \u001b[1;32min\u001b[0m \u001b[0mself\u001b[0m\u001b[1;33m.\u001b[0m\u001b[0m_accessors\u001b[0m\u001b[1;33m\u001b[0m\u001b[1;33m\u001b[0m\u001b[0m\n\u001b[0;32m   5460\u001b[0m         ):\n\u001b[1;32m-> 5461\u001b[1;33m             \u001b[1;32mreturn\u001b[0m \u001b[0mobject\u001b[0m\u001b[1;33m.\u001b[0m\u001b[0m__getattribute__\u001b[0m\u001b[1;33m(\u001b[0m\u001b[0mself\u001b[0m\u001b[1;33m,\u001b[0m \u001b[0mname\u001b[0m\u001b[1;33m)\u001b[0m\u001b[1;33m\u001b[0m\u001b[1;33m\u001b[0m\u001b[0m\n\u001b[0m\u001b[0;32m   5462\u001b[0m         \u001b[1;32melse\u001b[0m\u001b[1;33m:\u001b[0m\u001b[1;33m\u001b[0m\u001b[1;33m\u001b[0m\u001b[0m\n\u001b[0;32m   5463\u001b[0m             \u001b[1;32mif\u001b[0m \u001b[0mself\u001b[0m\u001b[1;33m.\u001b[0m\u001b[0m_info_axis\u001b[0m\u001b[1;33m.\u001b[0m\u001b[0m_can_hold_identifiers_and_holds_name\u001b[0m\u001b[1;33m(\u001b[0m\u001b[0mname\u001b[0m\u001b[1;33m)\u001b[0m\u001b[1;33m:\u001b[0m\u001b[1;33m\u001b[0m\u001b[1;33m\u001b[0m\u001b[0m\n",
      "\u001b[1;32m~\\anaconda3\\lib\\site-packages\\pandas\\core\\accessor.py\u001b[0m in \u001b[0;36m__get__\u001b[1;34m(self, obj, cls)\u001b[0m\n\u001b[0;32m    178\u001b[0m             \u001b[1;31m# we're accessing the attribute of the class, i.e., Dataset.geo\u001b[0m\u001b[1;33m\u001b[0m\u001b[1;33m\u001b[0m\u001b[1;33m\u001b[0m\u001b[0m\n\u001b[0;32m    179\u001b[0m             \u001b[1;32mreturn\u001b[0m \u001b[0mself\u001b[0m\u001b[1;33m.\u001b[0m\u001b[0m_accessor\u001b[0m\u001b[1;33m\u001b[0m\u001b[1;33m\u001b[0m\u001b[0m\n\u001b[1;32m--> 180\u001b[1;33m         \u001b[0maccessor_obj\u001b[0m \u001b[1;33m=\u001b[0m \u001b[0mself\u001b[0m\u001b[1;33m.\u001b[0m\u001b[0m_accessor\u001b[0m\u001b[1;33m(\u001b[0m\u001b[0mobj\u001b[0m\u001b[1;33m)\u001b[0m\u001b[1;33m\u001b[0m\u001b[1;33m\u001b[0m\u001b[0m\n\u001b[0m\u001b[0;32m    181\u001b[0m         \u001b[1;31m# Replace the property with the accessor object. Inspired by:\u001b[0m\u001b[1;33m\u001b[0m\u001b[1;33m\u001b[0m\u001b[1;33m\u001b[0m\u001b[0m\n\u001b[0;32m    182\u001b[0m         \u001b[1;31m# https://www.pydanny.com/cached-property.html\u001b[0m\u001b[1;33m\u001b[0m\u001b[1;33m\u001b[0m\u001b[1;33m\u001b[0m\u001b[0m\n",
      "\u001b[1;32m~\\anaconda3\\lib\\site-packages\\pandas\\core\\indexes\\accessors.py\u001b[0m in \u001b[0;36m__new__\u001b[1;34m(cls, data)\u001b[0m\n\u001b[0;32m    492\u001b[0m             \u001b[1;32mreturn\u001b[0m \u001b[0mPeriodProperties\u001b[0m\u001b[1;33m(\u001b[0m\u001b[0mdata\u001b[0m\u001b[1;33m,\u001b[0m \u001b[0morig\u001b[0m\u001b[1;33m)\u001b[0m\u001b[1;33m\u001b[0m\u001b[1;33m\u001b[0m\u001b[0m\n\u001b[0;32m    493\u001b[0m \u001b[1;33m\u001b[0m\u001b[0m\n\u001b[1;32m--> 494\u001b[1;33m         \u001b[1;32mraise\u001b[0m \u001b[0mAttributeError\u001b[0m\u001b[1;33m(\u001b[0m\u001b[1;34m\"Can only use .dt accessor with datetimelike values\"\u001b[0m\u001b[1;33m)\u001b[0m\u001b[1;33m\u001b[0m\u001b[1;33m\u001b[0m\u001b[0m\n\u001b[0m",
      "\u001b[1;31mAttributeError\u001b[0m: Can only use .dt accessor with datetimelike values"
     ]
    }
   ],
   "source": [
    "data.Date.dt.year"
   ]
  },
  {
   "cell_type": "code",
   "execution_count": 102,
   "id": "aa8073e9",
   "metadata": {},
   "outputs": [],
   "source": [
    "## date calculations\n",
    "\n",
    "## 1. date with date\n",
    "        ## d2 - d1\n",
    "    \n",
    "    \n",
    "## 2. date with time componenet\n",
    "    ## add / subtract months, days, and years to a date\n"
   ]
  },
  {
   "cell_type": "code",
   "execution_count": 103,
   "id": "3c59d1a7",
   "metadata": {},
   "outputs": [
    {
     "data": {
      "text/plain": [
       "Timestamp('2023-07-08 15:21:12.391474')"
      ]
     },
     "execution_count": 103,
     "metadata": {},
     "output_type": "execute_result"
    }
   ],
   "source": [
    "d1"
   ]
  },
  {
   "cell_type": "code",
   "execution_count": 104,
   "id": "8f9924e1",
   "metadata": {},
   "outputs": [],
   "source": [
    "d2 = datetime(2023, 12, 1)"
   ]
  },
  {
   "cell_type": "code",
   "execution_count": 106,
   "id": "f8c54d8c",
   "metadata": {},
   "outputs": [],
   "source": [
    "td = d2 - d1"
   ]
  },
  {
   "cell_type": "code",
   "execution_count": 107,
   "id": "f6a762ac",
   "metadata": {},
   "outputs": [
    {
     "data": {
      "text/plain": [
       "pandas._libs.tslibs.timedeltas.Timedelta"
      ]
     },
     "execution_count": 107,
     "metadata": {},
     "output_type": "execute_result"
    }
   ],
   "source": [
    "type(td)"
   ]
  },
  {
   "cell_type": "code",
   "execution_count": 108,
   "id": "73d978d8",
   "metadata": {},
   "outputs": [
    {
     "name": "stdout",
     "output_type": "stream",
     "text": [
      "['__abs__', '__add__', '__array_priority__', '__bool__', '__class__', '__delattr__', '__dict__', '__dir__', '__divmod__', '__doc__', '__eq__', '__floordiv__', '__format__', '__ge__', '__getattribute__', '__gt__', '__hash__', '__init__', '__init_subclass__', '__inv__', '__le__', '__lt__', '__mod__', '__module__', '__mul__', '__ne__', '__neg__', '__new__', '__pos__', '__pyx_vtable__', '__radd__', '__rdivmod__', '__reduce__', '__reduce_cython__', '__reduce_ex__', '__repr__', '__rfloordiv__', '__rmod__', '__rmul__', '__rsub__', '__rtruediv__', '__setattr__', '__setstate__', '__setstate_cython__', '__sizeof__', '__str__', '__sub__', '__subclasshook__', '__truediv__', '__weakref__', '_d', '_ensure_components', '_h', '_has_ns', '_m', '_ms', '_ns', '_repr_base', '_round', '_s', '_us', 'asm8', 'ceil', 'components', 'days', 'delta', 'floor', 'freq', 'is_populated', 'isoformat', 'max', 'microseconds', 'min', 'nanoseconds', 'resolution', 'resolution_string', 'round', 'seconds', 'to_numpy', 'to_pytimedelta', 'to_timedelta64', 'total_seconds', 'value', 'view']\n"
     ]
    }
   ],
   "source": [
    "print(dir(td))"
   ]
  },
  {
   "cell_type": "code",
   "execution_count": 113,
   "id": "385a5397",
   "metadata": {},
   "outputs": [
    {
     "data": {
      "text/plain": [
       "0.39698836413415467"
      ]
     },
     "execution_count": 113,
     "metadata": {},
     "output_type": "execute_result"
    }
   ],
   "source": [
    "td.days / 365.25"
   ]
  },
  {
   "cell_type": "code",
   "execution_count": 112,
   "id": "5c05f442",
   "metadata": {},
   "outputs": [
    {
     "ename": "TypeError",
     "evalue": "unsupported operand type(s) for +: 'Timedelta' and 'int'",
     "output_type": "error",
     "traceback": [
      "\u001b[1;31m---------------------------------------------------------------------------\u001b[0m",
      "\u001b[1;31mTypeError\u001b[0m                                 Traceback (most recent call last)",
      "\u001b[1;32m<ipython-input-112-6af969ac2532>\u001b[0m in \u001b[0;36m<module>\u001b[1;34m\u001b[0m\n\u001b[1;32m----> 1\u001b[1;33m \u001b[0mtd\u001b[0m \u001b[1;33m+\u001b[0m \u001b[1;36m2\u001b[0m\u001b[1;33m\u001b[0m\u001b[1;33m\u001b[0m\u001b[0m\n\u001b[0m",
      "\u001b[1;31mTypeError\u001b[0m: unsupported operand type(s) for +: 'Timedelta' and 'int'"
     ]
    }
   ],
   "source": [
    "td + 2"
   ]
  },
  {
   "cell_type": "code",
   "execution_count": 114,
   "id": "462b5039",
   "metadata": {},
   "outputs": [
    {
     "data": {
      "text/plain": [
       "Timestamp('2023-07-08 15:21:12.391474')"
      ]
     },
     "execution_count": 114,
     "metadata": {},
     "output_type": "execute_result"
    }
   ],
   "source": [
    "## 2. date with timedelta\n",
    "\n",
    "d1"
   ]
  },
  {
   "cell_type": "code",
   "execution_count": 115,
   "id": "6724a598",
   "metadata": {},
   "outputs": [
    {
     "data": {
      "text/plain": [
       "Timestamp('2023-08-01 15:21:12.391474')"
      ]
     },
     "execution_count": 115,
     "metadata": {},
     "output_type": "execute_result"
    }
   ],
   "source": [
    "### add 24 days to this date\n",
    "\n",
    "d1 + pd.DateOffset(days=24)"
   ]
  },
  {
   "cell_type": "code",
   "execution_count": 116,
   "id": "9b713858",
   "metadata": {},
   "outputs": [
    {
     "data": {
      "text/plain": [
       "Timestamp('2023-07-01 15:21:12.391474')"
      ]
     },
     "execution_count": 116,
     "metadata": {},
     "output_type": "execute_result"
    }
   ],
   "source": [
    "## get the first working day of the current month\n",
    "\n",
    "d1 + pd.DateOffset(day=1)"
   ]
  },
  {
   "cell_type": "code",
   "execution_count": 117,
   "id": "35ce352a",
   "metadata": {},
   "outputs": [
    {
     "data": {
      "text/plain": [
       "Timestamp('2024-09-11 15:21:12.391474')"
      ]
     },
     "execution_count": 117,
     "metadata": {},
     "output_type": "execute_result"
    }
   ],
   "source": [
    "## add to the current date: 1 year 1 month and 34 days to the current date\n",
    "\n",
    "d1 + pd.DateOffset(years=1, months=1, days=34)"
   ]
  },
  {
   "cell_type": "code",
   "execution_count": 118,
   "id": "235a8831",
   "metadata": {},
   "outputs": [
    {
     "name": "stdout",
     "output_type": "stream",
     "text": [
      "['__add__', '__array_priority__', '__class__', '__delattr__', '__dict__', '__dir__', '__doc__', '__eq__', '__format__', '__ge__', '__getattribute__', '__gt__', '__hash__', '__init__', '__init_subclass__', '__le__', '__lt__', '__module__', '__ne__', '__new__', '__pyx_vtable__', '__radd__', '__reduce__', '__reduce_cython__', '__reduce_ex__', '__repr__', '__rsub__', '__setattr__', '__setstate__', '__setstate_cython__', '__sizeof__', '__str__', '__sub__', '__subclasshook__', '__weakref__', '_date_repr', '_repr_base', '_round', '_short_repr', '_time_repr', 'asm8', 'astimezone', 'ceil', 'combine', 'ctime', 'date', 'day', 'day_name', 'day_of_week', 'day_of_year', 'dayofweek', 'dayofyear', 'days_in_month', 'daysinmonth', 'dst', 'floor', 'fold', 'freq', 'freqstr', 'fromisocalendar', 'fromisoformat', 'fromordinal', 'fromtimestamp', 'hour', 'is_leap_year', 'is_month_end', 'is_month_start', 'is_quarter_end', 'is_quarter_start', 'is_year_end', 'is_year_start', 'isocalendar', 'isoformat', 'isoweekday', 'max', 'microsecond', 'min', 'minute', 'month', 'month_name', 'nanosecond', 'normalize', 'now', 'quarter', 'replace', 'resolution', 'round', 'second', 'strftime', 'strptime', 'time', 'timestamp', 'timetuple', 'timetz', 'to_datetime64', 'to_julian_date', 'to_numpy', 'to_period', 'to_pydatetime', 'today', 'toordinal', 'tz', 'tz_convert', 'tz_localize', 'tzinfo', 'tzname', 'utcfromtimestamp', 'utcnow', 'utcoffset', 'utctimetuple', 'value', 'week', 'weekday', 'weekofyear', 'year']\n"
     ]
    }
   ],
   "source": [
    "print(dir(pd.Timestamp))"
   ]
  },
  {
   "cell_type": "code",
   "execution_count": 119,
   "id": "f1ce92b6",
   "metadata": {},
   "outputs": [],
   "source": [
    "### Q: try to create a python code that creates a note pad file everyday\n",
    "\n",
    "## 1. try to figure out how you would schedule python so that it runs at regular intervals\n",
    "## 2. a new notepad, the name of this file should be the current timestamp"
   ]
  },
  {
   "cell_type": "code",
   "execution_count": 122,
   "id": "10a27949",
   "metadata": {},
   "outputs": [],
   "source": [
    "data['Date'] = pd.to_datetime(data.Date, format='%A, %d-%B-%Y')"
   ]
  },
  {
   "cell_type": "code",
   "execution_count": 126,
   "id": "7c4190ce",
   "metadata": {},
   "outputs": [
    {
     "data": {
      "text/plain": [
       "0     2013\n",
       "1     2013\n",
       "2     2013\n",
       "3     2013\n",
       "4     2013\n",
       "5     2013\n",
       "6     2013\n",
       "7     2013\n",
       "8     2013\n",
       "9     2013\n",
       "10    2013\n",
       "11    2013\n",
       "12    2013\n",
       "13    2013\n",
       "14    2013\n",
       "15    2013\n",
       "16    2013\n",
       "17    2013\n",
       "18    2013\n",
       "19    2013\n",
       "20    2013\n",
       "21    2013\n",
       "22    2013\n",
       "23    2013\n",
       "24    2013\n",
       "25    2013\n",
       "26    2013\n",
       "27    2013\n",
       "28    2013\n",
       "29    2013\n",
       "30    2013\n",
       "31    2013\n",
       "32    2013\n",
       "33    2013\n",
       "34    2013\n",
       "35    2013\n",
       "36    2013\n",
       "Name: Date, dtype: int64"
      ]
     },
     "execution_count": 126,
     "metadata": {},
     "output_type": "execute_result"
    }
   ],
   "source": [
    "data.Date.dt.year"
   ]
  },
  {
   "cell_type": "code",
   "execution_count": 123,
   "id": "e79ba986",
   "metadata": {},
   "outputs": [
    {
     "name": "stdout",
     "output_type": "stream",
     "text": [
      "<class 'pandas.core.frame.DataFrame'>\n",
      "RangeIndex: 37 entries, 0 to 36\n",
      "Data columns (total 9 columns):\n",
      " #   Column             Non-Null Count  Dtype         \n",
      "---  ------             --------------  -----         \n",
      " 0   Date               37 non-null     datetime64[ns]\n",
      " 1   Configuration      37 non-null     int64         \n",
      " 2   Customer Postcode  37 non-null     object        \n",
      " 3   Store Postcode     37 non-null     object        \n",
      " 4   Retail Price       37 non-null     int64         \n",
      " 5   month              37 non-null     int64         \n",
      " 6   Month              37 non-null     int64         \n",
      " 7   Year               37 non-null     int64         \n",
      " 8   Day                37 non-null     int64         \n",
      "dtypes: datetime64[ns](1), int64(6), object(2)\n",
      "memory usage: 2.7+ KB\n"
     ]
    }
   ],
   "source": [
    "data.info()"
   ]
  },
  {
   "cell_type": "markdown",
   "id": "04346036",
   "metadata": {},
   "source": [
    "## create summaries in python using groupby and pivot_table\n",
    "\n",
    "\n",
    "`df.groupby()`\n",
    "\n",
    "\n",
    "syntax:\n",
    "\n",
    "`df.groupby(col/s)[subset].aggregate_func()`\n",
    "\n",
    "\n",
    "`.sum()`  `.mean()`   `.count()`\n",
    "\n",
    "\n",
    "`.max()`    `.min()`\n",
    "\n",
    "\n",
    "`.agg()`\n",
    "\n",
    "\n",
    "\n",
    "`df.pivot_table()`"
   ]
  },
  {
   "cell_type": "code",
   "execution_count": 127,
   "id": "dfc3dec6",
   "metadata": {},
   "outputs": [],
   "source": [
    "##\n",
    "\n",
    "stores = pd.read_csv('d:/data/stores.csv')"
   ]
  },
  {
   "cell_type": "code",
   "execution_count": 128,
   "id": "7bb7bfda",
   "metadata": {},
   "outputs": [
    {
     "data": {
      "text/html": [
       "<div>\n",
       "<style scoped>\n",
       "    .dataframe tbody tr th:only-of-type {\n",
       "        vertical-align: middle;\n",
       "    }\n",
       "\n",
       "    .dataframe tbody tr th {\n",
       "        vertical-align: top;\n",
       "    }\n",
       "\n",
       "    .dataframe thead th {\n",
       "        text-align: right;\n",
       "    }\n",
       "</style>\n",
       "<table border=\"1\" class=\"dataframe\">\n",
       "  <thead>\n",
       "    <tr style=\"text-align: right;\">\n",
       "      <th></th>\n",
       "      <th>StoreCode</th>\n",
       "      <th>StoreName</th>\n",
       "      <th>StoreType</th>\n",
       "      <th>Location</th>\n",
       "      <th>OperatingCost</th>\n",
       "      <th>Staff_Cnt</th>\n",
       "      <th>TotalSales</th>\n",
       "      <th>Total_Customers</th>\n",
       "      <th>AcqCostPercust</th>\n",
       "      <th>BasketSize</th>\n",
       "      <th>ProfitPercust</th>\n",
       "      <th>OwnStore</th>\n",
       "      <th>Dummy</th>\n",
       "      <th>OnlinePresence</th>\n",
       "      <th>Tenure</th>\n",
       "      <th>StoreSegment</th>\n",
       "    </tr>\n",
       "  </thead>\n",
       "  <tbody>\n",
       "    <tr>\n",
       "      <th>0</th>\n",
       "      <td>STR101</td>\n",
       "      <td>Electronics Zone</td>\n",
       "      <td>Electronincs</td>\n",
       "      <td>Delhi</td>\n",
       "      <td>21.0</td>\n",
       "      <td>60</td>\n",
       "      <td>160.0</td>\n",
       "      <td>110</td>\n",
       "      <td>3.90</td>\n",
       "      <td>2.620</td>\n",
       "      <td>16.46</td>\n",
       "      <td>0</td>\n",
       "      <td>NaN</td>\n",
       "      <td>1</td>\n",
       "      <td>4</td>\n",
       "      <td>4</td>\n",
       "    </tr>\n",
       "    <tr>\n",
       "      <th>1</th>\n",
       "      <td>STR102</td>\n",
       "      <td>Apparel Zone</td>\n",
       "      <td>Apparel</td>\n",
       "      <td>Delhi</td>\n",
       "      <td>21.0</td>\n",
       "      <td>60</td>\n",
       "      <td>160.0</td>\n",
       "      <td>110</td>\n",
       "      <td>3.90</td>\n",
       "      <td>2.875</td>\n",
       "      <td>17.02</td>\n",
       "      <td>0</td>\n",
       "      <td>NaN</td>\n",
       "      <td>1</td>\n",
       "      <td>4</td>\n",
       "      <td>4</td>\n",
       "    </tr>\n",
       "    <tr>\n",
       "      <th>2</th>\n",
       "      <td>STR103</td>\n",
       "      <td>Super Bazar</td>\n",
       "      <td>Super Market</td>\n",
       "      <td>Delhi</td>\n",
       "      <td>22.8</td>\n",
       "      <td>40</td>\n",
       "      <td>108.0</td>\n",
       "      <td>93</td>\n",
       "      <td>3.85</td>\n",
       "      <td>2.320</td>\n",
       "      <td>18.61</td>\n",
       "      <td>1</td>\n",
       "      <td>NaN</td>\n",
       "      <td>1</td>\n",
       "      <td>4</td>\n",
       "      <td>1</td>\n",
       "    </tr>\n",
       "    <tr>\n",
       "      <th>3</th>\n",
       "      <td>STR104</td>\n",
       "      <td>Super Market</td>\n",
       "      <td>Super Market</td>\n",
       "      <td>Delhi</td>\n",
       "      <td>21.4</td>\n",
       "      <td>60</td>\n",
       "      <td>258.0</td>\n",
       "      <td>110</td>\n",
       "      <td>3.08</td>\n",
       "      <td>3.215</td>\n",
       "      <td>19.44</td>\n",
       "      <td>1</td>\n",
       "      <td>NaN</td>\n",
       "      <td>0</td>\n",
       "      <td>3</td>\n",
       "      <td>1</td>\n",
       "    </tr>\n",
       "    <tr>\n",
       "      <th>4</th>\n",
       "      <td>STR105</td>\n",
       "      <td>Central Store</td>\n",
       "      <td>Super Market</td>\n",
       "      <td>Delhi</td>\n",
       "      <td>18.7</td>\n",
       "      <td>80</td>\n",
       "      <td>360.0</td>\n",
       "      <td>175</td>\n",
       "      <td>3.15</td>\n",
       "      <td>3.440</td>\n",
       "      <td>17.02</td>\n",
       "      <td>0</td>\n",
       "      <td>NaN</td>\n",
       "      <td>0</td>\n",
       "      <td>3</td>\n",
       "      <td>2</td>\n",
       "    </tr>\n",
       "    <tr>\n",
       "      <th>5</th>\n",
       "      <td>STR106</td>\n",
       "      <td>Apparel Zone</td>\n",
       "      <td>Apparel</td>\n",
       "      <td>Delhi</td>\n",
       "      <td>18.1</td>\n",
       "      <td>60</td>\n",
       "      <td>225.0</td>\n",
       "      <td>105</td>\n",
       "      <td>2.76</td>\n",
       "      <td>3.460</td>\n",
       "      <td>20.22</td>\n",
       "      <td>1</td>\n",
       "      <td>NaN</td>\n",
       "      <td>0</td>\n",
       "      <td>3</td>\n",
       "      <td>1</td>\n",
       "    </tr>\n",
       "    <tr>\n",
       "      <th>6</th>\n",
       "      <td>STR107</td>\n",
       "      <td>Fashion Bazar</td>\n",
       "      <td>Apparel</td>\n",
       "      <td>Delhi</td>\n",
       "      <td>14.3</td>\n",
       "      <td>80</td>\n",
       "      <td>360.0</td>\n",
       "      <td>245</td>\n",
       "      <td>3.21</td>\n",
       "      <td>3.570</td>\n",
       "      <td>15.84</td>\n",
       "      <td>0</td>\n",
       "      <td>NaN</td>\n",
       "      <td>0</td>\n",
       "      <td>3</td>\n",
       "      <td>4</td>\n",
       "    </tr>\n",
       "    <tr>\n",
       "      <th>7</th>\n",
       "      <td>STR108</td>\n",
       "      <td>Digital Bazar</td>\n",
       "      <td>Electronincs</td>\n",
       "      <td>Delhi</td>\n",
       "      <td>24.4</td>\n",
       "      <td>40</td>\n",
       "      <td>146.7</td>\n",
       "      <td>62</td>\n",
       "      <td>3.69</td>\n",
       "      <td>3.190</td>\n",
       "      <td>20.00</td>\n",
       "      <td>1</td>\n",
       "      <td>NaN</td>\n",
       "      <td>0</td>\n",
       "      <td>4</td>\n",
       "      <td>2</td>\n",
       "    </tr>\n",
       "    <tr>\n",
       "      <th>8</th>\n",
       "      <td>STR109</td>\n",
       "      <td>Electronics Zone</td>\n",
       "      <td>Electronincs</td>\n",
       "      <td>Chennai</td>\n",
       "      <td>22.8</td>\n",
       "      <td>40</td>\n",
       "      <td>140.8</td>\n",
       "      <td>95</td>\n",
       "      <td>3.92</td>\n",
       "      <td>3.150</td>\n",
       "      <td>22.90</td>\n",
       "      <td>1</td>\n",
       "      <td>NaN</td>\n",
       "      <td>0</td>\n",
       "      <td>4</td>\n",
       "      <td>2</td>\n",
       "    </tr>\n",
       "    <tr>\n",
       "      <th>9</th>\n",
       "      <td>STR110</td>\n",
       "      <td>Apparel Zone</td>\n",
       "      <td>Apparel</td>\n",
       "      <td>Chennai</td>\n",
       "      <td>19.2</td>\n",
       "      <td>60</td>\n",
       "      <td>167.6</td>\n",
       "      <td>123</td>\n",
       "      <td>3.92</td>\n",
       "      <td>3.440</td>\n",
       "      <td>18.30</td>\n",
       "      <td>1</td>\n",
       "      <td>NaN</td>\n",
       "      <td>0</td>\n",
       "      <td>4</td>\n",
       "      <td>4</td>\n",
       "    </tr>\n",
       "    <tr>\n",
       "      <th>10</th>\n",
       "      <td>STR111</td>\n",
       "      <td>Super Bazar</td>\n",
       "      <td>Super Market</td>\n",
       "      <td>Chennai</td>\n",
       "      <td>17.8</td>\n",
       "      <td>60</td>\n",
       "      <td>167.6</td>\n",
       "      <td>123</td>\n",
       "      <td>3.92</td>\n",
       "      <td>3.440</td>\n",
       "      <td>18.90</td>\n",
       "      <td>1</td>\n",
       "      <td>NaN</td>\n",
       "      <td>0</td>\n",
       "      <td>4</td>\n",
       "      <td>4</td>\n",
       "    </tr>\n",
       "    <tr>\n",
       "      <th>11</th>\n",
       "      <td>STR112</td>\n",
       "      <td>Super Market</td>\n",
       "      <td>Super Market</td>\n",
       "      <td>Chennai</td>\n",
       "      <td>16.4</td>\n",
       "      <td>80</td>\n",
       "      <td>275.8</td>\n",
       "      <td>180</td>\n",
       "      <td>NaN</td>\n",
       "      <td>4.070</td>\n",
       "      <td>17.40</td>\n",
       "      <td>0</td>\n",
       "      <td>NaN</td>\n",
       "      <td>0</td>\n",
       "      <td>3</td>\n",
       "      <td>3</td>\n",
       "    </tr>\n",
       "    <tr>\n",
       "      <th>12</th>\n",
       "      <td>STR113</td>\n",
       "      <td>Central Store</td>\n",
       "      <td>Super Market</td>\n",
       "      <td>Chennai</td>\n",
       "      <td>17.3</td>\n",
       "      <td>80</td>\n",
       "      <td>275.8</td>\n",
       "      <td>180</td>\n",
       "      <td>NaN</td>\n",
       "      <td>3.730</td>\n",
       "      <td>17.60</td>\n",
       "      <td>0</td>\n",
       "      <td>NaN</td>\n",
       "      <td>0</td>\n",
       "      <td>3</td>\n",
       "      <td>3</td>\n",
       "    </tr>\n",
       "    <tr>\n",
       "      <th>13</th>\n",
       "      <td>STR114</td>\n",
       "      <td>Apparel Zone</td>\n",
       "      <td>Apparel</td>\n",
       "      <td>Chennai</td>\n",
       "      <td>15.2</td>\n",
       "      <td>80</td>\n",
       "      <td>275.8</td>\n",
       "      <td>180</td>\n",
       "      <td>NaN</td>\n",
       "      <td>3.780</td>\n",
       "      <td>18.00</td>\n",
       "      <td>0</td>\n",
       "      <td>NaN</td>\n",
       "      <td>0</td>\n",
       "      <td>3</td>\n",
       "      <td>3</td>\n",
       "    </tr>\n",
       "    <tr>\n",
       "      <th>14</th>\n",
       "      <td>STR115</td>\n",
       "      <td>Fashion Bazar</td>\n",
       "      <td>Apparel</td>\n",
       "      <td>Chennai</td>\n",
       "      <td>10.4</td>\n",
       "      <td>80</td>\n",
       "      <td>472.0</td>\n",
       "      <td>205</td>\n",
       "      <td>2.93</td>\n",
       "      <td>5.250</td>\n",
       "      <td>17.98</td>\n",
       "      <td>0</td>\n",
       "      <td>NaN</td>\n",
       "      <td>0</td>\n",
       "      <td>3</td>\n",
       "      <td>4</td>\n",
       "    </tr>\n",
       "    <tr>\n",
       "      <th>15</th>\n",
       "      <td>STR116</td>\n",
       "      <td>Digital Bazar</td>\n",
       "      <td>Electronincs</td>\n",
       "      <td>Chennai</td>\n",
       "      <td>10.4</td>\n",
       "      <td>80</td>\n",
       "      <td>460.0</td>\n",
       "      <td>215</td>\n",
       "      <td>3.00</td>\n",
       "      <td>5.424</td>\n",
       "      <td>17.82</td>\n",
       "      <td>0</td>\n",
       "      <td>NaN</td>\n",
       "      <td>0</td>\n",
       "      <td>3</td>\n",
       "      <td>4</td>\n",
       "    </tr>\n",
       "    <tr>\n",
       "      <th>16</th>\n",
       "      <td>STR117</td>\n",
       "      <td>Electronics Zone</td>\n",
       "      <td>Electronincs</td>\n",
       "      <td>Mumbai</td>\n",
       "      <td>14.7</td>\n",
       "      <td>80</td>\n",
       "      <td>440.0</td>\n",
       "      <td>230</td>\n",
       "      <td>3.23</td>\n",
       "      <td>5.345</td>\n",
       "      <td>17.42</td>\n",
       "      <td>0</td>\n",
       "      <td>NaN</td>\n",
       "      <td>0</td>\n",
       "      <td>3</td>\n",
       "      <td>4</td>\n",
       "    </tr>\n",
       "    <tr>\n",
       "      <th>17</th>\n",
       "      <td>STR118</td>\n",
       "      <td>Apparel Zone</td>\n",
       "      <td>Apparel</td>\n",
       "      <td>Mumbai</td>\n",
       "      <td>32.4</td>\n",
       "      <td>40</td>\n",
       "      <td>78.7</td>\n",
       "      <td>66</td>\n",
       "      <td>4.08</td>\n",
       "      <td>2.200</td>\n",
       "      <td>19.47</td>\n",
       "      <td>1</td>\n",
       "      <td>NaN</td>\n",
       "      <td>1</td>\n",
       "      <td>4</td>\n",
       "      <td>1</td>\n",
       "    </tr>\n",
       "    <tr>\n",
       "      <th>18</th>\n",
       "      <td>STR119</td>\n",
       "      <td>Super Bazar</td>\n",
       "      <td>Super Market</td>\n",
       "      <td>Mumbai</td>\n",
       "      <td>30.4</td>\n",
       "      <td>40</td>\n",
       "      <td>75.7</td>\n",
       "      <td>52</td>\n",
       "      <td>4.93</td>\n",
       "      <td>1.615</td>\n",
       "      <td>18.52</td>\n",
       "      <td>1</td>\n",
       "      <td>NaN</td>\n",
       "      <td>1</td>\n",
       "      <td>4</td>\n",
       "      <td>2</td>\n",
       "    </tr>\n",
       "    <tr>\n",
       "      <th>19</th>\n",
       "      <td>STR120</td>\n",
       "      <td>Super Market</td>\n",
       "      <td>Super Market</td>\n",
       "      <td>Mumbai</td>\n",
       "      <td>33.9</td>\n",
       "      <td>40</td>\n",
       "      <td>71.1</td>\n",
       "      <td>65</td>\n",
       "      <td>4.22</td>\n",
       "      <td>1.835</td>\n",
       "      <td>19.90</td>\n",
       "      <td>1</td>\n",
       "      <td>NaN</td>\n",
       "      <td>1</td>\n",
       "      <td>4</td>\n",
       "      <td>1</td>\n",
       "    </tr>\n",
       "    <tr>\n",
       "      <th>20</th>\n",
       "      <td>STR121</td>\n",
       "      <td>Central Store</td>\n",
       "      <td>Super Market</td>\n",
       "      <td>Mumbai</td>\n",
       "      <td>21.5</td>\n",
       "      <td>40</td>\n",
       "      <td>120.1</td>\n",
       "      <td>97</td>\n",
       "      <td>3.70</td>\n",
       "      <td>2.465</td>\n",
       "      <td>20.01</td>\n",
       "      <td>1</td>\n",
       "      <td>NaN</td>\n",
       "      <td>0</td>\n",
       "      <td>3</td>\n",
       "      <td>1</td>\n",
       "    </tr>\n",
       "    <tr>\n",
       "      <th>21</th>\n",
       "      <td>STR122</td>\n",
       "      <td>Apparel Zone</td>\n",
       "      <td>Apparel</td>\n",
       "      <td>Mumbai</td>\n",
       "      <td>15.5</td>\n",
       "      <td>80</td>\n",
       "      <td>318.0</td>\n",
       "      <td>150</td>\n",
       "      <td>2.76</td>\n",
       "      <td>3.520</td>\n",
       "      <td>16.87</td>\n",
       "      <td>0</td>\n",
       "      <td>NaN</td>\n",
       "      <td>0</td>\n",
       "      <td>3</td>\n",
       "      <td>2</td>\n",
       "    </tr>\n",
       "    <tr>\n",
       "      <th>22</th>\n",
       "      <td>STR123</td>\n",
       "      <td>Fashion Bazar</td>\n",
       "      <td>Apparel</td>\n",
       "      <td>Mumbai</td>\n",
       "      <td>15.2</td>\n",
       "      <td>80</td>\n",
       "      <td>304.0</td>\n",
       "      <td>150</td>\n",
       "      <td>3.15</td>\n",
       "      <td>3.435</td>\n",
       "      <td>17.30</td>\n",
       "      <td>0</td>\n",
       "      <td>NaN</td>\n",
       "      <td>0</td>\n",
       "      <td>3</td>\n",
       "      <td>2</td>\n",
       "    </tr>\n",
       "    <tr>\n",
       "      <th>23</th>\n",
       "      <td>STR124</td>\n",
       "      <td>Digital Bazar</td>\n",
       "      <td>Electronincs</td>\n",
       "      <td>Mumbai</td>\n",
       "      <td>13.3</td>\n",
       "      <td>80</td>\n",
       "      <td>350.0</td>\n",
       "      <td>245</td>\n",
       "      <td>3.73</td>\n",
       "      <td>3.840</td>\n",
       "      <td>15.41</td>\n",
       "      <td>0</td>\n",
       "      <td>NaN</td>\n",
       "      <td>0</td>\n",
       "      <td>3</td>\n",
       "      <td>4</td>\n",
       "    </tr>\n",
       "    <tr>\n",
       "      <th>24</th>\n",
       "      <td>STR125</td>\n",
       "      <td>Electronics Zone</td>\n",
       "      <td>Electronincs</td>\n",
       "      <td>Kolkata</td>\n",
       "      <td>19.2</td>\n",
       "      <td>80</td>\n",
       "      <td>400.0</td>\n",
       "      <td>175</td>\n",
       "      <td>3.08</td>\n",
       "      <td>3.845</td>\n",
       "      <td>17.05</td>\n",
       "      <td>0</td>\n",
       "      <td>NaN</td>\n",
       "      <td>0</td>\n",
       "      <td>3</td>\n",
       "      <td>2</td>\n",
       "    </tr>\n",
       "    <tr>\n",
       "      <th>25</th>\n",
       "      <td>STR126</td>\n",
       "      <td>Apparel Zone</td>\n",
       "      <td>Apparel</td>\n",
       "      <td>Kolkata</td>\n",
       "      <td>27.3</td>\n",
       "      <td>40</td>\n",
       "      <td>79.0</td>\n",
       "      <td>66</td>\n",
       "      <td>4.08</td>\n",
       "      <td>1.935</td>\n",
       "      <td>18.90</td>\n",
       "      <td>1</td>\n",
       "      <td>NaN</td>\n",
       "      <td>1</td>\n",
       "      <td>4</td>\n",
       "      <td>1</td>\n",
       "    </tr>\n",
       "    <tr>\n",
       "      <th>26</th>\n",
       "      <td>STR127</td>\n",
       "      <td>Super Bazar</td>\n",
       "      <td>Super Market</td>\n",
       "      <td>Kolkata</td>\n",
       "      <td>26.0</td>\n",
       "      <td>40</td>\n",
       "      <td>120.3</td>\n",
       "      <td>91</td>\n",
       "      <td>4.43</td>\n",
       "      <td>2.140</td>\n",
       "      <td>16.70</td>\n",
       "      <td>0</td>\n",
       "      <td>NaN</td>\n",
       "      <td>1</td>\n",
       "      <td>5</td>\n",
       "      <td>2</td>\n",
       "    </tr>\n",
       "    <tr>\n",
       "      <th>27</th>\n",
       "      <td>STR128</td>\n",
       "      <td>Super Market</td>\n",
       "      <td>Super Market</td>\n",
       "      <td>Kolkata</td>\n",
       "      <td>30.4</td>\n",
       "      <td>40</td>\n",
       "      <td>95.1</td>\n",
       "      <td>113</td>\n",
       "      <td>3.77</td>\n",
       "      <td>1.513</td>\n",
       "      <td>16.90</td>\n",
       "      <td>1</td>\n",
       "      <td>NaN</td>\n",
       "      <td>1</td>\n",
       "      <td>5</td>\n",
       "      <td>2</td>\n",
       "    </tr>\n",
       "    <tr>\n",
       "      <th>28</th>\n",
       "      <td>STR129</td>\n",
       "      <td>Central Store</td>\n",
       "      <td>Super Market</td>\n",
       "      <td>Kolkata</td>\n",
       "      <td>15.8</td>\n",
       "      <td>80</td>\n",
       "      <td>351.0</td>\n",
       "      <td>264</td>\n",
       "      <td>4.22</td>\n",
       "      <td>3.170</td>\n",
       "      <td>14.50</td>\n",
       "      <td>0</td>\n",
       "      <td>NaN</td>\n",
       "      <td>1</td>\n",
       "      <td>5</td>\n",
       "      <td>4</td>\n",
       "    </tr>\n",
       "    <tr>\n",
       "      <th>29</th>\n",
       "      <td>STR130</td>\n",
       "      <td>Apparel Zone</td>\n",
       "      <td>Apparel</td>\n",
       "      <td>Kolkata</td>\n",
       "      <td>19.7</td>\n",
       "      <td>60</td>\n",
       "      <td>145.0</td>\n",
       "      <td>175</td>\n",
       "      <td>3.62</td>\n",
       "      <td>2.770</td>\n",
       "      <td>15.50</td>\n",
       "      <td>0</td>\n",
       "      <td>NaN</td>\n",
       "      <td>1</td>\n",
       "      <td>5</td>\n",
       "      <td>4</td>\n",
       "    </tr>\n",
       "    <tr>\n",
       "      <th>30</th>\n",
       "      <td>STR131</td>\n",
       "      <td>Fashion Bazar</td>\n",
       "      <td>Apparel</td>\n",
       "      <td>Kolkata</td>\n",
       "      <td>15.0</td>\n",
       "      <td>80</td>\n",
       "      <td>301.0</td>\n",
       "      <td>335</td>\n",
       "      <td>3.54</td>\n",
       "      <td>3.570</td>\n",
       "      <td>14.60</td>\n",
       "      <td>0</td>\n",
       "      <td>NaN</td>\n",
       "      <td>1</td>\n",
       "      <td>5</td>\n",
       "      <td>4</td>\n",
       "    </tr>\n",
       "    <tr>\n",
       "      <th>31</th>\n",
       "      <td>STR132</td>\n",
       "      <td>Digital Bazar</td>\n",
       "      <td>Electronincs</td>\n",
       "      <td>Kolkata</td>\n",
       "      <td>21.4</td>\n",
       "      <td>40</td>\n",
       "      <td>121.0</td>\n",
       "      <td>109</td>\n",
       "      <td>4.11</td>\n",
       "      <td>2.780</td>\n",
       "      <td>18.60</td>\n",
       "      <td>1</td>\n",
       "      <td>NaN</td>\n",
       "      <td>1</td>\n",
       "      <td>4</td>\n",
       "      <td>2</td>\n",
       "    </tr>\n",
       "  </tbody>\n",
       "</table>\n",
       "</div>"
      ],
      "text/plain": [
       "   StoreCode         StoreName     StoreType Location  OperatingCost  \\\n",
       "0     STR101  Electronics Zone  Electronincs    Delhi           21.0   \n",
       "1     STR102      Apparel Zone       Apparel    Delhi           21.0   \n",
       "2     STR103       Super Bazar  Super Market    Delhi           22.8   \n",
       "3     STR104      Super Market  Super Market    Delhi           21.4   \n",
       "4     STR105     Central Store  Super Market    Delhi           18.7   \n",
       "5     STR106      Apparel Zone       Apparel    Delhi           18.1   \n",
       "6     STR107     Fashion Bazar       Apparel    Delhi           14.3   \n",
       "7     STR108     Digital Bazar  Electronincs    Delhi           24.4   \n",
       "8     STR109  Electronics Zone  Electronincs  Chennai           22.8   \n",
       "9     STR110      Apparel Zone       Apparel  Chennai           19.2   \n",
       "10    STR111       Super Bazar  Super Market  Chennai           17.8   \n",
       "11    STR112      Super Market  Super Market  Chennai           16.4   \n",
       "12    STR113     Central Store  Super Market  Chennai           17.3   \n",
       "13    STR114      Apparel Zone       Apparel  Chennai           15.2   \n",
       "14    STR115     Fashion Bazar       Apparel  Chennai           10.4   \n",
       "15    STR116     Digital Bazar  Electronincs  Chennai           10.4   \n",
       "16    STR117  Electronics Zone  Electronincs   Mumbai           14.7   \n",
       "17    STR118      Apparel Zone       Apparel   Mumbai           32.4   \n",
       "18    STR119       Super Bazar  Super Market   Mumbai           30.4   \n",
       "19    STR120      Super Market  Super Market   Mumbai           33.9   \n",
       "20    STR121     Central Store  Super Market   Mumbai           21.5   \n",
       "21    STR122      Apparel Zone       Apparel   Mumbai           15.5   \n",
       "22    STR123     Fashion Bazar       Apparel   Mumbai           15.2   \n",
       "23    STR124     Digital Bazar  Electronincs   Mumbai           13.3   \n",
       "24    STR125  Electronics Zone  Electronincs  Kolkata           19.2   \n",
       "25    STR126      Apparel Zone       Apparel  Kolkata           27.3   \n",
       "26    STR127       Super Bazar  Super Market  Kolkata           26.0   \n",
       "27    STR128      Super Market  Super Market  Kolkata           30.4   \n",
       "28    STR129     Central Store  Super Market  Kolkata           15.8   \n",
       "29    STR130      Apparel Zone       Apparel  Kolkata           19.7   \n",
       "30    STR131     Fashion Bazar       Apparel  Kolkata           15.0   \n",
       "31    STR132     Digital Bazar  Electronincs  Kolkata           21.4   \n",
       "\n",
       "    Staff_Cnt  TotalSales  Total_Customers  AcqCostPercust  BasketSize  \\\n",
       "0          60       160.0              110            3.90       2.620   \n",
       "1          60       160.0              110            3.90       2.875   \n",
       "2          40       108.0               93            3.85       2.320   \n",
       "3          60       258.0              110            3.08       3.215   \n",
       "4          80       360.0              175            3.15       3.440   \n",
       "5          60       225.0              105            2.76       3.460   \n",
       "6          80       360.0              245            3.21       3.570   \n",
       "7          40       146.7               62            3.69       3.190   \n",
       "8          40       140.8               95            3.92       3.150   \n",
       "9          60       167.6              123            3.92       3.440   \n",
       "10         60       167.6              123            3.92       3.440   \n",
       "11         80       275.8              180             NaN       4.070   \n",
       "12         80       275.8              180             NaN       3.730   \n",
       "13         80       275.8              180             NaN       3.780   \n",
       "14         80       472.0              205            2.93       5.250   \n",
       "15         80       460.0              215            3.00       5.424   \n",
       "16         80       440.0              230            3.23       5.345   \n",
       "17         40        78.7               66            4.08       2.200   \n",
       "18         40        75.7               52            4.93       1.615   \n",
       "19         40        71.1               65            4.22       1.835   \n",
       "20         40       120.1               97            3.70       2.465   \n",
       "21         80       318.0              150            2.76       3.520   \n",
       "22         80       304.0              150            3.15       3.435   \n",
       "23         80       350.0              245            3.73       3.840   \n",
       "24         80       400.0              175            3.08       3.845   \n",
       "25         40        79.0               66            4.08       1.935   \n",
       "26         40       120.3               91            4.43       2.140   \n",
       "27         40        95.1              113            3.77       1.513   \n",
       "28         80       351.0              264            4.22       3.170   \n",
       "29         60       145.0              175            3.62       2.770   \n",
       "30         80       301.0              335            3.54       3.570   \n",
       "31         40       121.0              109            4.11       2.780   \n",
       "\n",
       "    ProfitPercust  OwnStore  Dummy  OnlinePresence  Tenure  StoreSegment  \n",
       "0           16.46         0    NaN               1       4             4  \n",
       "1           17.02         0    NaN               1       4             4  \n",
       "2           18.61         1    NaN               1       4             1  \n",
       "3           19.44         1    NaN               0       3             1  \n",
       "4           17.02         0    NaN               0       3             2  \n",
       "5           20.22         1    NaN               0       3             1  \n",
       "6           15.84         0    NaN               0       3             4  \n",
       "7           20.00         1    NaN               0       4             2  \n",
       "8           22.90         1    NaN               0       4             2  \n",
       "9           18.30         1    NaN               0       4             4  \n",
       "10          18.90         1    NaN               0       4             4  \n",
       "11          17.40         0    NaN               0       3             3  \n",
       "12          17.60         0    NaN               0       3             3  \n",
       "13          18.00         0    NaN               0       3             3  \n",
       "14          17.98         0    NaN               0       3             4  \n",
       "15          17.82         0    NaN               0       3             4  \n",
       "16          17.42         0    NaN               0       3             4  \n",
       "17          19.47         1    NaN               1       4             1  \n",
       "18          18.52         1    NaN               1       4             2  \n",
       "19          19.90         1    NaN               1       4             1  \n",
       "20          20.01         1    NaN               0       3             1  \n",
       "21          16.87         0    NaN               0       3             2  \n",
       "22          17.30         0    NaN               0       3             2  \n",
       "23          15.41         0    NaN               0       3             4  \n",
       "24          17.05         0    NaN               0       3             2  \n",
       "25          18.90         1    NaN               1       4             1  \n",
       "26          16.70         0    NaN               1       5             2  \n",
       "27          16.90         1    NaN               1       5             2  \n",
       "28          14.50         0    NaN               1       5             4  \n",
       "29          15.50         0    NaN               1       5             4  \n",
       "30          14.60         0    NaN               1       5             4  \n",
       "31          18.60         1    NaN               1       4             2  "
      ]
     },
     "execution_count": 128,
     "metadata": {},
     "output_type": "execute_result"
    }
   ],
   "source": [
    "stores"
   ]
  },
  {
   "cell_type": "code",
   "execution_count": 131,
   "id": "ee73c08a",
   "metadata": {},
   "outputs": [],
   "source": [
    "## Q: CAlculate total sales for each location\n",
    "\n",
    "summ1 = stores.groupby('Location')['TotalSales'].sum()"
   ]
  },
  {
   "cell_type": "code",
   "execution_count": 132,
   "id": "ace10c37",
   "metadata": {},
   "outputs": [
    {
     "data": {
      "text/plain": [
       "Location\n",
       "Chennai    2235.4\n",
       "Delhi      1777.7\n",
       "Kolkata    1612.4\n",
       "Mumbai     1757.6\n",
       "Name: TotalSales, dtype: float64"
      ]
     },
     "execution_count": 132,
     "metadata": {},
     "output_type": "execute_result"
    }
   ],
   "source": [
    "summ1"
   ]
  },
  {
   "cell_type": "code",
   "execution_count": 133,
   "id": "79d003ae",
   "metadata": {},
   "outputs": [
    {
     "data": {
      "text/html": [
       "<div>\n",
       "<style scoped>\n",
       "    .dataframe tbody tr th:only-of-type {\n",
       "        vertical-align: middle;\n",
       "    }\n",
       "\n",
       "    .dataframe tbody tr th {\n",
       "        vertical-align: top;\n",
       "    }\n",
       "\n",
       "    .dataframe thead th {\n",
       "        text-align: right;\n",
       "    }\n",
       "</style>\n",
       "<table border=\"1\" class=\"dataframe\">\n",
       "  <thead>\n",
       "    <tr style=\"text-align: right;\">\n",
       "      <th></th>\n",
       "      <th>TotalSales</th>\n",
       "      <th>OperatingCost</th>\n",
       "    </tr>\n",
       "    <tr>\n",
       "      <th>Location</th>\n",
       "      <th></th>\n",
       "      <th></th>\n",
       "    </tr>\n",
       "  </thead>\n",
       "  <tbody>\n",
       "    <tr>\n",
       "      <th>Chennai</th>\n",
       "      <td>2235.4</td>\n",
       "      <td>129.5</td>\n",
       "    </tr>\n",
       "    <tr>\n",
       "      <th>Delhi</th>\n",
       "      <td>1777.7</td>\n",
       "      <td>161.7</td>\n",
       "    </tr>\n",
       "    <tr>\n",
       "      <th>Kolkata</th>\n",
       "      <td>1612.4</td>\n",
       "      <td>174.8</td>\n",
       "    </tr>\n",
       "    <tr>\n",
       "      <th>Mumbai</th>\n",
       "      <td>1757.6</td>\n",
       "      <td>176.9</td>\n",
       "    </tr>\n",
       "  </tbody>\n",
       "</table>\n",
       "</div>"
      ],
      "text/plain": [
       "          TotalSales  OperatingCost\n",
       "Location                           \n",
       "Chennai       2235.4          129.5\n",
       "Delhi         1777.7          161.7\n",
       "Kolkata       1612.4          174.8\n",
       "Mumbai        1757.6          176.9"
      ]
     },
     "execution_count": 133,
     "metadata": {},
     "output_type": "execute_result"
    }
   ],
   "source": [
    "## Q: Calculate total sales and total operating cost by location\n",
    "\n",
    "\n",
    "stores.groupby('Location')[['TotalSales', 'OperatingCost']].sum()"
   ]
  },
  {
   "cell_type": "code",
   "execution_count": null,
   "id": "6df911fb",
   "metadata": {},
   "outputs": [],
   "source": []
  },
  {
   "cell_type": "code",
   "execution_count": 136,
   "id": "b522acc9",
   "metadata": {
    "scrolled": true
   },
   "outputs": [],
   "source": [
    "## Q: Calculate the sum and the mean of total sales and operating cost grouped by location\n",
    "\n",
    "summ2 = stores.groupby(\"Location\")[['TotalSales', 'OperatingCost']].agg(['mean', 'sum'])"
   ]
  },
  {
   "cell_type": "code",
   "execution_count": 139,
   "id": "3dfd439d",
   "metadata": {},
   "outputs": [
    {
     "data": {
      "text/html": [
       "<div>\n",
       "<style scoped>\n",
       "    .dataframe tbody tr th:only-of-type {\n",
       "        vertical-align: middle;\n",
       "    }\n",
       "\n",
       "    .dataframe tbody tr th {\n",
       "        vertical-align: top;\n",
       "    }\n",
       "\n",
       "    .dataframe thead th {\n",
       "        text-align: right;\n",
       "    }\n",
       "</style>\n",
       "<table border=\"1\" class=\"dataframe\">\n",
       "  <thead>\n",
       "    <tr style=\"text-align: right;\">\n",
       "      <th></th>\n",
       "      <th>SumOfTotalSales</th>\n",
       "      <th>MeanOfOperatingCost</th>\n",
       "    </tr>\n",
       "    <tr>\n",
       "      <th>Location</th>\n",
       "      <th></th>\n",
       "      <th></th>\n",
       "    </tr>\n",
       "  </thead>\n",
       "  <tbody>\n",
       "    <tr>\n",
       "      <th>Chennai</th>\n",
       "      <td>2235.4</td>\n",
       "      <td>16.1875</td>\n",
       "    </tr>\n",
       "    <tr>\n",
       "      <th>Delhi</th>\n",
       "      <td>1777.7</td>\n",
       "      <td>20.2125</td>\n",
       "    </tr>\n",
       "    <tr>\n",
       "      <th>Kolkata</th>\n",
       "      <td>1612.4</td>\n",
       "      <td>21.8500</td>\n",
       "    </tr>\n",
       "    <tr>\n",
       "      <th>Mumbai</th>\n",
       "      <td>1757.6</td>\n",
       "      <td>22.1125</td>\n",
       "    </tr>\n",
       "  </tbody>\n",
       "</table>\n",
       "</div>"
      ],
      "text/plain": [
       "          SumOfTotalSales  MeanOfOperatingCost\n",
       "Location                                      \n",
       "Chennai            2235.4              16.1875\n",
       "Delhi              1777.7              20.2125\n",
       "Kolkata            1612.4              21.8500\n",
       "Mumbai             1757.6              22.1125"
      ]
     },
     "execution_count": 139,
     "metadata": {},
     "output_type": "execute_result"
    }
   ],
   "source": [
    "## Q: Calculate the sum of total sales and mean of operating cost grouped by location\n",
    "\n",
    "stores.groupby(\"Location\")[['TotalSales', 'OperatingCost']] \\\n",
    "        .agg({'TotalSales': 'sum', 'OperatingCost': 'mean'}) \\\n",
    "        .rename(columns={'TotalSales': 'SumOfTotalSales', 'OperatingCost': 'MeanOfOperatingCost'})"
   ]
  },
  {
   "cell_type": "code",
   "execution_count": 141,
   "id": "c6dc991c",
   "metadata": {},
   "outputs": [],
   "source": [
    "# Q: Calculate the sum, mean, min, and max of total sales and mean, sum of operating cost grouped by location\n",
    "\n",
    "\n",
    "summ3 = stores.groupby(\"Location\")[['TotalSales', 'OperatingCost']] \\\n",
    "        .agg({'TotalSales': ['sum', 'min', 'max', 'mean'], 'OperatingCost': ['mean', 'sum']})"
   ]
  },
  {
   "cell_type": "code",
   "execution_count": 146,
   "id": "494765eb",
   "metadata": {},
   "outputs": [],
   "source": [
    "summ3['TotalSales']['sum'].name = \"Total\""
   ]
  },
  {
   "cell_type": "code",
   "execution_count": 147,
   "id": "37badf0d",
   "metadata": {},
   "outputs": [
    {
     "data": {
      "text/html": [
       "<div>\n",
       "<style scoped>\n",
       "    .dataframe tbody tr th:only-of-type {\n",
       "        vertical-align: middle;\n",
       "    }\n",
       "\n",
       "    .dataframe tbody tr th {\n",
       "        vertical-align: top;\n",
       "    }\n",
       "\n",
       "    .dataframe thead tr th {\n",
       "        text-align: left;\n",
       "    }\n",
       "\n",
       "    .dataframe thead tr:last-of-type th {\n",
       "        text-align: right;\n",
       "    }\n",
       "</style>\n",
       "<table border=\"1\" class=\"dataframe\">\n",
       "  <thead>\n",
       "    <tr>\n",
       "      <th></th>\n",
       "      <th colspan=\"4\" halign=\"left\">TotalSales</th>\n",
       "      <th colspan=\"2\" halign=\"left\">OperatingCost</th>\n",
       "    </tr>\n",
       "    <tr>\n",
       "      <th></th>\n",
       "      <th>sum</th>\n",
       "      <th>min</th>\n",
       "      <th>max</th>\n",
       "      <th>mean</th>\n",
       "      <th>mean</th>\n",
       "      <th>sum</th>\n",
       "    </tr>\n",
       "    <tr>\n",
       "      <th>Location</th>\n",
       "      <th></th>\n",
       "      <th></th>\n",
       "      <th></th>\n",
       "      <th></th>\n",
       "      <th></th>\n",
       "      <th></th>\n",
       "    </tr>\n",
       "  </thead>\n",
       "  <tbody>\n",
       "    <tr>\n",
       "      <th>Chennai</th>\n",
       "      <td>2235.4</td>\n",
       "      <td>140.8</td>\n",
       "      <td>472.0</td>\n",
       "      <td>279.4250</td>\n",
       "      <td>16.1875</td>\n",
       "      <td>129.5</td>\n",
       "    </tr>\n",
       "    <tr>\n",
       "      <th>Delhi</th>\n",
       "      <td>1777.7</td>\n",
       "      <td>108.0</td>\n",
       "      <td>360.0</td>\n",
       "      <td>222.2125</td>\n",
       "      <td>20.2125</td>\n",
       "      <td>161.7</td>\n",
       "    </tr>\n",
       "    <tr>\n",
       "      <th>Kolkata</th>\n",
       "      <td>1612.4</td>\n",
       "      <td>79.0</td>\n",
       "      <td>400.0</td>\n",
       "      <td>201.5500</td>\n",
       "      <td>21.8500</td>\n",
       "      <td>174.8</td>\n",
       "    </tr>\n",
       "    <tr>\n",
       "      <th>Mumbai</th>\n",
       "      <td>1757.6</td>\n",
       "      <td>71.1</td>\n",
       "      <td>440.0</td>\n",
       "      <td>219.7000</td>\n",
       "      <td>22.1125</td>\n",
       "      <td>176.9</td>\n",
       "    </tr>\n",
       "  </tbody>\n",
       "</table>\n",
       "</div>"
      ],
      "text/plain": [
       "         TotalSales                         OperatingCost       \n",
       "                sum    min    max      mean          mean    sum\n",
       "Location                                                        \n",
       "Chennai      2235.4  140.8  472.0  279.4250       16.1875  129.5\n",
       "Delhi        1777.7  108.0  360.0  222.2125       20.2125  161.7\n",
       "Kolkata      1612.4   79.0  400.0  201.5500       21.8500  174.8\n",
       "Mumbai       1757.6   71.1  440.0  219.7000       22.1125  176.9"
      ]
     },
     "execution_count": 147,
     "metadata": {},
     "output_type": "execute_result"
    }
   ],
   "source": [
    "summ3.rename(columns={})"
   ]
  },
  {
   "cell_type": "code",
   "execution_count": 148,
   "id": "db833b28",
   "metadata": {},
   "outputs": [
    {
     "data": {
      "text/plain": [
       "MultiIndex([(   'TotalSales',  'sum'),\n",
       "            (   'TotalSales',  'min'),\n",
       "            (   'TotalSales',  'max'),\n",
       "            (   'TotalSales', 'mean'),\n",
       "            ('OperatingCost', 'mean'),\n",
       "            ('OperatingCost',  'sum')],\n",
       "           )"
      ]
     },
     "execution_count": 148,
     "metadata": {},
     "output_type": "execute_result"
    }
   ],
   "source": [
    "summ3.columns"
   ]
  },
  {
   "cell_type": "code",
   "execution_count": 151,
   "id": "ba7e2eca",
   "metadata": {},
   "outputs": [
    {
     "ename": "TypeError",
     "evalue": "Must pass both levels and codes",
     "output_type": "error",
     "traceback": [
      "\u001b[1;31m---------------------------------------------------------------------------\u001b[0m",
      "\u001b[1;31mTypeError\u001b[0m                                 Traceback (most recent call last)",
      "\u001b[1;32m<ipython-input-151-7edc321e32c3>\u001b[0m in \u001b[0;36m<module>\u001b[1;34m\u001b[0m\n\u001b[1;32m----> 1\u001b[1;33m summ3.columns = pd.MultiIndex([(   'TotalSales',  'Total'),\n\u001b[0m\u001b[0;32m      2\u001b[0m             \u001b[1;33m(\u001b[0m   \u001b[1;34m'TotalSales'\u001b[0m\u001b[1;33m,\u001b[0m  \u001b[1;34m'min'\u001b[0m\u001b[1;33m)\u001b[0m\u001b[1;33m,\u001b[0m\u001b[1;33m\u001b[0m\u001b[1;33m\u001b[0m\u001b[0m\n\u001b[0;32m      3\u001b[0m             \u001b[1;33m(\u001b[0m   \u001b[1;34m'TotalSales'\u001b[0m\u001b[1;33m,\u001b[0m  \u001b[1;34m'max'\u001b[0m\u001b[1;33m)\u001b[0m\u001b[1;33m,\u001b[0m\u001b[1;33m\u001b[0m\u001b[1;33m\u001b[0m\u001b[0m\n\u001b[0;32m      4\u001b[0m             \u001b[1;33m(\u001b[0m   \u001b[1;34m'TotalSales'\u001b[0m\u001b[1;33m,\u001b[0m \u001b[1;34m'mean'\u001b[0m\u001b[1;33m)\u001b[0m\u001b[1;33m,\u001b[0m\u001b[1;33m\u001b[0m\u001b[1;33m\u001b[0m\u001b[0m\n\u001b[0;32m      5\u001b[0m             \u001b[1;33m(\u001b[0m\u001b[1;34m'OperatingCost'\u001b[0m\u001b[1;33m,\u001b[0m \u001b[1;34m'mean'\u001b[0m\u001b[1;33m)\u001b[0m\u001b[1;33m,\u001b[0m\u001b[1;33m\u001b[0m\u001b[1;33m\u001b[0m\u001b[0m\n",
      "\u001b[1;32m~\\anaconda3\\lib\\site-packages\\pandas\\core\\indexes\\multi.py\u001b[0m in \u001b[0;36m__new__\u001b[1;34m(cls, levels, codes, sortorder, names, dtype, copy, name, verify_integrity)\u001b[0m\n\u001b[0;32m    290\u001b[0m             \u001b[0mnames\u001b[0m \u001b[1;33m=\u001b[0m \u001b[0mname\u001b[0m\u001b[1;33m\u001b[0m\u001b[1;33m\u001b[0m\u001b[0m\n\u001b[0;32m    291\u001b[0m         \u001b[1;32mif\u001b[0m \u001b[0mlevels\u001b[0m \u001b[1;32mis\u001b[0m \u001b[1;32mNone\u001b[0m \u001b[1;32mor\u001b[0m \u001b[0mcodes\u001b[0m \u001b[1;32mis\u001b[0m \u001b[1;32mNone\u001b[0m\u001b[1;33m:\u001b[0m\u001b[1;33m\u001b[0m\u001b[1;33m\u001b[0m\u001b[0m\n\u001b[1;32m--> 292\u001b[1;33m             \u001b[1;32mraise\u001b[0m \u001b[0mTypeError\u001b[0m\u001b[1;33m(\u001b[0m\u001b[1;34m\"Must pass both levels and codes\"\u001b[0m\u001b[1;33m)\u001b[0m\u001b[1;33m\u001b[0m\u001b[1;33m\u001b[0m\u001b[0m\n\u001b[0m\u001b[0;32m    293\u001b[0m         \u001b[1;32mif\u001b[0m \u001b[0mlen\u001b[0m\u001b[1;33m(\u001b[0m\u001b[0mlevels\u001b[0m\u001b[1;33m)\u001b[0m \u001b[1;33m!=\u001b[0m \u001b[0mlen\u001b[0m\u001b[1;33m(\u001b[0m\u001b[0mcodes\u001b[0m\u001b[1;33m)\u001b[0m\u001b[1;33m:\u001b[0m\u001b[1;33m\u001b[0m\u001b[1;33m\u001b[0m\u001b[0m\n\u001b[0;32m    294\u001b[0m             \u001b[1;32mraise\u001b[0m \u001b[0mValueError\u001b[0m\u001b[1;33m(\u001b[0m\u001b[1;34m\"Length of levels and codes must be the same.\"\u001b[0m\u001b[1;33m)\u001b[0m\u001b[1;33m\u001b[0m\u001b[1;33m\u001b[0m\u001b[0m\n",
      "\u001b[1;31mTypeError\u001b[0m: Must pass both levels and codes"
     ]
    }
   ],
   "source": [
    "summ3.columns = pd.MultiIndex([(   'TotalSales',  'Total'),\n",
    "            (   'TotalSales',  'min'),\n",
    "            (   'TotalSales',  'max'),\n",
    "            (   'TotalSales', 'mean'),\n",
    "            ('OperatingCost', 'mean'),\n",
    "            ('OperatingCost',  'Total')])"
   ]
  },
  {
   "cell_type": "code",
   "execution_count": 150,
   "id": "9aa18ca7",
   "metadata": {},
   "outputs": [
    {
     "data": {
      "text/html": [
       "<div>\n",
       "<style scoped>\n",
       "    .dataframe tbody tr th:only-of-type {\n",
       "        vertical-align: middle;\n",
       "    }\n",
       "\n",
       "    .dataframe tbody tr th {\n",
       "        vertical-align: top;\n",
       "    }\n",
       "\n",
       "    .dataframe thead th {\n",
       "        text-align: right;\n",
       "    }\n",
       "</style>\n",
       "<table border=\"1\" class=\"dataframe\">\n",
       "  <thead>\n",
       "    <tr style=\"text-align: right;\">\n",
       "      <th></th>\n",
       "      <th>(TotalSales, Total)</th>\n",
       "      <th>(TotalSales, min)</th>\n",
       "      <th>(TotalSales, max)</th>\n",
       "      <th>(TotalSales, mean)</th>\n",
       "      <th>(OperatingCost, mean)</th>\n",
       "      <th>(OperatingCost, Total)</th>\n",
       "    </tr>\n",
       "    <tr>\n",
       "      <th>Location</th>\n",
       "      <th></th>\n",
       "      <th></th>\n",
       "      <th></th>\n",
       "      <th></th>\n",
       "      <th></th>\n",
       "      <th></th>\n",
       "    </tr>\n",
       "  </thead>\n",
       "  <tbody>\n",
       "    <tr>\n",
       "      <th>Chennai</th>\n",
       "      <td>2235.4</td>\n",
       "      <td>140.8</td>\n",
       "      <td>472.0</td>\n",
       "      <td>279.4250</td>\n",
       "      <td>16.1875</td>\n",
       "      <td>129.5</td>\n",
       "    </tr>\n",
       "    <tr>\n",
       "      <th>Delhi</th>\n",
       "      <td>1777.7</td>\n",
       "      <td>108.0</td>\n",
       "      <td>360.0</td>\n",
       "      <td>222.2125</td>\n",
       "      <td>20.2125</td>\n",
       "      <td>161.7</td>\n",
       "    </tr>\n",
       "    <tr>\n",
       "      <th>Kolkata</th>\n",
       "      <td>1612.4</td>\n",
       "      <td>79.0</td>\n",
       "      <td>400.0</td>\n",
       "      <td>201.5500</td>\n",
       "      <td>21.8500</td>\n",
       "      <td>174.8</td>\n",
       "    </tr>\n",
       "    <tr>\n",
       "      <th>Mumbai</th>\n",
       "      <td>1757.6</td>\n",
       "      <td>71.1</td>\n",
       "      <td>440.0</td>\n",
       "      <td>219.7000</td>\n",
       "      <td>22.1125</td>\n",
       "      <td>176.9</td>\n",
       "    </tr>\n",
       "  </tbody>\n",
       "</table>\n",
       "</div>"
      ],
      "text/plain": [
       "          (TotalSales, Total)  (TotalSales, min)  (TotalSales, max)  \\\n",
       "Location                                                              \n",
       "Chennai                2235.4              140.8              472.0   \n",
       "Delhi                  1777.7              108.0              360.0   \n",
       "Kolkata                1612.4               79.0              400.0   \n",
       "Mumbai                 1757.6               71.1              440.0   \n",
       "\n",
       "          (TotalSales, mean)  (OperatingCost, mean)  (OperatingCost, Total)  \n",
       "Location                                                                     \n",
       "Chennai             279.4250                16.1875                   129.5  \n",
       "Delhi               222.2125                20.2125                   161.7  \n",
       "Kolkata             201.5500                21.8500                   174.8  \n",
       "Mumbai              219.7000                22.1125                   176.9  "
      ]
     },
     "execution_count": 150,
     "metadata": {},
     "output_type": "execute_result"
    }
   ],
   "source": [
    "summ3"
   ]
  },
  {
   "cell_type": "code",
   "execution_count": 155,
   "id": "161f297e",
   "metadata": {},
   "outputs": [],
   "source": [
    "## group by both Location and StoreType and aggregate on TotalSales\n",
    "summ4 = stores.groupby(['Location', 'StoreType']).TotalSales.sum().reset_index()"
   ]
  },
  {
   "cell_type": "code",
   "execution_count": 157,
   "id": "cd27047f",
   "metadata": {},
   "outputs": [],
   "source": [
    "summ4['%Sales'] = summ4['TotalSales'] / summ4['TotalSales'].sum()"
   ]
  },
  {
   "cell_type": "code",
   "execution_count": 158,
   "id": "b3305810",
   "metadata": {},
   "outputs": [
    {
     "data": {
      "text/html": [
       "<div>\n",
       "<style scoped>\n",
       "    .dataframe tbody tr th:only-of-type {\n",
       "        vertical-align: middle;\n",
       "    }\n",
       "\n",
       "    .dataframe tbody tr th {\n",
       "        vertical-align: top;\n",
       "    }\n",
       "\n",
       "    .dataframe thead th {\n",
       "        text-align: right;\n",
       "    }\n",
       "</style>\n",
       "<table border=\"1\" class=\"dataframe\">\n",
       "  <thead>\n",
       "    <tr style=\"text-align: right;\">\n",
       "      <th></th>\n",
       "      <th>Location</th>\n",
       "      <th>StoreType</th>\n",
       "      <th>TotalSales</th>\n",
       "      <th>%Sales</th>\n",
       "    </tr>\n",
       "  </thead>\n",
       "  <tbody>\n",
       "    <tr>\n",
       "      <th>0</th>\n",
       "      <td>Chennai</td>\n",
       "      <td>Apparel</td>\n",
       "      <td>915.4</td>\n",
       "      <td>0.123986</td>\n",
       "    </tr>\n",
       "    <tr>\n",
       "      <th>1</th>\n",
       "      <td>Chennai</td>\n",
       "      <td>Electronincs</td>\n",
       "      <td>600.8</td>\n",
       "      <td>0.081375</td>\n",
       "    </tr>\n",
       "    <tr>\n",
       "      <th>2</th>\n",
       "      <td>Chennai</td>\n",
       "      <td>Super Market</td>\n",
       "      <td>719.2</td>\n",
       "      <td>0.097412</td>\n",
       "    </tr>\n",
       "    <tr>\n",
       "      <th>3</th>\n",
       "      <td>Delhi</td>\n",
       "      <td>Apparel</td>\n",
       "      <td>745.0</td>\n",
       "      <td>0.100906</td>\n",
       "    </tr>\n",
       "    <tr>\n",
       "      <th>4</th>\n",
       "      <td>Delhi</td>\n",
       "      <td>Electronincs</td>\n",
       "      <td>306.7</td>\n",
       "      <td>0.041541</td>\n",
       "    </tr>\n",
       "    <tr>\n",
       "      <th>5</th>\n",
       "      <td>Delhi</td>\n",
       "      <td>Super Market</td>\n",
       "      <td>726.0</td>\n",
       "      <td>0.098333</td>\n",
       "    </tr>\n",
       "    <tr>\n",
       "      <th>6</th>\n",
       "      <td>Kolkata</td>\n",
       "      <td>Apparel</td>\n",
       "      <td>525.0</td>\n",
       "      <td>0.071108</td>\n",
       "    </tr>\n",
       "    <tr>\n",
       "      <th>7</th>\n",
       "      <td>Kolkata</td>\n",
       "      <td>Electronincs</td>\n",
       "      <td>521.0</td>\n",
       "      <td>0.070567</td>\n",
       "    </tr>\n",
       "    <tr>\n",
       "      <th>8</th>\n",
       "      <td>Kolkata</td>\n",
       "      <td>Super Market</td>\n",
       "      <td>566.4</td>\n",
       "      <td>0.076716</td>\n",
       "    </tr>\n",
       "    <tr>\n",
       "      <th>9</th>\n",
       "      <td>Mumbai</td>\n",
       "      <td>Apparel</td>\n",
       "      <td>700.7</td>\n",
       "      <td>0.094906</td>\n",
       "    </tr>\n",
       "    <tr>\n",
       "      <th>10</th>\n",
       "      <td>Mumbai</td>\n",
       "      <td>Electronincs</td>\n",
       "      <td>790.0</td>\n",
       "      <td>0.107001</td>\n",
       "    </tr>\n",
       "    <tr>\n",
       "      <th>11</th>\n",
       "      <td>Mumbai</td>\n",
       "      <td>Super Market</td>\n",
       "      <td>266.9</td>\n",
       "      <td>0.036150</td>\n",
       "    </tr>\n",
       "  </tbody>\n",
       "</table>\n",
       "</div>"
      ],
      "text/plain": [
       "   Location     StoreType  TotalSales    %Sales\n",
       "0   Chennai       Apparel       915.4  0.123986\n",
       "1   Chennai  Electronincs       600.8  0.081375\n",
       "2   Chennai  Super Market       719.2  0.097412\n",
       "3     Delhi       Apparel       745.0  0.100906\n",
       "4     Delhi  Electronincs       306.7  0.041541\n",
       "5     Delhi  Super Market       726.0  0.098333\n",
       "6   Kolkata       Apparel       525.0  0.071108\n",
       "7   Kolkata  Electronincs       521.0  0.070567\n",
       "8   Kolkata  Super Market       566.4  0.076716\n",
       "9    Mumbai       Apparel       700.7  0.094906\n",
       "10   Mumbai  Electronincs       790.0  0.107001\n",
       "11   Mumbai  Super Market       266.9  0.036150"
      ]
     },
     "execution_count": 158,
     "metadata": {},
     "output_type": "execute_result"
    }
   ],
   "source": [
    "summ4"
   ]
  },
  {
   "cell_type": "code",
   "execution_count": 160,
   "id": "7897a0a0",
   "metadata": {},
   "outputs": [],
   "source": [
    "## pivot_table\n",
    "\n",
    "## values, rows, columns, filter\n",
    "\n",
    "stores.pivot_table?"
   ]
  },
  {
   "cell_type": "code",
   "execution_count": 161,
   "id": "ad99f6ec",
   "metadata": {},
   "outputs": [
    {
     "data": {
      "text/html": [
       "<div>\n",
       "<style scoped>\n",
       "    .dataframe tbody tr th:only-of-type {\n",
       "        vertical-align: middle;\n",
       "    }\n",
       "\n",
       "    .dataframe tbody tr th {\n",
       "        vertical-align: top;\n",
       "    }\n",
       "\n",
       "    .dataframe thead th {\n",
       "        text-align: right;\n",
       "    }\n",
       "</style>\n",
       "<table border=\"1\" class=\"dataframe\">\n",
       "  <thead>\n",
       "    <tr style=\"text-align: right;\">\n",
       "      <th></th>\n",
       "      <th>TotalSales</th>\n",
       "    </tr>\n",
       "    <tr>\n",
       "      <th>Location</th>\n",
       "      <th></th>\n",
       "    </tr>\n",
       "  </thead>\n",
       "  <tbody>\n",
       "    <tr>\n",
       "      <th>Chennai</th>\n",
       "      <td>2235.4</td>\n",
       "    </tr>\n",
       "    <tr>\n",
       "      <th>Delhi</th>\n",
       "      <td>1777.7</td>\n",
       "    </tr>\n",
       "    <tr>\n",
       "      <th>Kolkata</th>\n",
       "      <td>1612.4</td>\n",
       "    </tr>\n",
       "    <tr>\n",
       "      <th>Mumbai</th>\n",
       "      <td>1757.6</td>\n",
       "    </tr>\n",
       "  </tbody>\n",
       "</table>\n",
       "</div>"
      ],
      "text/plain": [
       "          TotalSales\n",
       "Location            \n",
       "Chennai       2235.4\n",
       "Delhi         1777.7\n",
       "Kolkata       1612.4\n",
       "Mumbai        1757.6"
      ]
     },
     "execution_count": 161,
     "metadata": {},
     "output_type": "execute_result"
    }
   ],
   "source": [
    "## Q: group by location and calculate total sales\n",
    "\n",
    "stores.pivot_table(values='TotalSales', index='Location', aggfunc='sum')"
   ]
  },
  {
   "cell_type": "code",
   "execution_count": 176,
   "id": "2fa090d6",
   "metadata": {},
   "outputs": [],
   "source": [
    "## Q: Calculate the sum and the mean of total sales and operating cost grouped by location\n",
    "\n",
    "summ5 = stores.pivot_table(index='Location', values=['TotalSales', 'OperatingCost'], aggfunc=['sum', 'mean'])"
   ]
  },
  {
   "cell_type": "code",
   "execution_count": 182,
   "id": "0e93c372",
   "metadata": {},
   "outputs": [],
   "source": [
    "summ5.columns = summ5.columns.swaplevel()"
   ]
  },
  {
   "cell_type": "code",
   "execution_count": 183,
   "id": "03134af0",
   "metadata": {},
   "outputs": [
    {
     "data": {
      "text/html": [
       "<div>\n",
       "<style scoped>\n",
       "    .dataframe tbody tr th:only-of-type {\n",
       "        vertical-align: middle;\n",
       "    }\n",
       "\n",
       "    .dataframe tbody tr th {\n",
       "        vertical-align: top;\n",
       "    }\n",
       "\n",
       "    .dataframe thead tr th {\n",
       "        text-align: left;\n",
       "    }\n",
       "\n",
       "    .dataframe thead tr:last-of-type th {\n",
       "        text-align: right;\n",
       "    }\n",
       "</style>\n",
       "<table border=\"1\" class=\"dataframe\">\n",
       "  <thead>\n",
       "    <tr>\n",
       "      <th></th>\n",
       "      <th>OperatingCost</th>\n",
       "      <th>TotalSales</th>\n",
       "      <th>OperatingCost</th>\n",
       "      <th>TotalSales</th>\n",
       "    </tr>\n",
       "    <tr>\n",
       "      <th></th>\n",
       "      <th>sum</th>\n",
       "      <th>sum</th>\n",
       "      <th>mean</th>\n",
       "      <th>mean</th>\n",
       "    </tr>\n",
       "    <tr>\n",
       "      <th>Location</th>\n",
       "      <th></th>\n",
       "      <th></th>\n",
       "      <th></th>\n",
       "      <th></th>\n",
       "    </tr>\n",
       "  </thead>\n",
       "  <tbody>\n",
       "    <tr>\n",
       "      <th>Chennai</th>\n",
       "      <td>129.5</td>\n",
       "      <td>2235.4</td>\n",
       "      <td>16.1875</td>\n",
       "      <td>279.4250</td>\n",
       "    </tr>\n",
       "    <tr>\n",
       "      <th>Delhi</th>\n",
       "      <td>161.7</td>\n",
       "      <td>1777.7</td>\n",
       "      <td>20.2125</td>\n",
       "      <td>222.2125</td>\n",
       "    </tr>\n",
       "    <tr>\n",
       "      <th>Kolkata</th>\n",
       "      <td>174.8</td>\n",
       "      <td>1612.4</td>\n",
       "      <td>21.8500</td>\n",
       "      <td>201.5500</td>\n",
       "    </tr>\n",
       "    <tr>\n",
       "      <th>Mumbai</th>\n",
       "      <td>176.9</td>\n",
       "      <td>1757.6</td>\n",
       "      <td>22.1125</td>\n",
       "      <td>219.7000</td>\n",
       "    </tr>\n",
       "  </tbody>\n",
       "</table>\n",
       "</div>"
      ],
      "text/plain": [
       "         OperatingCost TotalSales OperatingCost TotalSales\n",
       "                   sum        sum          mean       mean\n",
       "Location                                                  \n",
       "Chennai          129.5     2235.4       16.1875   279.4250\n",
       "Delhi            161.7     1777.7       20.2125   222.2125\n",
       "Kolkata          174.8     1612.4       21.8500   201.5500\n",
       "Mumbai           176.9     1757.6       22.1125   219.7000"
      ]
     },
     "execution_count": 183,
     "metadata": {},
     "output_type": "execute_result"
    }
   ],
   "source": [
    "summ5"
   ]
  },
  {
   "cell_type": "code",
   "execution_count": 179,
   "id": "714998c0",
   "metadata": {},
   "outputs": [
    {
     "name": "stdout",
     "output_type": "stream",
     "text": [
      "['T', '__abs__', '__add__', '__and__', '__annotations__', '__array__', '__array_priority__', '__array_wrap__', '__bool__', '__class__', '__contains__', '__copy__', '__deepcopy__', '__delattr__', '__dict__', '__dir__', '__divmod__', '__doc__', '__eq__', '__floordiv__', '__format__', '__ge__', '__getattribute__', '__getitem__', '__gt__', '__hash__', '__iadd__', '__init__', '__init_subclass__', '__inv__', '__isub__', '__iter__', '__le__', '__len__', '__lt__', '__mod__', '__module__', '__mul__', '__ne__', '__neg__', '__new__', '__nonzero__', '__or__', '__pos__', '__pow__', '__radd__', '__rand__', '__rdivmod__', '__reduce__', '__reduce_ex__', '__repr__', '__rfloordiv__', '__rmod__', '__rmul__', '__ror__', '__rpow__', '__rsub__', '__rtruediv__', '__rxor__', '__setattr__', '__setitem__', '__sizeof__', '__str__', '__sub__', '__subclasshook__', '__truediv__', '__weakref__', '__xor__', '_accessors', '_arith_method', '_assert_can_do_setop', '_attributes', '_cache', '_can_hold_identifiers_and_holds_name', '_can_hold_na', '_can_hold_strings', '_can_reindex', '_can_union_without_object_cast', '_check_indexing_error', '_cleanup', '_cmp_method', '_codes', '_coerce_scalar_to_index', '_comparables', '_concat', '_constructor', '_convert_arr_indexer', '_convert_can_do_setop', '_convert_list_indexer', '_convert_listlike_indexer', '_convert_slice_indexer', '_convert_tolerance', '_defer_to_indexing', '_difference', '_dir_additions', '_dir_additions_for_owner', '_dir_deletions', '_drop_from_level', '_drop_level_numbers', '_engine', '_engine_type', '_filter_indexer_tolerance', '_format_attrs', '_format_data', '_format_duplicate_message', '_format_native_types', '_format_space', '_format_with_header', '_formatter_func', '_get_attributes_dict', '_get_codes_for_sorting', '_get_engine_target', '_get_fill_indexer', '_get_fill_indexer_searchsorted', '_get_grouper_for_level', '_get_indexer_non_comparable', '_get_level_indexer', '_get_level_number', '_get_level_values', '_get_loc_level', '_get_loc_single_level_index', '_get_names', '_get_nearest_indexer', '_get_partial_string_timestamp_match_key', '_get_reconciled_name_object', '_get_string_slice', '_get_unique_index', '_get_values_for_loc', '_has_complex_internals', '_hidden_attrs', '_id', '_index_as_unique', '_inferred_type_levels', '_inner_indexer', '_intersection', '_invalid_indexer', '_is_all_dates', '_is_comparable_dtype', '_is_memory_usage_qualified', '_is_numeric_dtype', '_is_strictly_monotonic_decreasing', '_is_strictly_monotonic_increasing', '_isnan', '_join_level', '_join_monotonic', '_join_multi', '_join_non_unique', '_join_precedence', '_left_indexer', '_left_indexer_unique', '_levels', '_lexsort_depth', '_logical_method', '_map_values', '_maybe_cast_indexer', '_maybe_cast_slice_bound', '_maybe_check_unique', '_maybe_disable_logical_methods', '_maybe_disallow_fill', '_maybe_promote', '_mpl_repr', '_na_value', '_name', '_names', '_nan_idxs', '_nbytes', '_no_setting_name', '_outer_indexer', '_partial_tup_index', '_reduce', '_reindex_non_unique', '_reorder_indexer', '_require_scalar', '_reset_cache', '_reset_identity', '_scalar_data_error', '_searchsorted_monotonic', '_set_codes', '_set_levels', '_set_names', '_shallow_copy', '_should_compare', '_should_fallback_to_positional', '_simple_new', '_sort_levels_monotonic', '_string_data_error', '_summary', '_supports_partial_string_indexing', '_transform_index', '_typ', '_unary_method', '_union', '_union_incompatible_dtypes', '_validate_codes', '_validate_fill_value', '_validate_index_level', '_validate_indexer', '_validate_names', '_validate_positional_slice', '_validate_sort_keyword', '_values', '_verify_integrity', '_wrap_joined_index', '_wrap_setop_result', 'all', 'any', 'append', 'argmax', 'argmin', 'argsort', 'array', 'asi8', 'asof', 'asof_locs', 'astype', 'codes', 'copy', 'delete', 'difference', 'drop', 'drop_duplicates', 'droplevel', 'dropna', 'dtype', 'duplicated', 'empty', 'equal_levels', 'equals', 'factorize', 'fillna', 'format', 'from_arrays', 'from_frame', 'from_product', 'from_tuples', 'get_indexer', 'get_indexer_for', 'get_indexer_non_unique', 'get_level_values', 'get_loc', 'get_loc_level', 'get_locs', 'get_slice_bound', 'get_value', 'groupby', 'has_duplicates', 'hasnans', 'holds_integer', 'identical', 'inferred_type', 'insert', 'intersection', 'is_', 'is_all_dates', 'is_boolean', 'is_categorical', 'is_floating', 'is_integer', 'is_interval', 'is_lexsorted', 'is_mixed', 'is_monotonic', 'is_monotonic_decreasing', 'is_monotonic_increasing', 'is_numeric', 'is_object', 'is_type_compatible', 'is_unique', 'isin', 'isna', 'isnull', 'item', 'join', 'levels', 'levshape', 'lexsort_depth', 'map', 'max', 'memory_usage', 'min', 'name', 'names', 'nbytes', 'ndim', 'nlevels', 'notna', 'notnull', 'nunique', 'putmask', 'ravel', 'reindex', 'remove_unused_levels', 'rename', 'reorder_levels', 'repeat', 'searchsorted', 'set_codes', 'set_levels', 'set_names', 'shape', 'shift', 'size', 'slice_indexer', 'slice_locs', 'sort', 'sort_values', 'sortlevel', 'sortorder', 'swaplevel', 'symmetric_difference', 'take', 'to_flat_index', 'to_frame', 'to_list', 'to_native_types', 'to_numpy', 'to_series', 'transpose', 'truncate', 'union', 'unique', 'value_counts', 'values', 'view', 'where']\n"
     ]
    }
   ],
   "source": [
    "print(dir(summ5.columns))"
   ]
  },
  {
   "cell_type": "code",
   "execution_count": null,
   "id": "d2061f14",
   "metadata": {},
   "outputs": [],
   "source": []
  },
  {
   "cell_type": "code",
   "execution_count": null,
   "id": "d80cfa89",
   "metadata": {},
   "outputs": [],
   "source": [
    "## columns, index, multiindex"
   ]
  },
  {
   "cell_type": "code",
   "execution_count": 172,
   "id": "18899ab3",
   "metadata": {},
   "outputs": [
    {
     "name": "stdout",
     "output_type": "stream",
     "text": [
      "['T', '__abs__', '__add__', '__and__', '__annotations__', '__array__', '__array_priority__', '__array_wrap__', '__bool__', '__class__', '__contains__', '__copy__', '__deepcopy__', '__delattr__', '__dict__', '__dir__', '__divmod__', '__doc__', '__eq__', '__floordiv__', '__format__', '__ge__', '__getattribute__', '__getitem__', '__gt__', '__hash__', '__iadd__', '__init__', '__init_subclass__', '__inv__', '__isub__', '__iter__', '__le__', '__len__', '__lt__', '__mod__', '__module__', '__mul__', '__ne__', '__neg__', '__new__', '__nonzero__', '__or__', '__pos__', '__pow__', '__radd__', '__rand__', '__rdivmod__', '__reduce__', '__reduce_ex__', '__repr__', '__rfloordiv__', '__rmod__', '__rmul__', '__ror__', '__rpow__', '__rsub__', '__rtruediv__', '__rxor__', '__setattr__', '__setitem__', '__sizeof__', '__str__', '__sub__', '__subclasshook__', '__truediv__', '__weakref__', '__xor__', '_accessors', '_arith_method', '_assert_can_do_setop', '_attributes', '_cache', '_can_hold_identifiers_and_holds_name', '_can_hold_na', '_can_hold_strings', '_can_reindex', '_can_union_without_object_cast', '_check_indexing_error', '_cleanup', '_cmp_method', '_codes', '_coerce_scalar_to_index', '_comparables', '_concat', '_constructor', '_convert_arr_indexer', '_convert_can_do_setop', '_convert_list_indexer', '_convert_listlike_indexer', '_convert_slice_indexer', '_convert_tolerance', '_defer_to_indexing', '_difference', '_dir_additions', '_dir_additions_for_owner', '_dir_deletions', '_drop_from_level', '_drop_level_numbers', '_engine', '_engine_type', '_filter_indexer_tolerance', '_format_attrs', '_format_data', '_format_duplicate_message', '_format_native_types', '_format_space', '_format_with_header', '_formatter_func', '_get_attributes_dict', '_get_codes_for_sorting', '_get_engine_target', '_get_fill_indexer', '_get_fill_indexer_searchsorted', '_get_grouper_for_level', '_get_indexer_non_comparable', '_get_level_indexer', '_get_level_number', '_get_level_values', '_get_loc_level', '_get_loc_single_level_index', '_get_names', '_get_nearest_indexer', '_get_partial_string_timestamp_match_key', '_get_reconciled_name_object', '_get_string_slice', '_get_unique_index', '_get_values_for_loc', '_has_complex_internals', '_hidden_attrs', '_id', '_index_as_unique', '_inferred_type_levels', '_inner_indexer', '_intersection', '_invalid_indexer', '_is_all_dates', '_is_comparable_dtype', '_is_memory_usage_qualified', '_is_numeric_dtype', '_is_strictly_monotonic_decreasing', '_is_strictly_monotonic_increasing', '_isnan', '_join_level', '_join_monotonic', '_join_multi', '_join_non_unique', '_join_precedence', '_left_indexer', '_left_indexer_unique', '_levels', '_lexsort_depth', '_logical_method', '_map_values', '_maybe_cast_indexer', '_maybe_cast_slice_bound', '_maybe_check_unique', '_maybe_disable_logical_methods', '_maybe_disallow_fill', '_maybe_promote', '_mpl_repr', '_na_value', '_name', '_names', '_nan_idxs', '_nbytes', '_no_setting_name', '_outer_indexer', '_partial_tup_index', '_reduce', '_reindex_non_unique', '_reorder_indexer', '_require_scalar', '_reset_cache', '_reset_identity', '_scalar_data_error', '_searchsorted_monotonic', '_set_codes', '_set_levels', '_set_names', '_shallow_copy', '_should_compare', '_should_fallback_to_positional', '_simple_new', '_sort_levels_monotonic', '_string_data_error', '_summary', '_supports_partial_string_indexing', '_transform_index', '_typ', '_unary_method', '_union', '_union_incompatible_dtypes', '_validate_codes', '_validate_fill_value', '_validate_index_level', '_validate_indexer', '_validate_names', '_validate_positional_slice', '_validate_sort_keyword', '_values', '_verify_integrity', '_wrap_joined_index', '_wrap_setop_result', 'all', 'any', 'append', 'argmax', 'argmin', 'argsort', 'array', 'asi8', 'asof', 'asof_locs', 'astype', 'codes', 'copy', 'delete', 'difference', 'drop', 'drop_duplicates', 'droplevel', 'dropna', 'dtype', 'duplicated', 'empty', 'equal_levels', 'equals', 'factorize', 'fillna', 'format', 'from_arrays', 'from_frame', 'from_product', 'from_tuples', 'get_indexer', 'get_indexer_for', 'get_indexer_non_unique', 'get_level_values', 'get_loc', 'get_loc_level', 'get_locs', 'get_slice_bound', 'get_value', 'groupby', 'has_duplicates', 'hasnans', 'holds_integer', 'identical', 'inferred_type', 'insert', 'intersection', 'is_', 'is_all_dates', 'is_boolean', 'is_categorical', 'is_floating', 'is_integer', 'is_interval', 'is_lexsorted', 'is_mixed', 'is_monotonic', 'is_monotonic_decreasing', 'is_monotonic_increasing', 'is_numeric', 'is_object', 'is_type_compatible', 'is_unique', 'isin', 'isna', 'isnull', 'item', 'join', 'levels', 'levshape', 'lexsort_depth', 'map', 'max', 'memory_usage', 'min', 'name', 'names', 'nbytes', 'ndim', 'nlevels', 'notna', 'notnull', 'nunique', 'putmask', 'ravel', 'reindex', 'remove_unused_levels', 'rename', 'reorder_levels', 'repeat', 'searchsorted', 'set_codes', 'set_levels', 'set_names', 'shape', 'shift', 'size', 'slice_indexer', 'slice_locs', 'sort', 'sort_values', 'sortlevel', 'sortorder', 'swaplevel', 'symmetric_difference', 'take', 'to_flat_index', 'to_frame', 'to_list', 'to_native_types', 'to_numpy', 'to_series', 'transpose', 'truncate', 'union', 'unique', 'value_counts', 'values', 'view', 'where']\n"
     ]
    }
   ],
   "source": [
    "print(dir(summ5.columns))"
   ]
  },
  {
   "cell_type": "code",
   "execution_count": 174,
   "id": "2ed06f45",
   "metadata": {},
   "outputs": [],
   "source": [
    "summ5.columns = summ5.columns.swaplevel()"
   ]
  },
  {
   "cell_type": "code",
   "execution_count": null,
   "id": "890e7754",
   "metadata": {},
   "outputs": [],
   "source": []
  },
  {
   "cell_type": "code",
   "execution_count": 175,
   "id": "2141f890",
   "metadata": {},
   "outputs": [
    {
     "data": {
      "text/html": [
       "<div>\n",
       "<style scoped>\n",
       "    .dataframe tbody tr th:only-of-type {\n",
       "        vertical-align: middle;\n",
       "    }\n",
       "\n",
       "    .dataframe tbody tr th {\n",
       "        vertical-align: top;\n",
       "    }\n",
       "\n",
       "    .dataframe thead tr th {\n",
       "        text-align: left;\n",
       "    }\n",
       "\n",
       "    .dataframe thead tr:last-of-type th {\n",
       "        text-align: right;\n",
       "    }\n",
       "</style>\n",
       "<table border=\"1\" class=\"dataframe\">\n",
       "  <thead>\n",
       "    <tr>\n",
       "      <th></th>\n",
       "      <th>OperatingCost</th>\n",
       "      <th>TotalSales</th>\n",
       "      <th>OperatingCost</th>\n",
       "      <th>TotalSales</th>\n",
       "    </tr>\n",
       "    <tr>\n",
       "      <th></th>\n",
       "      <th>sum</th>\n",
       "      <th>sum</th>\n",
       "      <th>mean</th>\n",
       "      <th>mean</th>\n",
       "    </tr>\n",
       "    <tr>\n",
       "      <th>Location</th>\n",
       "      <th></th>\n",
       "      <th></th>\n",
       "      <th></th>\n",
       "      <th></th>\n",
       "    </tr>\n",
       "  </thead>\n",
       "  <tbody>\n",
       "    <tr>\n",
       "      <th>Chennai</th>\n",
       "      <td>129.5</td>\n",
       "      <td>2235.4</td>\n",
       "      <td>16.1875</td>\n",
       "      <td>279.4250</td>\n",
       "    </tr>\n",
       "    <tr>\n",
       "      <th>Delhi</th>\n",
       "      <td>161.7</td>\n",
       "      <td>1777.7</td>\n",
       "      <td>20.2125</td>\n",
       "      <td>222.2125</td>\n",
       "    </tr>\n",
       "    <tr>\n",
       "      <th>Kolkata</th>\n",
       "      <td>174.8</td>\n",
       "      <td>1612.4</td>\n",
       "      <td>21.8500</td>\n",
       "      <td>201.5500</td>\n",
       "    </tr>\n",
       "    <tr>\n",
       "      <th>Mumbai</th>\n",
       "      <td>176.9</td>\n",
       "      <td>1757.6</td>\n",
       "      <td>22.1125</td>\n",
       "      <td>219.7000</td>\n",
       "    </tr>\n",
       "  </tbody>\n",
       "</table>\n",
       "</div>"
      ],
      "text/plain": [
       "         OperatingCost TotalSales OperatingCost TotalSales\n",
       "                   sum        sum          mean       mean\n",
       "Location                                                  \n",
       "Chennai          129.5     2235.4       16.1875   279.4250\n",
       "Delhi            161.7     1777.7       20.2125   222.2125\n",
       "Kolkata          174.8     1612.4       21.8500   201.5500\n",
       "Mumbai           176.9     1757.6       22.1125   219.7000"
      ]
     },
     "execution_count": 175,
     "metadata": {},
     "output_type": "execute_result"
    }
   ],
   "source": [
    "summ5"
   ]
  },
  {
   "cell_type": "code",
   "execution_count": null,
   "id": "23d6369c",
   "metadata": {},
   "outputs": [],
   "source": []
  },
  {
   "cell_type": "code",
   "execution_count": 189,
   "id": "5c339b16",
   "metadata": {},
   "outputs": [
    {
     "data": {
      "text/html": [
       "<div>\n",
       "<style scoped>\n",
       "    .dataframe tbody tr th:only-of-type {\n",
       "        vertical-align: middle;\n",
       "    }\n",
       "\n",
       "    .dataframe tbody tr th {\n",
       "        vertical-align: top;\n",
       "    }\n",
       "\n",
       "    .dataframe thead tr th {\n",
       "        text-align: left;\n",
       "    }\n",
       "\n",
       "    .dataframe thead tr:last-of-type th {\n",
       "        text-align: right;\n",
       "    }\n",
       "</style>\n",
       "<table border=\"1\" class=\"dataframe\">\n",
       "  <thead>\n",
       "    <tr>\n",
       "      <th></th>\n",
       "      <th colspan=\"3\" halign=\"left\">sum</th>\n",
       "      <th colspan=\"3\" halign=\"left\">mean</th>\n",
       "    </tr>\n",
       "    <tr>\n",
       "      <th>StoreType</th>\n",
       "      <th>Apparel</th>\n",
       "      <th>Electronincs</th>\n",
       "      <th>Super Market</th>\n",
       "      <th>Apparel</th>\n",
       "      <th>Electronincs</th>\n",
       "      <th>Super Market</th>\n",
       "    </tr>\n",
       "    <tr>\n",
       "      <th>Location</th>\n",
       "      <th></th>\n",
       "      <th></th>\n",
       "      <th></th>\n",
       "      <th></th>\n",
       "      <th></th>\n",
       "      <th></th>\n",
       "    </tr>\n",
       "  </thead>\n",
       "  <tbody>\n",
       "    <tr>\n",
       "      <th>Chennai</th>\n",
       "      <td>915.4</td>\n",
       "      <td>600.8</td>\n",
       "      <td>719.2</td>\n",
       "      <td>305.133333</td>\n",
       "      <td>300.40</td>\n",
       "      <td>239.733333</td>\n",
       "    </tr>\n",
       "    <tr>\n",
       "      <th>Delhi</th>\n",
       "      <td>745.0</td>\n",
       "      <td>306.7</td>\n",
       "      <td>726.0</td>\n",
       "      <td>248.333333</td>\n",
       "      <td>153.35</td>\n",
       "      <td>242.000000</td>\n",
       "    </tr>\n",
       "    <tr>\n",
       "      <th>Kolkata</th>\n",
       "      <td>525.0</td>\n",
       "      <td>521.0</td>\n",
       "      <td>566.4</td>\n",
       "      <td>175.000000</td>\n",
       "      <td>260.50</td>\n",
       "      <td>188.800000</td>\n",
       "    </tr>\n",
       "    <tr>\n",
       "      <th>Mumbai</th>\n",
       "      <td>700.7</td>\n",
       "      <td>790.0</td>\n",
       "      <td>266.9</td>\n",
       "      <td>233.566667</td>\n",
       "      <td>395.00</td>\n",
       "      <td>88.966667</td>\n",
       "    </tr>\n",
       "  </tbody>\n",
       "</table>\n",
       "</div>"
      ],
      "text/plain": [
       "              sum                                  mean               \\\n",
       "StoreType Apparel Electronincs Super Market     Apparel Electronincs   \n",
       "Location                                                               \n",
       "Chennai     915.4        600.8        719.2  305.133333       300.40   \n",
       "Delhi       745.0        306.7        726.0  248.333333       153.35   \n",
       "Kolkata     525.0        521.0        566.4  175.000000       260.50   \n",
       "Mumbai      700.7        790.0        266.9  233.566667       395.00   \n",
       "\n",
       "                        \n",
       "StoreType Super Market  \n",
       "Location                \n",
       "Chennai     239.733333  \n",
       "Delhi       242.000000  \n",
       "Kolkata     188.800000  \n",
       "Mumbai       88.966667  "
      ]
     },
     "execution_count": 189,
     "metadata": {},
     "output_type": "execute_result"
    }
   ],
   "source": [
    "## Q: create a crosstab where locations come up in the index. Columns are Storetype. Cells are total sales\n",
    "\n",
    "stores.pivot_table(index=\"Location\", columns=\"StoreType\", values=\"TotalSales\", aggfunc=['sum', 'mean'])"
   ]
  },
  {
   "cell_type": "code",
   "execution_count": 185,
   "id": "99263b0b",
   "metadata": {},
   "outputs": [],
   "source": [
    "## crosstab are very common in python"
   ]
  },
  {
   "cell_type": "markdown",
   "id": "3ebf0c03",
   "metadata": {},
   "source": [
    "## `pd.crosstab`"
   ]
  },
  {
   "cell_type": "code",
   "execution_count": 188,
   "id": "43d0bb2c",
   "metadata": {},
   "outputs": [
    {
     "ename": "KeyError",
     "evalue": "'__dummy__'",
     "output_type": "error",
     "traceback": [
      "\u001b[1;31m---------------------------------------------------------------------------\u001b[0m",
      "\u001b[1;31mKeyError\u001b[0m                                  Traceback (most recent call last)",
      "\u001b[1;32m~\\anaconda3\\lib\\site-packages\\pandas\\core\\indexes\\base.py\u001b[0m in \u001b[0;36mget_loc\u001b[1;34m(self, key, method, tolerance)\u001b[0m\n\u001b[0;32m   3079\u001b[0m             \u001b[1;32mtry\u001b[0m\u001b[1;33m:\u001b[0m\u001b[1;33m\u001b[0m\u001b[1;33m\u001b[0m\u001b[0m\n\u001b[1;32m-> 3080\u001b[1;33m                 \u001b[1;32mreturn\u001b[0m \u001b[0mself\u001b[0m\u001b[1;33m.\u001b[0m\u001b[0m_engine\u001b[0m\u001b[1;33m.\u001b[0m\u001b[0mget_loc\u001b[0m\u001b[1;33m(\u001b[0m\u001b[0mcasted_key\u001b[0m\u001b[1;33m)\u001b[0m\u001b[1;33m\u001b[0m\u001b[1;33m\u001b[0m\u001b[0m\n\u001b[0m\u001b[0;32m   3081\u001b[0m             \u001b[1;32mexcept\u001b[0m \u001b[0mKeyError\u001b[0m \u001b[1;32mas\u001b[0m \u001b[0merr\u001b[0m\u001b[1;33m:\u001b[0m\u001b[1;33m\u001b[0m\u001b[1;33m\u001b[0m\u001b[0m\n",
      "\u001b[1;32mpandas\\_libs\\index.pyx\u001b[0m in \u001b[0;36mpandas._libs.index.IndexEngine.get_loc\u001b[1;34m()\u001b[0m\n",
      "\u001b[1;32mpandas\\_libs\\index.pyx\u001b[0m in \u001b[0;36mpandas._libs.index.IndexEngine.get_loc\u001b[1;34m()\u001b[0m\n",
      "\u001b[1;32mpandas\\_libs\\hashtable_class_helper.pxi\u001b[0m in \u001b[0;36mpandas._libs.hashtable.PyObjectHashTable.get_item\u001b[1;34m()\u001b[0m\n",
      "\u001b[1;32mpandas\\_libs\\hashtable_class_helper.pxi\u001b[0m in \u001b[0;36mpandas._libs.hashtable.PyObjectHashTable.get_item\u001b[1;34m()\u001b[0m\n",
      "\u001b[1;31mKeyError\u001b[0m: '__dummy__'",
      "\nThe above exception was the direct cause of the following exception:\n",
      "\u001b[1;31mKeyError\u001b[0m                                  Traceback (most recent call last)",
      "\u001b[1;32m<ipython-input-188-3a177fda29e1>\u001b[0m in \u001b[0;36m<module>\u001b[1;34m\u001b[0m\n\u001b[1;32m----> 1\u001b[1;33m \u001b[0mpd\u001b[0m\u001b[1;33m.\u001b[0m\u001b[0mcrosstab\u001b[0m\u001b[1;33m(\u001b[0m\u001b[0mindex\u001b[0m\u001b[1;33m=\u001b[0m\u001b[0mstores\u001b[0m\u001b[1;33m.\u001b[0m\u001b[0mLocation\u001b[0m\u001b[1;33m,\u001b[0m \u001b[0mcolumns\u001b[0m\u001b[1;33m=\u001b[0m\u001b[0mstores\u001b[0m\u001b[1;33m.\u001b[0m\u001b[0mStoreType\u001b[0m\u001b[1;33m,\u001b[0m \u001b[0mvalues\u001b[0m\u001b[1;33m=\u001b[0m\u001b[0mstores\u001b[0m\u001b[1;33m.\u001b[0m\u001b[0mTotalSales\u001b[0m\u001b[1;33m,\u001b[0m \u001b[0maggfunc\u001b[0m\u001b[1;33m=\u001b[0m\u001b[1;33m[\u001b[0m\u001b[1;34m'sum'\u001b[0m\u001b[1;33m,\u001b[0m \u001b[1;34m'mean'\u001b[0m\u001b[1;33m]\u001b[0m\u001b[1;33m)\u001b[0m\u001b[1;33m\u001b[0m\u001b[1;33m\u001b[0m\u001b[0m\n\u001b[0m",
      "\u001b[1;32m~\\anaconda3\\lib\\site-packages\\pandas\\core\\reshape\\pivot.py\u001b[0m in \u001b[0;36mcrosstab\u001b[1;34m(index, columns, values, rownames, colnames, aggfunc, margins, margins_name, dropna, normalize)\u001b[0m\n\u001b[0;32m    620\u001b[0m     \u001b[1;32mif\u001b[0m \u001b[1;32mnot\u001b[0m \u001b[0mtable\u001b[0m\u001b[1;33m.\u001b[0m\u001b[0mempty\u001b[0m\u001b[1;33m:\u001b[0m\u001b[1;33m\u001b[0m\u001b[1;33m\u001b[0m\u001b[0m\n\u001b[0;32m    621\u001b[0m         \u001b[0mcols_diff\u001b[0m \u001b[1;33m=\u001b[0m \u001b[0mdf\u001b[0m\u001b[1;33m.\u001b[0m\u001b[0mcolumns\u001b[0m\u001b[1;33m.\u001b[0m\u001b[0mdifference\u001b[0m\u001b[1;33m(\u001b[0m\u001b[0moriginal_df_cols\u001b[0m\u001b[1;33m)\u001b[0m\u001b[1;33m[\u001b[0m\u001b[1;36m0\u001b[0m\u001b[1;33m]\u001b[0m\u001b[1;33m\u001b[0m\u001b[1;33m\u001b[0m\u001b[0m\n\u001b[1;32m--> 622\u001b[1;33m         \u001b[0mtable\u001b[0m \u001b[1;33m=\u001b[0m \u001b[0mtable\u001b[0m\u001b[1;33m[\u001b[0m\u001b[0mcols_diff\u001b[0m\u001b[1;33m]\u001b[0m\u001b[1;33m\u001b[0m\u001b[1;33m\u001b[0m\u001b[0m\n\u001b[0m\u001b[0;32m    623\u001b[0m \u001b[1;33m\u001b[0m\u001b[0m\n\u001b[0;32m    624\u001b[0m     \u001b[1;31m# Post-process\u001b[0m\u001b[1;33m\u001b[0m\u001b[1;33m\u001b[0m\u001b[1;33m\u001b[0m\u001b[0m\n",
      "\u001b[1;32m~\\anaconda3\\lib\\site-packages\\pandas\\core\\frame.py\u001b[0m in \u001b[0;36m__getitem__\u001b[1;34m(self, key)\u001b[0m\n\u001b[0;32m   3021\u001b[0m         \u001b[1;32mif\u001b[0m \u001b[0mis_single_key\u001b[0m\u001b[1;33m:\u001b[0m\u001b[1;33m\u001b[0m\u001b[1;33m\u001b[0m\u001b[0m\n\u001b[0;32m   3022\u001b[0m             \u001b[1;32mif\u001b[0m \u001b[0mself\u001b[0m\u001b[1;33m.\u001b[0m\u001b[0mcolumns\u001b[0m\u001b[1;33m.\u001b[0m\u001b[0mnlevels\u001b[0m \u001b[1;33m>\u001b[0m \u001b[1;36m1\u001b[0m\u001b[1;33m:\u001b[0m\u001b[1;33m\u001b[0m\u001b[1;33m\u001b[0m\u001b[0m\n\u001b[1;32m-> 3023\u001b[1;33m                 \u001b[1;32mreturn\u001b[0m \u001b[0mself\u001b[0m\u001b[1;33m.\u001b[0m\u001b[0m_getitem_multilevel\u001b[0m\u001b[1;33m(\u001b[0m\u001b[0mkey\u001b[0m\u001b[1;33m)\u001b[0m\u001b[1;33m\u001b[0m\u001b[1;33m\u001b[0m\u001b[0m\n\u001b[0m\u001b[0;32m   3024\u001b[0m             \u001b[0mindexer\u001b[0m \u001b[1;33m=\u001b[0m \u001b[0mself\u001b[0m\u001b[1;33m.\u001b[0m\u001b[0mcolumns\u001b[0m\u001b[1;33m.\u001b[0m\u001b[0mget_loc\u001b[0m\u001b[1;33m(\u001b[0m\u001b[0mkey\u001b[0m\u001b[1;33m)\u001b[0m\u001b[1;33m\u001b[0m\u001b[1;33m\u001b[0m\u001b[0m\n\u001b[0;32m   3025\u001b[0m             \u001b[1;32mif\u001b[0m \u001b[0mis_integer\u001b[0m\u001b[1;33m(\u001b[0m\u001b[0mindexer\u001b[0m\u001b[1;33m)\u001b[0m\u001b[1;33m:\u001b[0m\u001b[1;33m\u001b[0m\u001b[1;33m\u001b[0m\u001b[0m\n",
      "\u001b[1;32m~\\anaconda3\\lib\\site-packages\\pandas\\core\\frame.py\u001b[0m in \u001b[0;36m_getitem_multilevel\u001b[1;34m(self, key)\u001b[0m\n\u001b[0;32m   3072\u001b[0m     \u001b[1;32mdef\u001b[0m \u001b[0m_getitem_multilevel\u001b[0m\u001b[1;33m(\u001b[0m\u001b[0mself\u001b[0m\u001b[1;33m,\u001b[0m \u001b[0mkey\u001b[0m\u001b[1;33m)\u001b[0m\u001b[1;33m:\u001b[0m\u001b[1;33m\u001b[0m\u001b[1;33m\u001b[0m\u001b[0m\n\u001b[0;32m   3073\u001b[0m         \u001b[1;31m# self.columns is a MultiIndex\u001b[0m\u001b[1;33m\u001b[0m\u001b[1;33m\u001b[0m\u001b[1;33m\u001b[0m\u001b[0m\n\u001b[1;32m-> 3074\u001b[1;33m         \u001b[0mloc\u001b[0m \u001b[1;33m=\u001b[0m \u001b[0mself\u001b[0m\u001b[1;33m.\u001b[0m\u001b[0mcolumns\u001b[0m\u001b[1;33m.\u001b[0m\u001b[0mget_loc\u001b[0m\u001b[1;33m(\u001b[0m\u001b[0mkey\u001b[0m\u001b[1;33m)\u001b[0m\u001b[1;33m\u001b[0m\u001b[1;33m\u001b[0m\u001b[0m\n\u001b[0m\u001b[0;32m   3075\u001b[0m         \u001b[1;32mif\u001b[0m \u001b[0misinstance\u001b[0m\u001b[1;33m(\u001b[0m\u001b[0mloc\u001b[0m\u001b[1;33m,\u001b[0m \u001b[1;33m(\u001b[0m\u001b[0mslice\u001b[0m\u001b[1;33m,\u001b[0m \u001b[0mnp\u001b[0m\u001b[1;33m.\u001b[0m\u001b[0mndarray\u001b[0m\u001b[1;33m)\u001b[0m\u001b[1;33m)\u001b[0m\u001b[1;33m:\u001b[0m\u001b[1;33m\u001b[0m\u001b[1;33m\u001b[0m\u001b[0m\n\u001b[0;32m   3076\u001b[0m             \u001b[0mnew_columns\u001b[0m \u001b[1;33m=\u001b[0m \u001b[0mself\u001b[0m\u001b[1;33m.\u001b[0m\u001b[0mcolumns\u001b[0m\u001b[1;33m[\u001b[0m\u001b[0mloc\u001b[0m\u001b[1;33m]\u001b[0m\u001b[1;33m\u001b[0m\u001b[1;33m\u001b[0m\u001b[0m\n",
      "\u001b[1;32m~\\anaconda3\\lib\\site-packages\\pandas\\core\\indexes\\multi.py\u001b[0m in \u001b[0;36mget_loc\u001b[1;34m(self, key, method)\u001b[0m\n\u001b[0;32m   2874\u001b[0m \u001b[1;33m\u001b[0m\u001b[0m\n\u001b[0;32m   2875\u001b[0m         \u001b[1;32mif\u001b[0m \u001b[1;32mnot\u001b[0m \u001b[0misinstance\u001b[0m\u001b[1;33m(\u001b[0m\u001b[0mkey\u001b[0m\u001b[1;33m,\u001b[0m \u001b[0mtuple\u001b[0m\u001b[1;33m)\u001b[0m\u001b[1;33m:\u001b[0m\u001b[1;33m\u001b[0m\u001b[1;33m\u001b[0m\u001b[0m\n\u001b[1;32m-> 2876\u001b[1;33m             \u001b[0mloc\u001b[0m \u001b[1;33m=\u001b[0m \u001b[0mself\u001b[0m\u001b[1;33m.\u001b[0m\u001b[0m_get_level_indexer\u001b[0m\u001b[1;33m(\u001b[0m\u001b[0mkey\u001b[0m\u001b[1;33m,\u001b[0m \u001b[0mlevel\u001b[0m\u001b[1;33m=\u001b[0m\u001b[1;36m0\u001b[0m\u001b[1;33m)\u001b[0m\u001b[1;33m\u001b[0m\u001b[1;33m\u001b[0m\u001b[0m\n\u001b[0m\u001b[0;32m   2877\u001b[0m             \u001b[1;32mreturn\u001b[0m \u001b[0m_maybe_to_slice\u001b[0m\u001b[1;33m(\u001b[0m\u001b[0mloc\u001b[0m\u001b[1;33m)\u001b[0m\u001b[1;33m\u001b[0m\u001b[1;33m\u001b[0m\u001b[0m\n\u001b[0;32m   2878\u001b[0m \u001b[1;33m\u001b[0m\u001b[0m\n",
      "\u001b[1;32m~\\anaconda3\\lib\\site-packages\\pandas\\core\\indexes\\multi.py\u001b[0m in \u001b[0;36m_get_level_indexer\u001b[1;34m(self, key, level, indexer)\u001b[0m\n\u001b[0;32m   3156\u001b[0m         \u001b[1;32melse\u001b[0m\u001b[1;33m:\u001b[0m\u001b[1;33m\u001b[0m\u001b[1;33m\u001b[0m\u001b[0m\n\u001b[0;32m   3157\u001b[0m \u001b[1;33m\u001b[0m\u001b[0m\n\u001b[1;32m-> 3158\u001b[1;33m             \u001b[0midx\u001b[0m \u001b[1;33m=\u001b[0m \u001b[0mself\u001b[0m\u001b[1;33m.\u001b[0m\u001b[0m_get_loc_single_level_index\u001b[0m\u001b[1;33m(\u001b[0m\u001b[0mlevel_index\u001b[0m\u001b[1;33m,\u001b[0m \u001b[0mkey\u001b[0m\u001b[1;33m)\u001b[0m\u001b[1;33m\u001b[0m\u001b[1;33m\u001b[0m\u001b[0m\n\u001b[0m\u001b[0;32m   3159\u001b[0m \u001b[1;33m\u001b[0m\u001b[0m\n\u001b[0;32m   3160\u001b[0m             \u001b[1;32mif\u001b[0m \u001b[0mlevel\u001b[0m \u001b[1;33m>\u001b[0m \u001b[1;36m0\u001b[0m \u001b[1;32mor\u001b[0m \u001b[0mself\u001b[0m\u001b[1;33m.\u001b[0m\u001b[0mlexsort_depth\u001b[0m \u001b[1;33m==\u001b[0m \u001b[1;36m0\u001b[0m\u001b[1;33m:\u001b[0m\u001b[1;33m\u001b[0m\u001b[1;33m\u001b[0m\u001b[0m\n",
      "\u001b[1;32m~\\anaconda3\\lib\\site-packages\\pandas\\core\\indexes\\multi.py\u001b[0m in \u001b[0;36m_get_loc_single_level_index\u001b[1;34m(self, level_index, key)\u001b[0m\n\u001b[0;32m   2807\u001b[0m             \u001b[1;32mreturn\u001b[0m \u001b[1;33m-\u001b[0m\u001b[1;36m1\u001b[0m\u001b[1;33m\u001b[0m\u001b[1;33m\u001b[0m\u001b[0m\n\u001b[0;32m   2808\u001b[0m         \u001b[1;32melse\u001b[0m\u001b[1;33m:\u001b[0m\u001b[1;33m\u001b[0m\u001b[1;33m\u001b[0m\u001b[0m\n\u001b[1;32m-> 2809\u001b[1;33m             \u001b[1;32mreturn\u001b[0m \u001b[0mlevel_index\u001b[0m\u001b[1;33m.\u001b[0m\u001b[0mget_loc\u001b[0m\u001b[1;33m(\u001b[0m\u001b[0mkey\u001b[0m\u001b[1;33m)\u001b[0m\u001b[1;33m\u001b[0m\u001b[1;33m\u001b[0m\u001b[0m\n\u001b[0m\u001b[0;32m   2810\u001b[0m \u001b[1;33m\u001b[0m\u001b[0m\n\u001b[0;32m   2811\u001b[0m     \u001b[1;32mdef\u001b[0m \u001b[0mget_loc\u001b[0m\u001b[1;33m(\u001b[0m\u001b[0mself\u001b[0m\u001b[1;33m,\u001b[0m \u001b[0mkey\u001b[0m\u001b[1;33m,\u001b[0m \u001b[0mmethod\u001b[0m\u001b[1;33m=\u001b[0m\u001b[1;32mNone\u001b[0m\u001b[1;33m)\u001b[0m\u001b[1;33m:\u001b[0m\u001b[1;33m\u001b[0m\u001b[1;33m\u001b[0m\u001b[0m\n",
      "\u001b[1;32m~\\anaconda3\\lib\\site-packages\\pandas\\core\\indexes\\base.py\u001b[0m in \u001b[0;36mget_loc\u001b[1;34m(self, key, method, tolerance)\u001b[0m\n\u001b[0;32m   3080\u001b[0m                 \u001b[1;32mreturn\u001b[0m \u001b[0mself\u001b[0m\u001b[1;33m.\u001b[0m\u001b[0m_engine\u001b[0m\u001b[1;33m.\u001b[0m\u001b[0mget_loc\u001b[0m\u001b[1;33m(\u001b[0m\u001b[0mcasted_key\u001b[0m\u001b[1;33m)\u001b[0m\u001b[1;33m\u001b[0m\u001b[1;33m\u001b[0m\u001b[0m\n\u001b[0;32m   3081\u001b[0m             \u001b[1;32mexcept\u001b[0m \u001b[0mKeyError\u001b[0m \u001b[1;32mas\u001b[0m \u001b[0merr\u001b[0m\u001b[1;33m:\u001b[0m\u001b[1;33m\u001b[0m\u001b[1;33m\u001b[0m\u001b[0m\n\u001b[1;32m-> 3082\u001b[1;33m                 \u001b[1;32mraise\u001b[0m \u001b[0mKeyError\u001b[0m\u001b[1;33m(\u001b[0m\u001b[0mkey\u001b[0m\u001b[1;33m)\u001b[0m \u001b[1;32mfrom\u001b[0m \u001b[0merr\u001b[0m\u001b[1;33m\u001b[0m\u001b[1;33m\u001b[0m\u001b[0m\n\u001b[0m\u001b[0;32m   3083\u001b[0m \u001b[1;33m\u001b[0m\u001b[0m\n\u001b[0;32m   3084\u001b[0m         \u001b[1;32mif\u001b[0m \u001b[0mtolerance\u001b[0m \u001b[1;32mis\u001b[0m \u001b[1;32mnot\u001b[0m \u001b[1;32mNone\u001b[0m\u001b[1;33m:\u001b[0m\u001b[1;33m\u001b[0m\u001b[1;33m\u001b[0m\u001b[0m\n",
      "\u001b[1;31mKeyError\u001b[0m: '__dummy__'"
     ]
    }
   ],
   "source": [
    "pd.crosstab(index=stores.Location, columns=stores.StoreType, values=stores.TotalSales, aggfunc='sum')"
   ]
  },
  {
   "cell_type": "code",
   "execution_count": 190,
   "id": "1456d8ba",
   "metadata": {},
   "outputs": [],
   "source": [
    "# statsmodels\n",
    "\n",
    "## joins\n",
    "## outlier treatment\n",
    "## creating groups and bins\n",
    "## duplicates\n",
    "\n",
    "\n",
    "data = pd.read_excel(\"d:/data/stock_price_data2.xlsx\")"
   ]
  },
  {
   "cell_type": "code",
   "execution_count": 192,
   "id": "1f5e9c2e",
   "metadata": {},
   "outputs": [
    {
     "name": "stdout",
     "output_type": "stream",
     "text": [
      "<class 'pandas.core.frame.DataFrame'>\n",
      "RangeIndex: 6149 entries, 0 to 6148\n",
      "Data columns (total 7 columns):\n",
      " #   Column     Non-Null Count  Dtype         \n",
      "---  ------     --------------  -----         \n",
      " 0   Date       6149 non-null   datetime64[ns]\n",
      " 1   Open       6149 non-null   float64       \n",
      " 2   High       6149 non-null   float64       \n",
      " 3   Low        6149 non-null   float64       \n",
      " 4   Close      6149 non-null   float64       \n",
      " 5   Adj Close  6149 non-null   float64       \n",
      " 6   Volume     6149 non-null   int64         \n",
      "dtypes: datetime64[ns](1), float64(5), int64(1)\n",
      "memory usage: 336.4 KB\n"
     ]
    }
   ],
   "source": [
    "data.info()"
   ]
  },
  {
   "cell_type": "code",
   "execution_count": 195,
   "id": "94630a14",
   "metadata": {},
   "outputs": [],
   "source": [
    "data.set_index('Date', inplace=True)"
   ]
  },
  {
   "cell_type": "code",
   "execution_count": 198,
   "id": "01affce3",
   "metadata": {},
   "outputs": [
    {
     "ename": "KeyError",
     "evalue": "'2023-1-1'",
     "output_type": "error",
     "traceback": [
      "\u001b[1;31m---------------------------------------------------------------------------\u001b[0m",
      "\u001b[1;31mKeyError\u001b[0m                                  Traceback (most recent call last)",
      "\u001b[1;32mpandas\\_libs\\index.pyx\u001b[0m in \u001b[0;36mpandas._libs.index.DatetimeEngine.get_loc\u001b[1;34m()\u001b[0m\n",
      "\u001b[1;32mpandas\\_libs\\hashtable_class_helper.pxi\u001b[0m in \u001b[0;36mpandas._libs.hashtable.Int64HashTable.get_item\u001b[1;34m()\u001b[0m\n",
      "\u001b[1;32mpandas\\_libs\\hashtable_class_helper.pxi\u001b[0m in \u001b[0;36mpandas._libs.hashtable.Int64HashTable.get_item\u001b[1;34m()\u001b[0m\n",
      "\u001b[1;31mKeyError\u001b[0m: 1672531200000000000",
      "\nDuring handling of the above exception, another exception occurred:\n",
      "\u001b[1;31mKeyError\u001b[0m                                  Traceback (most recent call last)",
      "\u001b[1;32m~\\anaconda3\\lib\\site-packages\\pandas\\core\\indexes\\base.py\u001b[0m in \u001b[0;36mget_loc\u001b[1;34m(self, key, method, tolerance)\u001b[0m\n\u001b[0;32m   3079\u001b[0m             \u001b[1;32mtry\u001b[0m\u001b[1;33m:\u001b[0m\u001b[1;33m\u001b[0m\u001b[1;33m\u001b[0m\u001b[0m\n\u001b[1;32m-> 3080\u001b[1;33m                 \u001b[1;32mreturn\u001b[0m \u001b[0mself\u001b[0m\u001b[1;33m.\u001b[0m\u001b[0m_engine\u001b[0m\u001b[1;33m.\u001b[0m\u001b[0mget_loc\u001b[0m\u001b[1;33m(\u001b[0m\u001b[0mcasted_key\u001b[0m\u001b[1;33m)\u001b[0m\u001b[1;33m\u001b[0m\u001b[1;33m\u001b[0m\u001b[0m\n\u001b[0m\u001b[0;32m   3081\u001b[0m             \u001b[1;32mexcept\u001b[0m \u001b[0mKeyError\u001b[0m \u001b[1;32mas\u001b[0m \u001b[0merr\u001b[0m\u001b[1;33m:\u001b[0m\u001b[1;33m\u001b[0m\u001b[1;33m\u001b[0m\u001b[0m\n",
      "\u001b[1;32mpandas\\_libs\\index.pyx\u001b[0m in \u001b[0;36mpandas._libs.index.DatetimeEngine.get_loc\u001b[1;34m()\u001b[0m\n",
      "\u001b[1;32mpandas\\_libs\\index.pyx\u001b[0m in \u001b[0;36mpandas._libs.index.DatetimeEngine.get_loc\u001b[1;34m()\u001b[0m\n",
      "\u001b[1;31mKeyError\u001b[0m: Timestamp('2023-01-01 00:00:00')",
      "\nThe above exception was the direct cause of the following exception:\n",
      "\u001b[1;31mKeyError\u001b[0m                                  Traceback (most recent call last)",
      "\u001b[1;32m~\\anaconda3\\lib\\site-packages\\pandas\\core\\indexes\\datetimes.py\u001b[0m in \u001b[0;36mget_loc\u001b[1;34m(self, key, method, tolerance)\u001b[0m\n\u001b[0;32m    685\u001b[0m         \u001b[1;32mtry\u001b[0m\u001b[1;33m:\u001b[0m\u001b[1;33m\u001b[0m\u001b[1;33m\u001b[0m\u001b[0m\n\u001b[1;32m--> 686\u001b[1;33m             \u001b[1;32mreturn\u001b[0m \u001b[0mIndex\u001b[0m\u001b[1;33m.\u001b[0m\u001b[0mget_loc\u001b[0m\u001b[1;33m(\u001b[0m\u001b[0mself\u001b[0m\u001b[1;33m,\u001b[0m \u001b[0mkey\u001b[0m\u001b[1;33m,\u001b[0m \u001b[0mmethod\u001b[0m\u001b[1;33m,\u001b[0m \u001b[0mtolerance\u001b[0m\u001b[1;33m)\u001b[0m\u001b[1;33m\u001b[0m\u001b[1;33m\u001b[0m\u001b[0m\n\u001b[0m\u001b[0;32m    687\u001b[0m         \u001b[1;32mexcept\u001b[0m \u001b[0mKeyError\u001b[0m \u001b[1;32mas\u001b[0m \u001b[0merr\u001b[0m\u001b[1;33m:\u001b[0m\u001b[1;33m\u001b[0m\u001b[1;33m\u001b[0m\u001b[0m\n",
      "\u001b[1;32m~\\anaconda3\\lib\\site-packages\\pandas\\core\\indexes\\base.py\u001b[0m in \u001b[0;36mget_loc\u001b[1;34m(self, key, method, tolerance)\u001b[0m\n\u001b[0;32m   3081\u001b[0m             \u001b[1;32mexcept\u001b[0m \u001b[0mKeyError\u001b[0m \u001b[1;32mas\u001b[0m \u001b[0merr\u001b[0m\u001b[1;33m:\u001b[0m\u001b[1;33m\u001b[0m\u001b[1;33m\u001b[0m\u001b[0m\n\u001b[1;32m-> 3082\u001b[1;33m                 \u001b[1;32mraise\u001b[0m \u001b[0mKeyError\u001b[0m\u001b[1;33m(\u001b[0m\u001b[0mkey\u001b[0m\u001b[1;33m)\u001b[0m \u001b[1;32mfrom\u001b[0m \u001b[0merr\u001b[0m\u001b[1;33m\u001b[0m\u001b[1;33m\u001b[0m\u001b[0m\n\u001b[0m\u001b[0;32m   3083\u001b[0m \u001b[1;33m\u001b[0m\u001b[0m\n",
      "\u001b[1;31mKeyError\u001b[0m: Timestamp('2023-01-01 00:00:00')",
      "\nThe above exception was the direct cause of the following exception:\n",
      "\u001b[1;31mKeyError\u001b[0m                                  Traceback (most recent call last)",
      "\u001b[1;32m<ipython-input-198-462aad9672de>\u001b[0m in \u001b[0;36m<module>\u001b[1;34m\u001b[0m\n\u001b[1;32m----> 1\u001b[1;33m \u001b[0mdata\u001b[0m\u001b[1;33m.\u001b[0m\u001b[0mloc\u001b[0m\u001b[1;33m[\u001b[0m\u001b[1;34m'2023-1-1'\u001b[0m\u001b[1;33m]\u001b[0m\u001b[1;33m\u001b[0m\u001b[1;33m\u001b[0m\u001b[0m\n\u001b[0m",
      "\u001b[1;32m~\\anaconda3\\lib\\site-packages\\pandas\\core\\indexing.py\u001b[0m in \u001b[0;36m__getitem__\u001b[1;34m(self, key)\u001b[0m\n\u001b[0;32m    893\u001b[0m \u001b[1;33m\u001b[0m\u001b[0m\n\u001b[0;32m    894\u001b[0m             \u001b[0mmaybe_callable\u001b[0m \u001b[1;33m=\u001b[0m \u001b[0mcom\u001b[0m\u001b[1;33m.\u001b[0m\u001b[0mapply_if_callable\u001b[0m\u001b[1;33m(\u001b[0m\u001b[0mkey\u001b[0m\u001b[1;33m,\u001b[0m \u001b[0mself\u001b[0m\u001b[1;33m.\u001b[0m\u001b[0mobj\u001b[0m\u001b[1;33m)\u001b[0m\u001b[1;33m\u001b[0m\u001b[1;33m\u001b[0m\u001b[0m\n\u001b[1;32m--> 895\u001b[1;33m             \u001b[1;32mreturn\u001b[0m \u001b[0mself\u001b[0m\u001b[1;33m.\u001b[0m\u001b[0m_getitem_axis\u001b[0m\u001b[1;33m(\u001b[0m\u001b[0mmaybe_callable\u001b[0m\u001b[1;33m,\u001b[0m \u001b[0maxis\u001b[0m\u001b[1;33m=\u001b[0m\u001b[0maxis\u001b[0m\u001b[1;33m)\u001b[0m\u001b[1;33m\u001b[0m\u001b[1;33m\u001b[0m\u001b[0m\n\u001b[0m\u001b[0;32m    896\u001b[0m \u001b[1;33m\u001b[0m\u001b[0m\n\u001b[0;32m    897\u001b[0m     \u001b[1;32mdef\u001b[0m \u001b[0m_is_scalar_access\u001b[0m\u001b[1;33m(\u001b[0m\u001b[0mself\u001b[0m\u001b[1;33m,\u001b[0m \u001b[0mkey\u001b[0m\u001b[1;33m:\u001b[0m \u001b[0mTuple\u001b[0m\u001b[1;33m)\u001b[0m\u001b[1;33m:\u001b[0m\u001b[1;33m\u001b[0m\u001b[1;33m\u001b[0m\u001b[0m\n",
      "\u001b[1;32m~\\anaconda3\\lib\\site-packages\\pandas\\core\\indexing.py\u001b[0m in \u001b[0;36m_getitem_axis\u001b[1;34m(self, key, axis)\u001b[0m\n\u001b[0;32m   1122\u001b[0m         \u001b[1;31m# fall thru to straight lookup\u001b[0m\u001b[1;33m\u001b[0m\u001b[1;33m\u001b[0m\u001b[1;33m\u001b[0m\u001b[0m\n\u001b[0;32m   1123\u001b[0m         \u001b[0mself\u001b[0m\u001b[1;33m.\u001b[0m\u001b[0m_validate_key\u001b[0m\u001b[1;33m(\u001b[0m\u001b[0mkey\u001b[0m\u001b[1;33m,\u001b[0m \u001b[0maxis\u001b[0m\u001b[1;33m)\u001b[0m\u001b[1;33m\u001b[0m\u001b[1;33m\u001b[0m\u001b[0m\n\u001b[1;32m-> 1124\u001b[1;33m         \u001b[1;32mreturn\u001b[0m \u001b[0mself\u001b[0m\u001b[1;33m.\u001b[0m\u001b[0m_get_label\u001b[0m\u001b[1;33m(\u001b[0m\u001b[0mkey\u001b[0m\u001b[1;33m,\u001b[0m \u001b[0maxis\u001b[0m\u001b[1;33m=\u001b[0m\u001b[0maxis\u001b[0m\u001b[1;33m)\u001b[0m\u001b[1;33m\u001b[0m\u001b[1;33m\u001b[0m\u001b[0m\n\u001b[0m\u001b[0;32m   1125\u001b[0m \u001b[1;33m\u001b[0m\u001b[0m\n\u001b[0;32m   1126\u001b[0m     \u001b[1;32mdef\u001b[0m \u001b[0m_get_slice_axis\u001b[0m\u001b[1;33m(\u001b[0m\u001b[0mself\u001b[0m\u001b[1;33m,\u001b[0m \u001b[0mslice_obj\u001b[0m\u001b[1;33m:\u001b[0m \u001b[0mslice\u001b[0m\u001b[1;33m,\u001b[0m \u001b[0maxis\u001b[0m\u001b[1;33m:\u001b[0m \u001b[0mint\u001b[0m\u001b[1;33m)\u001b[0m\u001b[1;33m:\u001b[0m\u001b[1;33m\u001b[0m\u001b[1;33m\u001b[0m\u001b[0m\n",
      "\u001b[1;32m~\\anaconda3\\lib\\site-packages\\pandas\\core\\indexing.py\u001b[0m in \u001b[0;36m_get_label\u001b[1;34m(self, label, axis)\u001b[0m\n\u001b[0;32m   1071\u001b[0m     \u001b[1;32mdef\u001b[0m \u001b[0m_get_label\u001b[0m\u001b[1;33m(\u001b[0m\u001b[0mself\u001b[0m\u001b[1;33m,\u001b[0m \u001b[0mlabel\u001b[0m\u001b[1;33m,\u001b[0m \u001b[0maxis\u001b[0m\u001b[1;33m:\u001b[0m \u001b[0mint\u001b[0m\u001b[1;33m)\u001b[0m\u001b[1;33m:\u001b[0m\u001b[1;33m\u001b[0m\u001b[1;33m\u001b[0m\u001b[0m\n\u001b[0;32m   1072\u001b[0m         \u001b[1;31m# GH#5667 this will fail if the label is not present in the axis.\u001b[0m\u001b[1;33m\u001b[0m\u001b[1;33m\u001b[0m\u001b[1;33m\u001b[0m\u001b[0m\n\u001b[1;32m-> 1073\u001b[1;33m         \u001b[1;32mreturn\u001b[0m \u001b[0mself\u001b[0m\u001b[1;33m.\u001b[0m\u001b[0mobj\u001b[0m\u001b[1;33m.\u001b[0m\u001b[0mxs\u001b[0m\u001b[1;33m(\u001b[0m\u001b[0mlabel\u001b[0m\u001b[1;33m,\u001b[0m \u001b[0maxis\u001b[0m\u001b[1;33m=\u001b[0m\u001b[0maxis\u001b[0m\u001b[1;33m)\u001b[0m\u001b[1;33m\u001b[0m\u001b[1;33m\u001b[0m\u001b[0m\n\u001b[0m\u001b[0;32m   1074\u001b[0m \u001b[1;33m\u001b[0m\u001b[0m\n\u001b[0;32m   1075\u001b[0m     \u001b[1;32mdef\u001b[0m \u001b[0m_handle_lowerdim_multi_index_axis0\u001b[0m\u001b[1;33m(\u001b[0m\u001b[0mself\u001b[0m\u001b[1;33m,\u001b[0m \u001b[0mtup\u001b[0m\u001b[1;33m:\u001b[0m \u001b[0mTuple\u001b[0m\u001b[1;33m)\u001b[0m\u001b[1;33m:\u001b[0m\u001b[1;33m\u001b[0m\u001b[1;33m\u001b[0m\u001b[0m\n",
      "\u001b[1;32m~\\anaconda3\\lib\\site-packages\\pandas\\core\\generic.py\u001b[0m in \u001b[0;36mxs\u001b[1;34m(self, key, axis, level, drop_level)\u001b[0m\n\u001b[0;32m   3737\u001b[0m                 \u001b[1;32mraise\u001b[0m \u001b[0mTypeError\u001b[0m\u001b[1;33m(\u001b[0m\u001b[1;34mf\"Expected label or tuple of labels, got {key}\"\u001b[0m\u001b[1;33m)\u001b[0m \u001b[1;32mfrom\u001b[0m \u001b[0me\u001b[0m\u001b[1;33m\u001b[0m\u001b[1;33m\u001b[0m\u001b[0m\n\u001b[0;32m   3738\u001b[0m         \u001b[1;32melse\u001b[0m\u001b[1;33m:\u001b[0m\u001b[1;33m\u001b[0m\u001b[1;33m\u001b[0m\u001b[0m\n\u001b[1;32m-> 3739\u001b[1;33m             \u001b[0mloc\u001b[0m \u001b[1;33m=\u001b[0m \u001b[0mindex\u001b[0m\u001b[1;33m.\u001b[0m\u001b[0mget_loc\u001b[0m\u001b[1;33m(\u001b[0m\u001b[0mkey\u001b[0m\u001b[1;33m)\u001b[0m\u001b[1;33m\u001b[0m\u001b[1;33m\u001b[0m\u001b[0m\n\u001b[0m\u001b[0;32m   3740\u001b[0m \u001b[1;33m\u001b[0m\u001b[0m\n\u001b[0;32m   3741\u001b[0m             \u001b[1;32mif\u001b[0m \u001b[0misinstance\u001b[0m\u001b[1;33m(\u001b[0m\u001b[0mloc\u001b[0m\u001b[1;33m,\u001b[0m \u001b[0mnp\u001b[0m\u001b[1;33m.\u001b[0m\u001b[0mndarray\u001b[0m\u001b[1;33m)\u001b[0m\u001b[1;33m:\u001b[0m\u001b[1;33m\u001b[0m\u001b[1;33m\u001b[0m\u001b[0m\n",
      "\u001b[1;32m~\\anaconda3\\lib\\site-packages\\pandas\\core\\indexes\\datetimes.py\u001b[0m in \u001b[0;36mget_loc\u001b[1;34m(self, key, method, tolerance)\u001b[0m\n\u001b[0;32m    686\u001b[0m             \u001b[1;32mreturn\u001b[0m \u001b[0mIndex\u001b[0m\u001b[1;33m.\u001b[0m\u001b[0mget_loc\u001b[0m\u001b[1;33m(\u001b[0m\u001b[0mself\u001b[0m\u001b[1;33m,\u001b[0m \u001b[0mkey\u001b[0m\u001b[1;33m,\u001b[0m \u001b[0mmethod\u001b[0m\u001b[1;33m,\u001b[0m \u001b[0mtolerance\u001b[0m\u001b[1;33m)\u001b[0m\u001b[1;33m\u001b[0m\u001b[1;33m\u001b[0m\u001b[0m\n\u001b[0;32m    687\u001b[0m         \u001b[1;32mexcept\u001b[0m \u001b[0mKeyError\u001b[0m \u001b[1;32mas\u001b[0m \u001b[0merr\u001b[0m\u001b[1;33m:\u001b[0m\u001b[1;33m\u001b[0m\u001b[1;33m\u001b[0m\u001b[0m\n\u001b[1;32m--> 688\u001b[1;33m             \u001b[1;32mraise\u001b[0m \u001b[0mKeyError\u001b[0m\u001b[1;33m(\u001b[0m\u001b[0morig_key\u001b[0m\u001b[1;33m)\u001b[0m \u001b[1;32mfrom\u001b[0m \u001b[0merr\u001b[0m\u001b[1;33m\u001b[0m\u001b[1;33m\u001b[0m\u001b[0m\n\u001b[0m\u001b[0;32m    689\u001b[0m \u001b[1;33m\u001b[0m\u001b[0m\n\u001b[0;32m    690\u001b[0m     \u001b[1;32mdef\u001b[0m \u001b[0m_maybe_cast_for_get_loc\u001b[0m\u001b[1;33m(\u001b[0m\u001b[0mself\u001b[0m\u001b[1;33m,\u001b[0m \u001b[0mkey\u001b[0m\u001b[1;33m)\u001b[0m \u001b[1;33m->\u001b[0m \u001b[0mTimestamp\u001b[0m\u001b[1;33m:\u001b[0m\u001b[1;33m\u001b[0m\u001b[1;33m\u001b[0m\u001b[0m\n",
      "\u001b[1;31mKeyError\u001b[0m: '2023-1-1'"
     ]
    }
   ],
   "source": [
    "data.loc['2023-1-1']"
   ]
  },
  {
   "cell_type": "code",
   "execution_count": 199,
   "id": "b6d5bd45",
   "metadata": {},
   "outputs": [
    {
     "data": {
      "text/html": [
       "<div>\n",
       "<style scoped>\n",
       "    .dataframe tbody tr th:only-of-type {\n",
       "        vertical-align: middle;\n",
       "    }\n",
       "\n",
       "    .dataframe tbody tr th {\n",
       "        vertical-align: top;\n",
       "    }\n",
       "\n",
       "    .dataframe thead th {\n",
       "        text-align: right;\n",
       "    }\n",
       "</style>\n",
       "<table border=\"1\" class=\"dataframe\">\n",
       "  <thead>\n",
       "    <tr style=\"text-align: right;\">\n",
       "      <th></th>\n",
       "      <th>Open</th>\n",
       "      <th>High</th>\n",
       "      <th>Low</th>\n",
       "      <th>Close</th>\n",
       "      <th>Adj Close</th>\n",
       "      <th>Volume</th>\n",
       "    </tr>\n",
       "    <tr>\n",
       "      <th>Date</th>\n",
       "      <th></th>\n",
       "      <th></th>\n",
       "      <th></th>\n",
       "      <th></th>\n",
       "      <th></th>\n",
       "      <th></th>\n",
       "    </tr>\n",
       "  </thead>\n",
       "  <tbody>\n",
       "    <tr>\n",
       "      <th>1998-11-27</th>\n",
       "      <td>3.550000</td>\n",
       "      <td>3.550000</td>\n",
       "      <td>2.710000</td>\n",
       "      <td>3.400000</td>\n",
       "      <td>2.257744</td>\n",
       "      <td>21000</td>\n",
       "    </tr>\n",
       "    <tr>\n",
       "      <th>1998-11-30</th>\n",
       "      <td>3.250000</td>\n",
       "      <td>3.300000</td>\n",
       "      <td>3.100000</td>\n",
       "      <td>3.210000</td>\n",
       "      <td>2.131575</td>\n",
       "      <td>132000</td>\n",
       "    </tr>\n",
       "    <tr>\n",
       "      <th>1998-12-01</th>\n",
       "      <td>3.290000</td>\n",
       "      <td>3.460000</td>\n",
       "      <td>3.220000</td>\n",
       "      <td>3.390000</td>\n",
       "      <td>2.251104</td>\n",
       "      <td>123500</td>\n",
       "    </tr>\n",
       "    <tr>\n",
       "      <th>1998-12-02</th>\n",
       "      <td>3.360000</td>\n",
       "      <td>3.440000</td>\n",
       "      <td>3.320000</td>\n",
       "      <td>3.390000</td>\n",
       "      <td>2.251104</td>\n",
       "      <td>75500</td>\n",
       "    </tr>\n",
       "    <tr>\n",
       "      <th>1998-12-03</th>\n",
       "      <td>3.440000</td>\n",
       "      <td>3.490000</td>\n",
       "      <td>3.370000</td>\n",
       "      <td>3.390000</td>\n",
       "      <td>2.251104</td>\n",
       "      <td>102000</td>\n",
       "    </tr>\n",
       "    <tr>\n",
       "      <th>...</th>\n",
       "      <td>...</td>\n",
       "      <td>...</td>\n",
       "      <td>...</td>\n",
       "      <td>...</td>\n",
       "      <td>...</td>\n",
       "      <td>...</td>\n",
       "    </tr>\n",
       "    <tr>\n",
       "      <th>2023-06-19</th>\n",
       "      <td>983.849976</td>\n",
       "      <td>986.000000</td>\n",
       "      <td>961.000000</td>\n",
       "      <td>965.650024</td>\n",
       "      <td>965.650024</td>\n",
       "      <td>11025846</td>\n",
       "    </tr>\n",
       "    <tr>\n",
       "      <th>2023-06-20</th>\n",
       "      <td>965.950012</td>\n",
       "      <td>977.000000</td>\n",
       "      <td>958.549988</td>\n",
       "      <td>974.849976</td>\n",
       "      <td>974.849976</td>\n",
       "      <td>7596593</td>\n",
       "    </tr>\n",
       "    <tr>\n",
       "      <th>2023-06-21</th>\n",
       "      <td>978.299988</td>\n",
       "      <td>978.299988</td>\n",
       "      <td>963.150024</td>\n",
       "      <td>966.000000</td>\n",
       "      <td>966.000000</td>\n",
       "      <td>7805855</td>\n",
       "    </tr>\n",
       "    <tr>\n",
       "      <th>2023-06-22</th>\n",
       "      <td>962.200012</td>\n",
       "      <td>973.450012</td>\n",
       "      <td>958.700012</td>\n",
       "      <td>966.599976</td>\n",
       "      <td>966.599976</td>\n",
       "      <td>10135883</td>\n",
       "    </tr>\n",
       "    <tr>\n",
       "      <th>2023-06-23</th>\n",
       "      <td>960.000000</td>\n",
       "      <td>965.500000</td>\n",
       "      <td>954.549988</td>\n",
       "      <td>958.400024</td>\n",
       "      <td>958.400024</td>\n",
       "      <td>6188008</td>\n",
       "    </tr>\n",
       "  </tbody>\n",
       "</table>\n",
       "<p>6149 rows × 6 columns</p>\n",
       "</div>"
      ],
      "text/plain": [
       "                  Open        High         Low       Close   Adj Close  \\\n",
       "Date                                                                     \n",
       "1998-11-27    3.550000    3.550000    2.710000    3.400000    2.257744   \n",
       "1998-11-30    3.250000    3.300000    3.100000    3.210000    2.131575   \n",
       "1998-12-01    3.290000    3.460000    3.220000    3.390000    2.251104   \n",
       "1998-12-02    3.360000    3.440000    3.320000    3.390000    2.251104   \n",
       "1998-12-03    3.440000    3.490000    3.370000    3.390000    2.251104   \n",
       "...                ...         ...         ...         ...         ...   \n",
       "2023-06-19  983.849976  986.000000  961.000000  965.650024  965.650024   \n",
       "2023-06-20  965.950012  977.000000  958.549988  974.849976  974.849976   \n",
       "2023-06-21  978.299988  978.299988  963.150024  966.000000  966.000000   \n",
       "2023-06-22  962.200012  973.450012  958.700012  966.599976  966.599976   \n",
       "2023-06-23  960.000000  965.500000  954.549988  958.400024  958.400024   \n",
       "\n",
       "              Volume  \n",
       "Date                  \n",
       "1998-11-27     21000  \n",
       "1998-11-30    132000  \n",
       "1998-12-01    123500  \n",
       "1998-12-02     75500  \n",
       "1998-12-03    102000  \n",
       "...              ...  \n",
       "2023-06-19  11025846  \n",
       "2023-06-20   7596593  \n",
       "2023-06-21   7805855  \n",
       "2023-06-22  10135883  \n",
       "2023-06-23   6188008  \n",
       "\n",
       "[6149 rows x 6 columns]"
      ]
     },
     "execution_count": 199,
     "metadata": {},
     "output_type": "execute_result"
    }
   ],
   "source": [
    "data"
   ]
  },
  {
   "cell_type": "code",
   "execution_count": null,
   "id": "9b938aee",
   "metadata": {},
   "outputs": [],
   "source": []
  },
  {
   "cell_type": "code",
   "execution_count": 208,
   "id": "42a91481",
   "metadata": {},
   "outputs": [
    {
     "data": {
      "text/plain": [
       "<AxesSubplot:xlabel='Date'>"
      ]
     },
     "execution_count": 208,
     "metadata": {},
     "output_type": "execute_result"
    },
    {
     "data": {
      "image/png": "[encoded data removed]",
      "text/plain": [
       "<Figure size 432x288 with 1 Axes>"
      ]
     },
     "metadata": {
      "needs_background": "light"
     },
     "output_type": "display_data"
    }
   ],
   "source": [
    "data.loc['2023-01-01': '2023-02-01']"
   ]
  },
  {
   "cell_type": "code",
   "execution_count": null,
   "id": "5528eb3f",
   "metadata": {},
   "outputs": [],
   "source": [
    "## datetime and it is an index\n",
    "## .loc"
   ]
  }
 ],
 "metadata": {
  "kernelspec": {
   "display_name": "Python 3 (ipykernel)",
   "language": "python",
   "name": "python3"
  },
  "language_info": {
   "codemirror_mode": {
    "name": "ipython",
    "version": 3
   },
   "file_extension": ".py",
   "mimetype": "text/x-python",
   "name": "python",
   "nbconvert_exporter": "python",
   "pygments_lexer": "ipython3",
   "version": "3.9.7"
  }
 },
 "nbformat": 4,
 "nbformat_minor": 5
}
