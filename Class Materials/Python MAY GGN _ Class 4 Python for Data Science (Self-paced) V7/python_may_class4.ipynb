{
 "cells": [
  {
   "cell_type": "markdown",
   "id": "d24524d1",
   "metadata": {},
   "source": [
    "## Object Oriented Programming\n",
    "\n",
    "Object Oriented Programming is a programming paradigm or a way of programming where we like to package variables and functions that have some kind of similarity together. For example, there can be a lot of different functions that should only be applied to strings. So, for better code management, it makes sense to package all these functions together.\n",
    "\n",
    "In OOPs, one needs to under 4 core concepts which are:\n",
    "\n",
    "1. class\n",
    "2. object\n",
    "3. attribute\n",
    "4. method\n",
    "\n",
    "A **class** is a template that only needs to be created once. This is the blueprint based on which many many objects can be created. For example, in python, `str` is a class which contains the code for all the functionality regarding strings. When we actually create a string variable, that is what is called an **object** of class `str`.\n",
    "\n",
    "A class or an object can be thought of as the combination of data and functionality packaged together. The data or the variables of an object are referred to as **attributes**. The functions that belong to a particular object are called **methods**.\n",
    "\n",
    "**Important interview question**\n",
    "\n",
    "Q: What is the difference between a function and a method?\n",
    "\n",
    "Ans: A method is a function which is specific to a particular object.\n",
    "\n",
    "\n",
    "\n",
    "\n"
   ]
  },
  {
   "cell_type": "code",
   "execution_count": 2,
   "id": "8a7c053a",
   "metadata": {},
   "outputs": [],
   "source": [
    "## class\n",
    "\n",
    "str1 = 'python'  ## this is an object"
   ]
  },
  {
   "cell_type": "code",
   "execution_count": 3,
   "id": "a3b9e706",
   "metadata": {},
   "outputs": [
    {
     "name": "stdout",
     "output_type": "stream",
     "text": [
      "<class 'str'>\n"
     ]
    }
   ],
   "source": [
    "print(type(str1)) ## this is the class"
   ]
  },
  {
   "cell_type": "markdown",
   "id": "8091c279",
   "metadata": {},
   "source": [
    "**if you ever want to see all the methods and attributes that belong to a class or an object, we can use the\n",
    "`dir()` function**"
   ]
  },
  {
   "cell_type": "code",
   "execution_count": 6,
   "id": "938f764e",
   "metadata": {},
   "outputs": [
    {
     "name": "stdout",
     "output_type": "stream",
     "text": [
      "['__add__', '__class__', '__contains__', '__delattr__', '__dir__', '__doc__', '__eq__', '__format__', '__ge__', '__getattribute__', '__getitem__', '__getnewargs__', '__gt__', '__hash__', '__init__', '__init_subclass__', '__iter__', '__le__', '__len__', '__lt__', '__mod__', '__mul__', '__ne__', '__new__', '__reduce__', '__reduce_ex__', '__repr__', '__rmod__', '__rmul__', '__setattr__', '__sizeof__', '__str__', '__subclasshook__', 'capitalize', 'casefold', 'center', 'count', 'encode', 'endswith', 'expandtabs', 'find', 'format', 'format_map', 'index', 'isalnum', 'isalpha', 'isascii', 'isdecimal', 'isdigit', 'isidentifier', 'islower', 'isnumeric', 'isprintable', 'isspace', 'istitle', 'isupper', 'join', 'ljust', 'lower', 'lstrip', 'maketrans', 'partition', 'replace', 'rfind', 'rindex', 'rjust', 'rpartition', 'rsplit', 'rstrip', 'split', 'splitlines', 'startswith', 'strip', 'swapcase', 'title', 'translate', 'upper', 'zfill']\n"
     ]
    }
   ],
   "source": [
    "print( dir(str1) )"
   ]
  },
  {
   "cell_type": "markdown",
   "id": "2d45b718",
   "metadata": {},
   "source": [
    "The above output shows all the attributes and methods that belong to the `str` class. In order to use the attributes and methods of an object, use the `dot (.)` operator.\n",
    "\n",
    "syntax:\n",
    "\n",
    "`object_name.attribute_name` - to get an attribute\n",
    "\n",
    "`object_name.method_name()` - to execute a method\n",
    "\n",
    "Note that we need to provide parethesis or round brackets along with methods and not with attributes. This is the same thing as how we need to provide parenthesis when using functions but not with variable names."
   ]
  },
  {
   "cell_type": "code",
   "execution_count": null,
   "id": "9285b6db",
   "metadata": {},
   "outputs": [],
   "source": []
  },
  {
   "cell_type": "code",
   "execution_count": 7,
   "id": "5e60cccb",
   "metadata": {},
   "outputs": [
    {
     "data": {
      "text/plain": [
       "'PYTHON'"
      ]
     },
     "execution_count": 7,
     "metadata": {},
     "output_type": "execute_result"
    }
   ],
   "source": [
    "## using the upper() method on a string\n",
    "\n",
    "str1.upper()"
   ]
  },
  {
   "cell_type": "markdown",
   "id": "6f36ff53",
   "metadata": {},
   "source": [
    "**Two very important things to keep in mind**\n",
    "\n",
    "1. It is impossible to remember the names and purposes of all the functions and methods in python. So to figure out what a function or a method does or in other words, to check the documentation of a function or method in jupyter:\n",
    "\n",
    "    - simple use the ? symbol after the name of a function (do not provide parenthesis in this method), or\n",
    "    - when inside the parenthesis () of a function or method, press `shift + tab`\n",
    "    \n",
    "    \n",
    "2. In python, some of the methods or functions will lead to a permanent in your variable by default and others will not. To get a sense of whether a method leads to a permanent change, just see whether you are getting an output after executing a cell.\n",
    "\n",
    "    - If you get an output - No permanent change has happened\n",
    "    - If you do not get an output - Permanent change has happened"
   ]
  },
  {
   "cell_type": "code",
   "execution_count": 3,
   "id": "84cb78f4",
   "metadata": {},
   "outputs": [],
   "source": [
    "## check the documentation of upper() method\n",
    "\n",
    "str1.upper?"
   ]
  },
  {
   "cell_type": "code",
   "execution_count": 4,
   "id": "60476aa8",
   "metadata": {},
   "outputs": [],
   "source": [
    "## check the documentation of print() function in python\n",
    "\n",
    "print?"
   ]
  },
  {
   "cell_type": "code",
   "execution_count": 5,
   "id": "27cc93ca",
   "metadata": {},
   "outputs": [
    {
     "data": {
      "text/plain": [
       "'PYTHON'"
      ]
     },
     "execution_count": 5,
     "metadata": {},
     "output_type": "execute_result"
    }
   ],
   "source": [
    "## just executing the upper() method doesn't lead to a permanent change in the variable as we can still see an output\n",
    "\n",
    "str1.upper()"
   ]
  },
  {
   "cell_type": "code",
   "execution_count": 6,
   "id": "13b9ea33",
   "metadata": {},
   "outputs": [],
   "source": [
    "## to make a permanent change, reassign the output back to the variable's name\n",
    "\n",
    "str1 = str1.upper()"
   ]
  },
  {
   "cell_type": "markdown",
   "id": "1457011d",
   "metadata": {},
   "source": [
    "#### `.replace()` method\n",
    "\n",
    "to replace a substring with another substring"
   ]
  },
  {
   "cell_type": "code",
   "execution_count": 15,
   "id": "d60e252d",
   "metadata": {},
   "outputs": [],
   "source": [
    "## replace method\n",
    "\n",
    "str2 = 'hello world'"
   ]
  },
  {
   "cell_type": "code",
   "execution_count": 19,
   "id": "971e0df9",
   "metadata": {},
   "outputs": [],
   "source": [
    "str2 = str2.replace(\" \", \"_\")  ## replace space with underscore"
   ]
  },
  {
   "cell_type": "code",
   "execution_count": 20,
   "id": "3f3221b3",
   "metadata": {},
   "outputs": [
    {
     "data": {
      "text/plain": [
       "'hello_world'"
      ]
     },
     "execution_count": 20,
     "metadata": {},
     "output_type": "execute_result"
    }
   ],
   "source": [
    "str2"
   ]
  },
  {
   "cell_type": "code",
   "execution_count": 42,
   "id": "0c4860b5",
   "metadata": {},
   "outputs": [],
   "source": [
    "## Q1: change this amount to an integer type using replace\n",
    "\n",
    "amount = '$123,456'"
   ]
  },
  {
   "cell_type": "code",
   "execution_count": 44,
   "id": "3d5fcf4a",
   "metadata": {},
   "outputs": [],
   "source": [
    "amount = int( amount.replace('$', '').replace(',', '') )"
   ]
  },
  {
   "cell_type": "code",
   "execution_count": 48,
   "id": "58df43a3",
   "metadata": {},
   "outputs": [
    {
     "data": {
      "text/plain": [
       "123456"
      ]
     },
     "execution_count": 48,
     "metadata": {},
     "output_type": "execute_result"
    }
   ],
   "source": [
    "amount"
   ]
  },
  {
   "cell_type": "code",
   "execution_count": 47,
   "id": "e0e45ad2",
   "metadata": {},
   "outputs": [
    {
     "data": {
      "text/plain": [
       "int"
      ]
     },
     "execution_count": 47,
     "metadata": {},
     "output_type": "execute_result"
    }
   ],
   "source": [
    "type(amount)"
   ]
  },
  {
   "cell_type": "markdown",
   "id": "c8f35a86",
   "metadata": {},
   "source": [
    "#### `.split()` method\n",
    "\n",
    "used to split a string into substrings based on spaces (by default). "
   ]
  },
  {
   "cell_type": "code",
   "execution_count": 49,
   "id": "83375f75",
   "metadata": {},
   "outputs": [],
   "source": [
    "## split()\n",
    "\n",
    "str3 = \"\"\"Indian IT stocks underperformed in 2022 amid warnings \n",
    "of a potential slowdown in business on global recession fears and \n",
    "earnings downgrades. The IT Services sector is expected to report \n",
    "moderate growth in Q3FY23, primarily on account of the seasonally weak\n",
    "quarter and slowing growth momentum led by uncertainties in the US and UK.\"\"\""
   ]
  },
  {
   "cell_type": "code",
   "execution_count": 53,
   "id": "b3799356",
   "metadata": {},
   "outputs": [
    {
     "name": "stdout",
     "output_type": "stream",
     "text": [
      "['Indian', 'IT', 'stocks', 'underperformed', 'in', '2022', 'amid', 'warnings', 'of', 'a', 'potential', 'slowdown', 'in', 'business', 'on', 'global', 'recession', 'fears', 'and', 'earnings', 'downgrades.', 'The', 'IT', 'Services', 'sector', 'is', 'expected', 'to', 'report', 'moderate', 'growth', 'in', 'Q3FY23,', 'primarily', 'on', 'account', 'of', 'the', 'seasonally', 'weak', 'quarter', 'and', 'slowing', 'growth', 'momentum', 'led', 'by', 'uncertainties', 'in', 'the', 'US', 'and', 'UK.']\n"
     ]
    }
   ],
   "source": [
    "print( str3.split() )  ## the output is a string of words"
   ]
  },
  {
   "cell_type": "markdown",
   "id": "d5311379",
   "metadata": {},
   "source": [
    "#### `.find()` method\n",
    "\n",
    "find the index position of a substring inside a string"
   ]
  },
  {
   "cell_type": "code",
   "execution_count": 7,
   "id": "5d175a72",
   "metadata": {},
   "outputs": [],
   "source": [
    "## find\n",
    "\n",
    "str4 = 'hello world'"
   ]
  },
  {
   "cell_type": "code",
   "execution_count": 59,
   "id": "30152bd5",
   "metadata": {},
   "outputs": [
    {
     "data": {
      "text/plain": [
       "6"
      ]
     },
     "execution_count": 59,
     "metadata": {},
     "output_type": "execute_result"
    }
   ],
   "source": [
    "str4.find('w') ## returns the position of the first occurence of w"
   ]
  },
  {
   "cell_type": "code",
   "execution_count": 8,
   "id": "ed23e59c",
   "metadata": {},
   "outputs": [
    {
     "data": {
      "text/plain": [
       "4"
      ]
     },
     "execution_count": 8,
     "metadata": {},
     "output_type": "execute_result"
    }
   ],
   "source": [
    "str4.find('o') ## returns the first occurence"
   ]
  },
  {
   "cell_type": "code",
   "execution_count": 9,
   "id": "882b5735",
   "metadata": {},
   "outputs": [
    {
     "data": {
      "text/plain": [
       "7"
      ]
     },
     "execution_count": 9,
     "metadata": {},
     "output_type": "execute_result"
    }
   ],
   "source": [
    "str4.find('o', str4.find('o') + 1 )  ## to get the second occurence of o, we can also provide a second argument to this method\n",
    "                                        ## which is the index position where it must start searching."
   ]
  },
  {
   "cell_type": "markdown",
   "id": "318d2b4f",
   "metadata": {},
   "source": [
    "## indexing and slicing\n",
    "\n",
    "Indexing and slicing are two concepts that let you extract elements from a collection or a datastructure. Since a string\n",
    "is nothing but a collection of individual characters, we can extract these characters using indexing and slicing.\n",
    "\n",
    "Indexing is used to extract a single character at a time.\n",
    "\n",
    "Slicing is used to extract more than one characters at a time\n",
    "\n",
    "**In python indexing starts at 0 and you can get a value at a particular index in a collection using square brackets `[]`**"
   ]
  },
  {
   "cell_type": "code",
   "execution_count": null,
   "id": "d496355a",
   "metadata": {},
   "outputs": [],
   "source": [
    "## indexing"
   ]
  },
  {
   "cell_type": "code",
   "execution_count": 62,
   "id": "91ea86e3",
   "metadata": {},
   "outputs": [
    {
     "data": {
      "text/plain": [
       "'h'"
      ]
     },
     "execution_count": 62,
     "metadata": {},
     "output_type": "execute_result"
    }
   ],
   "source": [
    "str4[0]  ## extract the first character"
   ]
  },
  {
   "cell_type": "code",
   "execution_count": 63,
   "id": "e53de2f4",
   "metadata": {},
   "outputs": [
    {
     "data": {
      "text/plain": [
       "'w'"
      ]
     },
     "execution_count": 63,
     "metadata": {},
     "output_type": "execute_result"
    }
   ],
   "source": [
    "str4[6]  "
   ]
  },
  {
   "cell_type": "code",
   "execution_count": 64,
   "id": "fa3f9e65",
   "metadata": {},
   "outputs": [
    {
     "data": {
      "text/plain": [
       "'w'"
      ]
     },
     "execution_count": 64,
     "metadata": {},
     "output_type": "execute_result"
    }
   ],
   "source": [
    "str4[str4.find('w')]"
   ]
  },
  {
   "cell_type": "code",
   "execution_count": 71,
   "id": "bf8d7d9c",
   "metadata": {},
   "outputs": [
    {
     "data": {
      "text/plain": [
       "'d'"
      ]
     },
     "execution_count": 71,
     "metadata": {},
     "output_type": "execute_result"
    }
   ],
   "source": [
    "str4[-1]  ## extract the last character. Indexing in python also works in the negative direction"
   ]
  },
  {
   "cell_type": "code",
   "execution_count": 72,
   "id": "696caed6",
   "metadata": {},
   "outputs": [
    {
     "data": {
      "text/plain": [
       "'hello world'"
      ]
     },
     "execution_count": 72,
     "metadata": {},
     "output_type": "execute_result"
    }
   ],
   "source": [
    "str4"
   ]
  },
  {
   "cell_type": "code",
   "execution_count": 74,
   "id": "252980f4",
   "metadata": {},
   "outputs": [
    {
     "data": {
      "text/plain": [
       "'w'"
      ]
     },
     "execution_count": 74,
     "metadata": {},
     "output_type": "execute_result"
    }
   ],
   "source": [
    "str4[-5]"
   ]
  },
  {
   "cell_type": "markdown",
   "id": "b2743e97",
   "metadata": {},
   "source": [
    "## slicing\n",
    "\n",
    "syntax:\n",
    "`collection_name[start : stop : step ]`\n",
    "\n",
    "- start defaults to 0\n",
    "- stop defaults to the last value\n",
    "- step defaults to 1\n",
    "\n",
    "**if your step is -ve, then start will default to -1 and things will work in the negative direction.**\n",
    "\n",
    "**stop is exclusive**"
   ]
  },
  {
   "cell_type": "code",
   "execution_count": 79,
   "id": "d799d524",
   "metadata": {},
   "outputs": [
    {
     "data": {
      "text/plain": [
       "'hello world'"
      ]
     },
     "execution_count": 79,
     "metadata": {},
     "output_type": "execute_result"
    }
   ],
   "source": [
    "str4[::]  ## not providing any start, stop and step values just means getting the entire as they default to 0, end \n",
    "            ## and 1 respectively"
   ]
  },
  {
   "cell_type": "code",
   "execution_count": 80,
   "id": "c907b384",
   "metadata": {},
   "outputs": [],
   "source": [
    "## Q: get world out of str4 using slicing"
   ]
  },
  {
   "cell_type": "code",
   "execution_count": 10,
   "id": "caff6103",
   "metadata": {},
   "outputs": [
    {
     "data": {
      "text/plain": [
       "'world'"
      ]
     },
     "execution_count": 10,
     "metadata": {},
     "output_type": "execute_result"
    }
   ],
   "source": [
    "str4[6:]  ## the second colon is not mandatory. If you do not need to provide step, we can just a single colon\n",
    "            ## to provide start and end values only"
   ]
  },
  {
   "cell_type": "code",
   "execution_count": 84,
   "id": "aa35140b",
   "metadata": {},
   "outputs": [
    {
     "data": {
      "text/plain": [
       "'hlowrd'"
      ]
     },
     "execution_count": 84,
     "metadata": {},
     "output_type": "execute_result"
    }
   ],
   "source": [
    "## what is the use of this step argument\n",
    "\n",
    "str4[::2]"
   ]
  },
  {
   "cell_type": "code",
   "execution_count": 85,
   "id": "6fd62cb3",
   "metadata": {},
   "outputs": [
    {
     "data": {
      "text/plain": [
       "'hello world'"
      ]
     },
     "execution_count": 85,
     "metadata": {},
     "output_type": "execute_result"
    }
   ],
   "source": [
    "## does slicing work in the negative direction? Yes\n",
    "\n",
    "str4"
   ]
  },
  {
   "cell_type": "code",
   "execution_count": 86,
   "id": "2b2bf697",
   "metadata": {},
   "outputs": [
    {
     "data": {
      "text/plain": [
       "'dlrow olleh'"
      ]
     },
     "execution_count": 86,
     "metadata": {},
     "output_type": "execute_result"
    }
   ],
   "source": [
    "str4[::-1]  ## use this to reverse a string"
   ]
  },
  {
   "cell_type": "code",
   "execution_count": 87,
   "id": "d2a82fea",
   "metadata": {},
   "outputs": [
    {
     "data": {
      "text/plain": [
       "'hello world'"
      ]
     },
     "execution_count": 87,
     "metadata": {},
     "output_type": "execute_result"
    }
   ],
   "source": [
    "str4"
   ]
  },
  {
   "cell_type": "code",
   "execution_count": 91,
   "id": "4309a249",
   "metadata": {},
   "outputs": [
    {
     "data": {
      "text/plain": [
       "'world'"
      ]
     },
     "execution_count": 91,
     "metadata": {},
     "output_type": "execute_result"
    }
   ],
   "source": [
    "str4[-5::]"
   ]
  },
  {
   "cell_type": "markdown",
   "id": "9d19f8cd",
   "metadata": {},
   "source": [
    "## file handling\n",
    "\n",
    "what is a file? named location on your disk.\n",
    "\n",
    "A file is way for us to store data permanently on disk. From python, we can access different kinds of files situated in my system. This is what is called file handling. However, each kind of file will require you to provide the kind of encoding in that file. We will look at only `.txt` files for now.\n",
    "\n",
    "\n",
    "\n",
    "In python, there are 3 steps to be followed when working with files:\n",
    "\n",
    "1. open the file using the `open()` function\n",
    "\n",
    "2. do some operations on the file like writing to the file, reading from it, etc.\n",
    "    \n",
    "3. close the file using the `.close()` method.\n",
    "\n",
    "**Note that `open()` is a function and `.close()` is a method of the file object**"
   ]
  },
  {
   "cell_type": "code",
   "execution_count": 94,
   "id": "bd3b7131",
   "metadata": {},
   "outputs": [],
   "source": [
    "file = open('d:/python_new/news.txt', 'r') ## step 1: opening the file"
   ]
  },
  {
   "cell_type": "markdown",
   "id": "eccf005b",
   "metadata": {},
   "source": [
    "the `open()` function takes in two important arguments:\n",
    "\n",
    "1. the path of the file on your system. This needs to be provided so that python can find the file.\n",
    "2. the mode in which the file needs to be opened. There are many different modes that python supports. some of them are:\n",
    "\n",
    "    - `'r'` for read mode\n",
    "    - `'w'` for write mode\n",
    "    - `'a'` for append mode"
   ]
  },
  {
   "cell_type": "code",
   "execution_count": 95,
   "id": "af0703fc",
   "metadata": {},
   "outputs": [],
   "source": [
    "file_contents = file.read() ## step 2: reading from the file"
   ]
  },
  {
   "cell_type": "code",
   "execution_count": 96,
   "id": "69980fb6",
   "metadata": {},
   "outputs": [
    {
     "data": {
      "text/plain": [
       "'However, in private segment, those banks who have focussed in tech-enabled \\nlending are going to score over its peers and banks like Axis Bank, ICICI Bank, \\nHDFC Bank and IDFC First Bank are expected to benefit from such emerging business \\nmodel in India. For retail investors who are looking to cash-in the opportunities \\navailable in the banking space but have limited money for investing, experts \\nrecommended mid-sized PSU and private bank stocks to buy. They said that Yes Bank, \\nPNB, IDFC First Bank, Bank of Baroda, etc. shares to buy.'"
      ]
     },
     "execution_count": 96,
     "metadata": {},
     "output_type": "execute_result"
    }
   ],
   "source": [
    "file_contents"
   ]
  },
  {
   "cell_type": "code",
   "execution_count": 98,
   "id": "dd2ce21f",
   "metadata": {},
   "outputs": [
    {
     "name": "stdout",
     "output_type": "stream",
     "text": [
      "['However,', 'in', 'private', 'segment,', 'those', 'banks', 'who', 'have', 'focussed', 'in', 'tech-enabled', 'lending', 'are', 'going', 'to', 'score', 'over', 'its', 'peers', 'and', 'banks', 'like', 'Axis', 'Bank,', 'ICICI', 'Bank,', 'HDFC', 'Bank', 'and', 'IDFC', 'First', 'Bank', 'are', 'expected', 'to', 'benefit', 'from', 'such', 'emerging', 'business', 'model', 'in', 'India.', 'For', 'retail', 'investors', 'who', 'are', 'looking', 'to', 'cash-in', 'the', 'opportunities', 'available', 'in', 'the', 'banking', 'space', 'but', 'have', 'limited', 'money', 'for', 'investing,', 'experts', 'recommended', 'mid-sized', 'PSU', 'and', 'private', 'bank', 'stocks', 'to', 'buy.', 'They', 'said', 'that', 'Yes', 'Bank,', 'PNB,', 'IDFC', 'First', 'Bank,', 'Bank', 'of', 'Baroda,', 'etc.', 'shares', 'to', 'buy.']\n"
     ]
    }
   ],
   "source": [
    "print( file_contents.split() )"
   ]
  },
  {
   "cell_type": "code",
   "execution_count": 99,
   "id": "8a71da13",
   "metadata": {},
   "outputs": [],
   "source": [
    "file.close()  ## Step 3: closing the file"
   ]
  },
  {
   "cell_type": "markdown",
   "id": "1b8919b4",
   "metadata": {},
   "source": [
    "### creating and writing to a file using the write mode"
   ]
  },
  {
   "cell_type": "code",
   "execution_count": 12,
   "id": "c5b7e630",
   "metadata": {},
   "outputs": [],
   "source": [
    "file = open('d:/file_handling/text.txt', 'w') ## step 1: open"
   ]
  },
  {
   "cell_type": "code",
   "execution_count": 13,
   "id": "6952f958",
   "metadata": {},
   "outputs": [
    {
     "data": {
      "text/plain": [
       "25"
      ]
     },
     "execution_count": 13,
     "metadata": {},
     "output_type": "execute_result"
    }
   ],
   "source": [
    "file.write('This is my first sentence')  ## step 2: do some operation"
   ]
  },
  {
   "cell_type": "code",
   "execution_count": 14,
   "id": "da2d0b46",
   "metadata": {},
   "outputs": [],
   "source": [
    "file.close()   ## step 3: close the file"
   ]
  },
  {
   "cell_type": "code",
   "execution_count": 1,
   "id": "e0743df6",
   "metadata": {},
   "outputs": [],
   "source": [
    "num = 2\n",
    "\n",
    "file = open(r'C:\\Users\\Vitta\\Documents\\Analytix Labs\\Python MAY GGN _ Class 4 Python for Data Science (Self-paced) V7\\tables.txt','w')\n",
    "\n",
    "for i in range(1,11):\n",
    "    file.write(f'{num} X {i} = {num*i}')\n",
    "    file.write('\\n')\n",
    "\n",
    "file.close()\n",
    "\n"
   ]
  },
  {
   "cell_type": "code",
   "execution_count": 2,
   "id": "dcb15cc2",
   "metadata": {},
   "outputs": [],
   "source": [
    "num = 2\n",
    "\n",
    "file = open(r'C:\\Users\\Vitta\\Documents\\Analytix Labs\\Python MAY GGN _ Class 4 Python for Data Science (Self-paced) V7\\tablesv2.txt','w')\n",
    "\n",
    "for i in range(1,11):\n",
    "    file.write(f'{num} X {i} = {num*i}' + '\\n')\n",
    "    #file.write('\\n')\n",
    "\n",
    "file.close()"
   ]
  },
  {
   "cell_type": "code",
   "execution_count": 108,
   "id": "e3d2c41e",
   "metadata": {},
   "outputs": [],
   "source": [
    "## Q: create a code for computing the table of 5 till 5*10 and save it to a .txt file.\n",
    "\n",
    "num = 5\n",
    "\n",
    "file = open('d:/file_handling/table.txt', 'w')\n",
    "\n",
    "for i in range(1, 11):\n",
    "    file.write(f'{num} x {i} = {num*i}')\n",
    "    file.write('\\n')  ## to go to the next line\n",
    "    \n",
    "file.close()"
   ]
  },
  {
   "cell_type": "markdown",
   "id": "7aecafa6",
   "metadata": {},
   "source": [
    "## with statement\n",
    "\n",
    "The above syntax can be a little cumbersome as many a times, we can forget to close the file explicitly using the `.close()` syntax. So, python provides another syntax for file handling using the `with` statement. Here, `with` is called a context manager and it takes care of managing the file's resources and closing the file in the backend automatically. When using this syntax, we do not need to worry about closing the file ourselves.\n",
    "\n",
    "\n",
    "\n",
    "syntax:\n",
    "    \n",
    "`with open(filepath, mode) as file:\n",
    "    file.write()\n",
    "    file.write()`"
   ]
  },
  {
   "cell_type": "code",
   "execution_count": 111,
   "id": "4b66c65a",
   "metadata": {},
   "outputs": [
    {
     "name": "stdout",
     "output_type": "stream",
     "text": [
      "please enter your age34\n"
     ]
    }
   ],
   "source": [
    "## Q: take as user input the age of a user and save that data to a file.\n",
    "\n",
    "user_input = input('please enter your age')\n",
    "\n",
    "with open('d:/file_handling/age.txt', 'w') as f:\n",
    "    f.write(f\"the user's age is {user_input}\")"
   ]
  },
  {
   "cell_type": "markdown",
   "id": "e2693b78",
   "metadata": {},
   "source": [
    "## Data structures / collections\n",
    "\n",
    "In Basic python, we have 4 main datastructures or collections:\n",
    "\n",
    "`list`\n",
    "`dict`\n",
    "`tuple`\n",
    "`set`\n",
    "\n",
    "**All datastructures in basic python are heterogeneous in nature meaning that they can hold any kind of data within them.**\n",
    "\n",
    "They also have type conversion functions that go by the same names\n",
    "\n",
    "`list()`\n",
    "`dict()`\n",
    "`tuple()`\n",
    "`set()`\n",
    "\n",
    "So in order to convert something into a list, we can use the `list()` type conversion function.\n",
    "\n",
    "\n",
    "5 things that we will need to know about all data structures:\n",
    "\n",
    "1. how to create\n",
    "2. how to access\n",
    "3. how to update\n",
    "4. how to make calculations\n",
    "5. additional useful methods of the datastructure\n",
    "\n"
   ]
  },
  {
   "cell_type": "markdown",
   "id": "d7e6a67c",
   "metadata": {},
   "source": [
    "## list"
   ]
  },
  {
   "cell_type": "code",
   "execution_count": 16,
   "id": "9492d412",
   "metadata": {},
   "outputs": [],
   "source": [
    "## how do you create a list\n",
    "\n",
    "## Method 1: using square brackets\n",
    "\n",
    "l1 = [1, 2, 3, 4, 5]"
   ]
  },
  {
   "cell_type": "code",
   "execution_count": 114,
   "id": "8d1e0b03",
   "metadata": {},
   "outputs": [
    {
     "data": {
      "text/plain": [
       "[1, 2, 3, 4, 5]"
      ]
     },
     "execution_count": 114,
     "metadata": {},
     "output_type": "execute_result"
    }
   ],
   "source": [
    "l1"
   ]
  },
  {
   "cell_type": "code",
   "execution_count": 115,
   "id": "60a80118",
   "metadata": {},
   "outputs": [
    {
     "data": {
      "text/plain": [
       "list"
      ]
     },
     "execution_count": 115,
     "metadata": {},
     "output_type": "execute_result"
    }
   ],
   "source": [
    "type(l1)"
   ]
  },
  {
   "cell_type": "code",
   "execution_count": 17,
   "id": "17fe3a44",
   "metadata": {},
   "outputs": [
    {
     "data": {
      "text/plain": [
       "[1, True, 'python', [1, 2, 3, 4, 5]]"
      ]
     },
     "execution_count": 17,
     "metadata": {},
     "output_type": "execute_result"
    }
   ],
   "source": [
    "## a list is heterogeneous datastrcutre\n",
    "l2 = [1, True, 'python', l1]\n",
    "l2"
   ]
  },
  {
   "cell_type": "code",
   "execution_count": 118,
   "id": "b33846fb",
   "metadata": {},
   "outputs": [
    {
     "data": {
      "text/plain": [
       "list"
      ]
     },
     "execution_count": 118,
     "metadata": {},
     "output_type": "execute_result"
    }
   ],
   "source": [
    "type(l2)"
   ]
  },
  {
   "cell_type": "code",
   "execution_count": 18,
   "id": "2bd782d5",
   "metadata": {},
   "outputs": [
    {
     "data": {
      "text/plain": [
       "[0, 1, 2, 3, 4, 5, 6, 7, 8, 9, 10]"
      ]
     },
     "execution_count": 18,
     "metadata": {},
     "output_type": "execute_result"
    }
   ],
   "source": [
    "## Method 2. converting a range into a list using the list() type conversion function\n",
    "\n",
    "l3 = list(range(11))\n",
    "l3"
   ]
  },
  {
   "cell_type": "code",
   "execution_count": 19,
   "id": "d466eb3d",
   "metadata": {},
   "outputs": [
    {
     "data": {
      "text/plain": [
       "[0, 2, 4, 6, 8, 10, 12, 14, 16, 18, 20]"
      ]
     },
     "execution_count": 19,
     "metadata": {},
     "output_type": "execute_result"
    }
   ],
   "source": [
    "## Q: generate a list of all even numbers till 20\n",
    "\n",
    "l4 = list(range(0,21,2))\n",
    "l4"
   ]
  },
  {
   "cell_type": "markdown",
   "id": "bddc029d",
   "metadata": {},
   "source": [
    "#### accessing elements using indexing and slicing"
   ]
  },
  {
   "cell_type": "code",
   "execution_count": 130,
   "id": "361fe412",
   "metadata": {},
   "outputs": [
    {
     "data": {
      "text/plain": [
       "0"
      ]
     },
     "execution_count": 130,
     "metadata": {},
     "output_type": "execute_result"
    }
   ],
   "source": [
    "l4[0]"
   ]
  },
  {
   "cell_type": "code",
   "execution_count": 131,
   "id": "ede7d6e4",
   "metadata": {},
   "outputs": [
    {
     "data": {
      "text/plain": [
       "20"
      ]
     },
     "execution_count": 131,
     "metadata": {},
     "output_type": "execute_result"
    }
   ],
   "source": [
    "l4[-1]"
   ]
  },
  {
   "cell_type": "code",
   "execution_count": 132,
   "id": "a87a2b57",
   "metadata": {},
   "outputs": [
    {
     "data": {
      "text/plain": [
       "[4, 6, 8, 10, 12]"
      ]
     },
     "execution_count": 132,
     "metadata": {},
     "output_type": "execute_result"
    }
   ],
   "source": [
    "l4[2:7]"
   ]
  },
  {
   "cell_type": "code",
   "execution_count": 133,
   "id": "8a4ff1f5",
   "metadata": {},
   "outputs": [
    {
     "data": {
      "text/plain": [
       "[20, 18, 16, 14, 12, 10, 8, 6, 4, 2, 0]"
      ]
     },
     "execution_count": 133,
     "metadata": {},
     "output_type": "execute_result"
    }
   ],
   "source": [
    "l4[::-1]"
   ]
  },
  {
   "cell_type": "markdown",
   "id": "1b0c838c",
   "metadata": {},
   "source": [
    "#### updating lists"
   ]
  },
  {
   "cell_type": "code",
   "execution_count": 135,
   "id": "759b2914",
   "metadata": {},
   "outputs": [],
   "source": [
    "## updating lists\n",
    "l4[0] = -1"
   ]
  },
  {
   "cell_type": "code",
   "execution_count": 136,
   "id": "e5055430",
   "metadata": {},
   "outputs": [
    {
     "data": {
      "text/plain": [
       "[-1, 2, 4, 6, 8, 10, 12, 14, 16, 18, 20]"
      ]
     },
     "execution_count": 136,
     "metadata": {},
     "output_type": "execute_result"
    }
   ],
   "source": [
    "l4"
   ]
  },
  {
   "cell_type": "code",
   "execution_count": 138,
   "id": "f4e769af",
   "metadata": {},
   "outputs": [],
   "source": [
    "## update multiple elements at the same time\n",
    "\n",
    "l4[2:7] = [-1, -1, -1, -1, -1]"
   ]
  },
  {
   "cell_type": "code",
   "execution_count": 139,
   "id": "ea188cae",
   "metadata": {},
   "outputs": [
    {
     "data": {
      "text/plain": [
       "[-1, 2, -1, -1, -1, -1, -1, 14, 16, 18, 20]"
      ]
     },
     "execution_count": 139,
     "metadata": {},
     "output_type": "execute_result"
    }
   ],
   "source": [
    "l4"
   ]
  }
 ],
 "metadata": {
  "kernelspec": {
   "display_name": "Python 3",
   "language": "python",
   "name": "python3"
  },
  "language_info": {
   "codemirror_mode": {
    "name": "ipython",
    "version": 3
   },
   "file_extension": ".py",
   "mimetype": "text/x-python",
   "name": "python",
   "nbconvert_exporter": "python",
   "pygments_lexer": "ipython3",
   "version": "3.9.7"
  }
 },
 "nbformat": 4,
 "nbformat_minor": 5
}
