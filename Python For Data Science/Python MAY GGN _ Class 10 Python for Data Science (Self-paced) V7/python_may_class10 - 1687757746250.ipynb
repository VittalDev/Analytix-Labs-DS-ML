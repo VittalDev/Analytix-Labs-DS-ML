{
 "cells": [
  {
   "cell_type": "markdown",
   "id": "a408daa5",
   "metadata": {},
   "source": [
    "## numpy\n",
    "\n",
    "- arrays\n",
    "- accessing elements\n",
    "- making calculations on arrays\n",
    "- boolean indexing \n",
    "\n"
   ]
  },
  {
   "cell_type": "code",
   "execution_count": 1,
   "id": "93d36231",
   "metadata": {},
   "outputs": [],
   "source": [
    "import numpy as np"
   ]
  },
  {
   "cell_type": "code",
   "execution_count": 27,
   "id": "fcc4eaef",
   "metadata": {},
   "outputs": [
    {
     "data": {
      "text/plain": [
       "array([5, 5])"
      ]
     },
     "execution_count": 27,
     "metadata": {},
     "output_type": "execute_result"
    }
   ],
   "source": [
    "np.random.randint(1, 10, 2)"
   ]
  },
  {
   "cell_type": "code",
   "execution_count": 11,
   "id": "b6468daf",
   "metadata": {},
   "outputs": [
    {
     "data": {
      "text/plain": [
       "array([[ 9,  4,  7,  2,  2,  3,  9,  2,  4,  1],\n",
       "       [ 3,  1, 10,  9,  5,  4,  8,  5, 10,  2],\n",
       "       [ 2,  3,  3,  4,  3,  5,  1,  1,  1,  8],\n",
       "       [ 5,  5,  5,  7,  2,  3,  6,  4,  1,  8],\n",
       "       [ 7,  4,  9,  4,  3,  2,  4,  2,  6,  1],\n",
       "       [10,  5,  1,  7,  7, 10,  9,  4, 10,  3],\n",
       "       [ 4,  3,  9,  7, 10,  8,  6,  5,  5,  1],\n",
       "       [ 9,  2,  9,  2,  8,  3,  6, 10, 10, 10],\n",
       "       [ 9,  2,  1, 10, 10,  2,  6,  3,  8,  1],\n",
       "       [ 2,  4,  4,  1,  4,  3,  6,  2,  4,  8]])"
      ]
     },
     "execution_count": 11,
     "metadata": {},
     "output_type": "execute_result"
    }
   ],
   "source": [
    "## Create a 10 x 10 2d array of random integers between 1 and 10\n",
    "\n",
    "arr1 = np.random.randint(1, 11, 100).reshape((10, 10))\n",
    "arr1"
   ]
  },
  {
   "cell_type": "code",
   "execution_count": 4,
   "id": "162328d6",
   "metadata": {},
   "outputs": [
    {
     "data": {
      "text/plain": [
       "2"
      ]
     },
     "execution_count": 4,
     "metadata": {},
     "output_type": "execute_result"
    }
   ],
   "source": [
    "## single element\n",
    "\n",
    "arr1[2, 2]"
   ]
  },
  {
   "cell_type": "code",
   "execution_count": 5,
   "id": "161df8ee",
   "metadata": {},
   "outputs": [
    {
     "data": {
      "text/plain": [
       "array([[ 2, 10,  2],\n",
       "       [ 8,  7,  8],\n",
       "       [ 2,  6,  2],\n",
       "       [ 2,  4,  4],\n",
       "       [ 9,  7,  6]])"
      ]
     },
     "execution_count": 5,
     "metadata": {},
     "output_type": "execute_result"
    }
   ],
   "source": [
    "arr1[2:7,3:6]"
   ]
  },
  {
   "cell_type": "code",
   "execution_count": null,
   "id": "7622749c",
   "metadata": {},
   "outputs": [],
   "source": [
    "## extract all the even numbers out from the array"
   ]
  },
  {
   "cell_type": "code",
   "execution_count": 7,
   "id": "d993bd30",
   "metadata": {},
   "outputs": [
    {
     "data": {
      "text/plain": [
       "array([ 8,  6,  2, 10,  6,  2, 10,  6,  2,  2, 10,  2,  6,  8, 10,  8,  8,\n",
       "        8, 10, 10,  6,  2,  2,  6,  2,  6,  6,  6,  8,  4,  6,  2,  4,  4,\n",
       "        4,  6, 10,  8,  6,  2,  2,  4, 10,  8,  4, 10,  8,  2,  8,  4, 10,\n",
       "        6, 10, 10,  8])"
      ]
     },
     "execution_count": 7,
     "metadata": {},
     "output_type": "execute_result"
    }
   ],
   "source": [
    "arr1[arr1 % 2 == 0]"
   ]
  },
  {
   "cell_type": "code",
   "execution_count": 10,
   "id": "67ffadce",
   "metadata": {},
   "outputs": [
    {
     "data": {
      "text/plain": [
       "array([10, 10, 10, 10, 10, 10, 10, 10, 10, 10, 10, 10])"
      ]
     },
     "execution_count": 10,
     "metadata": {},
     "output_type": "execute_result"
    }
   ],
   "source": [
    "arr1[(arr1 % 2 == 0) & (arr1 % 5 == 0)]"
   ]
  },
  {
   "cell_type": "code",
   "execution_count": 9,
   "id": "6c03025a",
   "metadata": {},
   "outputs": [
    {
     "data": {
      "text/plain": [
       "array([[False, False, False, False, False, False, False, False, False,\n",
       "        False],\n",
       "       [False, False,  True, False, False, False, False, False, False,\n",
       "        False],\n",
       "       [ True, False, False, False,  True, False, False, False, False,\n",
       "        False],\n",
       "       [False,  True, False, False, False, False,  True,  True, False,\n",
       "        False],\n",
       "       [False, False, False, False, False, False, False, False, False,\n",
       "        False],\n",
       "       [False, False, False, False, False, False, False, False, False,\n",
       "        False],\n",
       "       [False, False, False, False, False, False,  True, False, False,\n",
       "        False],\n",
       "       [False, False, False, False, False,  True, False, False, False,\n",
       "        False],\n",
       "       [ True, False, False, False, False, False, False, False, False,\n",
       "        False],\n",
       "       [False,  True, False, False, False, False, False,  True,  True,\n",
       "        False]])"
      ]
     },
     "execution_count": 9,
     "metadata": {},
     "output_type": "execute_result"
    }
   ],
   "source": [
    "(arr1 % 2 == 0) & (arr1 % 5 == 0)"
   ]
  },
  {
   "cell_type": "markdown",
   "id": "482e32e1",
   "metadata": {},
   "source": [
    "`.transpose()`     `.T`"
   ]
  },
  {
   "cell_type": "code",
   "execution_count": 30,
   "id": "3161b499",
   "metadata": {},
   "outputs": [
    {
     "data": {
      "text/plain": [
       "array([[ 9,  4,  7,  2,  2,  3,  9,  2,  4,  1],\n",
       "       [ 3,  1, 10,  9,  5,  4,  8,  5, 10,  2],\n",
       "       [ 2,  3,  3,  4,  3,  5,  1,  1,  1,  8],\n",
       "       [ 5,  5,  5,  7,  2,  3,  6,  4,  1,  8],\n",
       "       [ 7,  4,  9,  4,  3,  2,  4,  2,  6,  1],\n",
       "       [10,  5,  1,  7,  7, 10,  9,  4, 10,  3],\n",
       "       [ 4,  3,  9,  7, 10,  8,  6,  5,  5,  1],\n",
       "       [ 9,  2,  9,  2,  8,  3,  6, 10, 10, 10],\n",
       "       [ 9,  2,  1, 10, 10,  2,  6,  3,  8,  1],\n",
       "       [ 2,  4,  4,  1,  4,  3,  6,  2,  4,  8]])"
      ]
     },
     "execution_count": 30,
     "metadata": {},
     "output_type": "execute_result"
    }
   ],
   "source": [
    "arr1"
   ]
  },
  {
   "cell_type": "code",
   "execution_count": 29,
   "id": "f7b7738b",
   "metadata": {},
   "outputs": [
    {
     "data": {
      "text/plain": [
       "array([[ 9,  3,  2,  5,  7, 10,  4,  9,  9,  2],\n",
       "       [ 4,  1,  3,  5,  4,  5,  3,  2,  2,  4],\n",
       "       [ 7, 10,  3,  5,  9,  1,  9,  9,  1,  4],\n",
       "       [ 2,  9,  4,  7,  4,  7,  7,  2, 10,  1],\n",
       "       [ 2,  5,  3,  2,  3,  7, 10,  8, 10,  4],\n",
       "       [ 3,  4,  5,  3,  2, 10,  8,  3,  2,  3],\n",
       "       [ 9,  8,  1,  6,  4,  9,  6,  6,  6,  6],\n",
       "       [ 2,  5,  1,  4,  2,  4,  5, 10,  3,  2],\n",
       "       [ 4, 10,  1,  1,  6, 10,  5, 10,  8,  4],\n",
       "       [ 1,  2,  8,  8,  1,  3,  1, 10,  1,  8]])"
      ]
     },
     "execution_count": 29,
     "metadata": {},
     "output_type": "execute_result"
    }
   ],
   "source": [
    "arr1.T"
   ]
  },
  {
   "cell_type": "code",
   "execution_count": 32,
   "id": "340dcb74",
   "metadata": {},
   "outputs": [],
   "source": [
    "arr1 = arr1.transpose()"
   ]
  },
  {
   "cell_type": "markdown",
   "id": "b21d7b37",
   "metadata": {},
   "source": [
    "## pandas - panel data analysis\n",
    "\n",
    "pandas is an extremely important library to know for data analysts and scientists as it is the industry standard package used to work with structured data in python. Initially created with the intention to handle **panel data**, pandas today is used to work with any kind of **structured data** in python.\n",
    "\n",
    "Panel data - a kind of time series data\n",
    "\n",
    "structured data - tabular data; data organized in rows and columns\n",
    "\n",
    "built on top of numpy\n",
    "\n",
    "Pandas provides 2 more datastructures\n",
    "\n",
    "1. `pd.Series` - 1D homogeneous datastructure built on top of numpy arrays\n",
    "\n",
    "2. `pd.DataFrame` - 2D heterogeneous datasturcture\n",
    "\n",
    "DataFrame is like a table. Series is like a single column or a single row."
   ]
  },
  {
   "cell_type": "code",
   "execution_count": 34,
   "id": "ed63171b",
   "metadata": {},
   "outputs": [],
   "source": [
    "import pandas as pd  ## import pandas"
   ]
  },
  {
   "cell_type": "code",
   "execution_count": 36,
   "id": "e9f7677b",
   "metadata": {},
   "outputs": [
    {
     "name": "stdout",
     "output_type": "stream",
     "text": [
      "['BooleanDtype', 'Categorical', 'CategoricalDtype', 'CategoricalIndex', 'DataFrame', 'DateOffset', 'DatetimeIndex', 'DatetimeTZDtype', 'ExcelFile', 'ExcelWriter', 'Flags', 'Float32Dtype', 'Float64Dtype', 'Float64Index', 'Grouper', 'HDFStore', 'Index', 'IndexSlice', 'Int16Dtype', 'Int32Dtype', 'Int64Dtype', 'Int64Index', 'Int8Dtype', 'Interval', 'IntervalDtype', 'IntervalIndex', 'MultiIndex', 'NA', 'NaT', 'NamedAgg', 'Period', 'PeriodDtype', 'PeriodIndex', 'RangeIndex', 'Series', 'SparseDtype', 'StringDtype', 'Timedelta', 'TimedeltaIndex', 'Timestamp', 'UInt16Dtype', 'UInt32Dtype', 'UInt64Dtype', 'UInt64Index', 'UInt8Dtype', '__builtins__', '__cached__', '__doc__', '__docformat__', '__file__', '__getattr__', '__git_version__', '__loader__', '__name__', '__package__', '__path__', '__spec__', '__version__', '_config', '_hashtable', '_is_numpy_dev', '_lib', '_libs', '_np_version_under1p17', '_np_version_under1p18', '_testing', '_tslib', '_typing', '_version', 'api', 'array', 'arrays', 'bdate_range', 'compat', 'concat', 'core', 'crosstab', 'cut', 'date_range', 'describe_option', 'errors', 'eval', 'factorize', 'get_dummies', 'get_option', 'infer_freq', 'interval_range', 'io', 'isna', 'isnull', 'json_normalize', 'lreshape', 'melt', 'merge', 'merge_asof', 'merge_ordered', 'notna', 'notnull', 'offsets', 'option_context', 'options', 'pandas', 'period_range', 'pivot', 'pivot_table', 'plotting', 'qcut', 'read_clipboard', 'read_csv', 'read_excel', 'read_feather', 'read_fwf', 'read_gbq', 'read_hdf', 'read_html', 'read_json', 'read_orc', 'read_parquet', 'read_pickle', 'read_sas', 'read_spss', 'read_sql', 'read_sql_query', 'read_sql_table', 'read_stata', 'read_table', 'reset_option', 'set_eng_float_format', 'set_option', 'show_versions', 'test', 'testing', 'timedelta_range', 'to_datetime', 'to_numeric', 'to_pickle', 'to_timedelta', 'tseries', 'unique', 'util', 'value_counts', 'wide_to_long']\n"
     ]
    }
   ],
   "source": [
    "print(dir(pd))"
   ]
  },
  {
   "cell_type": "markdown",
   "id": "1f1dd8b0",
   "metadata": {},
   "source": [
    "## `pd.Series`\n",
    "\n",
    "`pd.Series()`"
   ]
  },
  {
   "cell_type": "code",
   "execution_count": 37,
   "id": "ab64ca20",
   "metadata": {},
   "outputs": [
    {
     "data": {
      "text/plain": [
       "0    1\n",
       "1    2\n",
       "2    3\n",
       "3    4\n",
       "4    5\n",
       "dtype: int64"
      ]
     },
     "execution_count": 37,
     "metadata": {},
     "output_type": "execute_result"
    }
   ],
   "source": [
    "## 1. creation\n",
    "\n",
    "s1 = pd.Series([1, 2, 3, 4, 5])\n",
    "s1"
   ]
  },
  {
   "cell_type": "code",
   "execution_count": 38,
   "id": "9250e204",
   "metadata": {},
   "outputs": [
    {
     "data": {
      "text/plain": [
       "0    0\n",
       "1    2\n",
       "2    4\n",
       "3    6\n",
       "4    8\n",
       "dtype: int32"
      ]
     },
     "execution_count": 38,
     "metadata": {},
     "output_type": "execute_result"
    }
   ],
   "source": [
    "s2 = pd.Series(np.arange(0, 10, 2))\n",
    "s2"
   ]
  },
  {
   "cell_type": "code",
   "execution_count": 39,
   "id": "6cefa018",
   "metadata": {},
   "outputs": [
    {
     "data": {
      "text/plain": [
       "0     79237\n",
       "1     22466\n",
       "2     41592\n",
       "3     72400\n",
       "4     71354\n",
       "      ...  \n",
       "95    27657\n",
       "96    92332\n",
       "97    49701\n",
       "98    88372\n",
       "99    78425\n",
       "Length: 100, dtype: int32"
      ]
     },
     "execution_count": 39,
     "metadata": {},
     "output_type": "execute_result"
    }
   ],
   "source": [
    "## create random salaries\n",
    "\n",
    "s3 = pd.Series(np.random.randint(20000, 100000, 100))\n",
    "s3"
   ]
  },
  {
   "cell_type": "markdown",
   "id": "6c2e7b99",
   "metadata": {},
   "source": [
    "## Accessing elements\n",
    "\n",
    "pd.Series supports 2 kinds of indexes\n",
    "\n",
    "1. Default index: automatically will provide a default index starting from 0 going till end - 1.\n",
    "\n",
    "2. User defined index: also supports a user defined index which can be either numeric or string type.\n",
    "\n",
    "\n",
    "\n",
    "to avoid all the confusion regarding which index (used defined or default) will be used to access elements\n",
    "with simple `[ ]`\n",
    "\n",
    "pandas introduced 2 very important attributes\n",
    "\n",
    "`.loc[]`\n",
    "\n",
    "this works on the user defined index\n",
    "\n",
    "when slicing, the final value is inclusive\n",
    "\n",
    "supports boolean indexing\n",
    "\n",
    "`.iloc[]`\n",
    "\n",
    "this works on the default index (integer location)\n",
    "\n",
    "when slicing, the final value is exclusive\n",
    "\n",
    ".iloc doesn't support boolean indexing"
   ]
  },
  {
   "cell_type": "code",
   "execution_count": 42,
   "id": "b40118d7",
   "metadata": {},
   "outputs": [
    {
     "data": {
      "text/plain": [
       "Jan      100\n",
       "Feb      101\n",
       "March    110\n",
       "April    120\n",
       "dtype: int64"
      ]
     },
     "execution_count": 42,
     "metadata": {},
     "output_type": "execute_result"
    }
   ],
   "source": [
    "s4 = pd.Series([100, 101, 110, 120], index=['Jan', 'Feb', 'March', 'April'])\n",
    "s4"
   ]
  },
  {
   "cell_type": "code",
   "execution_count": 43,
   "id": "fca30c4f",
   "metadata": {},
   "outputs": [],
   "source": [
    "## products data\n",
    "\n",
    "\n",
    "s5 = pd.Series(['Apple iphone', 'Samsung phone1', 'Nokia phone1'], index=[1001, 1002, 1003])"
   ]
  },
  {
   "cell_type": "code",
   "execution_count": 44,
   "id": "786778d4",
   "metadata": {},
   "outputs": [
    {
     "data": {
      "text/plain": [
       "1001      Apple iphone\n",
       "1002    Samsung phone1\n",
       "1003      Nokia phone1\n",
       "dtype: object"
      ]
     },
     "execution_count": 44,
     "metadata": {},
     "output_type": "execute_result"
    }
   ],
   "source": [
    "s5"
   ]
  },
  {
   "cell_type": "code",
   "execution_count": 45,
   "id": "359e7995",
   "metadata": {},
   "outputs": [
    {
     "data": {
      "text/plain": [
       "0    1\n",
       "1    2\n",
       "2    3\n",
       "3    4\n",
       "4    5\n",
       "dtype: int64"
      ]
     },
     "execution_count": 45,
     "metadata": {},
     "output_type": "execute_result"
    }
   ],
   "source": [
    "## accessing elements\n",
    "\n",
    "s1"
   ]
  },
  {
   "cell_type": "code",
   "execution_count": 46,
   "id": "7e3854a4",
   "metadata": {},
   "outputs": [
    {
     "data": {
      "text/plain": [
       "Jan      100\n",
       "Feb      101\n",
       "March    110\n",
       "April    120\n",
       "dtype: int64"
      ]
     },
     "execution_count": 46,
     "metadata": {},
     "output_type": "execute_result"
    }
   ],
   "source": [
    "s4"
   ]
  },
  {
   "cell_type": "code",
   "execution_count": 47,
   "id": "12bdb05a",
   "metadata": {},
   "outputs": [
    {
     "data": {
      "text/plain": [
       "1    1\n",
       "2    2\n",
       "3    3\n",
       "4    4\n",
       "5    5\n",
       "dtype: int64"
      ]
     },
     "execution_count": 47,
     "metadata": {},
     "output_type": "execute_result"
    }
   ],
   "source": [
    "s6 = pd.Series([1, 2, 3, 4, 5], index=range(1, 6))\n",
    "s6"
   ]
  },
  {
   "cell_type": "code",
   "execution_count": 48,
   "id": "4f37728f",
   "metadata": {},
   "outputs": [],
   "source": [
    "## s1"
   ]
  },
  {
   "cell_type": "code",
   "execution_count": 50,
   "id": "bb374283",
   "metadata": {},
   "outputs": [
    {
     "data": {
      "text/plain": [
       "1"
      ]
     },
     "execution_count": 50,
     "metadata": {},
     "output_type": "execute_result"
    }
   ],
   "source": [
    "s1[0]"
   ]
  },
  {
   "cell_type": "code",
   "execution_count": 52,
   "id": "ce830af9",
   "metadata": {},
   "outputs": [
    {
     "data": {
      "text/plain": [
       "1    2\n",
       "2    3\n",
       "3    4\n",
       "dtype: int64"
      ]
     },
     "execution_count": 52,
     "metadata": {},
     "output_type": "execute_result"
    }
   ],
   "source": [
    "s1[1:4]"
   ]
  },
  {
   "cell_type": "code",
   "execution_count": 56,
   "id": "559d333f",
   "metadata": {},
   "outputs": [
    {
     "data": {
      "text/plain": [
       "1"
      ]
     },
     "execution_count": 56,
     "metadata": {},
     "output_type": "execute_result"
    }
   ],
   "source": [
    "s6[1]  ## works on the user defined index"
   ]
  },
  {
   "cell_type": "code",
   "execution_count": 59,
   "id": "ed9d64e7",
   "metadata": {},
   "outputs": [
    {
     "data": {
      "text/plain": [
       "2    2\n",
       "3    3\n",
       "4    4\n",
       "dtype: int64"
      ]
     },
     "execution_count": 59,
     "metadata": {},
     "output_type": "execute_result"
    }
   ],
   "source": [
    "s6[1:4]  ## slicing now it used default index"
   ]
  },
  {
   "cell_type": "code",
   "execution_count": 60,
   "id": "8148dee2",
   "metadata": {},
   "outputs": [
    {
     "data": {
      "text/plain": [
       "1    1\n",
       "2    2\n",
       "3    3\n",
       "4    4\n",
       "5    5\n",
       "dtype: int64"
      ]
     },
     "execution_count": 60,
     "metadata": {},
     "output_type": "execute_result"
    }
   ],
   "source": [
    "s6"
   ]
  },
  {
   "cell_type": "code",
   "execution_count": 61,
   "id": "bf033793",
   "metadata": {},
   "outputs": [
    {
     "data": {
      "text/plain": [
       "1    1\n",
       "2    2\n",
       "3    3\n",
       "4    4\n",
       "dtype: int64"
      ]
     },
     "execution_count": 61,
     "metadata": {},
     "output_type": "execute_result"
    }
   ],
   "source": [
    "s6[0:4]  ## last element got included"
   ]
  },
  {
   "cell_type": "code",
   "execution_count": 63,
   "id": "08e89767",
   "metadata": {},
   "outputs": [
    {
     "data": {
      "text/plain": [
       "100"
      ]
     },
     "execution_count": 63,
     "metadata": {},
     "output_type": "execute_result"
    }
   ],
   "source": [
    "s4['Jan']"
   ]
  },
  {
   "cell_type": "code",
   "execution_count": 64,
   "id": "ff687b74",
   "metadata": {},
   "outputs": [
    {
     "data": {
      "text/plain": [
       "100"
      ]
     },
     "execution_count": 64,
     "metadata": {},
     "output_type": "execute_result"
    }
   ],
   "source": [
    "s4[0]"
   ]
  },
  {
   "cell_type": "code",
   "execution_count": 68,
   "id": "4985327a",
   "metadata": {},
   "outputs": [
    {
     "data": {
      "text/plain": [
       "Jan      100\n",
       "Feb      101\n",
       "March    110\n",
       "dtype: int64"
      ]
     },
     "execution_count": 68,
     "metadata": {},
     "output_type": "execute_result"
    }
   ],
   "source": [
    "## access data from Jan till March\n",
    "\n",
    "s4[0:3]  ## slicing"
   ]
  },
  {
   "cell_type": "code",
   "execution_count": 70,
   "id": "aceac4f4",
   "metadata": {},
   "outputs": [
    {
     "data": {
      "text/plain": [
       "Jan      100\n",
       "Feb      101\n",
       "March    110\n",
       "dtype: int64"
      ]
     },
     "execution_count": 70,
     "metadata": {},
     "output_type": "execute_result"
    }
   ],
   "source": [
    "s4['Jan': 'March']  ## also supported"
   ]
  },
  {
   "cell_type": "code",
   "execution_count": 73,
   "id": "be91836f",
   "metadata": {},
   "outputs": [],
   "source": [
    "## .loc and .iloc\n",
    "\n",
    "## whenever user defined index is not provided, the user defined index defaults to the default index"
   ]
  },
  {
   "cell_type": "code",
   "execution_count": 72,
   "id": "60c40118",
   "metadata": {},
   "outputs": [
    {
     "data": {
      "text/plain": [
       "0    1\n",
       "1    2\n",
       "2    3\n",
       "3    4\n",
       "4    5\n",
       "dtype: int64"
      ]
     },
     "execution_count": 72,
     "metadata": {},
     "output_type": "execute_result"
    }
   ],
   "source": [
    "s1"
   ]
  },
  {
   "cell_type": "code",
   "execution_count": 74,
   "id": "a272089d",
   "metadata": {},
   "outputs": [
    {
     "data": {
      "text/plain": [
       "1"
      ]
     },
     "execution_count": 74,
     "metadata": {},
     "output_type": "execute_result"
    }
   ],
   "source": [
    "s1[0]"
   ]
  },
  {
   "cell_type": "code",
   "execution_count": 75,
   "id": "97ab2c61",
   "metadata": {},
   "outputs": [
    {
     "data": {
      "text/plain": [
       "1"
      ]
     },
     "execution_count": 75,
     "metadata": {},
     "output_type": "execute_result"
    }
   ],
   "source": [
    "s1.loc[0]"
   ]
  },
  {
   "cell_type": "code",
   "execution_count": 76,
   "id": "520f8102",
   "metadata": {},
   "outputs": [
    {
     "data": {
      "text/plain": [
       "1"
      ]
     },
     "execution_count": 76,
     "metadata": {},
     "output_type": "execute_result"
    }
   ],
   "source": [
    "s1.iloc[0]"
   ]
  },
  {
   "cell_type": "code",
   "execution_count": 77,
   "id": "90316478",
   "metadata": {},
   "outputs": [
    {
     "data": {
      "text/plain": [
       "Jan      100\n",
       "Feb      101\n",
       "March    110\n",
       "April    120\n",
       "dtype: int64"
      ]
     },
     "execution_count": 77,
     "metadata": {},
     "output_type": "execute_result"
    }
   ],
   "source": [
    "s4"
   ]
  },
  {
   "cell_type": "code",
   "execution_count": 80,
   "id": "bf33d43c",
   "metadata": {},
   "outputs": [
    {
     "data": {
      "text/plain": [
       "101"
      ]
     },
     "execution_count": 80,
     "metadata": {},
     "output_type": "execute_result"
    }
   ],
   "source": [
    "## Access the data for Feb\n",
    "\n",
    "s4.loc['Feb']"
   ]
  },
  {
   "cell_type": "code",
   "execution_count": 83,
   "id": "8e75544b",
   "metadata": {},
   "outputs": [
    {
     "data": {
      "text/plain": [
       "101"
      ]
     },
     "execution_count": 83,
     "metadata": {},
     "output_type": "execute_result"
    }
   ],
   "source": [
    "## Access teh data for Feb using .iloc\n",
    "\n",
    "s4.iloc[1]"
   ]
  },
  {
   "cell_type": "code",
   "execution_count": 84,
   "id": "9203ef51",
   "metadata": {},
   "outputs": [],
   "source": [
    "## slicing\n",
    "\n",
    "## get the data from Jan till March\n",
    "\n",
    "## .loc\n"
   ]
  },
  {
   "cell_type": "code",
   "execution_count": 86,
   "id": "4515fa69",
   "metadata": {},
   "outputs": [
    {
     "data": {
      "text/plain": [
       "Jan      100\n",
       "Feb      101\n",
       "March    110\n",
       "dtype: int64"
      ]
     },
     "execution_count": 86,
     "metadata": {},
     "output_type": "execute_result"
    }
   ],
   "source": [
    "s4.loc['Jan': 'March']  ## it goes till the last; exclusive rule doesn't apply"
   ]
  },
  {
   "cell_type": "code",
   "execution_count": 89,
   "id": "a6a5e251",
   "metadata": {},
   "outputs": [
    {
     "data": {
      "text/plain": [
       "Jan      100\n",
       "Feb      101\n",
       "March    110\n",
       "dtype: int64"
      ]
     },
     "execution_count": 89,
     "metadata": {},
     "output_type": "execute_result"
    }
   ],
   "source": [
    "s4.iloc[0:3]   ## .iloc is exclusive of the last value"
   ]
  },
  {
   "cell_type": "code",
   "execution_count": 90,
   "id": "a8e5fd6d",
   "metadata": {},
   "outputs": [
    {
     "data": {
      "text/plain": [
       "Jan      100\n",
       "Feb      101\n",
       "March    110\n",
       "April    120\n",
       "dtype: int64"
      ]
     },
     "execution_count": 90,
     "metadata": {},
     "output_type": "execute_result"
    }
   ],
   "source": [
    "## boolean indexing\n",
    "\n",
    "s4"
   ]
  },
  {
   "cell_type": "code",
   "execution_count": 92,
   "id": "7e9d4550",
   "metadata": {},
   "outputs": [
    {
     "data": {
      "text/plain": [
       "March    110\n",
       "April    120\n",
       "dtype: int64"
      ]
     },
     "execution_count": 92,
     "metadata": {},
     "output_type": "execute_result"
    }
   ],
   "source": [
    "## extract the values where sales is greater than $105\n",
    "\n",
    "s4[s4 > 105]  ## boolean index"
   ]
  },
  {
   "cell_type": "code",
   "execution_count": 93,
   "id": "789cb0b8",
   "metadata": {},
   "outputs": [
    {
     "data": {
      "text/plain": [
       "Jan      False\n",
       "Feb      False\n",
       "March     True\n",
       "April     True\n",
       "dtype: bool"
      ]
     },
     "execution_count": 93,
     "metadata": {},
     "output_type": "execute_result"
    }
   ],
   "source": [
    "s4 > 105"
   ]
  },
  {
   "cell_type": "code",
   "execution_count": 94,
   "id": "a4220ddb",
   "metadata": {},
   "outputs": [
    {
     "data": {
      "text/plain": [
       "March    110\n",
       "April    120\n",
       "dtype: int64"
      ]
     },
     "execution_count": 94,
     "metadata": {},
     "output_type": "execute_result"
    }
   ],
   "source": [
    "s4.loc[s4 > 105]"
   ]
  },
  {
   "cell_type": "code",
   "execution_count": 95,
   "id": "35ec5ddb",
   "metadata": {},
   "outputs": [
    {
     "ename": "ValueError",
     "evalue": "iLocation based boolean indexing cannot use an indexable as a mask",
     "output_type": "error",
     "traceback": [
      "\u001b[1;31m---------------------------------------------------------------------------\u001b[0m",
      "\u001b[1;31mValueError\u001b[0m                                Traceback (most recent call last)",
      "\u001b[1;32m<ipython-input-95-73bf41e16009>\u001b[0m in \u001b[0;36m<module>\u001b[1;34m\u001b[0m\n\u001b[1;32m----> 1\u001b[1;33m \u001b[0ms4\u001b[0m\u001b[1;33m.\u001b[0m\u001b[0miloc\u001b[0m\u001b[1;33m[\u001b[0m\u001b[0ms4\u001b[0m\u001b[1;33m>\u001b[0m\u001b[1;36m105\u001b[0m\u001b[1;33m]\u001b[0m\u001b[1;33m\u001b[0m\u001b[1;33m\u001b[0m\u001b[0m\n\u001b[0m",
      "\u001b[1;32m~\\anaconda3\\lib\\site-packages\\pandas\\core\\indexing.py\u001b[0m in \u001b[0;36m__getitem__\u001b[1;34m(self, key)\u001b[0m\n\u001b[0;32m    893\u001b[0m \u001b[1;33m\u001b[0m\u001b[0m\n\u001b[0;32m    894\u001b[0m             \u001b[0mmaybe_callable\u001b[0m \u001b[1;33m=\u001b[0m \u001b[0mcom\u001b[0m\u001b[1;33m.\u001b[0m\u001b[0mapply_if_callable\u001b[0m\u001b[1;33m(\u001b[0m\u001b[0mkey\u001b[0m\u001b[1;33m,\u001b[0m \u001b[0mself\u001b[0m\u001b[1;33m.\u001b[0m\u001b[0mobj\u001b[0m\u001b[1;33m)\u001b[0m\u001b[1;33m\u001b[0m\u001b[1;33m\u001b[0m\u001b[0m\n\u001b[1;32m--> 895\u001b[1;33m             \u001b[1;32mreturn\u001b[0m \u001b[0mself\u001b[0m\u001b[1;33m.\u001b[0m\u001b[0m_getitem_axis\u001b[0m\u001b[1;33m(\u001b[0m\u001b[0mmaybe_callable\u001b[0m\u001b[1;33m,\u001b[0m \u001b[0maxis\u001b[0m\u001b[1;33m=\u001b[0m\u001b[0maxis\u001b[0m\u001b[1;33m)\u001b[0m\u001b[1;33m\u001b[0m\u001b[1;33m\u001b[0m\u001b[0m\n\u001b[0m\u001b[0;32m    896\u001b[0m \u001b[1;33m\u001b[0m\u001b[0m\n\u001b[0;32m    897\u001b[0m     \u001b[1;32mdef\u001b[0m \u001b[0m_is_scalar_access\u001b[0m\u001b[1;33m(\u001b[0m\u001b[0mself\u001b[0m\u001b[1;33m,\u001b[0m \u001b[0mkey\u001b[0m\u001b[1;33m:\u001b[0m \u001b[0mTuple\u001b[0m\u001b[1;33m)\u001b[0m\u001b[1;33m:\u001b[0m\u001b[1;33m\u001b[0m\u001b[1;33m\u001b[0m\u001b[0m\n",
      "\u001b[1;32m~\\anaconda3\\lib\\site-packages\\pandas\\core\\indexing.py\u001b[0m in \u001b[0;36m_getitem_axis\u001b[1;34m(self, key, axis)\u001b[0m\n\u001b[0;32m   1485\u001b[0m \u001b[1;33m\u001b[0m\u001b[0m\n\u001b[0;32m   1486\u001b[0m         \u001b[1;32mif\u001b[0m \u001b[0mcom\u001b[0m\u001b[1;33m.\u001b[0m\u001b[0mis_bool_indexer\u001b[0m\u001b[1;33m(\u001b[0m\u001b[0mkey\u001b[0m\u001b[1;33m)\u001b[0m\u001b[1;33m:\u001b[0m\u001b[1;33m\u001b[0m\u001b[1;33m\u001b[0m\u001b[0m\n\u001b[1;32m-> 1487\u001b[1;33m             \u001b[0mself\u001b[0m\u001b[1;33m.\u001b[0m\u001b[0m_validate_key\u001b[0m\u001b[1;33m(\u001b[0m\u001b[0mkey\u001b[0m\u001b[1;33m,\u001b[0m \u001b[0maxis\u001b[0m\u001b[1;33m)\u001b[0m\u001b[1;33m\u001b[0m\u001b[1;33m\u001b[0m\u001b[0m\n\u001b[0m\u001b[0;32m   1488\u001b[0m             \u001b[1;32mreturn\u001b[0m \u001b[0mself\u001b[0m\u001b[1;33m.\u001b[0m\u001b[0m_getbool_axis\u001b[0m\u001b[1;33m(\u001b[0m\u001b[0mkey\u001b[0m\u001b[1;33m,\u001b[0m \u001b[0maxis\u001b[0m\u001b[1;33m=\u001b[0m\u001b[0maxis\u001b[0m\u001b[1;33m)\u001b[0m\u001b[1;33m\u001b[0m\u001b[1;33m\u001b[0m\u001b[0m\n\u001b[0;32m   1489\u001b[0m \u001b[1;33m\u001b[0m\u001b[0m\n",
      "\u001b[1;32m~\\anaconda3\\lib\\site-packages\\pandas\\core\\indexing.py\u001b[0m in \u001b[0;36m_validate_key\u001b[1;34m(self, key, axis)\u001b[0m\n\u001b[0;32m   1347\u001b[0m                         \u001b[1;34m\"is not available\"\u001b[0m\u001b[1;33m\u001b[0m\u001b[1;33m\u001b[0m\u001b[0m\n\u001b[0;32m   1348\u001b[0m                     )\n\u001b[1;32m-> 1349\u001b[1;33m                 raise ValueError(\n\u001b[0m\u001b[0;32m   1350\u001b[0m                     \u001b[1;34m\"iLocation based boolean indexing cannot use \"\u001b[0m\u001b[1;33m\u001b[0m\u001b[1;33m\u001b[0m\u001b[0m\n\u001b[0;32m   1351\u001b[0m                     \u001b[1;34m\"an indexable as a mask\"\u001b[0m\u001b[1;33m\u001b[0m\u001b[1;33m\u001b[0m\u001b[0m\n",
      "\u001b[1;31mValueError\u001b[0m: iLocation based boolean indexing cannot use an indexable as a mask"
     ]
    }
   ],
   "source": [
    "s4.iloc[s4>105]"
   ]
  },
  {
   "cell_type": "code",
   "execution_count": 96,
   "id": "fd06c6b3",
   "metadata": {},
   "outputs": [
    {
     "data": {
      "text/plain": [
       "Jan      100\n",
       "Feb      101\n",
       "March    110\n",
       "April    120\n",
       "dtype: int64"
      ]
     },
     "execution_count": 96,
     "metadata": {},
     "output_type": "execute_result"
    }
   ],
   "source": [
    "## making calculations\n",
    "\n",
    "s4"
   ]
  },
  {
   "cell_type": "code",
   "execution_count": 97,
   "id": "e053b266",
   "metadata": {},
   "outputs": [],
   "source": [
    "##  compute the profit given that the profit margin is 0.1\n",
    "\n",
    "## profit = sales * profit_margin"
   ]
  },
  {
   "cell_type": "code",
   "execution_count": 98,
   "id": "e74fa531",
   "metadata": {},
   "outputs": [
    {
     "data": {
      "text/plain": [
       "Jan      10.0\n",
       "Feb      10.1\n",
       "March    11.0\n",
       "April    12.0\n",
       "dtype: float64"
      ]
     },
     "execution_count": 98,
     "metadata": {},
     "output_type": "execute_result"
    }
   ],
   "source": [
    "s4 * 0.1"
   ]
  },
  {
   "cell_type": "code",
   "execution_count": 99,
   "id": "417ce98f",
   "metadata": {},
   "outputs": [
    {
     "data": {
      "text/plain": [
       "Jan      110\n",
       "Feb      111\n",
       "March    120\n",
       "April    130\n",
       "dtype: int64"
      ]
     },
     "execution_count": 99,
     "metadata": {},
     "output_type": "execute_result"
    }
   ],
   "source": [
    "s4 + 10"
   ]
  },
  {
   "cell_type": "code",
   "execution_count": 100,
   "id": "6d69d517",
   "metadata": {},
   "outputs": [
    {
     "data": {
      "text/plain": [
       "Jan      10.0\n",
       "Feb      10.1\n",
       "March    11.0\n",
       "April    12.0\n",
       "dtype: float64"
      ]
     },
     "execution_count": 100,
     "metadata": {},
     "output_type": "execute_result"
    }
   ],
   "source": [
    "s4 / 10"
   ]
  },
  {
   "cell_type": "code",
   "execution_count": 101,
   "id": "ae1ec3ff",
   "metadata": {},
   "outputs": [
    {
     "data": {
      "text/plain": [
       "Jan      True\n",
       "Feb      True\n",
       "March    True\n",
       "April    True\n",
       "dtype: bool"
      ]
     },
     "execution_count": 101,
     "metadata": {},
     "output_type": "execute_result"
    }
   ],
   "source": [
    "s4 > 10"
   ]
  },
  {
   "cell_type": "code",
   "execution_count": 102,
   "id": "4894ddca",
   "metadata": {},
   "outputs": [],
   "source": [
    "## For Jan and Feb, the profit margin was 0.1\n",
    "## for March, aprile, the profit margin 0.2"
   ]
  },
  {
   "cell_type": "code",
   "execution_count": 120,
   "id": "62f26092",
   "metadata": {},
   "outputs": [],
   "source": [
    "s4.loc[\"Jan\": 'Feb'] = s4.loc[\"Jan\": 'Feb'] * 0.1"
   ]
  },
  {
   "cell_type": "code",
   "execution_count": 119,
   "id": "b51e1909",
   "metadata": {},
   "outputs": [],
   "source": [
    "s4.loc['March': 'April'] = s4.loc['March': 'April'] * 0.2"
   ]
  },
  {
   "cell_type": "code",
   "execution_count": 121,
   "id": "ba11acf5",
   "metadata": {},
   "outputs": [
    {
     "data": {
      "text/plain": [
       "Jan      11.0\n",
       "Feb      10.1\n",
       "March    22.0\n",
       "April    24.0\n",
       "dtype: float64"
      ]
     },
     "execution_count": 121,
     "metadata": {},
     "output_type": "execute_result"
    }
   ],
   "source": [
    "s4"
   ]
  },
  {
   "cell_type": "code",
   "execution_count": 108,
   "id": "019602c7",
   "metadata": {},
   "outputs": [],
   "source": [
    "## updating a series"
   ]
  },
  {
   "cell_type": "code",
   "execution_count": 111,
   "id": "d7c4b8ce",
   "metadata": {},
   "outputs": [],
   "source": [
    "s4[0] = 110"
   ]
  },
  {
   "cell_type": "code",
   "execution_count": 112,
   "id": "4afc6b4b",
   "metadata": {},
   "outputs": [
    {
     "data": {
      "text/plain": [
       "Jan      110\n",
       "Feb      101\n",
       "March    110\n",
       "April    120\n",
       "dtype: int64"
      ]
     },
     "execution_count": 112,
     "metadata": {},
     "output_type": "execute_result"
    }
   ],
   "source": [
    "s4"
   ]
  },
  {
   "cell_type": "code",
   "execution_count": 114,
   "id": "f40f77fc",
   "metadata": {},
   "outputs": [],
   "source": [
    "s4.loc[\"Jan\"] = 100"
   ]
  },
  {
   "cell_type": "code",
   "execution_count": 115,
   "id": "f780932e",
   "metadata": {},
   "outputs": [
    {
     "data": {
      "text/plain": [
       "Jan      100\n",
       "Feb      101\n",
       "March    110\n",
       "April    120\n",
       "dtype: int64"
      ]
     },
     "execution_count": 115,
     "metadata": {},
     "output_type": "execute_result"
    }
   ],
   "source": [
    "s4"
   ]
  },
  {
   "cell_type": "code",
   "execution_count": 117,
   "id": "77133681",
   "metadata": {},
   "outputs": [],
   "source": [
    "s4.iloc[0] = 110"
   ]
  },
  {
   "cell_type": "code",
   "execution_count": 118,
   "id": "c7e8c749",
   "metadata": {},
   "outputs": [
    {
     "data": {
      "text/plain": [
       "Jan      110\n",
       "Feb      101\n",
       "March    110\n",
       "April    120\n",
       "dtype: int64"
      ]
     },
     "execution_count": 118,
     "metadata": {},
     "output_type": "execute_result"
    }
   ],
   "source": [
    "s4"
   ]
  },
  {
   "cell_type": "code",
   "execution_count": 122,
   "id": "f1368ccf",
   "metadata": {},
   "outputs": [],
   "source": [
    "s4.loc[\"Jan\": 'Feb'] *= 0.1"
   ]
  },
  {
   "cell_type": "code",
   "execution_count": 123,
   "id": "a9c3dfe6",
   "metadata": {},
   "outputs": [
    {
     "data": {
      "text/plain": [
       "Jan       1.10\n",
       "Feb       1.01\n",
       "March    22.00\n",
       "April    24.00\n",
       "dtype: float64"
      ]
     },
     "execution_count": 123,
     "metadata": {},
     "output_type": "execute_result"
    }
   ],
   "source": [
    "s4"
   ]
  },
  {
   "cell_type": "markdown",
   "id": "4bba13ef",
   "metadata": {},
   "source": [
    "## pd.DataFrame()\n",
    "\n",
    "`pd.DataFrame()`\n"
   ]
  },
  {
   "cell_type": "code",
   "execution_count": 124,
   "id": "0aec10c2",
   "metadata": {},
   "outputs": [],
   "source": [
    "## pass a dictionary\n",
    "\n",
    "dict1 = {'ProductId': [1001, 1002, 1003], \n",
    "         'Names': ['Product1', 'Prod2', 'Prod3'], \n",
    "         'Cost': [10.2, 11, 12]}"
   ]
  },
  {
   "cell_type": "code",
   "execution_count": 125,
   "id": "5955ec65",
   "metadata": {},
   "outputs": [
    {
     "data": {
      "text/html": [
       "<div>\n",
       "<style scoped>\n",
       "    .dataframe tbody tr th:only-of-type {\n",
       "        vertical-align: middle;\n",
       "    }\n",
       "\n",
       "    .dataframe tbody tr th {\n",
       "        vertical-align: top;\n",
       "    }\n",
       "\n",
       "    .dataframe thead th {\n",
       "        text-align: right;\n",
       "    }\n",
       "</style>\n",
       "<table border=\"1\" class=\"dataframe\">\n",
       "  <thead>\n",
       "    <tr style=\"text-align: right;\">\n",
       "      <th></th>\n",
       "      <th>ProductId</th>\n",
       "      <th>Names</th>\n",
       "      <th>Cost</th>\n",
       "    </tr>\n",
       "  </thead>\n",
       "  <tbody>\n",
       "    <tr>\n",
       "      <th>0</th>\n",
       "      <td>1001</td>\n",
       "      <td>Product1</td>\n",
       "      <td>10.2</td>\n",
       "    </tr>\n",
       "    <tr>\n",
       "      <th>1</th>\n",
       "      <td>1002</td>\n",
       "      <td>Prod2</td>\n",
       "      <td>11.0</td>\n",
       "    </tr>\n",
       "    <tr>\n",
       "      <th>2</th>\n",
       "      <td>1003</td>\n",
       "      <td>Prod3</td>\n",
       "      <td>12.0</td>\n",
       "    </tr>\n",
       "  </tbody>\n",
       "</table>\n",
       "</div>"
      ],
      "text/plain": [
       "   ProductId     Names  Cost\n",
       "0       1001  Product1  10.2\n",
       "1       1002     Prod2  11.0\n",
       "2       1003     Prod3  12.0"
      ]
     },
     "execution_count": 125,
     "metadata": {},
     "output_type": "execute_result"
    }
   ],
   "source": [
    "pd.DataFrame(dict1)"
   ]
  },
  {
   "cell_type": "code",
   "execution_count": 127,
   "id": "851a4016",
   "metadata": {},
   "outputs": [],
   "source": [
    "## importing data from the outside and then creating DataFrames\n"
   ]
  },
  {
   "cell_type": "code",
   "execution_count": 128,
   "id": "88a5eb8e",
   "metadata": {},
   "outputs": [
    {
     "name": "stdout",
     "output_type": "stream",
     "text": [
      "['BooleanDtype', 'Categorical', 'CategoricalDtype', 'CategoricalIndex', 'DataFrame', 'DateOffset', 'DatetimeIndex', 'DatetimeTZDtype', 'ExcelFile', 'ExcelWriter', 'Flags', 'Float32Dtype', 'Float64Dtype', 'Float64Index', 'Grouper', 'HDFStore', 'Index', 'IndexSlice', 'Int16Dtype', 'Int32Dtype', 'Int64Dtype', 'Int64Index', 'Int8Dtype', 'Interval', 'IntervalDtype', 'IntervalIndex', 'MultiIndex', 'NA', 'NaT', 'NamedAgg', 'Period', 'PeriodDtype', 'PeriodIndex', 'RangeIndex', 'Series', 'SparseDtype', 'StringDtype', 'Timedelta', 'TimedeltaIndex', 'Timestamp', 'UInt16Dtype', 'UInt32Dtype', 'UInt64Dtype', 'UInt64Index', 'UInt8Dtype', '__builtins__', '__cached__', '__doc__', '__docformat__', '__file__', '__getattr__', '__git_version__', '__loader__', '__name__', '__package__', '__path__', '__spec__', '__version__', '_config', '_hashtable', '_is_numpy_dev', '_lib', '_libs', '_np_version_under1p17', '_np_version_under1p18', '_testing', '_tslib', '_typing', '_version', 'api', 'array', 'arrays', 'bdate_range', 'compat', 'concat', 'core', 'crosstab', 'cut', 'date_range', 'describe_option', 'errors', 'eval', 'factorize', 'get_dummies', 'get_option', 'infer_freq', 'interval_range', 'io', 'isna', 'isnull', 'json_normalize', 'lreshape', 'melt', 'merge', 'merge_asof', 'merge_ordered', 'notna', 'notnull', 'offsets', 'option_context', 'options', 'pandas', 'period_range', 'pivot', 'pivot_table', 'plotting', 'qcut', 'read_clipboard', 'read_csv', 'read_excel', 'read_feather', 'read_fwf', 'read_gbq', 'read_hdf', 'read_html', 'read_json', 'read_orc', 'read_parquet', 'read_pickle', 'read_sas', 'read_spss', 'read_sql', 'read_sql_query', 'read_sql_table', 'read_stata', 'read_table', 'reset_option', 'set_eng_float_format', 'set_option', 'show_versions', 'test', 'testing', 'timedelta_range', 'to_datetime', 'to_numeric', 'to_pickle', 'to_timedelta', 'tseries', 'unique', 'util', 'value_counts', 'wide_to_long']\n"
     ]
    }
   ],
   "source": [
    "print(dir(pd))"
   ]
  },
  {
   "cell_type": "markdown",
   "id": "20398365",
   "metadata": {},
   "source": [
    "`pd.read_csv()`"
   ]
  },
  {
   "cell_type": "code",
   "execution_count": 130,
   "id": "5fca4fe6",
   "metadata": {},
   "outputs": [
    {
     "data": {
      "text/html": [
       "<div>\n",
       "<style scoped>\n",
       "    .dataframe tbody tr th:only-of-type {\n",
       "        vertical-align: middle;\n",
       "    }\n",
       "\n",
       "    .dataframe tbody tr th {\n",
       "        vertical-align: top;\n",
       "    }\n",
       "\n",
       "    .dataframe thead th {\n",
       "        text-align: right;\n",
       "    }\n",
       "</style>\n",
       "<table border=\"1\" class=\"dataframe\">\n",
       "  <thead>\n",
       "    <tr style=\"text-align: right;\">\n",
       "      <th></th>\n",
       "      <th>LoanID</th>\n",
       "      <th>Amount.Requested</th>\n",
       "      <th>Amount.Funded.By.Investors</th>\n",
       "      <th>Interest.Rate</th>\n",
       "      <th>Loan.Length</th>\n",
       "      <th>Loan.Purpose</th>\n",
       "      <th>Debt.To.Income.Ratio</th>\n",
       "      <th>State</th>\n",
       "      <th>Home.Ownership</th>\n",
       "      <th>Monthly.Income</th>\n",
       "      <th>FICO.Range</th>\n",
       "      <th>Open.CREDIT.Lines</th>\n",
       "      <th>Revolving.CREDIT.Balance</th>\n",
       "      <th>Inquiries.in.the.Last.6.Months</th>\n",
       "      <th>Employment.Length</th>\n",
       "    </tr>\n",
       "  </thead>\n",
       "  <tbody>\n",
       "    <tr>\n",
       "      <th>0</th>\n",
       "      <td>1</td>\n",
       "      <td>20000.0</td>\n",
       "      <td>20000.00</td>\n",
       "      <td>8.90%</td>\n",
       "      <td>36 months</td>\n",
       "      <td>debt_consolidation</td>\n",
       "      <td>14.90%</td>\n",
       "      <td>SC</td>\n",
       "      <td>MORTGAGE</td>\n",
       "      <td>6541.67</td>\n",
       "      <td>735-739</td>\n",
       "      <td>14.0</td>\n",
       "      <td>14272.0</td>\n",
       "      <td>2.0</td>\n",
       "      <td>&lt; 1 year</td>\n",
       "    </tr>\n",
       "    <tr>\n",
       "      <th>1</th>\n",
       "      <td>2</td>\n",
       "      <td>19200.0</td>\n",
       "      <td>19200.00</td>\n",
       "      <td>12.12%</td>\n",
       "      <td>36 months</td>\n",
       "      <td>debt_consolidation</td>\n",
       "      <td>28.36%</td>\n",
       "      <td>TX</td>\n",
       "      <td>MORTGAGE</td>\n",
       "      <td>4583.33</td>\n",
       "      <td>715-719</td>\n",
       "      <td>12.0</td>\n",
       "      <td>11140.0</td>\n",
       "      <td>1.0</td>\n",
       "      <td>2 years</td>\n",
       "    </tr>\n",
       "    <tr>\n",
       "      <th>2</th>\n",
       "      <td>3</td>\n",
       "      <td>35000.0</td>\n",
       "      <td>35000.00</td>\n",
       "      <td>21.98%</td>\n",
       "      <td>60 months</td>\n",
       "      <td>debt_consolidation</td>\n",
       "      <td>23.81%</td>\n",
       "      <td>CA</td>\n",
       "      <td>MORTGAGE</td>\n",
       "      <td>11500.00</td>\n",
       "      <td>690-694</td>\n",
       "      <td>14.0</td>\n",
       "      <td>21977.0</td>\n",
       "      <td>1.0</td>\n",
       "      <td>2 years</td>\n",
       "    </tr>\n",
       "    <tr>\n",
       "      <th>3</th>\n",
       "      <td>4</td>\n",
       "      <td>10000.0</td>\n",
       "      <td>9975.00</td>\n",
       "      <td>9.99%</td>\n",
       "      <td>36 months</td>\n",
       "      <td>debt_consolidation</td>\n",
       "      <td>14.30%</td>\n",
       "      <td>KS</td>\n",
       "      <td>MORTGAGE</td>\n",
       "      <td>3833.33</td>\n",
       "      <td>695-699</td>\n",
       "      <td>10.0</td>\n",
       "      <td>9346.0</td>\n",
       "      <td>0.0</td>\n",
       "      <td>5 years</td>\n",
       "    </tr>\n",
       "    <tr>\n",
       "      <th>4</th>\n",
       "      <td>5</td>\n",
       "      <td>12000.0</td>\n",
       "      <td>12000.00</td>\n",
       "      <td>11.71%</td>\n",
       "      <td>36 months</td>\n",
       "      <td>credit_card</td>\n",
       "      <td>18.78%</td>\n",
       "      <td>NJ</td>\n",
       "      <td>RENT</td>\n",
       "      <td>3195.00</td>\n",
       "      <td>695-699</td>\n",
       "      <td>11.0</td>\n",
       "      <td>14469.0</td>\n",
       "      <td>0.0</td>\n",
       "      <td>9 years</td>\n",
       "    </tr>\n",
       "    <tr>\n",
       "      <th>...</th>\n",
       "      <td>...</td>\n",
       "      <td>...</td>\n",
       "      <td>...</td>\n",
       "      <td>...</td>\n",
       "      <td>...</td>\n",
       "      <td>...</td>\n",
       "      <td>...</td>\n",
       "      <td>...</td>\n",
       "      <td>...</td>\n",
       "      <td>...</td>\n",
       "      <td>...</td>\n",
       "      <td>...</td>\n",
       "      <td>...</td>\n",
       "      <td>...</td>\n",
       "      <td>...</td>\n",
       "    </tr>\n",
       "    <tr>\n",
       "      <th>2495</th>\n",
       "      <td>2496</td>\n",
       "      <td>30000.0</td>\n",
       "      <td>29950.00</td>\n",
       "      <td>16.77%</td>\n",
       "      <td>60 months</td>\n",
       "      <td>debt_consolidation</td>\n",
       "      <td>19.23%</td>\n",
       "      <td>NY</td>\n",
       "      <td>MORTGAGE</td>\n",
       "      <td>9250.00</td>\n",
       "      <td>705-709</td>\n",
       "      <td>15.0</td>\n",
       "      <td>45880.0</td>\n",
       "      <td>1.0</td>\n",
       "      <td>8 years</td>\n",
       "    </tr>\n",
       "    <tr>\n",
       "      <th>2496</th>\n",
       "      <td>2497</td>\n",
       "      <td>16000.0</td>\n",
       "      <td>16000.00</td>\n",
       "      <td>14.09%</td>\n",
       "      <td>60 months</td>\n",
       "      <td>home_improvement</td>\n",
       "      <td>21.54%</td>\n",
       "      <td>MD</td>\n",
       "      <td>OWN</td>\n",
       "      <td>8903.25</td>\n",
       "      <td>740-744</td>\n",
       "      <td>18.0</td>\n",
       "      <td>18898.0</td>\n",
       "      <td>1.0</td>\n",
       "      <td>10+ years</td>\n",
       "    </tr>\n",
       "    <tr>\n",
       "      <th>2497</th>\n",
       "      <td>2498</td>\n",
       "      <td>10000.0</td>\n",
       "      <td>10000.00</td>\n",
       "      <td>13.99%</td>\n",
       "      <td>36 months</td>\n",
       "      <td>debt_consolidation</td>\n",
       "      <td>4.89%</td>\n",
       "      <td>PA</td>\n",
       "      <td>MORTGAGE</td>\n",
       "      <td>2166.67</td>\n",
       "      <td>680-684</td>\n",
       "      <td>4.0</td>\n",
       "      <td>4544.0</td>\n",
       "      <td>0.0</td>\n",
       "      <td>10+ years</td>\n",
       "    </tr>\n",
       "    <tr>\n",
       "      <th>2498</th>\n",
       "      <td>2499</td>\n",
       "      <td>6000.0</td>\n",
       "      <td>6000.00</td>\n",
       "      <td>12.42%</td>\n",
       "      <td>36 months</td>\n",
       "      <td>major_purchase</td>\n",
       "      <td>16.66%</td>\n",
       "      <td>NJ</td>\n",
       "      <td>RENT</td>\n",
       "      <td>3500.00</td>\n",
       "      <td>675-679</td>\n",
       "      <td>8.0</td>\n",
       "      <td>7753.0</td>\n",
       "      <td>0.0</td>\n",
       "      <td>5 years</td>\n",
       "    </tr>\n",
       "    <tr>\n",
       "      <th>2499</th>\n",
       "      <td>2500</td>\n",
       "      <td>9000.0</td>\n",
       "      <td>5242.75</td>\n",
       "      <td>13.79%</td>\n",
       "      <td>36 months</td>\n",
       "      <td>debt_consolidation</td>\n",
       "      <td>6.76%</td>\n",
       "      <td>NY</td>\n",
       "      <td>RENT</td>\n",
       "      <td>3875.00</td>\n",
       "      <td>670-674</td>\n",
       "      <td>7.0</td>\n",
       "      <td>7589.0</td>\n",
       "      <td>0.0</td>\n",
       "      <td>10+ years</td>\n",
       "    </tr>\n",
       "  </tbody>\n",
       "</table>\n",
       "<p>2500 rows × 15 columns</p>\n",
       "</div>"
      ],
      "text/plain": [
       "      LoanID  Amount.Requested  Amount.Funded.By.Investors Interest.Rate  \\\n",
       "0          1           20000.0                    20000.00         8.90%   \n",
       "1          2           19200.0                    19200.00        12.12%   \n",
       "2          3           35000.0                    35000.00        21.98%   \n",
       "3          4           10000.0                     9975.00         9.99%   \n",
       "4          5           12000.0                    12000.00        11.71%   \n",
       "...      ...               ...                         ...           ...   \n",
       "2495    2496           30000.0                    29950.00        16.77%   \n",
       "2496    2497           16000.0                    16000.00        14.09%   \n",
       "2497    2498           10000.0                    10000.00        13.99%   \n",
       "2498    2499            6000.0                     6000.00        12.42%   \n",
       "2499    2500            9000.0                     5242.75        13.79%   \n",
       "\n",
       "     Loan.Length        Loan.Purpose Debt.To.Income.Ratio State  \\\n",
       "0      36 months  debt_consolidation               14.90%    SC   \n",
       "1      36 months  debt_consolidation               28.36%    TX   \n",
       "2      60 months  debt_consolidation               23.81%    CA   \n",
       "3      36 months  debt_consolidation               14.30%    KS   \n",
       "4      36 months         credit_card               18.78%    NJ   \n",
       "...          ...                 ...                  ...   ...   \n",
       "2495   60 months  debt_consolidation               19.23%    NY   \n",
       "2496   60 months    home_improvement               21.54%    MD   \n",
       "2497   36 months  debt_consolidation                4.89%    PA   \n",
       "2498   36 months      major_purchase               16.66%    NJ   \n",
       "2499   36 months  debt_consolidation                6.76%    NY   \n",
       "\n",
       "     Home.Ownership  Monthly.Income FICO.Range  Open.CREDIT.Lines  \\\n",
       "0          MORTGAGE         6541.67    735-739               14.0   \n",
       "1          MORTGAGE         4583.33    715-719               12.0   \n",
       "2          MORTGAGE        11500.00    690-694               14.0   \n",
       "3          MORTGAGE         3833.33    695-699               10.0   \n",
       "4              RENT         3195.00    695-699               11.0   \n",
       "...             ...             ...        ...                ...   \n",
       "2495       MORTGAGE         9250.00    705-709               15.0   \n",
       "2496            OWN         8903.25    740-744               18.0   \n",
       "2497       MORTGAGE         2166.67    680-684                4.0   \n",
       "2498           RENT         3500.00    675-679                8.0   \n",
       "2499           RENT         3875.00    670-674                7.0   \n",
       "\n",
       "      Revolving.CREDIT.Balance  Inquiries.in.the.Last.6.Months  \\\n",
       "0                      14272.0                             2.0   \n",
       "1                      11140.0                             1.0   \n",
       "2                      21977.0                             1.0   \n",
       "3                       9346.0                             0.0   \n",
       "4                      14469.0                             0.0   \n",
       "...                        ...                             ...   \n",
       "2495                   45880.0                             1.0   \n",
       "2496                   18898.0                             1.0   \n",
       "2497                    4544.0                             0.0   \n",
       "2498                    7753.0                             0.0   \n",
       "2499                    7589.0                             0.0   \n",
       "\n",
       "     Employment.Length  \n",
       "0             < 1 year  \n",
       "1              2 years  \n",
       "2              2 years  \n",
       "3              5 years  \n",
       "4              9 years  \n",
       "...                ...  \n",
       "2495           8 years  \n",
       "2496         10+ years  \n",
       "2497         10+ years  \n",
       "2498           5 years  \n",
       "2499         10+ years  \n",
       "\n",
       "[2500 rows x 15 columns]"
      ]
     },
     "execution_count": 130,
     "metadata": {},
     "output_type": "execute_result"
    }
   ],
   "source": [
    "data1 = pd.read_csv(r'D:\\Data\\datasets\\LoansData.csv')\n",
    "data1"
   ]
  },
  {
   "cell_type": "code",
   "execution_count": 131,
   "id": "81ce91c7",
   "metadata": {},
   "outputs": [
    {
     "data": {
      "text/plain": [
       "pandas.core.frame.DataFrame"
      ]
     },
     "execution_count": 131,
     "metadata": {},
     "output_type": "execute_result"
    }
   ],
   "source": [
    "type(data1)"
   ]
  },
  {
   "cell_type": "code",
   "execution_count": 132,
   "id": "99cea40c",
   "metadata": {},
   "outputs": [],
   "source": [
    "## comma delimited\n",
    "\n",
    "## tab delimited, semi-colon delimited"
   ]
  },
  {
   "cell_type": "code",
   "execution_count": 133,
   "id": "15175f5e",
   "metadata": {},
   "outputs": [],
   "source": [
    "pd.read_csv?"
   ]
  },
  {
   "cell_type": "code",
   "execution_count": 136,
   "id": "dce65831",
   "metadata": {},
   "outputs": [
    {
     "data": {
      "text/html": [
       "<div>\n",
       "<style scoped>\n",
       "    .dataframe tbody tr th:only-of-type {\n",
       "        vertical-align: middle;\n",
       "    }\n",
       "\n",
       "    .dataframe tbody tr th {\n",
       "        vertical-align: top;\n",
       "    }\n",
       "\n",
       "    .dataframe thead th {\n",
       "        text-align: right;\n",
       "    }\n",
       "</style>\n",
       "<table border=\"1\" class=\"dataframe\">\n",
       "  <thead>\n",
       "    <tr style=\"text-align: right;\">\n",
       "      <th></th>\n",
       "      <th>age</th>\n",
       "      <th>job</th>\n",
       "      <th>marital</th>\n",
       "      <th>education</th>\n",
       "      <th>default</th>\n",
       "      <th>housing</th>\n",
       "      <th>loan</th>\n",
       "      <th>contact</th>\n",
       "      <th>month</th>\n",
       "      <th>day_of_week</th>\n",
       "      <th>...</th>\n",
       "      <th>campaign</th>\n",
       "      <th>pdays</th>\n",
       "      <th>previous</th>\n",
       "      <th>poutcome</th>\n",
       "      <th>emp.var.rate</th>\n",
       "      <th>cons.price.idx</th>\n",
       "      <th>cons.conf.idx</th>\n",
       "      <th>euribor3m</th>\n",
       "      <th>nr.employed</th>\n",
       "      <th>y</th>\n",
       "    </tr>\n",
       "  </thead>\n",
       "  <tbody>\n",
       "    <tr>\n",
       "      <th>0</th>\n",
       "      <td>30</td>\n",
       "      <td>blue-collar</td>\n",
       "      <td>married</td>\n",
       "      <td>basic.9y</td>\n",
       "      <td>no</td>\n",
       "      <td>yes</td>\n",
       "      <td>no</td>\n",
       "      <td>cellular</td>\n",
       "      <td>may</td>\n",
       "      <td>fri</td>\n",
       "      <td>...</td>\n",
       "      <td>2</td>\n",
       "      <td>999</td>\n",
       "      <td>0</td>\n",
       "      <td>nonexistent</td>\n",
       "      <td>-1.8</td>\n",
       "      <td>92.893</td>\n",
       "      <td>-46.2</td>\n",
       "      <td>1.313</td>\n",
       "      <td>5099.1</td>\n",
       "      <td>no</td>\n",
       "    </tr>\n",
       "    <tr>\n",
       "      <th>1</th>\n",
       "      <td>39</td>\n",
       "      <td>services</td>\n",
       "      <td>single</td>\n",
       "      <td>high.school</td>\n",
       "      <td>no</td>\n",
       "      <td>no</td>\n",
       "      <td>no</td>\n",
       "      <td>telephone</td>\n",
       "      <td>may</td>\n",
       "      <td>fri</td>\n",
       "      <td>...</td>\n",
       "      <td>4</td>\n",
       "      <td>999</td>\n",
       "      <td>0</td>\n",
       "      <td>nonexistent</td>\n",
       "      <td>1.1</td>\n",
       "      <td>93.994</td>\n",
       "      <td>-36.4</td>\n",
       "      <td>4.855</td>\n",
       "      <td>5191.0</td>\n",
       "      <td>no</td>\n",
       "    </tr>\n",
       "    <tr>\n",
       "      <th>2</th>\n",
       "      <td>25</td>\n",
       "      <td>services</td>\n",
       "      <td>married</td>\n",
       "      <td>high.school</td>\n",
       "      <td>no</td>\n",
       "      <td>yes</td>\n",
       "      <td>no</td>\n",
       "      <td>telephone</td>\n",
       "      <td>jun</td>\n",
       "      <td>wed</td>\n",
       "      <td>...</td>\n",
       "      <td>1</td>\n",
       "      <td>999</td>\n",
       "      <td>0</td>\n",
       "      <td>nonexistent</td>\n",
       "      <td>1.4</td>\n",
       "      <td>94.465</td>\n",
       "      <td>-41.8</td>\n",
       "      <td>4.962</td>\n",
       "      <td>5228.1</td>\n",
       "      <td>no</td>\n",
       "    </tr>\n",
       "    <tr>\n",
       "      <th>3</th>\n",
       "      <td>38</td>\n",
       "      <td>services</td>\n",
       "      <td>married</td>\n",
       "      <td>basic.9y</td>\n",
       "      <td>no</td>\n",
       "      <td>unknown</td>\n",
       "      <td>unknown</td>\n",
       "      <td>telephone</td>\n",
       "      <td>jun</td>\n",
       "      <td>fri</td>\n",
       "      <td>...</td>\n",
       "      <td>3</td>\n",
       "      <td>999</td>\n",
       "      <td>0</td>\n",
       "      <td>nonexistent</td>\n",
       "      <td>1.4</td>\n",
       "      <td>94.465</td>\n",
       "      <td>-41.8</td>\n",
       "      <td>4.959</td>\n",
       "      <td>5228.1</td>\n",
       "      <td>no</td>\n",
       "    </tr>\n",
       "    <tr>\n",
       "      <th>4</th>\n",
       "      <td>47</td>\n",
       "      <td>admin.</td>\n",
       "      <td>married</td>\n",
       "      <td>university.degree</td>\n",
       "      <td>no</td>\n",
       "      <td>yes</td>\n",
       "      <td>no</td>\n",
       "      <td>cellular</td>\n",
       "      <td>nov</td>\n",
       "      <td>mon</td>\n",
       "      <td>...</td>\n",
       "      <td>1</td>\n",
       "      <td>999</td>\n",
       "      <td>0</td>\n",
       "      <td>nonexistent</td>\n",
       "      <td>-0.1</td>\n",
       "      <td>93.200</td>\n",
       "      <td>-42.0</td>\n",
       "      <td>4.191</td>\n",
       "      <td>5195.8</td>\n",
       "      <td>no</td>\n",
       "    </tr>\n",
       "    <tr>\n",
       "      <th>...</th>\n",
       "      <td>...</td>\n",
       "      <td>...</td>\n",
       "      <td>...</td>\n",
       "      <td>...</td>\n",
       "      <td>...</td>\n",
       "      <td>...</td>\n",
       "      <td>...</td>\n",
       "      <td>...</td>\n",
       "      <td>...</td>\n",
       "      <td>...</td>\n",
       "      <td>...</td>\n",
       "      <td>...</td>\n",
       "      <td>...</td>\n",
       "      <td>...</td>\n",
       "      <td>...</td>\n",
       "      <td>...</td>\n",
       "      <td>...</td>\n",
       "      <td>...</td>\n",
       "      <td>...</td>\n",
       "      <td>...</td>\n",
       "      <td>...</td>\n",
       "    </tr>\n",
       "    <tr>\n",
       "      <th>4114</th>\n",
       "      <td>30</td>\n",
       "      <td>admin.</td>\n",
       "      <td>married</td>\n",
       "      <td>basic.6y</td>\n",
       "      <td>no</td>\n",
       "      <td>yes</td>\n",
       "      <td>yes</td>\n",
       "      <td>cellular</td>\n",
       "      <td>jul</td>\n",
       "      <td>thu</td>\n",
       "      <td>...</td>\n",
       "      <td>1</td>\n",
       "      <td>999</td>\n",
       "      <td>0</td>\n",
       "      <td>nonexistent</td>\n",
       "      <td>1.4</td>\n",
       "      <td>93.918</td>\n",
       "      <td>-42.7</td>\n",
       "      <td>4.958</td>\n",
       "      <td>5228.1</td>\n",
       "      <td>no</td>\n",
       "    </tr>\n",
       "    <tr>\n",
       "      <th>4115</th>\n",
       "      <td>39</td>\n",
       "      <td>admin.</td>\n",
       "      <td>married</td>\n",
       "      <td>high.school</td>\n",
       "      <td>no</td>\n",
       "      <td>yes</td>\n",
       "      <td>no</td>\n",
       "      <td>telephone</td>\n",
       "      <td>jul</td>\n",
       "      <td>fri</td>\n",
       "      <td>...</td>\n",
       "      <td>1</td>\n",
       "      <td>999</td>\n",
       "      <td>0</td>\n",
       "      <td>nonexistent</td>\n",
       "      <td>1.4</td>\n",
       "      <td>93.918</td>\n",
       "      <td>-42.7</td>\n",
       "      <td>4.959</td>\n",
       "      <td>5228.1</td>\n",
       "      <td>no</td>\n",
       "    </tr>\n",
       "    <tr>\n",
       "      <th>4116</th>\n",
       "      <td>27</td>\n",
       "      <td>student</td>\n",
       "      <td>single</td>\n",
       "      <td>high.school</td>\n",
       "      <td>no</td>\n",
       "      <td>no</td>\n",
       "      <td>no</td>\n",
       "      <td>cellular</td>\n",
       "      <td>may</td>\n",
       "      <td>mon</td>\n",
       "      <td>...</td>\n",
       "      <td>2</td>\n",
       "      <td>999</td>\n",
       "      <td>1</td>\n",
       "      <td>failure</td>\n",
       "      <td>-1.8</td>\n",
       "      <td>92.893</td>\n",
       "      <td>-46.2</td>\n",
       "      <td>1.354</td>\n",
       "      <td>5099.1</td>\n",
       "      <td>no</td>\n",
       "    </tr>\n",
       "    <tr>\n",
       "      <th>4117</th>\n",
       "      <td>58</td>\n",
       "      <td>admin.</td>\n",
       "      <td>married</td>\n",
       "      <td>high.school</td>\n",
       "      <td>no</td>\n",
       "      <td>no</td>\n",
       "      <td>no</td>\n",
       "      <td>cellular</td>\n",
       "      <td>aug</td>\n",
       "      <td>fri</td>\n",
       "      <td>...</td>\n",
       "      <td>1</td>\n",
       "      <td>999</td>\n",
       "      <td>0</td>\n",
       "      <td>nonexistent</td>\n",
       "      <td>1.4</td>\n",
       "      <td>93.444</td>\n",
       "      <td>-36.1</td>\n",
       "      <td>4.966</td>\n",
       "      <td>5228.1</td>\n",
       "      <td>no</td>\n",
       "    </tr>\n",
       "    <tr>\n",
       "      <th>4118</th>\n",
       "      <td>34</td>\n",
       "      <td>management</td>\n",
       "      <td>single</td>\n",
       "      <td>high.school</td>\n",
       "      <td>no</td>\n",
       "      <td>yes</td>\n",
       "      <td>no</td>\n",
       "      <td>cellular</td>\n",
       "      <td>nov</td>\n",
       "      <td>wed</td>\n",
       "      <td>...</td>\n",
       "      <td>1</td>\n",
       "      <td>999</td>\n",
       "      <td>0</td>\n",
       "      <td>nonexistent</td>\n",
       "      <td>-0.1</td>\n",
       "      <td>93.200</td>\n",
       "      <td>-42.0</td>\n",
       "      <td>4.120</td>\n",
       "      <td>5195.8</td>\n",
       "      <td>no</td>\n",
       "    </tr>\n",
       "  </tbody>\n",
       "</table>\n",
       "<p>4119 rows × 21 columns</p>\n",
       "</div>"
      ],
      "text/plain": [
       "      age          job  marital          education default  housing     loan  \\\n",
       "0      30  blue-collar  married           basic.9y      no      yes       no   \n",
       "1      39     services   single        high.school      no       no       no   \n",
       "2      25     services  married        high.school      no      yes       no   \n",
       "3      38     services  married           basic.9y      no  unknown  unknown   \n",
       "4      47       admin.  married  university.degree      no      yes       no   \n",
       "...   ...          ...      ...                ...     ...      ...      ...   \n",
       "4114   30       admin.  married           basic.6y      no      yes      yes   \n",
       "4115   39       admin.  married        high.school      no      yes       no   \n",
       "4116   27      student   single        high.school      no       no       no   \n",
       "4117   58       admin.  married        high.school      no       no       no   \n",
       "4118   34   management   single        high.school      no      yes       no   \n",
       "\n",
       "        contact month day_of_week  ...  campaign  pdays  previous  \\\n",
       "0      cellular   may         fri  ...         2    999         0   \n",
       "1     telephone   may         fri  ...         4    999         0   \n",
       "2     telephone   jun         wed  ...         1    999         0   \n",
       "3     telephone   jun         fri  ...         3    999         0   \n",
       "4      cellular   nov         mon  ...         1    999         0   \n",
       "...         ...   ...         ...  ...       ...    ...       ...   \n",
       "4114   cellular   jul         thu  ...         1    999         0   \n",
       "4115  telephone   jul         fri  ...         1    999         0   \n",
       "4116   cellular   may         mon  ...         2    999         1   \n",
       "4117   cellular   aug         fri  ...         1    999         0   \n",
       "4118   cellular   nov         wed  ...         1    999         0   \n",
       "\n",
       "         poutcome emp.var.rate  cons.price.idx  cons.conf.idx  euribor3m  \\\n",
       "0     nonexistent         -1.8          92.893          -46.2      1.313   \n",
       "1     nonexistent          1.1          93.994          -36.4      4.855   \n",
       "2     nonexistent          1.4          94.465          -41.8      4.962   \n",
       "3     nonexistent          1.4          94.465          -41.8      4.959   \n",
       "4     nonexistent         -0.1          93.200          -42.0      4.191   \n",
       "...           ...          ...             ...            ...        ...   \n",
       "4114  nonexistent          1.4          93.918          -42.7      4.958   \n",
       "4115  nonexistent          1.4          93.918          -42.7      4.959   \n",
       "4116      failure         -1.8          92.893          -46.2      1.354   \n",
       "4117  nonexistent          1.4          93.444          -36.1      4.966   \n",
       "4118  nonexistent         -0.1          93.200          -42.0      4.120   \n",
       "\n",
       "      nr.employed   y  \n",
       "0          5099.1  no  \n",
       "1          5191.0  no  \n",
       "2          5228.1  no  \n",
       "3          5228.1  no  \n",
       "4          5195.8  no  \n",
       "...           ...  ..  \n",
       "4114       5228.1  no  \n",
       "4115       5228.1  no  \n",
       "4116       5099.1  no  \n",
       "4117       5228.1  no  \n",
       "4118       5195.8  no  \n",
       "\n",
       "[4119 rows x 21 columns]"
      ]
     },
     "execution_count": 136,
     "metadata": {},
     "output_type": "execute_result"
    }
   ],
   "source": [
    "data2 = pd.read_csv(r'D:/Data/datasets/bank-additional.csv', sep=';')\n",
    "data2"
   ]
  },
  {
   "cell_type": "code",
   "execution_count": 138,
   "id": "c1d6a0b1",
   "metadata": {},
   "outputs": [
    {
     "data": {
      "text/html": [
       "<div>\n",
       "<style scoped>\n",
       "    .dataframe tbody tr th:only-of-type {\n",
       "        vertical-align: middle;\n",
       "    }\n",
       "\n",
       "    .dataframe tbody tr th {\n",
       "        vertical-align: top;\n",
       "    }\n",
       "\n",
       "    .dataframe thead th {\n",
       "        text-align: right;\n",
       "    }\n",
       "</style>\n",
       "<table border=\"1\" class=\"dataframe\">\n",
       "  <thead>\n",
       "    <tr style=\"text-align: right;\">\n",
       "      <th></th>\n",
       "      <th>Date</th>\n",
       "      <th>Open</th>\n",
       "      <th>High</th>\n",
       "      <th>Low</th>\n",
       "      <th>Close</th>\n",
       "      <th>Adj Close</th>\n",
       "      <th>Volume</th>\n",
       "    </tr>\n",
       "  </thead>\n",
       "  <tbody>\n",
       "    <tr>\n",
       "      <th>0</th>\n",
       "      <td>1998-11-27</td>\n",
       "      <td>3.550000</td>\n",
       "      <td>3.550000</td>\n",
       "      <td>2.710000</td>\n",
       "      <td>3.400000</td>\n",
       "      <td>2.257744</td>\n",
       "      <td>21000</td>\n",
       "    </tr>\n",
       "    <tr>\n",
       "      <th>1</th>\n",
       "      <td>1998-11-30</td>\n",
       "      <td>3.250000</td>\n",
       "      <td>3.300000</td>\n",
       "      <td>3.100000</td>\n",
       "      <td>3.210000</td>\n",
       "      <td>2.131575</td>\n",
       "      <td>132000</td>\n",
       "    </tr>\n",
       "    <tr>\n",
       "      <th>2</th>\n",
       "      <td>1998-12-01</td>\n",
       "      <td>3.290000</td>\n",
       "      <td>3.460000</td>\n",
       "      <td>3.220000</td>\n",
       "      <td>3.390000</td>\n",
       "      <td>2.251104</td>\n",
       "      <td>123500</td>\n",
       "    </tr>\n",
       "    <tr>\n",
       "      <th>3</th>\n",
       "      <td>1998-12-02</td>\n",
       "      <td>3.360000</td>\n",
       "      <td>3.440000</td>\n",
       "      <td>3.320000</td>\n",
       "      <td>3.390000</td>\n",
       "      <td>2.251104</td>\n",
       "      <td>75500</td>\n",
       "    </tr>\n",
       "    <tr>\n",
       "      <th>4</th>\n",
       "      <td>1998-12-03</td>\n",
       "      <td>3.440000</td>\n",
       "      <td>3.490000</td>\n",
       "      <td>3.370000</td>\n",
       "      <td>3.390000</td>\n",
       "      <td>2.251104</td>\n",
       "      <td>102000</td>\n",
       "    </tr>\n",
       "    <tr>\n",
       "      <th>...</th>\n",
       "      <td>...</td>\n",
       "      <td>...</td>\n",
       "      <td>...</td>\n",
       "      <td>...</td>\n",
       "      <td>...</td>\n",
       "      <td>...</td>\n",
       "      <td>...</td>\n",
       "    </tr>\n",
       "    <tr>\n",
       "      <th>6144</th>\n",
       "      <td>2023-06-19</td>\n",
       "      <td>983.849976</td>\n",
       "      <td>986.000000</td>\n",
       "      <td>961.000000</td>\n",
       "      <td>965.650024</td>\n",
       "      <td>965.650024</td>\n",
       "      <td>11025846</td>\n",
       "    </tr>\n",
       "    <tr>\n",
       "      <th>6145</th>\n",
       "      <td>2023-06-20</td>\n",
       "      <td>965.950012</td>\n",
       "      <td>977.000000</td>\n",
       "      <td>958.549988</td>\n",
       "      <td>974.849976</td>\n",
       "      <td>974.849976</td>\n",
       "      <td>7596593</td>\n",
       "    </tr>\n",
       "    <tr>\n",
       "      <th>6146</th>\n",
       "      <td>2023-06-21</td>\n",
       "      <td>978.299988</td>\n",
       "      <td>978.299988</td>\n",
       "      <td>963.150024</td>\n",
       "      <td>966.000000</td>\n",
       "      <td>966.000000</td>\n",
       "      <td>7805855</td>\n",
       "    </tr>\n",
       "    <tr>\n",
       "      <th>6147</th>\n",
       "      <td>2023-06-22</td>\n",
       "      <td>962.200012</td>\n",
       "      <td>973.450012</td>\n",
       "      <td>958.700012</td>\n",
       "      <td>966.599976</td>\n",
       "      <td>966.599976</td>\n",
       "      <td>10135883</td>\n",
       "    </tr>\n",
       "    <tr>\n",
       "      <th>6148</th>\n",
       "      <td>2023-06-23</td>\n",
       "      <td>960.000000</td>\n",
       "      <td>965.500000</td>\n",
       "      <td>954.549988</td>\n",
       "      <td>958.400024</td>\n",
       "      <td>958.400024</td>\n",
       "      <td>6188008</td>\n",
       "    </tr>\n",
       "  </tbody>\n",
       "</table>\n",
       "<p>6149 rows × 7 columns</p>\n",
       "</div>"
      ],
      "text/plain": [
       "           Date        Open        High         Low       Close   Adj Close  \\\n",
       "0    1998-11-27    3.550000    3.550000    2.710000    3.400000    2.257744   \n",
       "1    1998-11-30    3.250000    3.300000    3.100000    3.210000    2.131575   \n",
       "2    1998-12-01    3.290000    3.460000    3.220000    3.390000    2.251104   \n",
       "3    1998-12-02    3.360000    3.440000    3.320000    3.390000    2.251104   \n",
       "4    1998-12-03    3.440000    3.490000    3.370000    3.390000    2.251104   \n",
       "...         ...         ...         ...         ...         ...         ...   \n",
       "6144 2023-06-19  983.849976  986.000000  961.000000  965.650024  965.650024   \n",
       "6145 2023-06-20  965.950012  977.000000  958.549988  974.849976  974.849976   \n",
       "6146 2023-06-21  978.299988  978.299988  963.150024  966.000000  966.000000   \n",
       "6147 2023-06-22  962.200012  973.450012  958.700012  966.599976  966.599976   \n",
       "6148 2023-06-23  960.000000  965.500000  954.549988  958.400024  958.400024   \n",
       "\n",
       "        Volume  \n",
       "0        21000  \n",
       "1       132000  \n",
       "2       123500  \n",
       "3        75500  \n",
       "4       102000  \n",
       "...        ...  \n",
       "6144  11025846  \n",
       "6145   7596593  \n",
       "6146   7805855  \n",
       "6147  10135883  \n",
       "6148   6188008  \n",
       "\n",
       "[6149 rows x 7 columns]"
      ]
     },
     "execution_count": 138,
     "metadata": {},
     "output_type": "execute_result"
    }
   ],
   "source": [
    "## excel\n",
    "\n",
    "data3 = pd.read_excel('d:/data/datasets/stock_price_data2.xlsx')\n",
    "data3"
   ]
  },
  {
   "cell_type": "code",
   "execution_count": 141,
   "id": "47a1cf6d",
   "metadata": {},
   "outputs": [],
   "source": [
    "data = pd.read_excel('d:/data/datasets/stock_price_data2.xlsx', sheet_name=None)"
   ]
  },
  {
   "cell_type": "code",
   "execution_count": 142,
   "id": "a605dbbf",
   "metadata": {},
   "outputs": [
    {
     "data": {
      "text/plain": [
       "dict"
      ]
     },
     "execution_count": 142,
     "metadata": {},
     "output_type": "execute_result"
    }
   ],
   "source": [
    "type(data)"
   ]
  },
  {
   "cell_type": "code",
   "execution_count": 144,
   "id": "74d55e55",
   "metadata": {},
   "outputs": [
    {
     "data": {
      "text/plain": [
       "pandas.core.frame.DataFrame"
      ]
     },
     "execution_count": 144,
     "metadata": {},
     "output_type": "execute_result"
    }
   ],
   "source": [
    "type(data['AXISBANK.NS'])"
   ]
  },
  {
   "cell_type": "code",
   "execution_count": 146,
   "id": "469c697a",
   "metadata": {},
   "outputs": [
    {
     "data": {
      "text/html": [
       "<div>\n",
       "<style scoped>\n",
       "    .dataframe tbody tr th:only-of-type {\n",
       "        vertical-align: middle;\n",
       "    }\n",
       "\n",
       "    .dataframe tbody tr th {\n",
       "        vertical-align: top;\n",
       "    }\n",
       "\n",
       "    .dataframe thead th {\n",
       "        text-align: right;\n",
       "    }\n",
       "</style>\n",
       "<table border=\"1\" class=\"dataframe\">\n",
       "  <thead>\n",
       "    <tr style=\"text-align: right;\">\n",
       "      <th></th>\n",
       "      <th>Date</th>\n",
       "      <th>Open</th>\n",
       "      <th>High</th>\n",
       "      <th>Low</th>\n",
       "      <th>Close</th>\n",
       "      <th>Adj Close</th>\n",
       "      <th>Volume</th>\n",
       "    </tr>\n",
       "  </thead>\n",
       "  <tbody>\n",
       "    <tr>\n",
       "      <th>0</th>\n",
       "      <td>1998-11-27</td>\n",
       "      <td>3.550000</td>\n",
       "      <td>3.550000</td>\n",
       "      <td>2.710000</td>\n",
       "      <td>3.400000</td>\n",
       "      <td>2.257744</td>\n",
       "      <td>21000</td>\n",
       "    </tr>\n",
       "    <tr>\n",
       "      <th>1</th>\n",
       "      <td>1998-11-30</td>\n",
       "      <td>3.250000</td>\n",
       "      <td>3.300000</td>\n",
       "      <td>3.100000</td>\n",
       "      <td>3.210000</td>\n",
       "      <td>2.131575</td>\n",
       "      <td>132000</td>\n",
       "    </tr>\n",
       "    <tr>\n",
       "      <th>2</th>\n",
       "      <td>1998-12-01</td>\n",
       "      <td>3.290000</td>\n",
       "      <td>3.460000</td>\n",
       "      <td>3.220000</td>\n",
       "      <td>3.390000</td>\n",
       "      <td>2.251104</td>\n",
       "      <td>123500</td>\n",
       "    </tr>\n",
       "    <tr>\n",
       "      <th>3</th>\n",
       "      <td>1998-12-02</td>\n",
       "      <td>3.360000</td>\n",
       "      <td>3.440000</td>\n",
       "      <td>3.320000</td>\n",
       "      <td>3.390000</td>\n",
       "      <td>2.251104</td>\n",
       "      <td>75500</td>\n",
       "    </tr>\n",
       "    <tr>\n",
       "      <th>4</th>\n",
       "      <td>1998-12-03</td>\n",
       "      <td>3.440000</td>\n",
       "      <td>3.490000</td>\n",
       "      <td>3.370000</td>\n",
       "      <td>3.390000</td>\n",
       "      <td>2.251104</td>\n",
       "      <td>102000</td>\n",
       "    </tr>\n",
       "    <tr>\n",
       "      <th>...</th>\n",
       "      <td>...</td>\n",
       "      <td>...</td>\n",
       "      <td>...</td>\n",
       "      <td>...</td>\n",
       "      <td>...</td>\n",
       "      <td>...</td>\n",
       "      <td>...</td>\n",
       "    </tr>\n",
       "    <tr>\n",
       "      <th>6144</th>\n",
       "      <td>2023-06-19</td>\n",
       "      <td>983.849976</td>\n",
       "      <td>986.000000</td>\n",
       "      <td>961.000000</td>\n",
       "      <td>965.650024</td>\n",
       "      <td>965.650024</td>\n",
       "      <td>11025846</td>\n",
       "    </tr>\n",
       "    <tr>\n",
       "      <th>6145</th>\n",
       "      <td>2023-06-20</td>\n",
       "      <td>965.950012</td>\n",
       "      <td>977.000000</td>\n",
       "      <td>958.549988</td>\n",
       "      <td>974.849976</td>\n",
       "      <td>974.849976</td>\n",
       "      <td>7596593</td>\n",
       "    </tr>\n",
       "    <tr>\n",
       "      <th>6146</th>\n",
       "      <td>2023-06-21</td>\n",
       "      <td>978.299988</td>\n",
       "      <td>978.299988</td>\n",
       "      <td>963.150024</td>\n",
       "      <td>966.000000</td>\n",
       "      <td>966.000000</td>\n",
       "      <td>7805855</td>\n",
       "    </tr>\n",
       "    <tr>\n",
       "      <th>6147</th>\n",
       "      <td>2023-06-22</td>\n",
       "      <td>962.200012</td>\n",
       "      <td>973.450012</td>\n",
       "      <td>958.700012</td>\n",
       "      <td>966.599976</td>\n",
       "      <td>966.599976</td>\n",
       "      <td>10135883</td>\n",
       "    </tr>\n",
       "    <tr>\n",
       "      <th>6148</th>\n",
       "      <td>2023-06-23</td>\n",
       "      <td>960.000000</td>\n",
       "      <td>965.500000</td>\n",
       "      <td>954.549988</td>\n",
       "      <td>958.400024</td>\n",
       "      <td>958.400024</td>\n",
       "      <td>6188008</td>\n",
       "    </tr>\n",
       "  </tbody>\n",
       "</table>\n",
       "<p>6149 rows × 7 columns</p>\n",
       "</div>"
      ],
      "text/plain": [
       "           Date        Open        High         Low       Close   Adj Close  \\\n",
       "0    1998-11-27    3.550000    3.550000    2.710000    3.400000    2.257744   \n",
       "1    1998-11-30    3.250000    3.300000    3.100000    3.210000    2.131575   \n",
       "2    1998-12-01    3.290000    3.460000    3.220000    3.390000    2.251104   \n",
       "3    1998-12-02    3.360000    3.440000    3.320000    3.390000    2.251104   \n",
       "4    1998-12-03    3.440000    3.490000    3.370000    3.390000    2.251104   \n",
       "...         ...         ...         ...         ...         ...         ...   \n",
       "6144 2023-06-19  983.849976  986.000000  961.000000  965.650024  965.650024   \n",
       "6145 2023-06-20  965.950012  977.000000  958.549988  974.849976  974.849976   \n",
       "6146 2023-06-21  978.299988  978.299988  963.150024  966.000000  966.000000   \n",
       "6147 2023-06-22  962.200012  973.450012  958.700012  966.599976  966.599976   \n",
       "6148 2023-06-23  960.000000  965.500000  954.549988  958.400024  958.400024   \n",
       "\n",
       "        Volume  \n",
       "0        21000  \n",
       "1       132000  \n",
       "2       123500  \n",
       "3        75500  \n",
       "4       102000  \n",
       "...        ...  \n",
       "6144  11025846  \n",
       "6145   7596593  \n",
       "6146   7805855  \n",
       "6147  10135883  \n",
       "6148   6188008  \n",
       "\n",
       "[6149 rows x 7 columns]"
      ]
     },
     "execution_count": 146,
     "metadata": {},
     "output_type": "execute_result"
    }
   ],
   "source": [
    "data['AXISBANK.NS']"
   ]
  },
  {
   "cell_type": "code",
   "execution_count": 147,
   "id": "528200ea",
   "metadata": {},
   "outputs": [],
   "source": [
    "## how to read from a sql database\n",
    "\n",
    "## a little later\n"
   ]
  },
  {
   "cell_type": "markdown",
   "id": "08d022ef",
   "metadata": {},
   "source": [
    "## Structured Data\n",
    "\n",
    "Metadata inspection\n",
    "\n",
    "    rows, columns\n",
    "    what are the column names\n",
    "    memory?\n",
    "    dtypes\n",
    "    null values\n",
    "    duplicates\n",
    "    \n",
    "    \n",
    "    \n",
    "\n",
    "Data inspection\n",
    "\n",
    "    access columns, rows\n",
    "    filter rows based on coditions\n",
    "    calculations\n",
    "        sum, mean, median, standard deviation\n",
    "        \n",
    "    sorting\n",
    "    \n",
    "    updating\n",
    "    create new variables (KPIs)\n",
    "    \n",
    "    vizualisation\n",
    "    \n",
    "    joining\n",
    "    \n",
    "    aggregating / group by / pivot table\n",
    "    \n",
    "    \n",
    "    transpose / pivoting\n",
    "    \n",
    "    renaming columns\n",
    "    \n",
    "    dropping duplicate / dropping null values\n",
    "    \n",
    "    missing value imputation\n",
    "    \n",
    "    altering data types\n",
    "    \n",
    "    \n",
    "much more powerful\n",
    "\n",
    "    \n",
    "    \n",
    "    \n",
    "    "
   ]
  },
  {
   "cell_type": "markdown",
   "id": "b1f029df",
   "metadata": {},
   "source": [
    "## Metadata Inspection"
   ]
  },
  {
   "cell_type": "code",
   "execution_count": 150,
   "id": "40f7f3e9",
   "metadata": {},
   "outputs": [
    {
     "data": {
      "text/plain": [
       "(2500, 15)"
      ]
     },
     "execution_count": 150,
     "metadata": {},
     "output_type": "execute_result"
    }
   ],
   "source": [
    "## rows and columns\n",
    "\n",
    "data1.shape"
   ]
  },
  {
   "cell_type": "code",
   "execution_count": 151,
   "id": "9301d120",
   "metadata": {},
   "outputs": [
    {
     "data": {
      "text/plain": [
       "2500"
      ]
     },
     "execution_count": 151,
     "metadata": {},
     "output_type": "execute_result"
    }
   ],
   "source": [
    "data1.shape[0]  ## rows"
   ]
  },
  {
   "cell_type": "code",
   "execution_count": 152,
   "id": "26d88cc5",
   "metadata": {},
   "outputs": [
    {
     "data": {
      "text/plain": [
       "15"
      ]
     },
     "execution_count": 152,
     "metadata": {},
     "output_type": "execute_result"
    }
   ],
   "source": [
    "data1.shape[1]  ## columns"
   ]
  },
  {
   "cell_type": "code",
   "execution_count": 153,
   "id": "22aba33f",
   "metadata": {},
   "outputs": [
    {
     "data": {
      "text/plain": [
       "LoanID                              int64\n",
       "Amount.Requested                  float64\n",
       "Amount.Funded.By.Investors        float64\n",
       "Interest.Rate                      object\n",
       "Loan.Length                        object\n",
       "Loan.Purpose                       object\n",
       "Debt.To.Income.Ratio               object\n",
       "State                              object\n",
       "Home.Ownership                     object\n",
       "Monthly.Income                    float64\n",
       "FICO.Range                         object\n",
       "Open.CREDIT.Lines                 float64\n",
       "Revolving.CREDIT.Balance          float64\n",
       "Inquiries.in.the.Last.6.Months    float64\n",
       "Employment.Length                  object\n",
       "dtype: object"
      ]
     },
     "execution_count": 153,
     "metadata": {},
     "output_type": "execute_result"
    }
   ],
   "source": [
    "## dtypes\n",
    "\n",
    "data1.dtypes"
   ]
  },
  {
   "cell_type": "code",
   "execution_count": 154,
   "id": "492dbcee",
   "metadata": {},
   "outputs": [],
   "source": [
    "## pandas assigns 'object' to string type variables\n",
    "\n",
    "## object - python object"
   ]
  },
  {
   "cell_type": "markdown",
   "id": "4b85d3fa",
   "metadata": {},
   "source": [
    "## `.head()`    `.tail()`"
   ]
  },
  {
   "cell_type": "code",
   "execution_count": 160,
   "id": "8e2d31bf",
   "metadata": {},
   "outputs": [
    {
     "data": {
      "text/html": [
       "<div>\n",
       "<style scoped>\n",
       "    .dataframe tbody tr th:only-of-type {\n",
       "        vertical-align: middle;\n",
       "    }\n",
       "\n",
       "    .dataframe tbody tr th {\n",
       "        vertical-align: top;\n",
       "    }\n",
       "\n",
       "    .dataframe thead th {\n",
       "        text-align: right;\n",
       "    }\n",
       "</style>\n",
       "<table border=\"1\" class=\"dataframe\">\n",
       "  <thead>\n",
       "    <tr style=\"text-align: right;\">\n",
       "      <th></th>\n",
       "      <th>LoanID</th>\n",
       "      <th>Amount.Requested</th>\n",
       "      <th>Amount.Funded.By.Investors</th>\n",
       "      <th>Interest.Rate</th>\n",
       "      <th>Loan.Length</th>\n",
       "      <th>Loan.Purpose</th>\n",
       "      <th>Debt.To.Income.Ratio</th>\n",
       "      <th>State</th>\n",
       "      <th>Home.Ownership</th>\n",
       "      <th>Monthly.Income</th>\n",
       "      <th>FICO.Range</th>\n",
       "      <th>Open.CREDIT.Lines</th>\n",
       "      <th>Revolving.CREDIT.Balance</th>\n",
       "      <th>Inquiries.in.the.Last.6.Months</th>\n",
       "      <th>Employment.Length</th>\n",
       "    </tr>\n",
       "  </thead>\n",
       "  <tbody>\n",
       "    <tr>\n",
       "      <th>0</th>\n",
       "      <td>1</td>\n",
       "      <td>20000.0</td>\n",
       "      <td>20000.0</td>\n",
       "      <td>8.90%</td>\n",
       "      <td>36 months</td>\n",
       "      <td>debt_consolidation</td>\n",
       "      <td>14.90%</td>\n",
       "      <td>SC</td>\n",
       "      <td>MORTGAGE</td>\n",
       "      <td>6541.67</td>\n",
       "      <td>735-739</td>\n",
       "      <td>14.0</td>\n",
       "      <td>14272.0</td>\n",
       "      <td>2.0</td>\n",
       "      <td>&lt; 1 year</td>\n",
       "    </tr>\n",
       "    <tr>\n",
       "      <th>1</th>\n",
       "      <td>2</td>\n",
       "      <td>19200.0</td>\n",
       "      <td>19200.0</td>\n",
       "      <td>12.12%</td>\n",
       "      <td>36 months</td>\n",
       "      <td>debt_consolidation</td>\n",
       "      <td>28.36%</td>\n",
       "      <td>TX</td>\n",
       "      <td>MORTGAGE</td>\n",
       "      <td>4583.33</td>\n",
       "      <td>715-719</td>\n",
       "      <td>12.0</td>\n",
       "      <td>11140.0</td>\n",
       "      <td>1.0</td>\n",
       "      <td>2 years</td>\n",
       "    </tr>\n",
       "    <tr>\n",
       "      <th>2</th>\n",
       "      <td>3</td>\n",
       "      <td>35000.0</td>\n",
       "      <td>35000.0</td>\n",
       "      <td>21.98%</td>\n",
       "      <td>60 months</td>\n",
       "      <td>debt_consolidation</td>\n",
       "      <td>23.81%</td>\n",
       "      <td>CA</td>\n",
       "      <td>MORTGAGE</td>\n",
       "      <td>11500.00</td>\n",
       "      <td>690-694</td>\n",
       "      <td>14.0</td>\n",
       "      <td>21977.0</td>\n",
       "      <td>1.0</td>\n",
       "      <td>2 years</td>\n",
       "    </tr>\n",
       "    <tr>\n",
       "      <th>3</th>\n",
       "      <td>4</td>\n",
       "      <td>10000.0</td>\n",
       "      <td>9975.0</td>\n",
       "      <td>9.99%</td>\n",
       "      <td>36 months</td>\n",
       "      <td>debt_consolidation</td>\n",
       "      <td>14.30%</td>\n",
       "      <td>KS</td>\n",
       "      <td>MORTGAGE</td>\n",
       "      <td>3833.33</td>\n",
       "      <td>695-699</td>\n",
       "      <td>10.0</td>\n",
       "      <td>9346.0</td>\n",
       "      <td>0.0</td>\n",
       "      <td>5 years</td>\n",
       "    </tr>\n",
       "    <tr>\n",
       "      <th>4</th>\n",
       "      <td>5</td>\n",
       "      <td>12000.0</td>\n",
       "      <td>12000.0</td>\n",
       "      <td>11.71%</td>\n",
       "      <td>36 months</td>\n",
       "      <td>credit_card</td>\n",
       "      <td>18.78%</td>\n",
       "      <td>NJ</td>\n",
       "      <td>RENT</td>\n",
       "      <td>3195.00</td>\n",
       "      <td>695-699</td>\n",
       "      <td>11.0</td>\n",
       "      <td>14469.0</td>\n",
       "      <td>0.0</td>\n",
       "      <td>9 years</td>\n",
       "    </tr>\n",
       "  </tbody>\n",
       "</table>\n",
       "</div>"
      ],
      "text/plain": [
       "   LoanID  Amount.Requested  Amount.Funded.By.Investors Interest.Rate  \\\n",
       "0       1           20000.0                     20000.0         8.90%   \n",
       "1       2           19200.0                     19200.0        12.12%   \n",
       "2       3           35000.0                     35000.0        21.98%   \n",
       "3       4           10000.0                      9975.0         9.99%   \n",
       "4       5           12000.0                     12000.0        11.71%   \n",
       "\n",
       "  Loan.Length        Loan.Purpose Debt.To.Income.Ratio State Home.Ownership  \\\n",
       "0   36 months  debt_consolidation               14.90%    SC       MORTGAGE   \n",
       "1   36 months  debt_consolidation               28.36%    TX       MORTGAGE   \n",
       "2   60 months  debt_consolidation               23.81%    CA       MORTGAGE   \n",
       "3   36 months  debt_consolidation               14.30%    KS       MORTGAGE   \n",
       "4   36 months         credit_card               18.78%    NJ           RENT   \n",
       "\n",
       "   Monthly.Income FICO.Range  Open.CREDIT.Lines  Revolving.CREDIT.Balance  \\\n",
       "0         6541.67    735-739               14.0                   14272.0   \n",
       "1         4583.33    715-719               12.0                   11140.0   \n",
       "2        11500.00    690-694               14.0                   21977.0   \n",
       "3         3833.33    695-699               10.0                    9346.0   \n",
       "4         3195.00    695-699               11.0                   14469.0   \n",
       "\n",
       "   Inquiries.in.the.Last.6.Months Employment.Length  \n",
       "0                             2.0          < 1 year  \n",
       "1                             1.0           2 years  \n",
       "2                             1.0           2 years  \n",
       "3                             0.0           5 years  \n",
       "4                             0.0           9 years  "
      ]
     },
     "execution_count": 160,
     "metadata": {},
     "output_type": "execute_result"
    }
   ],
   "source": [
    "data1.head(5)"
   ]
  },
  {
   "cell_type": "code",
   "execution_count": 161,
   "id": "2c75d50d",
   "metadata": {},
   "outputs": [
    {
     "data": {
      "text/html": [
       "<div>\n",
       "<style scoped>\n",
       "    .dataframe tbody tr th:only-of-type {\n",
       "        vertical-align: middle;\n",
       "    }\n",
       "\n",
       "    .dataframe tbody tr th {\n",
       "        vertical-align: top;\n",
       "    }\n",
       "\n",
       "    .dataframe thead th {\n",
       "        text-align: right;\n",
       "    }\n",
       "</style>\n",
       "<table border=\"1\" class=\"dataframe\">\n",
       "  <thead>\n",
       "    <tr style=\"text-align: right;\">\n",
       "      <th></th>\n",
       "      <th>LoanID</th>\n",
       "      <th>Amount.Requested</th>\n",
       "      <th>Amount.Funded.By.Investors</th>\n",
       "      <th>Interest.Rate</th>\n",
       "      <th>Loan.Length</th>\n",
       "      <th>Loan.Purpose</th>\n",
       "      <th>Debt.To.Income.Ratio</th>\n",
       "      <th>State</th>\n",
       "      <th>Home.Ownership</th>\n",
       "      <th>Monthly.Income</th>\n",
       "      <th>FICO.Range</th>\n",
       "      <th>Open.CREDIT.Lines</th>\n",
       "      <th>Revolving.CREDIT.Balance</th>\n",
       "      <th>Inquiries.in.the.Last.6.Months</th>\n",
       "      <th>Employment.Length</th>\n",
       "    </tr>\n",
       "  </thead>\n",
       "  <tbody>\n",
       "    <tr>\n",
       "      <th>2495</th>\n",
       "      <td>2496</td>\n",
       "      <td>30000.0</td>\n",
       "      <td>29950.00</td>\n",
       "      <td>16.77%</td>\n",
       "      <td>60 months</td>\n",
       "      <td>debt_consolidation</td>\n",
       "      <td>19.23%</td>\n",
       "      <td>NY</td>\n",
       "      <td>MORTGAGE</td>\n",
       "      <td>9250.00</td>\n",
       "      <td>705-709</td>\n",
       "      <td>15.0</td>\n",
       "      <td>45880.0</td>\n",
       "      <td>1.0</td>\n",
       "      <td>8 years</td>\n",
       "    </tr>\n",
       "    <tr>\n",
       "      <th>2496</th>\n",
       "      <td>2497</td>\n",
       "      <td>16000.0</td>\n",
       "      <td>16000.00</td>\n",
       "      <td>14.09%</td>\n",
       "      <td>60 months</td>\n",
       "      <td>home_improvement</td>\n",
       "      <td>21.54%</td>\n",
       "      <td>MD</td>\n",
       "      <td>OWN</td>\n",
       "      <td>8903.25</td>\n",
       "      <td>740-744</td>\n",
       "      <td>18.0</td>\n",
       "      <td>18898.0</td>\n",
       "      <td>1.0</td>\n",
       "      <td>10+ years</td>\n",
       "    </tr>\n",
       "    <tr>\n",
       "      <th>2497</th>\n",
       "      <td>2498</td>\n",
       "      <td>10000.0</td>\n",
       "      <td>10000.00</td>\n",
       "      <td>13.99%</td>\n",
       "      <td>36 months</td>\n",
       "      <td>debt_consolidation</td>\n",
       "      <td>4.89%</td>\n",
       "      <td>PA</td>\n",
       "      <td>MORTGAGE</td>\n",
       "      <td>2166.67</td>\n",
       "      <td>680-684</td>\n",
       "      <td>4.0</td>\n",
       "      <td>4544.0</td>\n",
       "      <td>0.0</td>\n",
       "      <td>10+ years</td>\n",
       "    </tr>\n",
       "    <tr>\n",
       "      <th>2498</th>\n",
       "      <td>2499</td>\n",
       "      <td>6000.0</td>\n",
       "      <td>6000.00</td>\n",
       "      <td>12.42%</td>\n",
       "      <td>36 months</td>\n",
       "      <td>major_purchase</td>\n",
       "      <td>16.66%</td>\n",
       "      <td>NJ</td>\n",
       "      <td>RENT</td>\n",
       "      <td>3500.00</td>\n",
       "      <td>675-679</td>\n",
       "      <td>8.0</td>\n",
       "      <td>7753.0</td>\n",
       "      <td>0.0</td>\n",
       "      <td>5 years</td>\n",
       "    </tr>\n",
       "    <tr>\n",
       "      <th>2499</th>\n",
       "      <td>2500</td>\n",
       "      <td>9000.0</td>\n",
       "      <td>5242.75</td>\n",
       "      <td>13.79%</td>\n",
       "      <td>36 months</td>\n",
       "      <td>debt_consolidation</td>\n",
       "      <td>6.76%</td>\n",
       "      <td>NY</td>\n",
       "      <td>RENT</td>\n",
       "      <td>3875.00</td>\n",
       "      <td>670-674</td>\n",
       "      <td>7.0</td>\n",
       "      <td>7589.0</td>\n",
       "      <td>0.0</td>\n",
       "      <td>10+ years</td>\n",
       "    </tr>\n",
       "  </tbody>\n",
       "</table>\n",
       "</div>"
      ],
      "text/plain": [
       "      LoanID  Amount.Requested  Amount.Funded.By.Investors Interest.Rate  \\\n",
       "2495    2496           30000.0                    29950.00        16.77%   \n",
       "2496    2497           16000.0                    16000.00        14.09%   \n",
       "2497    2498           10000.0                    10000.00        13.99%   \n",
       "2498    2499            6000.0                     6000.00        12.42%   \n",
       "2499    2500            9000.0                     5242.75        13.79%   \n",
       "\n",
       "     Loan.Length        Loan.Purpose Debt.To.Income.Ratio State  \\\n",
       "2495   60 months  debt_consolidation               19.23%    NY   \n",
       "2496   60 months    home_improvement               21.54%    MD   \n",
       "2497   36 months  debt_consolidation                4.89%    PA   \n",
       "2498   36 months      major_purchase               16.66%    NJ   \n",
       "2499   36 months  debt_consolidation                6.76%    NY   \n",
       "\n",
       "     Home.Ownership  Monthly.Income FICO.Range  Open.CREDIT.Lines  \\\n",
       "2495       MORTGAGE         9250.00    705-709               15.0   \n",
       "2496            OWN         8903.25    740-744               18.0   \n",
       "2497       MORTGAGE         2166.67    680-684                4.0   \n",
       "2498           RENT         3500.00    675-679                8.0   \n",
       "2499           RENT         3875.00    670-674                7.0   \n",
       "\n",
       "      Revolving.CREDIT.Balance  Inquiries.in.the.Last.6.Months  \\\n",
       "2495                   45880.0                             1.0   \n",
       "2496                   18898.0                             1.0   \n",
       "2497                    4544.0                             0.0   \n",
       "2498                    7753.0                             0.0   \n",
       "2499                    7589.0                             0.0   \n",
       "\n",
       "     Employment.Length  \n",
       "2495           8 years  \n",
       "2496         10+ years  \n",
       "2497         10+ years  \n",
       "2498           5 years  \n",
       "2499         10+ years  "
      ]
     },
     "execution_count": 161,
     "metadata": {},
     "output_type": "execute_result"
    }
   ],
   "source": [
    "data1.tail()"
   ]
  },
  {
   "cell_type": "code",
   "execution_count": 162,
   "id": "fe1783d3",
   "metadata": {},
   "outputs": [
    {
     "data": {
      "text/plain": [
       "Index(['LoanID', 'Amount.Requested', 'Amount.Funded.By.Investors',\n",
       "       'Interest.Rate', 'Loan.Length', 'Loan.Purpose', 'Debt.To.Income.Ratio',\n",
       "       'State', 'Home.Ownership', 'Monthly.Income', 'FICO.Range',\n",
       "       'Open.CREDIT.Lines', 'Revolving.CREDIT.Balance',\n",
       "       'Inquiries.in.the.Last.6.Months', 'Employment.Length'],\n",
       "      dtype='object')"
      ]
     },
     "execution_count": 162,
     "metadata": {},
     "output_type": "execute_result"
    }
   ],
   "source": [
    "data1.columns"
   ]
  },
  {
   "cell_type": "code",
   "execution_count": 163,
   "id": "c99d9113",
   "metadata": {},
   "outputs": [],
   "source": [
    "## to check the cardinality of the data\n",
    "\n",
    "## .nunique()"
   ]
  },
  {
   "cell_type": "code",
   "execution_count": 164,
   "id": "831e3a22",
   "metadata": {},
   "outputs": [
    {
     "data": {
      "text/plain": [
       "LoanID                            2500\n",
       "Amount.Requested                   380\n",
       "Amount.Funded.By.Investors         710\n",
       "Interest.Rate                      275\n",
       "Loan.Length                          2\n",
       "Loan.Purpose                        14\n",
       "Debt.To.Income.Ratio              1669\n",
       "State                               46\n",
       "Home.Ownership                       5\n",
       "Monthly.Income                     632\n",
       "FICO.Range                          38\n",
       "Open.CREDIT.Lines                   29\n",
       "Revolving.CREDIT.Balance          2349\n",
       "Inquiries.in.the.Last.6.Months      10\n",
       "Employment.Length                   11\n",
       "dtype: int64"
      ]
     },
     "execution_count": 164,
     "metadata": {},
     "output_type": "execute_result"
    }
   ],
   "source": [
    "data1.nunique()"
   ]
  },
  {
   "cell_type": "markdown",
   "id": "97c3c079",
   "metadata": {},
   "source": [
    "## `.info()`"
   ]
  },
  {
   "cell_type": "code",
   "execution_count": 165,
   "id": "8774da37",
   "metadata": {},
   "outputs": [
    {
     "name": "stdout",
     "output_type": "stream",
     "text": [
      "<class 'pandas.core.frame.DataFrame'>\n",
      "RangeIndex: 2500 entries, 0 to 2499\n",
      "Data columns (total 15 columns):\n",
      " #   Column                          Non-Null Count  Dtype  \n",
      "---  ------                          --------------  -----  \n",
      " 0   LoanID                          2500 non-null   int64  \n",
      " 1   Amount.Requested                2499 non-null   float64\n",
      " 2   Amount.Funded.By.Investors      2499 non-null   float64\n",
      " 3   Interest.Rate                   2498 non-null   object \n",
      " 4   Loan.Length                     2500 non-null   object \n",
      " 5   Loan.Purpose                    2500 non-null   object \n",
      " 6   Debt.To.Income.Ratio            2499 non-null   object \n",
      " 7   State                           2500 non-null   object \n",
      " 8   Home.Ownership                  2499 non-null   object \n",
      " 9   Monthly.Income                  2499 non-null   float64\n",
      " 10  FICO.Range                      2498 non-null   object \n",
      " 11  Open.CREDIT.Lines               2497 non-null   float64\n",
      " 12  Revolving.CREDIT.Balance        2497 non-null   float64\n",
      " 13  Inquiries.in.the.Last.6.Months  2497 non-null   float64\n",
      " 14  Employment.Length               2423 non-null   object \n",
      "dtypes: float64(6), int64(1), object(8)\n",
      "memory usage: 293.1+ KB\n"
     ]
    }
   ],
   "source": [
    "## entire report on metadata of your data\n",
    "\n",
    "data1.info()"
   ]
  },
  {
   "cell_type": "code",
   "execution_count": 166,
   "id": "5e93b739",
   "metadata": {},
   "outputs": [
    {
     "data": {
      "text/html": [
       "<div>\n",
       "<style scoped>\n",
       "    .dataframe tbody tr th:only-of-type {\n",
       "        vertical-align: middle;\n",
       "    }\n",
       "\n",
       "    .dataframe tbody tr th {\n",
       "        vertical-align: top;\n",
       "    }\n",
       "\n",
       "    .dataframe thead th {\n",
       "        text-align: right;\n",
       "    }\n",
       "</style>\n",
       "<table border=\"1\" class=\"dataframe\">\n",
       "  <thead>\n",
       "    <tr style=\"text-align: right;\">\n",
       "      <th></th>\n",
       "      <th>LoanID</th>\n",
       "      <th>Amount.Requested</th>\n",
       "      <th>Amount.Funded.By.Investors</th>\n",
       "      <th>Interest.Rate</th>\n",
       "      <th>Loan.Length</th>\n",
       "      <th>Loan.Purpose</th>\n",
       "      <th>Debt.To.Income.Ratio</th>\n",
       "      <th>State</th>\n",
       "      <th>Home.Ownership</th>\n",
       "      <th>Monthly.Income</th>\n",
       "      <th>FICO.Range</th>\n",
       "      <th>Open.CREDIT.Lines</th>\n",
       "      <th>Revolving.CREDIT.Balance</th>\n",
       "      <th>Inquiries.in.the.Last.6.Months</th>\n",
       "      <th>Employment.Length</th>\n",
       "    </tr>\n",
       "  </thead>\n",
       "  <tbody>\n",
       "    <tr>\n",
       "      <th>0</th>\n",
       "      <td>1</td>\n",
       "      <td>20000.0</td>\n",
       "      <td>20000.0</td>\n",
       "      <td>8.90%</td>\n",
       "      <td>36 months</td>\n",
       "      <td>debt_consolidation</td>\n",
       "      <td>14.90%</td>\n",
       "      <td>SC</td>\n",
       "      <td>MORTGAGE</td>\n",
       "      <td>6541.67</td>\n",
       "      <td>735-739</td>\n",
       "      <td>14.0</td>\n",
       "      <td>14272.0</td>\n",
       "      <td>2.0</td>\n",
       "      <td>&lt; 1 year</td>\n",
       "    </tr>\n",
       "    <tr>\n",
       "      <th>1</th>\n",
       "      <td>2</td>\n",
       "      <td>19200.0</td>\n",
       "      <td>19200.0</td>\n",
       "      <td>12.12%</td>\n",
       "      <td>36 months</td>\n",
       "      <td>debt_consolidation</td>\n",
       "      <td>28.36%</td>\n",
       "      <td>TX</td>\n",
       "      <td>MORTGAGE</td>\n",
       "      <td>4583.33</td>\n",
       "      <td>715-719</td>\n",
       "      <td>12.0</td>\n",
       "      <td>11140.0</td>\n",
       "      <td>1.0</td>\n",
       "      <td>2 years</td>\n",
       "    </tr>\n",
       "    <tr>\n",
       "      <th>2</th>\n",
       "      <td>3</td>\n",
       "      <td>35000.0</td>\n",
       "      <td>35000.0</td>\n",
       "      <td>21.98%</td>\n",
       "      <td>60 months</td>\n",
       "      <td>debt_consolidation</td>\n",
       "      <td>23.81%</td>\n",
       "      <td>CA</td>\n",
       "      <td>MORTGAGE</td>\n",
       "      <td>11500.00</td>\n",
       "      <td>690-694</td>\n",
       "      <td>14.0</td>\n",
       "      <td>21977.0</td>\n",
       "      <td>1.0</td>\n",
       "      <td>2 years</td>\n",
       "    </tr>\n",
       "    <tr>\n",
       "      <th>3</th>\n",
       "      <td>4</td>\n",
       "      <td>10000.0</td>\n",
       "      <td>9975.0</td>\n",
       "      <td>9.99%</td>\n",
       "      <td>36 months</td>\n",
       "      <td>debt_consolidation</td>\n",
       "      <td>14.30%</td>\n",
       "      <td>KS</td>\n",
       "      <td>MORTGAGE</td>\n",
       "      <td>3833.33</td>\n",
       "      <td>695-699</td>\n",
       "      <td>10.0</td>\n",
       "      <td>9346.0</td>\n",
       "      <td>0.0</td>\n",
       "      <td>5 years</td>\n",
       "    </tr>\n",
       "    <tr>\n",
       "      <th>4</th>\n",
       "      <td>5</td>\n",
       "      <td>12000.0</td>\n",
       "      <td>12000.0</td>\n",
       "      <td>11.71%</td>\n",
       "      <td>36 months</td>\n",
       "      <td>credit_card</td>\n",
       "      <td>18.78%</td>\n",
       "      <td>NJ</td>\n",
       "      <td>RENT</td>\n",
       "      <td>3195.00</td>\n",
       "      <td>695-699</td>\n",
       "      <td>11.0</td>\n",
       "      <td>14469.0</td>\n",
       "      <td>0.0</td>\n",
       "      <td>9 years</td>\n",
       "    </tr>\n",
       "  </tbody>\n",
       "</table>\n",
       "</div>"
      ],
      "text/plain": [
       "   LoanID  Amount.Requested  Amount.Funded.By.Investors Interest.Rate  \\\n",
       "0       1           20000.0                     20000.0         8.90%   \n",
       "1       2           19200.0                     19200.0        12.12%   \n",
       "2       3           35000.0                     35000.0        21.98%   \n",
       "3       4           10000.0                      9975.0         9.99%   \n",
       "4       5           12000.0                     12000.0        11.71%   \n",
       "\n",
       "  Loan.Length        Loan.Purpose Debt.To.Income.Ratio State Home.Ownership  \\\n",
       "0   36 months  debt_consolidation               14.90%    SC       MORTGAGE   \n",
       "1   36 months  debt_consolidation               28.36%    TX       MORTGAGE   \n",
       "2   60 months  debt_consolidation               23.81%    CA       MORTGAGE   \n",
       "3   36 months  debt_consolidation               14.30%    KS       MORTGAGE   \n",
       "4   36 months         credit_card               18.78%    NJ           RENT   \n",
       "\n",
       "   Monthly.Income FICO.Range  Open.CREDIT.Lines  Revolving.CREDIT.Balance  \\\n",
       "0         6541.67    735-739               14.0                   14272.0   \n",
       "1         4583.33    715-719               12.0                   11140.0   \n",
       "2        11500.00    690-694               14.0                   21977.0   \n",
       "3         3833.33    695-699               10.0                    9346.0   \n",
       "4         3195.00    695-699               11.0                   14469.0   \n",
       "\n",
       "   Inquiries.in.the.Last.6.Months Employment.Length  \n",
       "0                             2.0          < 1 year  \n",
       "1                             1.0           2 years  \n",
       "2                             1.0           2 years  \n",
       "3                             0.0           5 years  \n",
       "4                             0.0           9 years  "
      ]
     },
     "execution_count": 166,
     "metadata": {},
     "output_type": "execute_result"
    }
   ],
   "source": [
    "## Data Inspection\n",
    "\n",
    "data1.head()"
   ]
  },
  {
   "cell_type": "code",
   "execution_count": 168,
   "id": "e191f937",
   "metadata": {},
   "outputs": [
    {
     "data": {
      "text/html": [
       "<div>\n",
       "<style scoped>\n",
       "    .dataframe tbody tr th:only-of-type {\n",
       "        vertical-align: middle;\n",
       "    }\n",
       "\n",
       "    .dataframe tbody tr th {\n",
       "        vertical-align: top;\n",
       "    }\n",
       "\n",
       "    .dataframe thead th {\n",
       "        text-align: right;\n",
       "    }\n",
       "</style>\n",
       "<table border=\"1\" class=\"dataframe\">\n",
       "  <thead>\n",
       "    <tr style=\"text-align: right;\">\n",
       "      <th></th>\n",
       "      <th>count</th>\n",
       "      <th>mean</th>\n",
       "      <th>std</th>\n",
       "      <th>min</th>\n",
       "      <th>25%</th>\n",
       "      <th>50%</th>\n",
       "      <th>75%</th>\n",
       "      <th>max</th>\n",
       "    </tr>\n",
       "  </thead>\n",
       "  <tbody>\n",
       "    <tr>\n",
       "      <th>LoanID</th>\n",
       "      <td>2500.0</td>\n",
       "      <td>1250.500000</td>\n",
       "      <td>721.832160</td>\n",
       "      <td>1.00</td>\n",
       "      <td>625.75</td>\n",
       "      <td>1250.5</td>\n",
       "      <td>1875.25</td>\n",
       "      <td>2500.0</td>\n",
       "    </tr>\n",
       "    <tr>\n",
       "      <th>Amount.Requested</th>\n",
       "      <td>2499.0</td>\n",
       "      <td>12405.462185</td>\n",
       "      <td>7802.933666</td>\n",
       "      <td>1000.00</td>\n",
       "      <td>6000.00</td>\n",
       "      <td>10000.0</td>\n",
       "      <td>17000.00</td>\n",
       "      <td>35000.0</td>\n",
       "    </tr>\n",
       "    <tr>\n",
       "      <th>Amount.Funded.By.Investors</th>\n",
       "      <td>2499.0</td>\n",
       "      <td>12002.374186</td>\n",
       "      <td>7746.767348</td>\n",
       "      <td>-0.01</td>\n",
       "      <td>6000.00</td>\n",
       "      <td>10000.0</td>\n",
       "      <td>16000.00</td>\n",
       "      <td>35000.0</td>\n",
       "    </tr>\n",
       "    <tr>\n",
       "      <th>Monthly.Income</th>\n",
       "      <td>2499.0</td>\n",
       "      <td>5688.931321</td>\n",
       "      <td>3963.118185</td>\n",
       "      <td>588.50</td>\n",
       "      <td>3500.00</td>\n",
       "      <td>5000.0</td>\n",
       "      <td>6800.00</td>\n",
       "      <td>102750.0</td>\n",
       "    </tr>\n",
       "    <tr>\n",
       "      <th>Open.CREDIT.Lines</th>\n",
       "      <td>2497.0</td>\n",
       "      <td>10.072887</td>\n",
       "      <td>4.507416</td>\n",
       "      <td>2.00</td>\n",
       "      <td>7.00</td>\n",
       "      <td>9.0</td>\n",
       "      <td>13.00</td>\n",
       "      <td>38.0</td>\n",
       "    </tr>\n",
       "    <tr>\n",
       "      <th>Revolving.CREDIT.Balance</th>\n",
       "      <td>2497.0</td>\n",
       "      <td>15223.184622</td>\n",
       "      <td>18281.015258</td>\n",
       "      <td>0.00</td>\n",
       "      <td>5584.00</td>\n",
       "      <td>10948.0</td>\n",
       "      <td>18861.00</td>\n",
       "      <td>270800.0</td>\n",
       "    </tr>\n",
       "    <tr>\n",
       "      <th>Inquiries.in.the.Last.6.Months</th>\n",
       "      <td>2497.0</td>\n",
       "      <td>0.906688</td>\n",
       "      <td>1.231149</td>\n",
       "      <td>0.00</td>\n",
       "      <td>0.00</td>\n",
       "      <td>0.0</td>\n",
       "      <td>1.00</td>\n",
       "      <td>9.0</td>\n",
       "    </tr>\n",
       "  </tbody>\n",
       "</table>\n",
       "</div>"
      ],
      "text/plain": [
       "                                 count          mean           std      min  \\\n",
       "LoanID                          2500.0   1250.500000    721.832160     1.00   \n",
       "Amount.Requested                2499.0  12405.462185   7802.933666  1000.00   \n",
       "Amount.Funded.By.Investors      2499.0  12002.374186   7746.767348    -0.01   \n",
       "Monthly.Income                  2499.0   5688.931321   3963.118185   588.50   \n",
       "Open.CREDIT.Lines               2497.0     10.072887      4.507416     2.00   \n",
       "Revolving.CREDIT.Balance        2497.0  15223.184622  18281.015258     0.00   \n",
       "Inquiries.in.the.Last.6.Months  2497.0      0.906688      1.231149     0.00   \n",
       "\n",
       "                                    25%      50%       75%       max  \n",
       "LoanID                           625.75   1250.5   1875.25    2500.0  \n",
       "Amount.Requested                6000.00  10000.0  17000.00   35000.0  \n",
       "Amount.Funded.By.Investors      6000.00  10000.0  16000.00   35000.0  \n",
       "Monthly.Income                  3500.00   5000.0   6800.00  102750.0  \n",
       "Open.CREDIT.Lines                  7.00      9.0     13.00      38.0  \n",
       "Revolving.CREDIT.Balance        5584.00  10948.0  18861.00  270800.0  \n",
       "Inquiries.in.the.Last.6.Months     0.00      0.0      1.00       9.0  "
      ]
     },
     "execution_count": 168,
     "metadata": {},
     "output_type": "execute_result"
    }
   ],
   "source": [
    "## numerical columns\n",
    "\n",
    "data1.describe().T"
   ]
  },
  {
   "cell_type": "code",
   "execution_count": 169,
   "id": "1ecd3bfb",
   "metadata": {},
   "outputs": [],
   "source": [
    "## count - non null value count\n",
    "\n",
    "## mean - average\n",
    "\n",
    "## central tendency \n",
    "\n",
    "## std - deviation from the mean\n",
    "\n",
    "\n"
   ]
  },
  {
   "cell_type": "code",
   "execution_count": 170,
   "id": "f9fe51ae",
   "metadata": {},
   "outputs": [],
   "source": [
    "## 5 point summary\n",
    "\n",
    "## q0 - min - 0 %ile\n",
    "## q1  - 25%ile\n",
    "## q2  - 50%ile  - median\n",
    "## q3  - 75%ile\n",
    "## max - 100%ile"
   ]
  },
  {
   "cell_type": "code",
   "execution_count": 173,
   "id": "4663782a",
   "metadata": {},
   "outputs": [
    {
     "data": {
      "text/html": [
       "<div>\n",
       "<style scoped>\n",
       "    .dataframe tbody tr th:only-of-type {\n",
       "        vertical-align: middle;\n",
       "    }\n",
       "\n",
       "    .dataframe tbody tr th {\n",
       "        vertical-align: top;\n",
       "    }\n",
       "\n",
       "    .dataframe thead th {\n",
       "        text-align: right;\n",
       "    }\n",
       "</style>\n",
       "<table border=\"1\" class=\"dataframe\">\n",
       "  <thead>\n",
       "    <tr style=\"text-align: right;\">\n",
       "      <th></th>\n",
       "      <th>Interest.Rate</th>\n",
       "      <th>Loan.Length</th>\n",
       "      <th>Loan.Purpose</th>\n",
       "      <th>Debt.To.Income.Ratio</th>\n",
       "      <th>State</th>\n",
       "      <th>Home.Ownership</th>\n",
       "      <th>FICO.Range</th>\n",
       "      <th>Employment.Length</th>\n",
       "    </tr>\n",
       "  </thead>\n",
       "  <tbody>\n",
       "    <tr>\n",
       "      <th>count</th>\n",
       "      <td>2498</td>\n",
       "      <td>2500</td>\n",
       "      <td>2500</td>\n",
       "      <td>2499</td>\n",
       "      <td>2500</td>\n",
       "      <td>2499</td>\n",
       "      <td>2498</td>\n",
       "      <td>2423</td>\n",
       "    </tr>\n",
       "    <tr>\n",
       "      <th>unique</th>\n",
       "      <td>275</td>\n",
       "      <td>2</td>\n",
       "      <td>14</td>\n",
       "      <td>1669</td>\n",
       "      <td>46</td>\n",
       "      <td>5</td>\n",
       "      <td>38</td>\n",
       "      <td>11</td>\n",
       "    </tr>\n",
       "    <tr>\n",
       "      <th>top</th>\n",
       "      <td>12.12%</td>\n",
       "      <td>36 months</td>\n",
       "      <td>debt_consolidation</td>\n",
       "      <td>0%</td>\n",
       "      <td>CA</td>\n",
       "      <td>MORTGAGE</td>\n",
       "      <td>670-674</td>\n",
       "      <td>10+ years</td>\n",
       "    </tr>\n",
       "    <tr>\n",
       "      <th>freq</th>\n",
       "      <td>122</td>\n",
       "      <td>1952</td>\n",
       "      <td>1307</td>\n",
       "      <td>8</td>\n",
       "      <td>433</td>\n",
       "      <td>1147</td>\n",
       "      <td>171</td>\n",
       "      <td>653</td>\n",
       "    </tr>\n",
       "  </tbody>\n",
       "</table>\n",
       "</div>"
      ],
      "text/plain": [
       "       Interest.Rate Loan.Length        Loan.Purpose Debt.To.Income.Ratio  \\\n",
       "count           2498        2500                2500                 2499   \n",
       "unique           275           2                  14                 1669   \n",
       "top           12.12%   36 months  debt_consolidation                   0%   \n",
       "freq             122        1952                1307                    8   \n",
       "\n",
       "       State Home.Ownership FICO.Range Employment.Length  \n",
       "count   2500           2499       2498              2423  \n",
       "unique    46              5         38                11  \n",
       "top       CA       MORTGAGE    670-674         10+ years  \n",
       "freq     433           1147        171               653  "
      ]
     },
     "execution_count": 173,
     "metadata": {},
     "output_type": "execute_result"
    }
   ],
   "source": [
    "data1.describe(include='object')"
   ]
  },
  {
   "cell_type": "code",
   "execution_count": null,
   "id": "bce3abc4",
   "metadata": {},
   "outputs": [],
   "source": []
  }
 ],
 "metadata": {
  "kernelspec": {
   "display_name": "Python 3 (ipykernel)",
   "language": "python",
   "name": "python3"
  },
  "language_info": {
   "codemirror_mode": {
    "name": "ipython",
    "version": 3
   },
   "file_extension": ".py",
   "mimetype": "text/x-python",
   "name": "python",
   "nbconvert_exporter": "python",
   "pygments_lexer": "ipython3",
   "version": "3.9.7"
  }
 },
 "nbformat": 4,
 "nbformat_minor": 5
}
