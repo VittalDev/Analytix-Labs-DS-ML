{
 "cells": [
  {
   "cell_type": "raw",
   "id": "d6f82623",
   "metadata": {},
   "source": [
    "Object Oriented Programming\n",
    "\n",
    "Class - template. example: str\n",
    "Object - specific instances of the class\n",
    "    var = 'hello' -> object\n",
    "    attribute\n",
    "    method\n",
    "    \n",
    "dir() function to check all the methods and attributes available in a class.\n",
    "\n",
    "dot(.) operator to call methods and attributes\n",
    "\n",
    "String methods\n",
    "    .upper(), .replace(), .split(), .find()\n",
    "    \n",
    "file handling\n",
    "    .txt files\n",
    "    read and write python\n",
    "    Step 1: open() function -> loads the file from disk to RAM and creates a file object\n",
    "    Step 2: file.read(); file.write()\n",
    "    Step 3: file.close()"
   ]
  },
  {
   "cell_type": "code",
   "execution_count": 3,
   "id": "34795e57",
   "metadata": {},
   "outputs": [],
   "source": [
    "var1 = 'hello'"
   ]
  },
  {
   "cell_type": "code",
   "execution_count": 4,
   "id": "ccd72fd7",
   "metadata": {},
   "outputs": [
    {
     "name": "stdout",
     "output_type": "stream",
     "text": [
      "<class 'str'>\n"
     ]
    }
   ],
   "source": [
    "print(type(var1))"
   ]
  },
  {
   "cell_type": "code",
   "execution_count": 5,
   "id": "d597455b",
   "metadata": {},
   "outputs": [
    {
     "name": "stdout",
     "output_type": "stream",
     "text": [
      "['__add__', '__class__', '__contains__', '__delattr__', '__dir__', '__doc__', '__eq__', '__format__', '__ge__', '__getattribute__', '__getitem__', '__getnewargs__', '__gt__', '__hash__', '__init__', '__init_subclass__', '__iter__', '__le__', '__len__', '__lt__', '__mod__', '__mul__', '__ne__', '__new__', '__reduce__', '__reduce_ex__', '__repr__', '__rmod__', '__rmul__', '__setattr__', '__sizeof__', '__str__', '__subclasshook__', 'capitalize', 'casefold', 'center', 'count', 'encode', 'endswith', 'expandtabs', 'find', 'format', 'format_map', 'index', 'isalnum', 'isalpha', 'isascii', 'isdecimal', 'isdigit', 'isidentifier', 'islower', 'isnumeric', 'isprintable', 'isspace', 'istitle', 'isupper', 'join', 'ljust', 'lower', 'lstrip', 'maketrans', 'partition', 'replace', 'rfind', 'rindex', 'rjust', 'rpartition', 'rsplit', 'rstrip', 'split', 'splitlines', 'startswith', 'strip', 'swapcase', 'title', 'translate', 'upper', 'zfill']\n"
     ]
    }
   ],
   "source": [
    "print(dir(var1))"
   ]
  },
  {
   "cell_type": "code",
   "execution_count": 6,
   "id": "656e07bf",
   "metadata": {},
   "outputs": [
    {
     "data": {
      "text/plain": [
       "'HELLO'"
      ]
     },
     "execution_count": 6,
     "metadata": {},
     "output_type": "execute_result"
    }
   ],
   "source": [
    "var1.upper()"
   ]
  },
  {
   "cell_type": "code",
   "execution_count": 7,
   "id": "5b968629",
   "metadata": {},
   "outputs": [],
   "source": [
    "## file handling\n",
    "\n",
    "## with statement - a context manager. The whole point of this context manager is to automatically free up the resources\n",
    "## taken by a file and close that file without the programmer having to do explicitly.\n",
    "\n",
    "## In fact, when working with files, this is the preferred method."
   ]
  },
  {
   "cell_type": "raw",
   "id": "68a25539",
   "metadata": {},
   "source": [
    "## syntax for with\n",
    "\n",
    "with open(path, mode) as file:\n",
    "    \n",
    "    file.write()\n",
    "    contents = file.read()\n",
    "    \n",
    "    \n",
    "    "
   ]
  },
  {
   "cell_type": "code",
   "execution_count": 12,
   "id": "568d543e",
   "metadata": {},
   "outputs": [],
   "source": [
    "## create a new file and write to the file 'hello world'\n",
    "\n",
    "with open('d:/python_new/with_demo.txt', 'w') as file:\n",
    "    file.write('hello world')\n",
    "    file.write('\\n')\n",
    "    file.write('this is the second sentence')"
   ]
  },
  {
   "cell_type": "code",
   "execution_count": 10,
   "id": "f9721e3c",
   "metadata": {},
   "outputs": [
    {
     "name": "stdout",
     "output_type": "stream",
     "text": [
      "the number is 5\n"
     ]
    }
   ],
   "source": [
    "print('the number is', num)"
   ]
  },
  {
   "cell_type": "code",
   "execution_count": 11,
   "id": "7f0ebacf",
   "metadata": {},
   "outputs": [],
   "source": [
    "# f string, .format()"
   ]
  },
  {
   "cell_type": "code",
   "execution_count": 13,
   "id": "60aa9d99",
   "metadata": {},
   "outputs": [],
   "source": [
    "## *****\n",
    "## *****\n",
    "## *****\n",
    "## *****"
   ]
  },
  {
   "cell_type": "code",
   "execution_count": 19,
   "id": "60dc4775",
   "metadata": {},
   "outputs": [
    {
     "name": "stdout",
     "output_type": "stream",
     "text": [
      "* * * * * \n",
      "* * * * * \n",
      "* * * * * \n",
      "* * * * * \n",
      "* * * * * \n",
      "* * * * * \n"
     ]
    }
   ],
   "source": [
    "for i in range(6):\n",
    "    for j in range(5):\n",
    "        print('*', end=' ')\n",
    "        \n",
    "    print()"
   ]
  },
  {
   "cell_type": "code",
   "execution_count": 18,
   "id": "1f53f914",
   "metadata": {},
   "outputs": [
    {
     "name": "stdout",
     "output_type": "stream",
     "text": [
      "0 1 2 3 4 5 6 7 8 9 "
     ]
    }
   ],
   "source": [
    "for i in range(10):\n",
    "    print(i, end=' ')"
   ]
  },
  {
   "cell_type": "code",
   "execution_count": 20,
   "id": "50c60d00",
   "metadata": {},
   "outputs": [],
   "source": [
    "var = 2"
   ]
  },
  {
   "cell_type": "markdown",
   "id": "5f95a97f",
   "metadata": {},
   "source": [
    "## Data structures / collections\n",
    "\n",
    "How to store multiple values that should belong together in a structure.\n",
    "\n",
    "In basic python, we have 4 data structures\n",
    "\n",
    "1. list\n",
    "2. dict\n",
    "3. set\n",
    "4. tuple\n",
    "\n",
    "They are heterogeneous in nature, meaning that we can store multiple data types in these data structures.\n",
    "\n",
    "Also, there are type conversion functions which go by the same name as the data structure.\n",
    "\n",
    "1. `list()`\n",
    "2. `dict()`\n",
    "3. `set()`\n",
    "4. `tuple()`\n",
    "\n",
    "So, in order to convert something to a list, we can wrap it inside the `list()` function.\n",
    "\n",
    "5 things that we will need to know about all these 4 datastructures.\n",
    "\n",
    "1. How to create them.\n",
    "2. How to access elements from them.\n",
    "3. How to update.\n",
    "4. How to make calculations.\n",
    "5. Methods associated with each datastructure."
   ]
  },
  {
   "cell_type": "code",
   "execution_count": null,
   "id": "989891bc",
   "metadata": {},
   "outputs": [],
   "source": [
    "text = 'hello'\n",
    "text[0]"
   ]
  },
  {
   "cell_type": "markdown",
   "id": "7e012485",
   "metadata": {},
   "source": [
    "## list\n",
    "\n",
    "One of the very popular datastructures in python.\n",
    "Think of it as a container.\n",
    "\n",
    "1. How to create a list in python\n",
    "\n",
    "2 ways\n",
    "\n",
    "1. using square brackets `[    ]`\n",
    "2. using type conversion `list()`"
   ]
  },
  {
   "cell_type": "code",
   "execution_count": 21,
   "id": "4ecbc880",
   "metadata": {},
   "outputs": [],
   "source": [
    "l1 = [1, 2, 3, 5, 6, 3, 2, 1, 2, 3, 3]"
   ]
  },
  {
   "cell_type": "code",
   "execution_count": 22,
   "id": "ba3c7cbd",
   "metadata": {},
   "outputs": [
    {
     "name": "stdout",
     "output_type": "stream",
     "text": [
      "[1, 2, 3, 5, 6, 3, 2, 1, 2, 3, 3]\n"
     ]
    }
   ],
   "source": [
    "print(l1)"
   ]
  },
  {
   "cell_type": "code",
   "execution_count": 23,
   "id": "7219df3c",
   "metadata": {},
   "outputs": [
    {
     "data": {
      "text/plain": [
       "[1, 2, 3, 5, 6, 3, 2, 1, 2, 3, 3]"
      ]
     },
     "execution_count": 23,
     "metadata": {},
     "output_type": "execute_result"
    }
   ],
   "source": [
    "l1"
   ]
  },
  {
   "cell_type": "code",
   "execution_count": 24,
   "id": "9650572f",
   "metadata": {},
   "outputs": [
    {
     "name": "stdout",
     "output_type": "stream",
     "text": [
      "<class 'list'>\n"
     ]
    }
   ],
   "source": [
    "print(type(l1))"
   ]
  },
  {
   "cell_type": "code",
   "execution_count": 25,
   "id": "d99f327a",
   "metadata": {},
   "outputs": [],
   "source": [
    "## list is heterogeneous\n",
    "\n",
    "l2 = [1, 2, 'hello', None, [1, 2, 3]]\n",
    "\n",
    "\n",
    "## 5 tables "
   ]
  },
  {
   "cell_type": "code",
   "execution_count": 26,
   "id": "0410149b",
   "metadata": {},
   "outputs": [
    {
     "name": "stdout",
     "output_type": "stream",
     "text": [
      "<class 'list'>\n"
     ]
    }
   ],
   "source": [
    "print(type(l2))"
   ]
  },
  {
   "cell_type": "code",
   "execution_count": 29,
   "id": "8efb654a",
   "metadata": {},
   "outputs": [
    {
     "name": "stdout",
     "output_type": "stream",
     "text": [
      "[1, 2, 3, 4, 5, 6, 7, 8, 9, 10, 11, 12, 13, 14, 15, 16, 17, 18, 19, 20, 21, 22, 23, 24, 25, 26, 27, 28, 29, 30, 31, 32, 33, 34, 35, 36, 37, 38, 39, 40, 41, 42, 43, 44, 45, 46, 47, 48, 49, 50, 51, 52, 53, 54, 55, 56, 57, 58, 59, 60, 61, 62, 63, 64, 65, 66, 67, 68, 69, 70, 71, 72, 73, 74, 75, 76, 77, 78, 79, 80, 81, 82, 83, 84, 85, 86, 87, 88, 89, 90, 91, 92, 93, 94, 95, 96, 97, 98, 99, 100]\n"
     ]
    }
   ],
   "source": [
    "## list()\n",
    "\n",
    "## Generate a list of numbers from 1 to 100.\n",
    "\n",
    "print(list(range(1, 101)))"
   ]
  },
  {
   "cell_type": "code",
   "execution_count": 30,
   "id": "b0affe09",
   "metadata": {},
   "outputs": [
    {
     "name": "stdout",
     "output_type": "stream",
     "text": [
      "[1, 2, 3, 4, 5, 6, 7, 8, 9, 10, 11, 12, 13, 14, 15, 16, 17, 18, 19, 20, 21, 22, 23, 24, 25, 26, 27, 28, 29, 30, 31, 32, 33, 34, 35, 36, 37, 38, 39, 40, 41, 42, 43, 44, 45, 46, 47, 48, 49, 50, 51, 52, 53, 54, 55, 56, 57, 58, 59, 60, 61, 62, 63, 64, 65, 66, 67, 68, 69, 70, 71, 72, 73, 74, 75, 76, 77, 78, 79, 80, 81, 82, 83, 84, 85, 86, 87, 88, 89, 90, 91, 92, 93, 94, 95, 96, 97, 98, 99, 100]\n"
     ]
    }
   ],
   "source": [
    "l3 = list(range(1, 101))  ## 2nd way to create a list\n",
    "print(l3)"
   ]
  },
  {
   "cell_type": "code",
   "execution_count": 31,
   "id": "6dc15b1a",
   "metadata": {},
   "outputs": [
    {
     "name": "stdout",
     "output_type": "stream",
     "text": [
      "['Hello', 'world!']\n"
     ]
    }
   ],
   "source": [
    "## 3rd way\n",
    "## create a list out of a string\n",
    "\n",
    "text = 'Hello world!'\n",
    "\n",
    "words = text.split()\n",
    "print(words)"
   ]
  },
  {
   "cell_type": "markdown",
   "id": "5dde805c",
   "metadata": {},
   "source": [
    "### How to access elements from the list\n",
    "\n",
    "1. Indexing\n",
    "    `[]`\n",
    "2. Slicing\n",
    "     `[start_value: stop_value: step_size]`\n",
    "\n"
   ]
  },
  {
   "cell_type": "code",
   "execution_count": 33,
   "id": "060a7488",
   "metadata": {},
   "outputs": [
    {
     "data": {
      "text/plain": [
       "'Hello'"
      ]
     },
     "execution_count": 33,
     "metadata": {},
     "output_type": "execute_result"
    }
   ],
   "source": [
    "words[0]"
   ]
  },
  {
   "cell_type": "code",
   "execution_count": 34,
   "id": "12e89fde",
   "metadata": {},
   "outputs": [
    {
     "data": {
      "text/plain": [
       "'world!'"
      ]
     },
     "execution_count": 34,
     "metadata": {},
     "output_type": "execute_result"
    }
   ],
   "source": [
    "words[-1]"
   ]
  },
  {
   "cell_type": "code",
   "execution_count": 36,
   "id": "43e7ec89",
   "metadata": {},
   "outputs": [
    {
     "name": "stdout",
     "output_type": "stream",
     "text": [
      "[1, 2, 3, 4, 5, 6, 7, 8, 9, 10, 11, 12, 13, 14, 15, 16, 17, 18, 19, 20, 21, 22, 23, 24, 25, 26, 27, 28, 29, 30, 31, 32, 33, 34, 35, 36, 37, 38, 39, 40, 41, 42, 43, 44, 45, 46, 47, 48, 49, 50, 51, 52, 53, 54, 55, 56, 57, 58, 59, 60, 61, 62, 63, 64, 65, 66, 67, 68, 69, 70, 71, 72, 73, 74, 75, 76, 77, 78, 79, 80, 81, 82, 83, 84, 85, 86, 87, 88, 89, 90, 91, 92, 93, 94, 95, 96, 97, 98, 99, 100]\n"
     ]
    }
   ],
   "source": [
    "print(l3)"
   ]
  },
  {
   "cell_type": "code",
   "execution_count": null,
   "id": "302e33b8",
   "metadata": {},
   "outputs": [],
   "source": []
  },
  {
   "cell_type": "code",
   "execution_count": 39,
   "id": "7990bb75",
   "metadata": {},
   "outputs": [
    {
     "name": "stdout",
     "output_type": "stream",
     "text": [
      "[2, 4, 6, 8, 10, 12, 14, 16, 18, 20, 22, 24, 26, 28, 30, 32, 34, 36, 38, 40, 42, 44, 46, 48, 50, 52, 54, 56, 58, 60, 62, 64, 66, 68, 70, 72, 74, 76, 78, 80, 82, 84, 86, 88, 90, 92, 94, 96, 98, 100]\n"
     ]
    }
   ],
   "source": [
    "print(l3[1::2])"
   ]
  },
  {
   "cell_type": "code",
   "execution_count": 40,
   "id": "e51f5685",
   "metadata": {},
   "outputs": [
    {
     "name": "stdout",
     "output_type": "stream",
     "text": [
      "[1, 3, 5, 7, 9, 11, 13, 15, 17, 19, 21, 23, 25, 27, 29, 31, 33, 35, 37, 39, 41, 43, 45, 47, 49, 51, 53, 55, 57, 59, 61, 63, 65, 67, 69, 71, 73, 75, 77, 79, 81, 83, 85, 87, 89, 91, 93, 95, 97, 99]\n"
     ]
    }
   ],
   "source": [
    "print(l3[::2])"
   ]
  },
  {
   "cell_type": "code",
   "execution_count": 41,
   "id": "8145b04f",
   "metadata": {},
   "outputs": [
    {
     "name": "stdout",
     "output_type": "stream",
     "text": [
      "[1, 2, 3, 4, 5, 6, 7, 8, 9, 10, 11, 12, 13, 14, 15, 16, 17, 18, 19, 20, 21, 22, 23, 24, 25, 26, 27, 28, 29, 30, 31, 32, 33, 34, 35, 36, 37, 38, 39, 40, 41, 42, 43, 44, 45, 46, 47, 48, 49, 50, 51, 52, 53, 54, 55, 56, 57, 58, 59, 60, 61, 62, 63, 64, 65, 66, 67, 68, 69, 70, 71, 72, 73, 74, 75, 76, 77, 78, 79, 80, 81, 82, 83, 84, 85, 86, 87, 88, 89, 90, 91, 92, 93, 94, 95, 96, 97, 98, 99, 100]\n"
     ]
    }
   ],
   "source": [
    "print(l3)"
   ]
  },
  {
   "cell_type": "code",
   "execution_count": 43,
   "id": "b3e6c8a9",
   "metadata": {},
   "outputs": [
    {
     "name": "stdout",
     "output_type": "stream",
     "text": [
      "[100, 99, 98, 97, 96, 95, 94, 93, 92, 91, 90, 89, 88, 87, 86, 85, 84, 83, 82, 81, 80, 79, 78, 77, 76, 75, 74, 73, 72, 71, 70, 69, 68, 67, 66, 65, 64, 63, 62, 61, 60, 59, 58, 57, 56, 55, 54, 53, 52, 51, 50, 49, 48, 47, 46, 45, 44, 43, 42, 41, 40, 39, 38, 37, 36, 35, 34, 33, 32, 31, 30, 29, 28, 27, 26, 25, 24, 23, 22, 21, 20, 19, 18, 17, 16, 15, 14, 13, 12, 11, 10, 9, 8, 7, 6, 5, 4, 3, 2, 1]\n"
     ]
    }
   ],
   "source": [
    "## reverse this list\n",
    "\n",
    "print(l3[::-1])"
   ]
  },
  {
   "cell_type": "markdown",
   "id": "e0c01a7e",
   "metadata": {},
   "source": [
    "## Updating lists\n",
    "\n",
    "`list[] = new_value`"
   ]
  },
  {
   "cell_type": "code",
   "execution_count": 46,
   "id": "267554fb",
   "metadata": {},
   "outputs": [
    {
     "name": "stdout",
     "output_type": "stream",
     "text": [
      "[1, 2, 3, 5, 6, 3, 2, 1, 2, 3, 3]\n",
      "[0, 2, 3, 5, 6, 3, 2, 1, 2, 3, 3]\n"
     ]
    }
   ],
   "source": [
    "print(l1)\n",
    "l1[0] = 0\n",
    "print(l1)"
   ]
  },
  {
   "cell_type": "code",
   "execution_count": 48,
   "id": "aedf7849",
   "metadata": {},
   "outputs": [
    {
     "ename": "TypeError",
     "evalue": "can only assign an iterable",
     "output_type": "error",
     "traceback": [
      "\u001b[1;31m---------------------------------------------------------------------------\u001b[0m",
      "\u001b[1;31mTypeError\u001b[0m                                 Traceback (most recent call last)",
      "\u001b[1;32m<ipython-input-48-fb8073bf3780>\u001b[0m in \u001b[0;36m<module>\u001b[1;34m\u001b[0m\n\u001b[0;32m      1\u001b[0m \u001b[1;31m##\u001b[0m\u001b[1;33m\u001b[0m\u001b[1;33m\u001b[0m\u001b[1;33m\u001b[0m\u001b[0m\n\u001b[0;32m      2\u001b[0m \u001b[1;33m\u001b[0m\u001b[0m\n\u001b[1;32m----> 3\u001b[1;33m \u001b[0ml1\u001b[0m\u001b[1;33m[\u001b[0m\u001b[1;33m:\u001b[0m\u001b[1;36m4\u001b[0m\u001b[1;33m]\u001b[0m \u001b[1;33m=\u001b[0m \u001b[1;36m0\u001b[0m\u001b[1;33m\u001b[0m\u001b[1;33m\u001b[0m\u001b[0m\n\u001b[0m",
      "\u001b[1;31mTypeError\u001b[0m: can only assign an iterable"
     ]
    }
   ],
   "source": [
    "## broadcasting\n",
    "\n",
    "l1[:4] = 0"
   ]
  },
  {
   "cell_type": "code",
   "execution_count": 50,
   "id": "de3f1008",
   "metadata": {},
   "outputs": [
    {
     "ename": "TypeError",
     "evalue": "can only assign an iterable",
     "output_type": "error",
     "traceback": [
      "\u001b[1;31m---------------------------------------------------------------------------\u001b[0m",
      "\u001b[1;31mTypeError\u001b[0m                                 Traceback (most recent call last)",
      "\u001b[1;32m<ipython-input-50-56b35e4e3979>\u001b[0m in \u001b[0;36m<module>\u001b[1;34m\u001b[0m\n\u001b[1;32m----> 1\u001b[1;33m \u001b[0ml1\u001b[0m\u001b[1;33m[\u001b[0m\u001b[1;33m:\u001b[0m\u001b[1;36m4\u001b[0m\u001b[1;33m]\u001b[0m \u001b[1;33m=\u001b[0m \u001b[1;36m0\u001b[0m \u001b[1;31m## broadcasting not possible for a list\u001b[0m\u001b[1;33m\u001b[0m\u001b[1;33m\u001b[0m\u001b[0m\n\u001b[0m",
      "\u001b[1;31mTypeError\u001b[0m: can only assign an iterable"
     ]
    }
   ],
   "source": [
    "l1[:4] = 0 ## broadcasting not possible for a list"
   ]
  },
  {
   "cell_type": "code",
   "execution_count": 51,
   "id": "5147c479",
   "metadata": {},
   "outputs": [],
   "source": [
    "l1[:4] = [0, 0, 0, 0]  # vectorization is possible"
   ]
  },
  {
   "cell_type": "code",
   "execution_count": 52,
   "id": "16a15573",
   "metadata": {},
   "outputs": [
    {
     "data": {
      "text/plain": [
       "[0, 0, 0, 0, 6, 3, 2, 1, 2, 3, 3]"
      ]
     },
     "execution_count": 52,
     "metadata": {},
     "output_type": "execute_result"
    }
   ],
   "source": [
    "l1"
   ]
  },
  {
   "cell_type": "code",
   "execution_count": 53,
   "id": "7413c1e9",
   "metadata": {},
   "outputs": [],
   "source": [
    "l4 = [1, 2, 'Python', [1, 2, 'hello world']]"
   ]
  },
  {
   "cell_type": "code",
   "execution_count": 55,
   "id": "56d689db",
   "metadata": {},
   "outputs": [
    {
     "data": {
      "text/plain": [
       "'hello world'"
      ]
     },
     "execution_count": 55,
     "metadata": {},
     "output_type": "execute_result"
    }
   ],
   "source": [
    "l4[-1][-1]"
   ]
  },
  {
   "cell_type": "code",
   "execution_count": 56,
   "id": "29225266",
   "metadata": {},
   "outputs": [],
   "source": [
    "## How to iterate over lists"
   ]
  },
  {
   "cell_type": "code",
   "execution_count": 58,
   "id": "5caab988",
   "metadata": {},
   "outputs": [
    {
     "name": "stdout",
     "output_type": "stream",
     "text": [
      "[1, 2, 3, 4, 10, 10, 10, 10]\n"
     ]
    }
   ],
   "source": [
    "l6 = [1, 2, 3, 4]\n",
    "l6 = l6 + [10, 10, 10, 10] ##not allowed\n",
    "print(l6)"
   ]
  },
  {
   "cell_type": "code",
   "execution_count": 59,
   "id": "39dcd6b4",
   "metadata": {},
   "outputs": [
    {
     "name": "stdout",
     "output_type": "stream",
     "text": [
      "1\n",
      "2\n",
      "3\n",
      "4\n",
      "10\n",
      "10\n",
      "10\n",
      "10\n"
     ]
    }
   ],
   "source": [
    "## 2 ways of iterating over a list\n",
    "\n",
    "for var in l6:\n",
    "    print(var)"
   ]
  },
  {
   "cell_type": "code",
   "execution_count": 60,
   "id": "cae18b76",
   "metadata": {},
   "outputs": [
    {
     "data": {
      "text/plain": [
       "[1, 2, 3, 4, 10, 10, 10, 10]"
      ]
     },
     "execution_count": 60,
     "metadata": {},
     "output_type": "execute_result"
    }
   ],
   "source": [
    "l6"
   ]
  },
  {
   "cell_type": "code",
   "execution_count": 61,
   "id": "369d1c1b",
   "metadata": {},
   "outputs": [
    {
     "data": {
      "text/plain": [
       "8"
      ]
     },
     "execution_count": 61,
     "metadata": {},
     "output_type": "execute_result"
    }
   ],
   "source": [
    "len(l6)"
   ]
  },
  {
   "cell_type": "code",
   "execution_count": 62,
   "id": "f926068c",
   "metadata": {},
   "outputs": [
    {
     "data": {
      "text/plain": [
       "[0, 1, 2, 3, 4, 5, 6, 7]"
      ]
     },
     "execution_count": 62,
     "metadata": {},
     "output_type": "execute_result"
    }
   ],
   "source": [
    "list(range(0, len(l6)))"
   ]
  },
  {
   "cell_type": "code",
   "execution_count": 64,
   "id": "137bc6a7",
   "metadata": {},
   "outputs": [
    {
     "name": "stdout",
     "output_type": "stream",
     "text": [
      "1\n",
      "2\n",
      "3\n",
      "4\n",
      "10\n",
      "10\n",
      "10\n",
      "10\n"
     ]
    }
   ],
   "source": [
    "## 2nd way\n",
    "for i in range(0, len(l6)):\n",
    "    print(l6[i])"
   ]
  },
  {
   "cell_type": "code",
   "execution_count": 68,
   "id": "d4b6e26d",
   "metadata": {},
   "outputs": [
    {
     "data": {
      "text/plain": [
       "3"
      ]
     },
     "execution_count": 68,
     "metadata": {},
     "output_type": "execute_result"
    }
   ],
   "source": [
    "l6[2]"
   ]
  },
  {
   "cell_type": "code",
   "execution_count": 69,
   "id": "a554df34",
   "metadata": {},
   "outputs": [
    {
     "data": {
      "text/plain": [
       "[0, 0, 0, 0, 6, 3, 2, 1, 2, 3, 3]"
      ]
     },
     "execution_count": 69,
     "metadata": {},
     "output_type": "execute_result"
    }
   ],
   "source": [
    "l1"
   ]
  },
  {
   "cell_type": "code",
   "execution_count": 71,
   "id": "59cb62aa",
   "metadata": {},
   "outputs": [
    {
     "name": "stdout",
     "output_type": "stream",
     "text": [
      "10\n",
      "10\n",
      "10\n",
      "10\n",
      "16\n",
      "13\n",
      "12\n",
      "11\n",
      "12\n",
      "13\n",
      "13\n",
      "[0, 0, 0, 0, 6, 3, 2, 1, 2, 3, 3]\n"
     ]
    }
   ],
   "source": [
    "## add 10 to each element of this element and print it for the user.\n",
    "\n",
    "for var in l1:\n",
    "    print(var + 10)\n",
    "\n",
    "print(l1)"
   ]
  },
  {
   "cell_type": "code",
   "execution_count": 72,
   "id": "ab47bb10",
   "metadata": {},
   "outputs": [],
   "source": [
    "## add 10 to each element of the list and update that element in that list\n",
    "\n",
    "## fails to update the list in place\n",
    "for var in l1:\n",
    "    var = var + 10"
   ]
  },
  {
   "cell_type": "code",
   "execution_count": 73,
   "id": "b8ca60d2",
   "metadata": {},
   "outputs": [
    {
     "name": "stdout",
     "output_type": "stream",
     "text": [
      "[0, 0, 0, 0, 6, 3, 2, 1, 2, 3, 3]\n"
     ]
    }
   ],
   "source": [
    "print(l1)"
   ]
  },
  {
   "cell_type": "code",
   "execution_count": 74,
   "id": "952ecc93",
   "metadata": {},
   "outputs": [
    {
     "name": "stdout",
     "output_type": "stream",
     "text": [
      "13\n"
     ]
    }
   ],
   "source": [
    "print(var)"
   ]
  },
  {
   "cell_type": "code",
   "execution_count": 75,
   "id": "6bda54ad",
   "metadata": {},
   "outputs": [
    {
     "name": "stdout",
     "output_type": "stream",
     "text": [
      "[0, 0, 0, 0, 6, 3, 2, 1, 2, 3, 3]\n",
      "[10, 10, 10, 10, 16, 13, 12, 11, 12, 13, 13]\n"
     ]
    }
   ],
   "source": [
    "print(l1)\n",
    "\n",
    "for i in range(len(l1)):\n",
    "    l1[i] += 10\n",
    "    \n",
    "print(l1)"
   ]
  },
  {
   "cell_type": "code",
   "execution_count": 76,
   "id": "5190bee9",
   "metadata": {},
   "outputs": [
    {
     "data": {
      "text/plain": [
       "[10, 10, 10, 10, 16, 13, 12, 11, 12, 13, 13]"
      ]
     },
     "execution_count": 76,
     "metadata": {},
     "output_type": "execute_result"
    }
   ],
   "source": [
    "## Q: If the elemnt in l1 is even, add 10 to it. If the elmenet is odd, subtract 10 from. List needs to get updated\n",
    "\n"
   ]
  },
  {
   "cell_type": "code",
   "execution_count": 77,
   "id": "da781351",
   "metadata": {},
   "outputs": [
    {
     "name": "stdout",
     "output_type": "stream",
     "text": [
      "[20, 20, 20, 20, 26, 3, 22, 1, 22, 3, 3]\n"
     ]
    }
   ],
   "source": [
    "for i in range(len(l1)):\n",
    "    \n",
    "    if(l1[i]%2==0):\n",
    "        l1[i]+=10\n",
    "    else:\n",
    "        l1[i]-=10\n",
    "\n",
    "print(l1)\n"
   ]
  },
  {
   "cell_type": "code",
   "execution_count": 78,
   "id": "ff73968b",
   "metadata": {},
   "outputs": [],
   "source": [
    "## methods available in a list\n"
   ]
  },
  {
   "cell_type": "code",
   "execution_count": 79,
   "id": "e0998f4d",
   "metadata": {},
   "outputs": [
    {
     "data": {
      "text/plain": [
       "[20, 20, 20, 20, 26, 3, 22, 1, 22, 3, 3]"
      ]
     },
     "execution_count": 79,
     "metadata": {},
     "output_type": "execute_result"
    }
   ],
   "source": [
    "l1"
   ]
  },
  {
   "cell_type": "code",
   "execution_count": 80,
   "id": "8c067529",
   "metadata": {},
   "outputs": [
    {
     "name": "stdout",
     "output_type": "stream",
     "text": [
      "['__add__', '__class__', '__contains__', '__delattr__', '__delitem__', '__dir__', '__doc__', '__eq__', '__format__', '__ge__', '__getattribute__', '__getitem__', '__gt__', '__hash__', '__iadd__', '__imul__', '__init__', '__init_subclass__', '__iter__', '__le__', '__len__', '__lt__', '__mul__', '__ne__', '__new__', '__reduce__', '__reduce_ex__', '__repr__', '__reversed__', '__rmul__', '__setattr__', '__setitem__', '__sizeof__', '__str__', '__subclasshook__', 'append', 'clear', 'copy', 'count', 'extend', 'index', 'insert', 'pop', 'remove', 'reverse', 'sort']\n"
     ]
    }
   ],
   "source": [
    "print(dir(l1))"
   ]
  },
  {
   "cell_type": "markdown",
   "id": "41fd66c7",
   "metadata": {},
   "source": [
    "### `.append()`   `.extend()`    `.insert()`"
   ]
  },
  {
   "cell_type": "code",
   "execution_count": 81,
   "id": "9002aa73",
   "metadata": {},
   "outputs": [
    {
     "name": "stdout",
     "output_type": "stream",
     "text": [
      "[20, 20, 20, 20, 26, 3, 22, 1, 22, 3, 3]\n"
     ]
    }
   ],
   "source": [
    "print(l1)"
   ]
  },
  {
   "cell_type": "code",
   "execution_count": 84,
   "id": "7c7d079d",
   "metadata": {},
   "outputs": [],
   "source": [
    "## append is used to add one element to the end of the list\n",
    "## whenever want to add new elements to a list, use .append()\n",
    "\n",
    "l1.append('hello')"
   ]
  },
  {
   "cell_type": "code",
   "execution_count": 85,
   "id": "e2c31c48",
   "metadata": {},
   "outputs": [
    {
     "name": "stdout",
     "output_type": "stream",
     "text": [
      "[20, 20, 20, 20, 26, 3, 22, 1, 22, 3, 3, 'hello', 'hello']\n"
     ]
    }
   ],
   "source": [
    "print(l1)"
   ]
  },
  {
   "cell_type": "code",
   "execution_count": 88,
   "id": "45e6cece",
   "metadata": {},
   "outputs": [
    {
     "data": {
      "text/plain": [
       "[20, 20, 20, 20, 26, 3, 22, 1, 22, 3, 3, 'hello', 'hello', 'hello']"
      ]
     },
     "execution_count": 88,
     "metadata": {},
     "output_type": "execute_result"
    }
   ],
   "source": [
    "l1 = l1 + ['hello']"
   ]
  },
  {
   "cell_type": "code",
   "execution_count": 89,
   "id": "164b9119",
   "metadata": {},
   "outputs": [
    {
     "data": {
      "text/plain": [
       "[20, 20, 20, 20, 26, 3, 22, 1, 22, 3, 3, 'hello', 'hello']"
      ]
     },
     "execution_count": 89,
     "metadata": {},
     "output_type": "execute_result"
    }
   ],
   "source": [
    "l1"
   ]
  },
  {
   "cell_type": "code",
   "execution_count": 90,
   "id": "ba22723e",
   "metadata": {},
   "outputs": [],
   "source": [
    "## .insert()\n",
    "\n",
    "l1.insert(3, -1)"
   ]
  },
  {
   "cell_type": "code",
   "execution_count": 91,
   "id": "ba3312e4",
   "metadata": {},
   "outputs": [
    {
     "data": {
      "text/plain": [
       "[20, 20, 20, -1, 20, 26, 3, 22, 1, 22, 3, 3, 'hello', 'hello']"
      ]
     },
     "execution_count": 91,
     "metadata": {},
     "output_type": "execute_result"
    }
   ],
   "source": [
    "l1"
   ]
  },
  {
   "cell_type": "code",
   "execution_count": 92,
   "id": "c3df325c",
   "metadata": {},
   "outputs": [],
   "source": [
    "l1.insert(3, [1, 2, 3])"
   ]
  },
  {
   "cell_type": "code",
   "execution_count": 93,
   "id": "54e4c902",
   "metadata": {},
   "outputs": [
    {
     "data": {
      "text/plain": [
       "[20, 20, 20, [1, 2, 3], -1, 20, 26, 3, 22, 1, 22, 3, 3, 'hello', 'hello']"
      ]
     },
     "execution_count": 93,
     "metadata": {},
     "output_type": "execute_result"
    }
   ],
   "source": [
    "l1"
   ]
  },
  {
   "cell_type": "code",
   "execution_count": 94,
   "id": "eedf1d6a",
   "metadata": {},
   "outputs": [],
   "source": [
    "l2 = [1, 2, 3]"
   ]
  },
  {
   "cell_type": "code",
   "execution_count": 96,
   "id": "0dc78b44",
   "metadata": {},
   "outputs": [
    {
     "name": "stdout",
     "output_type": "stream",
     "text": [
      "[20, 20, 20, [1, 2, 3], -1, 20, 26, 3, 22, 1, 22, 3, 3, 'hello', 'hello', 1, 2, 3]\n"
     ]
    }
   ],
   "source": [
    "print(l1 + l2)"
   ]
  },
  {
   "cell_type": "code",
   "execution_count": 97,
   "id": "7c34fab7",
   "metadata": {},
   "outputs": [],
   "source": [
    "### .extend()\n",
    "## concatenating two lists\n",
    "\n",
    "l1.extend(l2)"
   ]
  },
  {
   "cell_type": "code",
   "execution_count": 99,
   "id": "2133f8cc",
   "metadata": {},
   "outputs": [
    {
     "name": "stdout",
     "output_type": "stream",
     "text": [
      "[20, 20, 20, [1, 2, 3], -1, 20, 26, 3, 22, 1, 22, 3, 3, 'hello', 'hello', 1, 2, 3]\n"
     ]
    }
   ],
   "source": [
    "print(l1)"
   ]
  },
  {
   "cell_type": "code",
   "execution_count": 100,
   "id": "9f38f482",
   "metadata": {},
   "outputs": [],
   "source": [
    "l1.extend(range(2, 11, 2))"
   ]
  },
  {
   "cell_type": "code",
   "execution_count": 101,
   "id": "0b041f64",
   "metadata": {},
   "outputs": [
    {
     "name": "stdout",
     "output_type": "stream",
     "text": [
      "[20, 20, 20, [1, 2, 3], -1, 20, 26, 3, 22, 1, 22, 3, 3, 'hello', 'hello', 1, 2, 3, 2, 4, 6, 8, 10]\n"
     ]
    }
   ],
   "source": [
    "print(l1)"
   ]
  },
  {
   "cell_type": "code",
   "execution_count": 103,
   "id": "c2dd057e",
   "metadata": {},
   "outputs": [
    {
     "data": {
      "text/plain": [
       "[1, 2, 3, 4, 5]"
      ]
     },
     "execution_count": 103,
     "metadata": {},
     "output_type": "execute_result"
    }
   ],
   "source": [
    "l1 = [1, 2, 3, 4, 5]\n",
    "l1"
   ]
  },
  {
   "cell_type": "code",
   "execution_count": 113,
   "id": "6e75464a",
   "metadata": {},
   "outputs": [],
   "source": [
    "l1.append(6)"
   ]
  },
  {
   "cell_type": "code",
   "execution_count": 114,
   "id": "fe508918",
   "metadata": {},
   "outputs": [
    {
     "data": {
      "text/plain": [
       "[1, 2, 3, 4, 5, 6, 6, 6, 6, 6, 6]"
      ]
     },
     "execution_count": 114,
     "metadata": {},
     "output_type": "execute_result"
    }
   ],
   "source": [
    "l1"
   ]
  },
  {
   "cell_type": "code",
   "execution_count": 115,
   "id": "eba6ff85",
   "metadata": {},
   "outputs": [
    {
     "name": "stdout",
     "output_type": "stream",
     "text": [
      "['__add__', '__class__', '__contains__', '__delattr__', '__delitem__', '__dir__', '__doc__', '__eq__', '__format__', '__ge__', '__getattribute__', '__getitem__', '__gt__', '__hash__', '__iadd__', '__imul__', '__init__', '__init_subclass__', '__iter__', '__le__', '__len__', '__lt__', '__mul__', '__ne__', '__new__', '__reduce__', '__reduce_ex__', '__repr__', '__reversed__', '__rmul__', '__setattr__', '__setitem__', '__sizeof__', '__str__', '__subclasshook__', 'append', 'clear', 'copy', 'count', 'extend', 'index', 'insert', 'pop', 'remove', 'reverse', 'sort']\n"
     ]
    }
   ],
   "source": [
    "print(dir(list))"
   ]
  },
  {
   "cell_type": "code",
   "execution_count": 116,
   "id": "cec77ba0",
   "metadata": {},
   "outputs": [],
   "source": [
    "## .clear(), .pop(), .remove()"
   ]
  },
  {
   "cell_type": "code",
   "execution_count": 117,
   "id": "ba22d777",
   "metadata": {},
   "outputs": [],
   "source": [
    "l1.clear()"
   ]
  },
  {
   "cell_type": "code",
   "execution_count": 118,
   "id": "b3872f95",
   "metadata": {},
   "outputs": [
    {
     "data": {
      "text/plain": [
       "[]"
      ]
     },
     "execution_count": 118,
     "metadata": {},
     "output_type": "execute_result"
    }
   ],
   "source": [
    "l1"
   ]
  },
  {
   "cell_type": "code",
   "execution_count": 119,
   "id": "86971a9a",
   "metadata": {},
   "outputs": [
    {
     "data": {
      "text/plain": [
       "[1, 2, 3, 4, 5]"
      ]
     },
     "execution_count": 119,
     "metadata": {},
     "output_type": "execute_result"
    }
   ],
   "source": [
    "l1 = [1, 2, 3, 4, 5]\n",
    "l1"
   ]
  },
  {
   "cell_type": "code",
   "execution_count": 120,
   "id": "44ff88d6",
   "metadata": {},
   "outputs": [
    {
     "data": {
      "text/plain": [
       "5"
      ]
     },
     "execution_count": 120,
     "metadata": {},
     "output_type": "execute_result"
    }
   ],
   "source": [
    "l1.pop()  ## one of the few exceptions to the permanent change"
   ]
  },
  {
   "cell_type": "code",
   "execution_count": 121,
   "id": "dd474669",
   "metadata": {},
   "outputs": [
    {
     "data": {
      "text/plain": [
       "[1, 2, 3, 4]"
      ]
     },
     "execution_count": 121,
     "metadata": {},
     "output_type": "execute_result"
    }
   ],
   "source": [
    "l1"
   ]
  },
  {
   "cell_type": "code",
   "execution_count": 122,
   "id": "a86d08f4",
   "metadata": {},
   "outputs": [
    {
     "data": {
      "text/plain": [
       "[1, 2, 3, 4]"
      ]
     },
     "execution_count": 122,
     "metadata": {},
     "output_type": "execute_result"
    }
   ],
   "source": [
    "l1"
   ]
  },
  {
   "cell_type": "code",
   "execution_count": 123,
   "id": "6407e878",
   "metadata": {},
   "outputs": [
    {
     "data": {
      "text/plain": [
       "1"
      ]
     },
     "execution_count": 123,
     "metadata": {},
     "output_type": "execute_result"
    }
   ],
   "source": [
    "l1.pop(0)"
   ]
  },
  {
   "cell_type": "code",
   "execution_count": 124,
   "id": "155fab2b",
   "metadata": {},
   "outputs": [
    {
     "data": {
      "text/plain": [
       "[2, 3, 4]"
      ]
     },
     "execution_count": 124,
     "metadata": {},
     "output_type": "execute_result"
    }
   ],
   "source": [
    "l1"
   ]
  },
  {
   "cell_type": "code",
   "execution_count": 125,
   "id": "b7734001",
   "metadata": {},
   "outputs": [],
   "source": [
    "## .remove()\n",
    "\n",
    "l1.remove(3)"
   ]
  },
  {
   "cell_type": "code",
   "execution_count": 126,
   "id": "32b1dc3d",
   "metadata": {},
   "outputs": [
    {
     "data": {
      "text/plain": [
       "[2, 4]"
      ]
     },
     "execution_count": 126,
     "metadata": {},
     "output_type": "execute_result"
    }
   ],
   "source": [
    "l1"
   ]
  },
  {
   "cell_type": "code",
   "execution_count": 130,
   "id": "16f8eee8",
   "metadata": {},
   "outputs": [
    {
     "name": "stdout",
     "output_type": "stream",
     "text": [
      "[1, 2, 4, 5]\n"
     ]
    }
   ],
   "source": [
    "#l1 = [1, 2, 3, 4, 3, 5, 5]\n",
    "l1.remove(3)\n",
    "print(l1)"
   ]
  },
  {
   "cell_type": "code",
   "execution_count": 128,
   "id": "7492faf9",
   "metadata": {},
   "outputs": [],
   "source": [
    "l1.remove(5)"
   ]
  },
  {
   "cell_type": "code",
   "execution_count": 129,
   "id": "ad4962c8",
   "metadata": {},
   "outputs": [
    {
     "data": {
      "text/plain": [
       "[1, 2, 4, 3, 5]"
      ]
     },
     "execution_count": 129,
     "metadata": {},
     "output_type": "execute_result"
    }
   ],
   "source": [
    "l1"
   ]
  },
  {
   "cell_type": "code",
   "execution_count": 131,
   "id": "3338e1af",
   "metadata": {},
   "outputs": [],
   "source": [
    "l1.remove(5)"
   ]
  },
  {
   "cell_type": "code",
   "execution_count": 132,
   "id": "9add540e",
   "metadata": {},
   "outputs": [
    {
     "data": {
      "text/plain": [
       "[1, 2, 4]"
      ]
     },
     "execution_count": 132,
     "metadata": {},
     "output_type": "execute_result"
    }
   ],
   "source": [
    "l1"
   ]
  },
  {
   "cell_type": "code",
   "execution_count": 133,
   "id": "09b1035c",
   "metadata": {},
   "outputs": [
    {
     "ename": "ValueError",
     "evalue": "list.remove(x): x not in list",
     "output_type": "error",
     "traceback": [
      "\u001b[1;31m---------------------------------------------------------------------------\u001b[0m",
      "\u001b[1;31mValueError\u001b[0m                                Traceback (most recent call last)",
      "\u001b[1;32m<ipython-input-133-348b88ca6247>\u001b[0m in \u001b[0;36m<module>\u001b[1;34m\u001b[0m\n\u001b[1;32m----> 1\u001b[1;33m \u001b[0ml1\u001b[0m\u001b[1;33m.\u001b[0m\u001b[0mremove\u001b[0m\u001b[1;33m(\u001b[0m\u001b[1;36m3\u001b[0m\u001b[1;33m)\u001b[0m\u001b[1;33m\u001b[0m\u001b[1;33m\u001b[0m\u001b[0m\n\u001b[0m",
      "\u001b[1;31mValueError\u001b[0m: list.remove(x): x not in list"
     ]
    }
   ],
   "source": [
    "l1.remove(3)"
   ]
  },
  {
   "cell_type": "code",
   "execution_count": 134,
   "id": "5bf84844",
   "metadata": {},
   "outputs": [
    {
     "name": "stdout",
     "output_type": "stream",
     "text": [
      "['__add__', '__class__', '__contains__', '__delattr__', '__delitem__', '__dir__', '__doc__', '__eq__', '__format__', '__ge__', '__getattribute__', '__getitem__', '__gt__', '__hash__', '__iadd__', '__imul__', '__init__', '__init_subclass__', '__iter__', '__le__', '__len__', '__lt__', '__mul__', '__ne__', '__new__', '__reduce__', '__reduce_ex__', '__repr__', '__reversed__', '__rmul__', '__setattr__', '__setitem__', '__sizeof__', '__str__', '__subclasshook__', 'append', 'clear', 'copy', 'count', 'extend', 'index', 'insert', 'pop', 'remove', 'reverse', 'sort']\n"
     ]
    }
   ],
   "source": [
    "print(dir(list))"
   ]
  },
  {
   "cell_type": "code",
   "execution_count": 135,
   "id": "414e59ed",
   "metadata": {},
   "outputs": [],
   "source": [
    "## .copy()"
   ]
  },
  {
   "cell_type": "code",
   "execution_count": 136,
   "id": "fdb3d271",
   "metadata": {},
   "outputs": [],
   "source": [
    "l1 = [1, 2, 3, 4, 5]\n",
    "l2 = l1\n",
    "\n",
    "## by default, python is pass by reference. It doesn't really create a copy of the data. It just creates another variables\n",
    "## name that is pointing to the same data in the same memory location."
   ]
  },
  {
   "cell_type": "code",
   "execution_count": 137,
   "id": "0b90964e",
   "metadata": {},
   "outputs": [],
   "source": [
    "l1.remove(4)"
   ]
  },
  {
   "cell_type": "code",
   "execution_count": 138,
   "id": "ef755c2f",
   "metadata": {},
   "outputs": [
    {
     "data": {
      "text/plain": [
       "[1, 2, 3, 5]"
      ]
     },
     "execution_count": 138,
     "metadata": {},
     "output_type": "execute_result"
    }
   ],
   "source": [
    "l1"
   ]
  },
  {
   "cell_type": "code",
   "execution_count": 139,
   "id": "a1178a81",
   "metadata": {},
   "outputs": [
    {
     "data": {
      "text/plain": [
       "[1, 2, 3, 5]"
      ]
     },
     "execution_count": 139,
     "metadata": {},
     "output_type": "execute_result"
    }
   ],
   "source": [
    "l2"
   ]
  },
  {
   "cell_type": "code",
   "execution_count": 140,
   "id": "1ff4fbbf",
   "metadata": {},
   "outputs": [],
   "source": [
    "for i in range(len(l1)):\n",
    "    l1[i] = l1[i] + 10"
   ]
  },
  {
   "cell_type": "code",
   "execution_count": 141,
   "id": "8ecb52f9",
   "metadata": {},
   "outputs": [
    {
     "name": "stdout",
     "output_type": "stream",
     "text": [
      "[11, 12, 13, 15]\n"
     ]
    }
   ],
   "source": [
    "print(l1)"
   ]
  },
  {
   "cell_type": "code",
   "execution_count": 142,
   "id": "ad3e66fd",
   "metadata": {},
   "outputs": [
    {
     "name": "stdout",
     "output_type": "stream",
     "text": [
      "[11, 12, 13, 15]\n"
     ]
    }
   ],
   "source": [
    "print(l2)"
   ]
  },
  {
   "cell_type": "code",
   "execution_count": 143,
   "id": "5daaeea4",
   "metadata": {},
   "outputs": [
    {
     "data": {
      "text/plain": [
       "[11, 12, 13, 15]"
      ]
     },
     "execution_count": 143,
     "metadata": {},
     "output_type": "execute_result"
    }
   ],
   "source": [
    "l1"
   ]
  },
  {
   "cell_type": "code",
   "execution_count": 144,
   "id": "d2097a53",
   "metadata": {},
   "outputs": [],
   "source": [
    "l3 = l1.copy()  ## pass by value; actually creating a copy in memory"
   ]
  },
  {
   "cell_type": "code",
   "execution_count": 145,
   "id": "4dce34ac",
   "metadata": {},
   "outputs": [
    {
     "name": "stdout",
     "output_type": "stream",
     "text": [
      "[11, 12, 13, 15]\n",
      "[11, 12, 13, 15]\n"
     ]
    }
   ],
   "source": [
    "print(l1)\n",
    "print(l3)"
   ]
  },
  {
   "cell_type": "code",
   "execution_count": 146,
   "id": "28898e83",
   "metadata": {},
   "outputs": [
    {
     "data": {
      "text/plain": [
       "15"
      ]
     },
     "execution_count": 146,
     "metadata": {},
     "output_type": "execute_result"
    }
   ],
   "source": [
    "l1.pop()"
   ]
  },
  {
   "cell_type": "code",
   "execution_count": 147,
   "id": "7de365ac",
   "metadata": {},
   "outputs": [
    {
     "data": {
      "text/plain": [
       "[11, 12, 13]"
      ]
     },
     "execution_count": 147,
     "metadata": {},
     "output_type": "execute_result"
    }
   ],
   "source": [
    "l1"
   ]
  },
  {
   "cell_type": "code",
   "execution_count": 148,
   "id": "9d46478f",
   "metadata": {},
   "outputs": [
    {
     "data": {
      "text/plain": [
       "[11, 12, 13, 15]"
      ]
     },
     "execution_count": 148,
     "metadata": {},
     "output_type": "execute_result"
    }
   ],
   "source": [
    "l3"
   ]
  },
  {
   "cell_type": "code",
   "execution_count": 149,
   "id": "dc826eda",
   "metadata": {},
   "outputs": [],
   "source": [
    "a = 5\n",
    "b = a"
   ]
  },
  {
   "cell_type": "code",
   "execution_count": 150,
   "id": "dbaf74ca",
   "metadata": {},
   "outputs": [],
   "source": [
    "a = a + 1"
   ]
  },
  {
   "cell_type": "code",
   "execution_count": 151,
   "id": "9dcbf047",
   "metadata": {},
   "outputs": [
    {
     "data": {
      "text/plain": [
       "6"
      ]
     },
     "execution_count": 151,
     "metadata": {},
     "output_type": "execute_result"
    }
   ],
   "source": [
    "a"
   ]
  },
  {
   "cell_type": "code",
   "execution_count": 152,
   "id": "408ad1d9",
   "metadata": {},
   "outputs": [
    {
     "data": {
      "text/plain": [
       "5"
      ]
     },
     "execution_count": 152,
     "metadata": {},
     "output_type": "execute_result"
    }
   ],
   "source": [
    "b"
   ]
  },
  {
   "cell_type": "code",
   "execution_count": 153,
   "id": "daa88db0",
   "metadata": {},
   "outputs": [],
   "source": [
    "## In primitive data types, this is not a requirement"
   ]
  },
  {
   "cell_type": "code",
   "execution_count": 154,
   "id": "4907ee2a",
   "metadata": {},
   "outputs": [
    {
     "name": "stdout",
     "output_type": "stream",
     "text": [
      "[1, 2, 3, 4]\n",
      "[1, 2, 3, 4]\n"
     ]
    }
   ],
   "source": [
    "l1 = [1, 2, 3, 4, 5]\n",
    "l2 = l1\n",
    "l2.pop()\n",
    "print(l1)\n",
    "print(l2)"
   ]
  },
  {
   "cell_type": "code",
   "execution_count": 155,
   "id": "b5f6d0a2",
   "metadata": {},
   "outputs": [],
   "source": [
    "## .reverse(), .sort()"
   ]
  },
  {
   "cell_type": "code",
   "execution_count": 157,
   "id": "4b28870c",
   "metadata": {},
   "outputs": [],
   "source": [
    "l1.reverse()"
   ]
  },
  {
   "cell_type": "code",
   "execution_count": 158,
   "id": "a263714b",
   "metadata": {},
   "outputs": [
    {
     "data": {
      "text/plain": [
       "[4, 3, 2, 1]"
      ]
     },
     "execution_count": 158,
     "metadata": {},
     "output_type": "execute_result"
    }
   ],
   "source": [
    "l1"
   ]
  },
  {
   "cell_type": "code",
   "execution_count": 159,
   "id": "7b881264",
   "metadata": {},
   "outputs": [
    {
     "data": {
      "text/plain": [
       "[4, 3, 2, 1]"
      ]
     },
     "execution_count": 159,
     "metadata": {},
     "output_type": "execute_result"
    }
   ],
   "source": [
    "l1"
   ]
  },
  {
   "cell_type": "code",
   "execution_count": 162,
   "id": "e2203756",
   "metadata": {},
   "outputs": [],
   "source": [
    "l1.sort(reverse=True)"
   ]
  },
  {
   "cell_type": "code",
   "execution_count": 163,
   "id": "18d0a822",
   "metadata": {},
   "outputs": [
    {
     "data": {
      "text/plain": [
       "[4, 3, 2, 1]"
      ]
     },
     "execution_count": 163,
     "metadata": {},
     "output_type": "execute_result"
    }
   ],
   "source": [
    "l1"
   ]
  },
  {
   "cell_type": "code",
   "execution_count": 164,
   "id": "04a7a9f7",
   "metadata": {},
   "outputs": [],
   "source": [
    "l3 = ['Animal', 'zebra', 'animal', 'Zebra']"
   ]
  },
  {
   "cell_type": "code",
   "execution_count": 165,
   "id": "3511c47e",
   "metadata": {},
   "outputs": [],
   "source": [
    "l3.sort()"
   ]
  },
  {
   "cell_type": "code",
   "execution_count": 166,
   "id": "bd9db59b",
   "metadata": {},
   "outputs": [
    {
     "data": {
      "text/plain": [
       "['Animal', 'Zebra', 'animal', 'zebra']"
      ]
     },
     "execution_count": 166,
     "metadata": {},
     "output_type": "execute_result"
    }
   ],
   "source": [
    "## whenver you try sorting on strings.\n",
    "## because python is case sensitive language\n",
    "## sorting happens based on ASCII\n",
    "\n",
    "l3"
   ]
  },
  {
   "cell_type": "code",
   "execution_count": 167,
   "id": "3d59a460",
   "metadata": {},
   "outputs": [
    {
     "ename": "TypeError",
     "evalue": "'<' not supported between instances of 'str' and 'int'",
     "output_type": "error",
     "traceback": [
      "\u001b[1;31m---------------------------------------------------------------------------\u001b[0m",
      "\u001b[1;31mTypeError\u001b[0m                                 Traceback (most recent call last)",
      "\u001b[1;32m<ipython-input-167-06c2128c0651>\u001b[0m in \u001b[0;36m<module>\u001b[1;34m\u001b[0m\n\u001b[0;32m      1\u001b[0m \u001b[0ml6\u001b[0m \u001b[1;33m=\u001b[0m \u001b[1;33m[\u001b[0m\u001b[1;36m1\u001b[0m\u001b[1;33m,\u001b[0m \u001b[1;36m2\u001b[0m\u001b[1;33m,\u001b[0m \u001b[1;34m'python'\u001b[0m\u001b[1;33m,\u001b[0m \u001b[1;32mTrue\u001b[0m\u001b[1;33m]\u001b[0m\u001b[1;33m\u001b[0m\u001b[1;33m\u001b[0m\u001b[0m\n\u001b[1;32m----> 2\u001b[1;33m \u001b[0ml6\u001b[0m\u001b[1;33m.\u001b[0m\u001b[0msort\u001b[0m\u001b[1;33m(\u001b[0m\u001b[1;33m)\u001b[0m\u001b[1;33m\u001b[0m\u001b[1;33m\u001b[0m\u001b[0m\n\u001b[0m",
      "\u001b[1;31mTypeError\u001b[0m: '<' not supported between instances of 'str' and 'int'"
     ]
    }
   ],
   "source": [
    "l6 = [1, 2, 'python', True]\n",
    "l6.sort()"
   ]
  },
  {
   "cell_type": "code",
   "execution_count": 168,
   "id": "2453c3d1",
   "metadata": {},
   "outputs": [
    {
     "name": "stdout",
     "output_type": "stream",
     "text": [
      "['__add__', '__class__', '__contains__', '__delattr__', '__delitem__', '__dir__', '__doc__', '__eq__', '__format__', '__ge__', '__getattribute__', '__getitem__', '__gt__', '__hash__', '__iadd__', '__imul__', '__init__', '__init_subclass__', '__iter__', '__le__', '__len__', '__lt__', '__mul__', '__ne__', '__new__', '__reduce__', '__reduce_ex__', '__repr__', '__reversed__', '__rmul__', '__setattr__', '__setitem__', '__sizeof__', '__str__', '__subclasshook__', 'append', 'clear', 'copy', 'count', 'extend', 'index', 'insert', 'pop', 'remove', 'reverse', 'sort']\n"
     ]
    }
   ],
   "source": [
    "print(dir(list))"
   ]
  },
  {
   "cell_type": "code",
   "execution_count": 169,
   "id": "af39ea72",
   "metadata": {},
   "outputs": [],
   "source": [
    "## .count()\n",
    "\n",
    "l1 = [1, 1, 2, 2, 3, 5, 4, 5, 9, 9, 9]"
   ]
  },
  {
   "cell_type": "code",
   "execution_count": 170,
   "id": "160b06db",
   "metadata": {},
   "outputs": [
    {
     "data": {
      "text/plain": [
       "3"
      ]
     },
     "execution_count": 170,
     "metadata": {},
     "output_type": "execute_result"
    }
   ],
   "source": [
    "l1.count(9)"
   ]
  },
  {
   "cell_type": "code",
   "execution_count": 171,
   "id": "25a82093",
   "metadata": {},
   "outputs": [
    {
     "data": {
      "text/plain": [
       "2"
      ]
     },
     "execution_count": 171,
     "metadata": {},
     "output_type": "execute_result"
    }
   ],
   "source": [
    "l1.count(2)"
   ]
  },
  {
   "cell_type": "code",
   "execution_count": 176,
   "id": "bffdbd30",
   "metadata": {},
   "outputs": [],
   "source": [
    "Animals = ['Lion', 'Tiger', 'Snake', 'Tiger']"
   ]
  },
  {
   "cell_type": "code",
   "execution_count": 177,
   "id": "2545717a",
   "metadata": {},
   "outputs": [
    {
     "data": {
      "text/plain": [
       "3"
      ]
     },
     "execution_count": 177,
     "metadata": {},
     "output_type": "execute_result"
    }
   ],
   "source": [
    "## .index()\n",
    "\n",
    "Animals.index('Tiger', Animals.index('Tiger')+1)"
   ]
  },
  {
   "cell_type": "code",
   "execution_count": 178,
   "id": "8024b5e2",
   "metadata": {},
   "outputs": [
    {
     "data": {
      "text/plain": [
       "4"
      ]
     },
     "execution_count": 178,
     "metadata": {},
     "output_type": "execute_result"
    }
   ],
   "source": [
    "len(Animals)"
   ]
  },
  {
   "cell_type": "code",
   "execution_count": 179,
   "id": "dd866198",
   "metadata": {},
   "outputs": [],
   "source": [
    "## Text processing\n",
    "    ## NLP - natural language processing\n",
    "    ## NLU - Natural language understanding\n",
    "    ## NLG - Natural language generation\n",
    "\n"
   ]
  },
  {
   "cell_type": "markdown",
   "id": "d2e754d4",
   "metadata": {},
   "source": [
    "## frequency based analysis of textual data"
   ]
  },
  {
   "cell_type": "code",
   "execution_count": null,
   "id": "69b999bd",
   "metadata": {},
   "outputs": [],
   "source": [
    "## Assignment\n",
    "\n",
    "## Take some text from the internet and save it in a file.\n",
    "\n",
    "## Read that text from the file into python\n",
    "\n",
    "## Split that text into words\n",
    "\n",
    "## Remove the most common occuring meanigless words out of that list\n",
    "\n",
    "## Then count the occurence of each word of the list and print it to the user.\n",
    "\n"
   ]
  },
  {
   "cell_type": "code",
   "execution_count": null,
   "id": "cbc1c2e7",
   "metadata": {},
   "outputs": [],
   "source": [
    "#Read that text from file into python\n",
    "\n",
    "with open(r'D:\\Upskilling_2023\\Python\\Python Scripts\\NLP_Assignment1.txt', 'r') as file:\n",
    "    content = file.read()\n",
    "    \n",
    "#Split the text into the words\n",
    "words = content.split()\n",
    "\n",
    "#Remove some words from it (articles, prepositions)\n",
    "count_a = words.count('a')\n",
    "count_the = words.count('the')\n",
    "count_in = words.count('in')\n",
    "    \n",
    "    for i in range(count_a):\n",
    "        words.remove('a')\n",
    "    \n",
    "    for i in range(count_the):\n",
    "        words.remove('the')\n",
    "        \n",
    "    for i in range(count_in):\n",
    "        words.remove('in')\n",
    "Just till the 4th step"
   ]
  },
  {
   "cell_type": "code",
   "execution_count": null,
   "id": "721aeb81",
   "metadata": {},
   "outputs": [],
   "source": [
    "with open('hello.txt','r') as f:\n",
    "    content= f.read()\n",
    "    \n",
    "total_word_list= content.split()\n",
    "removed_words=['is','he','so','at','This','Hello']\n",
    "\n",
    "for j in removed_words:\n",
    "    total_word_list.remove(j)\n",
    "    \n",
    "print(total_word_list)\n",
    "    \n",
    "for i in total_word_list:\n",
    "    print(i,total_word_list.count(i))"
   ]
  },
  {
   "cell_type": "code",
   "execution_count": 180,
   "id": "1be27ccb",
   "metadata": {},
   "outputs": [
    {
     "name": "stdout",
     "output_type": "stream",
     "text": [
      "However, in private segment, those banks who have focussed in tech-enabled \n",
      "lending are going to score over its peers and banks like Axis Bank, ICICI Bank, \n",
      "HDFC Bank and IDFC First Bank are expected to benefit from such emerging business \n",
      "model in India. For retail investors who are looking to cash-in the opportunities \n",
      "available in the banking space but have limited money for investing, experts \n",
      "recommended mid-sized PSU and private bank stocks to buy. They said that Yes Bank, \n",
      "PNB, IDFC First Bank, Bank of Baroda, etc. shares to buy.\n"
     ]
    }
   ],
   "source": [
    "with open('d:/python_new/news.txt', 'r') as f:\n",
    "    contents = f.read()\n",
    "    \n",
    "print(contents)"
   ]
  },
  {
   "cell_type": "code",
   "execution_count": 181,
   "id": "b2ca4f16",
   "metadata": {},
   "outputs": [
    {
     "name": "stdout",
     "output_type": "stream",
     "text": [
      "however, in private segment, those banks who have focussed in tech-enabled \n",
      "lending are going to score over its peers and banks like axis bank, icici bank, \n",
      "hdfc bank and idfc first bank are expected to benefit from such emerging business \n",
      "model in india. for retail investors who are looking to cash-in the opportunities \n",
      "available in the banking space but have limited money for investing, experts \n",
      "recommended mid-sized psu and private bank stocks to buy. they said that yes bank, \n",
      "pnb, idfc first bank, bank of baroda, etc. shares to buy.\n"
     ]
    }
   ],
   "source": [
    "## cleaning step\n",
    "\n",
    "contents = contents.lower()\n",
    "print(contents)"
   ]
  },
  {
   "cell_type": "code",
   "execution_count": 183,
   "id": "e25f5748",
   "metadata": {},
   "outputs": [
    {
     "name": "stdout",
     "output_type": "stream",
     "text": [
      "['however,', 'in', 'private', 'segment,', 'those', 'banks', 'who', 'have', 'focussed', 'in', 'tech-enabled', 'lending', 'are', 'going', 'to', 'score', 'over', 'its', 'peers', 'and', 'banks', 'like', 'axis', 'bank,', 'icici', 'bank,', 'hdfc', 'bank', 'and', 'idfc', 'first', 'bank', 'are', 'expected', 'to', 'benefit', 'from', 'such', 'emerging', 'business', 'model', 'in', 'india.', 'for', 'retail', 'investors', 'who', 'are', 'looking', 'to', 'cash-in', 'the', 'opportunities', 'available', 'in', 'the', 'banking', 'space', 'but', 'have', 'limited', 'money', 'for', 'investing,', 'experts', 'recommended', 'mid-sized', 'psu', 'and', 'private', 'bank', 'stocks', 'to', 'buy.', 'they', 'said', 'that', 'yes', 'bank,', 'pnb,', 'idfc', 'first', 'bank,', 'bank', 'of', 'baroda,', 'etc.', 'shares', 'to', 'buy.']\n"
     ]
    }
   ],
   "source": [
    "print(contents.split())"
   ]
  },
  {
   "cell_type": "code",
   "execution_count": 184,
   "id": "2e4125e4",
   "metadata": {},
   "outputs": [
    {
     "name": "stdout",
     "output_type": "stream",
     "text": [
      "however in private segment those banks who have focussed in techenabled \n",
      "lending are going to score over its peers and banks like axis bank icici bank \n",
      "hdfc bank and idfc first bank are expected to benefit from such emerging business \n",
      "model in india for retail investors who are looking to cashin the opportunities \n",
      "available in the banking space but have limited money for investing experts \n",
      "recommended midsized psu and private bank stocks to buy they said that yes bank \n",
      "pnb idfc first bank bank of baroda etc shares to buy\n"
     ]
    }
   ],
   "source": [
    "contents = contents.replace(',', '').replace('.', '').replace('-', '')\n",
    "print(contents)"
   ]
  },
  {
   "cell_type": "code",
   "execution_count": 185,
   "id": "97b5ca7c",
   "metadata": {},
   "outputs": [
    {
     "name": "stdout",
     "output_type": "stream",
     "text": [
      "['however', 'in', 'private', 'segment', 'those', 'banks', 'who', 'have', 'focussed', 'in', 'techenabled', 'lending', 'are', 'going', 'to', 'score', 'over', 'its', 'peers', 'and', 'banks', 'like', 'axis', 'bank', 'icici', 'bank', 'hdfc', 'bank', 'and', 'idfc', 'first', 'bank', 'are', 'expected', 'to', 'benefit', 'from', 'such', 'emerging', 'business', 'model', 'in', 'india', 'for', 'retail', 'investors', 'who', 'are', 'looking', 'to', 'cashin', 'the', 'opportunities', 'available', 'in', 'the', 'banking', 'space', 'but', 'have', 'limited', 'money', 'for', 'investing', 'experts', 'recommended', 'midsized', 'psu', 'and', 'private', 'bank', 'stocks', 'to', 'buy', 'they', 'said', 'that', 'yes', 'bank', 'pnb', 'idfc', 'first', 'bank', 'bank', 'of', 'baroda', 'etc', 'shares', 'to', 'buy']\n"
     ]
    }
   ],
   "source": [
    "words = contents.split()\n",
    "print(words)"
   ]
  },
  {
   "cell_type": "code",
   "execution_count": 186,
   "id": "7dd855d6",
   "metadata": {},
   "outputs": [],
   "source": [
    "words_to_omit = ['in', 'are', 'to', 'etc', 'and', 'i', 'go', 'from', 'for', 'the', 'of']"
   ]
  },
  {
   "cell_type": "code",
   "execution_count": 193,
   "id": "c14bd614",
   "metadata": {},
   "outputs": [
    {
     "name": "stdout",
     "output_type": "stream",
     "text": [
      "however\n",
      "['however']\n",
      "**********************************************\n",
      "in\n",
      "private\n",
      "['however', 'private']\n",
      "**********************************************\n",
      "segment\n",
      "['however', 'private', 'segment']\n",
      "**********************************************\n",
      "those\n",
      "['however', 'private', 'segment', 'those']\n",
      "**********************************************\n",
      "banks\n",
      "['however', 'private', 'segment', 'those', 'banks']\n",
      "**********************************************\n",
      "who\n",
      "['however', 'private', 'segment', 'those', 'banks', 'who']\n",
      "**********************************************\n",
      "have\n",
      "['however', 'private', 'segment', 'those', 'banks', 'who', 'have']\n",
      "**********************************************\n",
      "focussed\n",
      "['however', 'private', 'segment', 'those', 'banks', 'who', 'have', 'focussed']\n",
      "**********************************************\n",
      "in\n",
      "techenabled\n",
      "['however', 'private', 'segment', 'those', 'banks', 'who', 'have', 'focussed', 'techenabled']\n",
      "**********************************************\n",
      "lending\n",
      "['however', 'private', 'segment', 'those', 'banks', 'who', 'have', 'focussed', 'techenabled', 'lending']\n",
      "**********************************************\n",
      "are\n",
      "going\n",
      "['however', 'private', 'segment', 'those', 'banks', 'who', 'have', 'focussed', 'techenabled', 'lending', 'going']\n",
      "**********************************************\n",
      "to\n",
      "score\n",
      "['however', 'private', 'segment', 'those', 'banks', 'who', 'have', 'focussed', 'techenabled', 'lending', 'going', 'score']\n",
      "**********************************************\n",
      "over\n",
      "['however', 'private', 'segment', 'those', 'banks', 'who', 'have', 'focussed', 'techenabled', 'lending', 'going', 'score', 'over']\n",
      "**********************************************\n",
      "its\n",
      "['however', 'private', 'segment', 'those', 'banks', 'who', 'have', 'focussed', 'techenabled', 'lending', 'going', 'score', 'over', 'its']\n",
      "**********************************************\n",
      "peers\n",
      "['however', 'private', 'segment', 'those', 'banks', 'who', 'have', 'focussed', 'techenabled', 'lending', 'going', 'score', 'over', 'its', 'peers']\n",
      "**********************************************\n",
      "and\n",
      "banks\n",
      "['however', 'private', 'segment', 'those', 'banks', 'who', 'have', 'focussed', 'techenabled', 'lending', 'going', 'score', 'over', 'its', 'peers', 'banks']\n",
      "**********************************************\n",
      "like\n",
      "['however', 'private', 'segment', 'those', 'banks', 'who', 'have', 'focussed', 'techenabled', 'lending', 'going', 'score', 'over', 'its', 'peers', 'banks', 'like']\n",
      "**********************************************\n",
      "axis\n",
      "['however', 'private', 'segment', 'those', 'banks', 'who', 'have', 'focussed', 'techenabled', 'lending', 'going', 'score', 'over', 'its', 'peers', 'banks', 'like', 'axis']\n",
      "**********************************************\n",
      "bank\n",
      "['however', 'private', 'segment', 'those', 'banks', 'who', 'have', 'focussed', 'techenabled', 'lending', 'going', 'score', 'over', 'its', 'peers', 'banks', 'like', 'axis', 'bank']\n",
      "**********************************************\n",
      "icici\n",
      "['however', 'private', 'segment', 'those', 'banks', 'who', 'have', 'focussed', 'techenabled', 'lending', 'going', 'score', 'over', 'its', 'peers', 'banks', 'like', 'axis', 'bank', 'icici']\n",
      "**********************************************\n",
      "bank\n",
      "['however', 'private', 'segment', 'those', 'banks', 'who', 'have', 'focussed', 'techenabled', 'lending', 'going', 'score', 'over', 'its', 'peers', 'banks', 'like', 'axis', 'bank', 'icici', 'bank']\n",
      "**********************************************\n",
      "hdfc\n",
      "['however', 'private', 'segment', 'those', 'banks', 'who', 'have', 'focussed', 'techenabled', 'lending', 'going', 'score', 'over', 'its', 'peers', 'banks', 'like', 'axis', 'bank', 'icici', 'bank', 'hdfc']\n",
      "**********************************************\n",
      "bank\n",
      "['however', 'private', 'segment', 'those', 'banks', 'who', 'have', 'focussed', 'techenabled', 'lending', 'going', 'score', 'over', 'its', 'peers', 'banks', 'like', 'axis', 'bank', 'icici', 'bank', 'hdfc', 'bank']\n",
      "**********************************************\n",
      "and\n",
      "idfc\n",
      "['however', 'private', 'segment', 'those', 'banks', 'who', 'have', 'focussed', 'techenabled', 'lending', 'going', 'score', 'over', 'its', 'peers', 'banks', 'like', 'axis', 'bank', 'icici', 'bank', 'hdfc', 'bank', 'idfc']\n",
      "**********************************************\n",
      "first\n",
      "['however', 'private', 'segment', 'those', 'banks', 'who', 'have', 'focussed', 'techenabled', 'lending', 'going', 'score', 'over', 'its', 'peers', 'banks', 'like', 'axis', 'bank', 'icici', 'bank', 'hdfc', 'bank', 'idfc', 'first']\n",
      "**********************************************\n",
      "bank\n",
      "['however', 'private', 'segment', 'those', 'banks', 'who', 'have', 'focussed', 'techenabled', 'lending', 'going', 'score', 'over', 'its', 'peers', 'banks', 'like', 'axis', 'bank', 'icici', 'bank', 'hdfc', 'bank', 'idfc', 'first', 'bank']\n",
      "**********************************************\n",
      "are\n",
      "expected\n",
      "['however', 'private', 'segment', 'those', 'banks', 'who', 'have', 'focussed', 'techenabled', 'lending', 'going', 'score', 'over', 'its', 'peers', 'banks', 'like', 'axis', 'bank', 'icici', 'bank', 'hdfc', 'bank', 'idfc', 'first', 'bank', 'expected']\n",
      "**********************************************\n",
      "to\n",
      "benefit\n",
      "['however', 'private', 'segment', 'those', 'banks', 'who', 'have', 'focussed', 'techenabled', 'lending', 'going', 'score', 'over', 'its', 'peers', 'banks', 'like', 'axis', 'bank', 'icici', 'bank', 'hdfc', 'bank', 'idfc', 'first', 'bank', 'expected', 'benefit']\n",
      "**********************************************\n",
      "from\n",
      "such\n",
      "['however', 'private', 'segment', 'those', 'banks', 'who', 'have', 'focussed', 'techenabled', 'lending', 'going', 'score', 'over', 'its', 'peers', 'banks', 'like', 'axis', 'bank', 'icici', 'bank', 'hdfc', 'bank', 'idfc', 'first', 'bank', 'expected', 'benefit', 'such']\n",
      "**********************************************\n",
      "emerging\n",
      "['however', 'private', 'segment', 'those', 'banks', 'who', 'have', 'focussed', 'techenabled', 'lending', 'going', 'score', 'over', 'its', 'peers', 'banks', 'like', 'axis', 'bank', 'icici', 'bank', 'hdfc', 'bank', 'idfc', 'first', 'bank', 'expected', 'benefit', 'such', 'emerging']\n",
      "**********************************************\n",
      "business\n",
      "['however', 'private', 'segment', 'those', 'banks', 'who', 'have', 'focussed', 'techenabled', 'lending', 'going', 'score', 'over', 'its', 'peers', 'banks', 'like', 'axis', 'bank', 'icici', 'bank', 'hdfc', 'bank', 'idfc', 'first', 'bank', 'expected', 'benefit', 'such', 'emerging', 'business']\n",
      "**********************************************\n",
      "model\n",
      "['however', 'private', 'segment', 'those', 'banks', 'who', 'have', 'focussed', 'techenabled', 'lending', 'going', 'score', 'over', 'its', 'peers', 'banks', 'like', 'axis', 'bank', 'icici', 'bank', 'hdfc', 'bank', 'idfc', 'first', 'bank', 'expected', 'benefit', 'such', 'emerging', 'business', 'model']\n",
      "**********************************************\n",
      "in\n",
      "india\n",
      "['however', 'private', 'segment', 'those', 'banks', 'who', 'have', 'focussed', 'techenabled', 'lending', 'going', 'score', 'over', 'its', 'peers', 'banks', 'like', 'axis', 'bank', 'icici', 'bank', 'hdfc', 'bank', 'idfc', 'first', 'bank', 'expected', 'benefit', 'such', 'emerging', 'business', 'model', 'india']\n",
      "**********************************************\n",
      "for\n",
      "retail\n",
      "['however', 'private', 'segment', 'those', 'banks', 'who', 'have', 'focussed', 'techenabled', 'lending', 'going', 'score', 'over', 'its', 'peers', 'banks', 'like', 'axis', 'bank', 'icici', 'bank', 'hdfc', 'bank', 'idfc', 'first', 'bank', 'expected', 'benefit', 'such', 'emerging', 'business', 'model', 'india', 'retail']\n",
      "**********************************************\n",
      "investors\n",
      "['however', 'private', 'segment', 'those', 'banks', 'who', 'have', 'focussed', 'techenabled', 'lending', 'going', 'score', 'over', 'its', 'peers', 'banks', 'like', 'axis', 'bank', 'icici', 'bank', 'hdfc', 'bank', 'idfc', 'first', 'bank', 'expected', 'benefit', 'such', 'emerging', 'business', 'model', 'india', 'retail', 'investors']\n",
      "**********************************************\n",
      "who\n",
      "['however', 'private', 'segment', 'those', 'banks', 'who', 'have', 'focussed', 'techenabled', 'lending', 'going', 'score', 'over', 'its', 'peers', 'banks', 'like', 'axis', 'bank', 'icici', 'bank', 'hdfc', 'bank', 'idfc', 'first', 'bank', 'expected', 'benefit', 'such', 'emerging', 'business', 'model', 'india', 'retail', 'investors', 'who']\n",
      "**********************************************\n",
      "are\n",
      "looking\n",
      "['however', 'private', 'segment', 'those', 'banks', 'who', 'have', 'focussed', 'techenabled', 'lending', 'going', 'score', 'over', 'its', 'peers', 'banks', 'like', 'axis', 'bank', 'icici', 'bank', 'hdfc', 'bank', 'idfc', 'first', 'bank', 'expected', 'benefit', 'such', 'emerging', 'business', 'model', 'india', 'retail', 'investors', 'who', 'looking']\n",
      "**********************************************\n",
      "to\n",
      "cashin\n",
      "['however', 'private', 'segment', 'those', 'banks', 'who', 'have', 'focussed', 'techenabled', 'lending', 'going', 'score', 'over', 'its', 'peers', 'banks', 'like', 'axis', 'bank', 'icici', 'bank', 'hdfc', 'bank', 'idfc', 'first', 'bank', 'expected', 'benefit', 'such', 'emerging', 'business', 'model', 'india', 'retail', 'investors', 'who', 'looking', 'cashin']\n",
      "**********************************************\n",
      "the\n",
      "opportunities\n",
      "['however', 'private', 'segment', 'those', 'banks', 'who', 'have', 'focussed', 'techenabled', 'lending', 'going', 'score', 'over', 'its', 'peers', 'banks', 'like', 'axis', 'bank', 'icici', 'bank', 'hdfc', 'bank', 'idfc', 'first', 'bank', 'expected', 'benefit', 'such', 'emerging', 'business', 'model', 'india', 'retail', 'investors', 'who', 'looking', 'cashin', 'opportunities']\n",
      "**********************************************\n",
      "available\n",
      "['however', 'private', 'segment', 'those', 'banks', 'who', 'have', 'focussed', 'techenabled', 'lending', 'going', 'score', 'over', 'its', 'peers', 'banks', 'like', 'axis', 'bank', 'icici', 'bank', 'hdfc', 'bank', 'idfc', 'first', 'bank', 'expected', 'benefit', 'such', 'emerging', 'business', 'model', 'india', 'retail', 'investors', 'who', 'looking', 'cashin', 'opportunities', 'available']\n",
      "**********************************************\n",
      "in\n",
      "the\n",
      "banking\n",
      "['however', 'private', 'segment', 'those', 'banks', 'who', 'have', 'focussed', 'techenabled', 'lending', 'going', 'score', 'over', 'its', 'peers', 'banks', 'like', 'axis', 'bank', 'icici', 'bank', 'hdfc', 'bank', 'idfc', 'first', 'bank', 'expected', 'benefit', 'such', 'emerging', 'business', 'model', 'india', 'retail', 'investors', 'who', 'looking', 'cashin', 'opportunities', 'available', 'banking']\n",
      "**********************************************\n",
      "space\n",
      "['however', 'private', 'segment', 'those', 'banks', 'who', 'have', 'focussed', 'techenabled', 'lending', 'going', 'score', 'over', 'its', 'peers', 'banks', 'like', 'axis', 'bank', 'icici', 'bank', 'hdfc', 'bank', 'idfc', 'first', 'bank', 'expected', 'benefit', 'such', 'emerging', 'business', 'model', 'india', 'retail', 'investors', 'who', 'looking', 'cashin', 'opportunities', 'available', 'banking', 'space']\n",
      "**********************************************\n",
      "but\n",
      "['however', 'private', 'segment', 'those', 'banks', 'who', 'have', 'focussed', 'techenabled', 'lending', 'going', 'score', 'over', 'its', 'peers', 'banks', 'like', 'axis', 'bank', 'icici', 'bank', 'hdfc', 'bank', 'idfc', 'first', 'bank', 'expected', 'benefit', 'such', 'emerging', 'business', 'model', 'india', 'retail', 'investors', 'who', 'looking', 'cashin', 'opportunities', 'available', 'banking', 'space', 'but']\n",
      "**********************************************\n",
      "have\n",
      "['however', 'private', 'segment', 'those', 'banks', 'who', 'have', 'focussed', 'techenabled', 'lending', 'going', 'score', 'over', 'its', 'peers', 'banks', 'like', 'axis', 'bank', 'icici', 'bank', 'hdfc', 'bank', 'idfc', 'first', 'bank', 'expected', 'benefit', 'such', 'emerging', 'business', 'model', 'india', 'retail', 'investors', 'who', 'looking', 'cashin', 'opportunities', 'available', 'banking', 'space', 'but', 'have']\n",
      "**********************************************\n",
      "limited\n",
      "['however', 'private', 'segment', 'those', 'banks', 'who', 'have', 'focussed', 'techenabled', 'lending', 'going', 'score', 'over', 'its', 'peers', 'banks', 'like', 'axis', 'bank', 'icici', 'bank', 'hdfc', 'bank', 'idfc', 'first', 'bank', 'expected', 'benefit', 'such', 'emerging', 'business', 'model', 'india', 'retail', 'investors', 'who', 'looking', 'cashin', 'opportunities', 'available', 'banking', 'space', 'but', 'have', 'limited']\n",
      "**********************************************\n",
      "money\n",
      "['however', 'private', 'segment', 'those', 'banks', 'who', 'have', 'focussed', 'techenabled', 'lending', 'going', 'score', 'over', 'its', 'peers', 'banks', 'like', 'axis', 'bank', 'icici', 'bank', 'hdfc', 'bank', 'idfc', 'first', 'bank', 'expected', 'benefit', 'such', 'emerging', 'business', 'model', 'india', 'retail', 'investors', 'who', 'looking', 'cashin', 'opportunities', 'available', 'banking', 'space', 'but', 'have', 'limited', 'money']\n",
      "**********************************************\n",
      "for\n",
      "investing\n",
      "['however', 'private', 'segment', 'those', 'banks', 'who', 'have', 'focussed', 'techenabled', 'lending', 'going', 'score', 'over', 'its', 'peers', 'banks', 'like', 'axis', 'bank', 'icici', 'bank', 'hdfc', 'bank', 'idfc', 'first', 'bank', 'expected', 'benefit', 'such', 'emerging', 'business', 'model', 'india', 'retail', 'investors', 'who', 'looking', 'cashin', 'opportunities', 'available', 'banking', 'space', 'but', 'have', 'limited', 'money', 'investing']\n",
      "**********************************************\n",
      "experts\n",
      "['however', 'private', 'segment', 'those', 'banks', 'who', 'have', 'focussed', 'techenabled', 'lending', 'going', 'score', 'over', 'its', 'peers', 'banks', 'like', 'axis', 'bank', 'icici', 'bank', 'hdfc', 'bank', 'idfc', 'first', 'bank', 'expected', 'benefit', 'such', 'emerging', 'business', 'model', 'india', 'retail', 'investors', 'who', 'looking', 'cashin', 'opportunities', 'available', 'banking', 'space', 'but', 'have', 'limited', 'money', 'investing', 'experts']\n",
      "**********************************************\n",
      "recommended\n",
      "['however', 'private', 'segment', 'those', 'banks', 'who', 'have', 'focussed', 'techenabled', 'lending', 'going', 'score', 'over', 'its', 'peers', 'banks', 'like', 'axis', 'bank', 'icici', 'bank', 'hdfc', 'bank', 'idfc', 'first', 'bank', 'expected', 'benefit', 'such', 'emerging', 'business', 'model', 'india', 'retail', 'investors', 'who', 'looking', 'cashin', 'opportunities', 'available', 'banking', 'space', 'but', 'have', 'limited', 'money', 'investing', 'experts', 'recommended']\n",
      "**********************************************\n",
      "midsized\n",
      "['however', 'private', 'segment', 'those', 'banks', 'who', 'have', 'focussed', 'techenabled', 'lending', 'going', 'score', 'over', 'its', 'peers', 'banks', 'like', 'axis', 'bank', 'icici', 'bank', 'hdfc', 'bank', 'idfc', 'first', 'bank', 'expected', 'benefit', 'such', 'emerging', 'business', 'model', 'india', 'retail', 'investors', 'who', 'looking', 'cashin', 'opportunities', 'available', 'banking', 'space', 'but', 'have', 'limited', 'money', 'investing', 'experts', 'recommended', 'midsized']\n",
      "**********************************************\n",
      "psu\n",
      "['however', 'private', 'segment', 'those', 'banks', 'who', 'have', 'focussed', 'techenabled', 'lending', 'going', 'score', 'over', 'its', 'peers', 'banks', 'like', 'axis', 'bank', 'icici', 'bank', 'hdfc', 'bank', 'idfc', 'first', 'bank', 'expected', 'benefit', 'such', 'emerging', 'business', 'model', 'india', 'retail', 'investors', 'who', 'looking', 'cashin', 'opportunities', 'available', 'banking', 'space', 'but', 'have', 'limited', 'money', 'investing', 'experts', 'recommended', 'midsized', 'psu']\n",
      "**********************************************\n",
      "and\n",
      "private\n",
      "['however', 'private', 'segment', 'those', 'banks', 'who', 'have', 'focussed', 'techenabled', 'lending', 'going', 'score', 'over', 'its', 'peers', 'banks', 'like', 'axis', 'bank', 'icici', 'bank', 'hdfc', 'bank', 'idfc', 'first', 'bank', 'expected', 'benefit', 'such', 'emerging', 'business', 'model', 'india', 'retail', 'investors', 'who', 'looking', 'cashin', 'opportunities', 'available', 'banking', 'space', 'but', 'have', 'limited', 'money', 'investing', 'experts', 'recommended', 'midsized', 'psu', 'private']\n",
      "**********************************************\n",
      "bank\n",
      "['however', 'private', 'segment', 'those', 'banks', 'who', 'have', 'focussed', 'techenabled', 'lending', 'going', 'score', 'over', 'its', 'peers', 'banks', 'like', 'axis', 'bank', 'icici', 'bank', 'hdfc', 'bank', 'idfc', 'first', 'bank', 'expected', 'benefit', 'such', 'emerging', 'business', 'model', 'india', 'retail', 'investors', 'who', 'looking', 'cashin', 'opportunities', 'available', 'banking', 'space', 'but', 'have', 'limited', 'money', 'investing', 'experts', 'recommended', 'midsized', 'psu', 'private', 'bank']\n",
      "**********************************************\n",
      "stocks\n",
      "['however', 'private', 'segment', 'those', 'banks', 'who', 'have', 'focussed', 'techenabled', 'lending', 'going', 'score', 'over', 'its', 'peers', 'banks', 'like', 'axis', 'bank', 'icici', 'bank', 'hdfc', 'bank', 'idfc', 'first', 'bank', 'expected', 'benefit', 'such', 'emerging', 'business', 'model', 'india', 'retail', 'investors', 'who', 'looking', 'cashin', 'opportunities', 'available', 'banking', 'space', 'but', 'have', 'limited', 'money', 'investing', 'experts', 'recommended', 'midsized', 'psu', 'private', 'bank', 'stocks']\n",
      "**********************************************\n",
      "to\n",
      "buy\n",
      "['however', 'private', 'segment', 'those', 'banks', 'who', 'have', 'focussed', 'techenabled', 'lending', 'going', 'score', 'over', 'its', 'peers', 'banks', 'like', 'axis', 'bank', 'icici', 'bank', 'hdfc', 'bank', 'idfc', 'first', 'bank', 'expected', 'benefit', 'such', 'emerging', 'business', 'model', 'india', 'retail', 'investors', 'who', 'looking', 'cashin', 'opportunities', 'available', 'banking', 'space', 'but', 'have', 'limited', 'money', 'investing', 'experts', 'recommended', 'midsized', 'psu', 'private', 'bank', 'stocks', 'buy']\n",
      "**********************************************\n",
      "they\n",
      "['however', 'private', 'segment', 'those', 'banks', 'who', 'have', 'focussed', 'techenabled', 'lending', 'going', 'score', 'over', 'its', 'peers', 'banks', 'like', 'axis', 'bank', 'icici', 'bank', 'hdfc', 'bank', 'idfc', 'first', 'bank', 'expected', 'benefit', 'such', 'emerging', 'business', 'model', 'india', 'retail', 'investors', 'who', 'looking', 'cashin', 'opportunities', 'available', 'banking', 'space', 'but', 'have', 'limited', 'money', 'investing', 'experts', 'recommended', 'midsized', 'psu', 'private', 'bank', 'stocks', 'buy', 'they']\n",
      "**********************************************\n",
      "said\n",
      "['however', 'private', 'segment', 'those', 'banks', 'who', 'have', 'focussed', 'techenabled', 'lending', 'going', 'score', 'over', 'its', 'peers', 'banks', 'like', 'axis', 'bank', 'icici', 'bank', 'hdfc', 'bank', 'idfc', 'first', 'bank', 'expected', 'benefit', 'such', 'emerging', 'business', 'model', 'india', 'retail', 'investors', 'who', 'looking', 'cashin', 'opportunities', 'available', 'banking', 'space', 'but', 'have', 'limited', 'money', 'investing', 'experts', 'recommended', 'midsized', 'psu', 'private', 'bank', 'stocks', 'buy', 'they', 'said']\n",
      "**********************************************\n",
      "that\n",
      "['however', 'private', 'segment', 'those', 'banks', 'who', 'have', 'focussed', 'techenabled', 'lending', 'going', 'score', 'over', 'its', 'peers', 'banks', 'like', 'axis', 'bank', 'icici', 'bank', 'hdfc', 'bank', 'idfc', 'first', 'bank', 'expected', 'benefit', 'such', 'emerging', 'business', 'model', 'india', 'retail', 'investors', 'who', 'looking', 'cashin', 'opportunities', 'available', 'banking', 'space', 'but', 'have', 'limited', 'money', 'investing', 'experts', 'recommended', 'midsized', 'psu', 'private', 'bank', 'stocks', 'buy', 'they', 'said', 'that']\n",
      "**********************************************\n",
      "yes\n",
      "['however', 'private', 'segment', 'those', 'banks', 'who', 'have', 'focussed', 'techenabled', 'lending', 'going', 'score', 'over', 'its', 'peers', 'banks', 'like', 'axis', 'bank', 'icici', 'bank', 'hdfc', 'bank', 'idfc', 'first', 'bank', 'expected', 'benefit', 'such', 'emerging', 'business', 'model', 'india', 'retail', 'investors', 'who', 'looking', 'cashin', 'opportunities', 'available', 'banking', 'space', 'but', 'have', 'limited', 'money', 'investing', 'experts', 'recommended', 'midsized', 'psu', 'private', 'bank', 'stocks', 'buy', 'they', 'said', 'that', 'yes']\n",
      "**********************************************\n",
      "bank\n",
      "['however', 'private', 'segment', 'those', 'banks', 'who', 'have', 'focussed', 'techenabled', 'lending', 'going', 'score', 'over', 'its', 'peers', 'banks', 'like', 'axis', 'bank', 'icici', 'bank', 'hdfc', 'bank', 'idfc', 'first', 'bank', 'expected', 'benefit', 'such', 'emerging', 'business', 'model', 'india', 'retail', 'investors', 'who', 'looking', 'cashin', 'opportunities', 'available', 'banking', 'space', 'but', 'have', 'limited', 'money', 'investing', 'experts', 'recommended', 'midsized', 'psu', 'private', 'bank', 'stocks', 'buy', 'they', 'said', 'that', 'yes', 'bank']\n",
      "**********************************************\n",
      "pnb\n",
      "['however', 'private', 'segment', 'those', 'banks', 'who', 'have', 'focussed', 'techenabled', 'lending', 'going', 'score', 'over', 'its', 'peers', 'banks', 'like', 'axis', 'bank', 'icici', 'bank', 'hdfc', 'bank', 'idfc', 'first', 'bank', 'expected', 'benefit', 'such', 'emerging', 'business', 'model', 'india', 'retail', 'investors', 'who', 'looking', 'cashin', 'opportunities', 'available', 'banking', 'space', 'but', 'have', 'limited', 'money', 'investing', 'experts', 'recommended', 'midsized', 'psu', 'private', 'bank', 'stocks', 'buy', 'they', 'said', 'that', 'yes', 'bank', 'pnb']\n",
      "**********************************************\n",
      "idfc\n",
      "['however', 'private', 'segment', 'those', 'banks', 'who', 'have', 'focussed', 'techenabled', 'lending', 'going', 'score', 'over', 'its', 'peers', 'banks', 'like', 'axis', 'bank', 'icici', 'bank', 'hdfc', 'bank', 'idfc', 'first', 'bank', 'expected', 'benefit', 'such', 'emerging', 'business', 'model', 'india', 'retail', 'investors', 'who', 'looking', 'cashin', 'opportunities', 'available', 'banking', 'space', 'but', 'have', 'limited', 'money', 'investing', 'experts', 'recommended', 'midsized', 'psu', 'private', 'bank', 'stocks', 'buy', 'they', 'said', 'that', 'yes', 'bank', 'pnb', 'idfc']\n",
      "**********************************************\n",
      "first\n",
      "['however', 'private', 'segment', 'those', 'banks', 'who', 'have', 'focussed', 'techenabled', 'lending', 'going', 'score', 'over', 'its', 'peers', 'banks', 'like', 'axis', 'bank', 'icici', 'bank', 'hdfc', 'bank', 'idfc', 'first', 'bank', 'expected', 'benefit', 'such', 'emerging', 'business', 'model', 'india', 'retail', 'investors', 'who', 'looking', 'cashin', 'opportunities', 'available', 'banking', 'space', 'but', 'have', 'limited', 'money', 'investing', 'experts', 'recommended', 'midsized', 'psu', 'private', 'bank', 'stocks', 'buy', 'they', 'said', 'that', 'yes', 'bank', 'pnb', 'idfc', 'first']\n",
      "**********************************************\n",
      "bank\n",
      "['however', 'private', 'segment', 'those', 'banks', 'who', 'have', 'focussed', 'techenabled', 'lending', 'going', 'score', 'over', 'its', 'peers', 'banks', 'like', 'axis', 'bank', 'icici', 'bank', 'hdfc', 'bank', 'idfc', 'first', 'bank', 'expected', 'benefit', 'such', 'emerging', 'business', 'model', 'india', 'retail', 'investors', 'who', 'looking', 'cashin', 'opportunities', 'available', 'banking', 'space', 'but', 'have', 'limited', 'money', 'investing', 'experts', 'recommended', 'midsized', 'psu', 'private', 'bank', 'stocks', 'buy', 'they', 'said', 'that', 'yes', 'bank', 'pnb', 'idfc', 'first', 'bank']\n",
      "**********************************************\n",
      "bank\n",
      "['however', 'private', 'segment', 'those', 'banks', 'who', 'have', 'focussed', 'techenabled', 'lending', 'going', 'score', 'over', 'its', 'peers', 'banks', 'like', 'axis', 'bank', 'icici', 'bank', 'hdfc', 'bank', 'idfc', 'first', 'bank', 'expected', 'benefit', 'such', 'emerging', 'business', 'model', 'india', 'retail', 'investors', 'who', 'looking', 'cashin', 'opportunities', 'available', 'banking', 'space', 'but', 'have', 'limited', 'money', 'investing', 'experts', 'recommended', 'midsized', 'psu', 'private', 'bank', 'stocks', 'buy', 'they', 'said', 'that', 'yes', 'bank', 'pnb', 'idfc', 'first', 'bank', 'bank']\n",
      "**********************************************\n",
      "of\n",
      "baroda\n",
      "['however', 'private', 'segment', 'those', 'banks', 'who', 'have', 'focussed', 'techenabled', 'lending', 'going', 'score', 'over', 'its', 'peers', 'banks', 'like', 'axis', 'bank', 'icici', 'bank', 'hdfc', 'bank', 'idfc', 'first', 'bank', 'expected', 'benefit', 'such', 'emerging', 'business', 'model', 'india', 'retail', 'investors', 'who', 'looking', 'cashin', 'opportunities', 'available', 'banking', 'space', 'but', 'have', 'limited', 'money', 'investing', 'experts', 'recommended', 'midsized', 'psu', 'private', 'bank', 'stocks', 'buy', 'they', 'said', 'that', 'yes', 'bank', 'pnb', 'idfc', 'first', 'bank', 'bank', 'baroda']\n",
      "**********************************************\n",
      "etc\n",
      "shares\n",
      "['however', 'private', 'segment', 'those', 'banks', 'who', 'have', 'focussed', 'techenabled', 'lending', 'going', 'score', 'over', 'its', 'peers', 'banks', 'like', 'axis', 'bank', 'icici', 'bank', 'hdfc', 'bank', 'idfc', 'first', 'bank', 'expected', 'benefit', 'such', 'emerging', 'business', 'model', 'india', 'retail', 'investors', 'who', 'looking', 'cashin', 'opportunities', 'available', 'banking', 'space', 'but', 'have', 'limited', 'money', 'investing', 'experts', 'recommended', 'midsized', 'psu', 'private', 'bank', 'stocks', 'buy', 'they', 'said', 'that', 'yes', 'bank', 'pnb', 'idfc', 'first', 'bank', 'bank', 'baroda', 'shares']\n",
      "**********************************************\n",
      "to\n",
      "buy\n",
      "['however', 'private', 'segment', 'those', 'banks', 'who', 'have', 'focussed', 'techenabled', 'lending', 'going', 'score', 'over', 'its', 'peers', 'banks', 'like', 'axis', 'bank', 'icici', 'bank', 'hdfc', 'bank', 'idfc', 'first', 'bank', 'expected', 'benefit', 'such', 'emerging', 'business', 'model', 'india', 'retail', 'investors', 'who', 'looking', 'cashin', 'opportunities', 'available', 'banking', 'space', 'but', 'have', 'limited', 'money', 'investing', 'experts', 'recommended', 'midsized', 'psu', 'private', 'bank', 'stocks', 'buy', 'they', 'said', 'that', 'yes', 'bank', 'pnb', 'idfc', 'first', 'bank', 'bank', 'baroda', 'shares', 'buy']\n",
      "**********************************************\n"
     ]
    }
   ],
   "source": [
    "## Step 3:\n",
    "## from the original list, remove all these words\n",
    "\n",
    "filtered_words = []\n",
    "\n",
    "for word in words:\n",
    "    if word not in words_to_omit:\n",
    "        filtered_words.append(word)"
   ]
  },
  {
   "cell_type": "code",
   "execution_count": 188,
   "id": "7c37c410",
   "metadata": {},
   "outputs": [
    {
     "name": "stdout",
     "output_type": "stream",
     "text": [
      "['however', 'private', 'segment', 'those', 'banks', 'who', 'have', 'focussed', 'techenabled', 'lending', 'going', 'score', 'over', 'its', 'peers', 'banks', 'like', 'axis', 'bank', 'icici', 'bank', 'hdfc', 'bank', 'idfc', 'first', 'bank', 'expected', 'benefit', 'such', 'emerging', 'business', 'model', 'india', 'retail', 'investors', 'who', 'looking', 'cashin', 'opportunities', 'available', 'banking', 'space', 'but', 'have', 'limited', 'money', 'investing', 'experts', 'recommended', 'midsized', 'psu', 'private', 'bank', 'stocks', 'buy', 'they', 'said', 'that', 'yes', 'bank', 'pnb', 'idfc', 'first', 'bank', 'bank', 'baroda', 'shares', 'buy']\n"
     ]
    }
   ],
   "source": [
    "print(filtered_words)"
   ]
  },
  {
   "cell_type": "code",
   "execution_count": 189,
   "id": "fac48b5e",
   "metadata": {},
   "outputs": [
    {
     "data": {
      "text/plain": [
       "90"
      ]
     },
     "execution_count": 189,
     "metadata": {},
     "output_type": "execute_result"
    }
   ],
   "source": [
    "len(words)"
   ]
  },
  {
   "cell_type": "code",
   "execution_count": 190,
   "id": "fe8dc67e",
   "metadata": {},
   "outputs": [
    {
     "data": {
      "text/plain": [
       "68"
      ]
     },
     "execution_count": 190,
     "metadata": {},
     "output_type": "execute_result"
    }
   ],
   "source": [
    "len(filtered_words)"
   ]
  },
  {
   "cell_type": "code",
   "execution_count": 196,
   "id": "9fea1d81",
   "metadata": {},
   "outputs": [
    {
     "name": "stdout",
     "output_type": "stream",
     "text": [
      "however 1\n",
      "private 2\n",
      "segment 1\n",
      "those 1\n",
      "banks 2\n",
      "who 2\n",
      "have 2\n",
      "focussed 1\n",
      "techenabled 1\n",
      "lending 1\n",
      "going 1\n",
      "score 1\n",
      "over 1\n",
      "its 1\n",
      "peers 1\n",
      "banks 2\n",
      "like 1\n",
      "axis 1\n",
      "bank 8\n",
      "icici 1\n",
      "bank 8\n",
      "hdfc 1\n",
      "bank 8\n",
      "idfc 2\n",
      "first 2\n",
      "bank 8\n",
      "expected 1\n",
      "benefit 1\n",
      "such 1\n",
      "emerging 1\n",
      "business 1\n",
      "model 1\n",
      "india 1\n",
      "retail 1\n",
      "investors 1\n",
      "who 2\n",
      "looking 1\n",
      "cashin 1\n",
      "opportunities 1\n",
      "available 1\n",
      "banking 1\n",
      "space 1\n",
      "but 1\n",
      "have 2\n",
      "limited 1\n",
      "money 1\n",
      "investing 1\n",
      "experts 1\n",
      "recommended 1\n",
      "midsized 1\n",
      "psu 1\n",
      "private 2\n",
      "bank 8\n",
      "stocks 1\n",
      "buy 2\n",
      "they 1\n",
      "said 1\n",
      "that 1\n",
      "yes 1\n",
      "bank 8\n",
      "pnb 1\n",
      "idfc 2\n",
      "first 2\n",
      "bank 8\n",
      "bank 8\n",
      "baroda 1\n",
      "shares 1\n",
      "buy 2\n"
     ]
    }
   ],
   "source": [
    "for word in filtered_words:\n",
    "    print(word, filtered_words.count(word) )"
   ]
  },
  {
   "cell_type": "code",
   "execution_count": null,
   "id": "10010730",
   "metadata": {},
   "outputs": [],
   "source": [
    "## hacker rank\n",
    "## leet code"
   ]
  }
 ],
 "metadata": {
  "kernelspec": {
   "display_name": "Python 3",
   "language": "python",
   "name": "python3"
  },
  "language_info": {
   "codemirror_mode": {
    "name": "ipython",
    "version": 3
   },
   "file_extension": ".py",
   "mimetype": "text/x-python",
   "name": "python",
   "nbconvert_exporter": "python",
   "pygments_lexer": "ipython3",
   "version": "3.8.8"
  }
 },
 "nbformat": 4,
 "nbformat_minor": 5
}
