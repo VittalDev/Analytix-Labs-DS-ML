{
 "cells": [
  {
   "cell_type": "code",
   "execution_count": 1,
   "id": "58ff73f9",
   "metadata": {},
   "outputs": [],
   "source": [
    "## Revision\n",
    "\n",
    "## data types\n",
    "##      str, int, float, bool\n",
    "\n",
    "## data type conversion\n",
    "##      str(), int(), float(), bool()\n",
    "\n",
    "## operators\n",
    "\n",
    "## input function\n",
    "\n",
    "## control flow statements\n",
    "##    if else\n",
    "\n"
   ]
  },
  {
   "cell_type": "code",
   "execution_count": 2,
   "id": "015cfa4c",
   "metadata": {},
   "outputs": [
    {
     "name": "stdout",
     "output_type": "stream",
     "text": [
      "ddff\n"
     ]
    },
    {
     "data": {
      "text/plain": [
       "'ddff'"
      ]
     },
     "execution_count": 2,
     "metadata": {},
     "output_type": "execute_result"
    }
   ],
   "source": [
    "input()"
   ]
  },
  {
   "cell_type": "code",
   "execution_count": 3,
   "id": "52eec902",
   "metadata": {},
   "outputs": [
    {
     "name": "stdout",
     "output_type": "stream",
     "text": [
      "Please enter a number445\n"
     ]
    },
    {
     "data": {
      "text/plain": [
       "'445'"
      ]
     },
     "execution_count": 3,
     "metadata": {},
     "output_type": "execute_result"
    }
   ],
   "source": [
    "input(\"Please enter a number\")"
   ]
  },
  {
   "cell_type": "code",
   "execution_count": 4,
   "id": "ac77f7eb",
   "metadata": {},
   "outputs": [
    {
     "name": "stdout",
     "output_type": "stream",
     "text": [
      "Please enter your number456\n"
     ]
    }
   ],
   "source": [
    "user_input = int(input(\"Please enter your number\"))"
   ]
  },
  {
   "cell_type": "code",
   "execution_count": 6,
   "id": "4e972e21",
   "metadata": {},
   "outputs": [
    {
     "data": {
      "text/plain": [
       "str"
      ]
     },
     "execution_count": 6,
     "metadata": {},
     "output_type": "execute_result"
    }
   ],
   "source": [
    "type(user_input)"
   ]
  },
  {
   "cell_type": "code",
   "execution_count": 7,
   "id": "ba792e75",
   "metadata": {},
   "outputs": [
    {
     "ename": "TypeError",
     "evalue": "can only concatenate str (not \"int\") to str",
     "output_type": "error",
     "traceback": [
      "\u001b[1;31m---------------------------------------------------------------------------\u001b[0m",
      "\u001b[1;31mTypeError\u001b[0m                                 Traceback (most recent call last)",
      "\u001b[1;32m<ipython-input-7-e3eb3620de8a>\u001b[0m in \u001b[0;36m<module>\u001b[1;34m\u001b[0m\n\u001b[1;32m----> 1\u001b[1;33m \u001b[0muser_input\u001b[0m \u001b[1;33m+\u001b[0m \u001b[1;36m5\u001b[0m\u001b[1;33m\u001b[0m\u001b[1;33m\u001b[0m\u001b[0m\n\u001b[0m",
      "\u001b[1;31mTypeError\u001b[0m: can only concatenate str (not \"int\") to str"
     ]
    }
   ],
   "source": [
    "user_input + 5"
   ]
  },
  {
   "cell_type": "markdown",
   "id": "e2674414",
   "metadata": {},
   "source": [
    "## syntax rules\n",
    "\n",
    "1. Every code block will start mandatorily with a `colon (:)`\n",
    "\n",
    "2. The code block needs to be indented (1 tab key) to the right of the statement that it belongs."
   ]
  },
  {
   "cell_type": "code",
   "execution_count": 9,
   "id": "e7c738de",
   "metadata": {},
   "outputs": [
    {
     "name": "stdout",
     "output_type": "stream",
     "text": [
      "Please enter a number35\n",
      "condition met\n"
     ]
    }
   ],
   "source": [
    "## Q1: Take a number as an input from the user and check if it is divisible by both\n",
    "## 5 and 7.\n",
    "\n",
    "num = int(input('Please enter a number'))\n",
    "\n",
    "if num % 5 == 0 and num % 7 == 0:\n",
    "    \n",
    "    print('condition met')\n",
    "    \n",
    "else:\n",
    "    \n",
    "    print('condition not met')\n",
    "\n"
   ]
  },
  {
   "cell_type": "code",
   "execution_count": 12,
   "id": "46cc54e3",
   "metadata": {},
   "outputs": [
    {
     "name": "stdout",
     "output_type": "stream",
     "text": [
      "it is boolean\n"
     ]
    }
   ],
   "source": [
    "## Q2: You have a variable. Check the type of that variable and output using the print function.\n",
    "\n",
    "var = True\n",
    "\n",
    "if type(var) == str:\n",
    "    \n",
    "    print('the variable is a string')\n",
    "    \n",
    "elif type(var) == float:\n",
    "    \n",
    "    print('it is float')\n",
    "    \n",
    "elif type(var) == int:\n",
    "    \n",
    "    print('it is int')\n",
    "    \n",
    "else:\n",
    "    \n",
    "    print('it is boolean')\n"
   ]
  },
  {
   "cell_type": "code",
   "execution_count": 17,
   "id": "3d009443",
   "metadata": {},
   "outputs": [],
   "source": [
    "var = 1"
   ]
  },
  {
   "cell_type": "code",
   "execution_count": null,
   "id": "78cc2ed0",
   "metadata": {},
   "outputs": [],
   "source": [
    "var -= "
   ]
  },
  {
   "cell_type": "code",
   "execution_count": null,
   "id": "8362b410",
   "metadata": {},
   "outputs": [],
   "source": [
    "var = 100 - var"
   ]
  },
  {
   "cell_type": "code",
   "execution_count": 19,
   "id": "eb99701e",
   "metadata": {},
   "outputs": [
    {
     "data": {
      "text/plain": [
       "3"
      ]
     },
     "execution_count": 19,
     "metadata": {},
     "output_type": "execute_result"
    }
   ],
   "source": [
    "var += 1 + 2 + 3 / 5 * 3\n",
    "var"
   ]
  },
  {
   "cell_type": "code",
   "execution_count": 21,
   "id": "a18e4cc2",
   "metadata": {},
   "outputs": [
    {
     "name": "stdout",
     "output_type": "stream",
     "text": [
      "***************** ATM menu ******************\n",
      "Please choose from the following\n",
      "1. Withdraw Cash\n",
      "2. Deposit Cash1\n",
      "please enter the amount to withdraw25000\n",
      "Sorry! Insufficient balance\n",
      "The updated balance is 20000\n"
     ]
    }
   ],
   "source": [
    "# Q2: Create a simple ATM menu which takes the following user inputs:\n",
    "#    1. Withdraw cash\n",
    "#    2. Deposit cash\n",
    "# If the user inputs '1', allow the user to enter an amount. Deduct the entered amount from the user's account balance.\n",
    "# If the user inputs '2', again allow the user to enter an amount. Add the entered amount to the user's account\n",
    "\n",
    "## Initialize the user's current balance to 20,000.\n",
    "\n",
    "\n",
    "\n",
    "\n",
    "## Step 1: Ask the user for an input. Either '1' or '2'\n",
    "\n",
    "## Step 2: use an if statement to check whether the input was '1' or '2'\n",
    "\n",
    "## Step 3: Case '1'. Take another input to take in the amount to withdraw\n",
    "\n",
    "## Step 4: Again check whether the current balance is enough or not.\n",
    "## Update the current balance by deducting the withdraw amount\n",
    "\n",
    "\n",
    "## Step 5: Case '2'. Take another input from the user to take in the deposit amount.\n",
    "\n",
    "## Step 6: Just update the current balance\n",
    "\n",
    "## Step 7: Just print out updated balance\n",
    "\n",
    "current_balance = 20_000\n",
    "\n",
    "user_input = input(\"\"\"***************** ATM menu ******************\n",
    "Please choose from the following\n",
    "1. Withdraw Cash\n",
    "2. Deposit Cash\"\"\")\n",
    "\n",
    "\n",
    "if user_input == '1':\n",
    "    \n",
    "    withdraw_amount = int(input(\"please enter the amount to withdraw\"))\n",
    "    \n",
    "    if withdraw_amount <= current_balance:\n",
    "        \n",
    "        current_balance -= withdraw_amount ## current_balance = current_balance - withdraw_amount\n",
    "        \n",
    "    else:\n",
    "        \n",
    "        print(\"Sorry! Insufficient balance\")\n",
    "        \n",
    "elif user_input == '2':\n",
    "    \n",
    "    deposit_amount = int(input(\"please enter the amount to deposit\"))\n",
    "    \n",
    "    current_balance += deposit_amount ## current_balance = current_balance + deposit_amount\n",
    "    \n",
    "\n",
    "else:\n",
    "    \n",
    "    print(\"Invalid input\")\n",
    "    \n",
    "print('The current balance is', current_balance)\n"
   ]
  },
  {
   "cell_type": "code",
   "execution_count": 15,
   "id": "41045b24",
   "metadata": {},
   "outputs": [
    {
     "name": "stdout",
     "output_type": "stream",
     "text": [
      "Enter what would you like to do: 1. Withdraw Cash 2. Deposit Cash:2\n",
      "Enter the amount that you would like to deposit10000\n",
      "30000\n"
     ]
    }
   ],
   "source": [
    "#ATM menu question\n",
    "\n",
    "bal = 20_000\n",
    "\n",
    "menu = int (input (\"Enter what would you like to do: 1. Withdraw Cash 2. Deposit Cash:\"))\n",
    "\n",
    "if menu == 1:\n",
    "    w_cash = int (input (\"Enter the amount that you would like to withdraw: \"))\n",
    "    if w_cash <= bal:\n",
    "        bal = bal - w_cash\n",
    "    else:\n",
    "        print (\" Insufficient balance\")\n",
    "        \n",
    "elif menu == 2:\n",
    "    d_cash = int (input (\"Enter the amount that you would like to deposit\"))\n",
    "    bal = bal + d_cash\n",
    "\n",
    "else:\n",
    "    print (\"Incorrect input. Try again!\")\n",
    "\n",
    "print (bal)"
   ]
  },
  {
   "cell_type": "code",
   "execution_count": 22,
   "id": "dae2d639",
   "metadata": {},
   "outputs": [],
   "source": [
    "## Ternay if\n",
    "\n",
    "## shorthand for writing if else logic\n",
    "\n",
    "## IF(condition/s, True_value, False_value)\n",
    "\n",
    "## True_value if condition's else False_value\n",
    "\n",
    "## advantage: simple and easier to write if the logic is small\n",
    "\n",
    "## disadvantage: you can't multiple lines of code for this"
   ]
  },
  {
   "cell_type": "code",
   "execution_count": 32,
   "id": "a17790dd",
   "metadata": {},
   "outputs": [
    {
     "name": "stdout",
     "output_type": "stream",
     "text": [
      "positive\n"
     ]
    }
   ],
   "source": [
    "## check if a number is positive or negative\n",
    "\n",
    "\n",
    "num = 7\n",
    "\n",
    "print( 'positive' if num > 0 else 'negative' )\n"
   ]
  },
  {
   "cell_type": "code",
   "execution_count": 33,
   "id": "6687def3",
   "metadata": {},
   "outputs": [
    {
     "data": {
      "text/plain": [
       "9"
      ]
     },
     "execution_count": 33,
     "metadata": {},
     "output_type": "execute_result"
    }
   ],
   "source": [
    "## check if a number is positive, negative, or zero\n",
    "\n",
    "\n",
    "num + 2 if num > 0 else ( 'zero' if num == 0 else 'negative' )"
   ]
  },
  {
   "cell_type": "code",
   "execution_count": 34,
   "id": "14047c0e",
   "metadata": {},
   "outputs": [],
   "source": [
    "## Loops or Iterative control flow statements\n",
    "\n",
    "## while loop\n",
    "## for loop"
   ]
  },
  {
   "cell_type": "raw",
   "id": "ee5090fa",
   "metadata": {},
   "source": [
    "## while loop\n",
    "\n",
    "## Q: \n",
    "\n",
    "## general syntax\n",
    "\n",
    "while condition/s:\n",
    "    \n",
    "    code...\n",
    "    ...\n",
    "    ...\n",
    "\n",
    "\n",
    "## within while loop, make sure to add a line code that negates the condition.\n",
    "\n",
    "## In a while, if you want to break the loop based on some condition, then we have the break statement in python"
   ]
  },
  {
   "cell_type": "code",
   "execution_count": 42,
   "id": "9517bcb4",
   "metadata": {},
   "outputs": [
    {
     "name": "stdout",
     "output_type": "stream",
     "text": [
      "2 3 4 5 6 7 8 9 10 11 end of loop\n"
     ]
    }
   ],
   "source": [
    "## print numbers starting from 1 till 10\n",
    "\n",
    "num = 1\n",
    "\n",
    "while num <= 10:\n",
    "    \n",
    "    num = num + 1\n",
    "    \n",
    "    print(num, end=' ')\n",
    "    \n",
    "       ## num += 1\n",
    "    \n",
    "\n",
    "print('end of loop')"
   ]
  },
  {
   "cell_type": "code",
   "execution_count": 40,
   "id": "48f73ac4",
   "metadata": {},
   "outputs": [
    {
     "name": "stdout",
     "output_type": "stream",
     "text": [
      "Please enter your input0\n"
     ]
    }
   ],
   "source": [
    "## Q: keep on taking user input until the input is '0'\n",
    "\n",
    "\n",
    "\n",
    "while True:\n",
    "    \n",
    "    user_input = input('Please enter your input')\n",
    "    \n",
    "    if user_input == '0':\n",
    "        \n",
    "        break\n",
    "    \n",
    "    \n",
    "    "
   ]
  },
  {
   "cell_type": "code",
   "execution_count": 50,
   "id": "95b3471d",
   "metadata": {},
   "outputs": [
    {
     "name": "stdout",
     "output_type": "stream",
     "text": [
      "1\n",
      "Please enter your guess!!!1\n",
      "Guess again... Too low\n",
      "2\n",
      "Please enter your guess!!!2\n",
      "Guess again... Too low\n",
      "3\n",
      "Please enter your guess!!!3\n",
      "Guess again... Too low\n",
      "4\n",
      "Please enter your guess!!!4\n",
      "Guess again... Too low\n",
      "5\n",
      "Please enter your guess!!!5\n",
      "Guess again... Too low\n",
      "better luck next time.. the chances are over\n"
     ]
    }
   ],
   "source": [
    "## Create a guessing game.\n",
    "\n",
    "var = 10\n",
    "n_chances = 5\n",
    "counter = 0\n",
    "\n",
    "## Step 1: run an infinite loop. within the loop, take the user's guess\n",
    "\n",
    "while True:\n",
    "    \n",
    "    counter += 1\n",
    "    print(counter)\n",
    "    \n",
    "    guess = int(input(\"Please enter your guess!!!\"))\n",
    "\n",
    "## Step 2: check if the number is higher or lower\n",
    "\n",
    "    if guess > var:\n",
    "        \n",
    "        print('Guess again... Too high')\n",
    "\n",
    "## Step 3: if the number is higher, print('Guess again.. too high')\n",
    "\n",
    "    elif guess < var:\n",
    "        \n",
    "        print('Guess again... Too low')\n",
    "        \n",
    "    else:\n",
    "        \n",
    "        print('Your guess is right')\n",
    "        break\n",
    "        \n",
    "    if counter == n_chances:\n",
    "        print('better luck next time.. the chances are over')\n",
    "        break\n",
    "        \n",
    "\n",
    "        \n",
    "        \n",
    "\n",
    "\n",
    "## Step 4: if the number is lower, print('Guess again.. too low')\n",
    "\n",
    "## Step 5: if the number is correct, break out of the loop\n",
    "\n",
    "\n"
   ]
  },
  {
   "cell_type": "code",
   "execution_count": 45,
   "id": "4c7fcef1",
   "metadata": {},
   "outputs": [
    {
     "name": "stdout",
     "output_type": "stream",
     "text": [
      "Guess the number 11\n",
      "Your number is high, enter a lesser number 9\n",
      "Your number is less, enter a higher number 10\n",
      "Your guess is correct\n"
     ]
    }
   ],
   "source": [
    "var = int(input('Guess the number '))\n",
    "\n",
    "while var != 10:\n",
    "    if var < 10:\n",
    "        var = int(input('Your number is less, enter a higher number '))\n",
    "    else:\n",
    "        var = int(input('Your number is high, enter a lesser number '))\n",
    "\n",
    "print('Your guess is correct')"
   ]
  },
  {
   "cell_type": "code",
   "execution_count": 46,
   "id": "2a1bc85c",
   "metadata": {},
   "outputs": [
    {
     "data": {
      "text/plain": [
       "True"
      ]
     },
     "execution_count": 46,
     "metadata": {},
     "output_type": "execute_result"
    }
   ],
   "source": [
    "11 != 10"
   ]
  },
  {
   "cell_type": "code",
   "execution_count": 47,
   "id": "93df7ace",
   "metadata": {},
   "outputs": [
    {
     "data": {
      "text/plain": [
       "False"
      ]
     },
     "execution_count": 47,
     "metadata": {},
     "output_type": "execute_result"
    }
   ],
   "source": [
    "10 != 10"
   ]
  },
  {
   "attachments": {
    "Capture.PNG": {
     "image/png": "[encoded data removed]"
    }
   },
   "cell_type": "markdown",
   "id": "8f6e6e12",
   "metadata": {},
   "source": [
    "\n",
    "![Capture.PNG](attachment:Capture.PNG)"
   ]
  },
  {
   "cell_type": "code",
   "execution_count": 52,
   "id": "43b80047",
   "metadata": {},
   "outputs": [
    {
     "name": "stdout",
     "output_type": "stream",
     "text": [
      "1\n",
      "2\n",
      "4\n",
      "5\n",
      "6\n",
      "7\n",
      "8\n",
      "9\n",
      "10\n"
     ]
    }
   ],
   "source": [
    "num = 0\n",
    "\n",
    "while num < 10:\n",
    "    \n",
    "    num += 1\n",
    "    \n",
    "    if num == 3:\n",
    "        continue\n",
    "        \n",
    "    print(num)"
   ]
  },
  {
   "cell_type": "code",
   "execution_count": 53,
   "id": "587b9f46",
   "metadata": {},
   "outputs": [],
   "source": [
    "## print a pattern\n",
    "\n",
    "## *\n",
    "## **\n",
    "## ***\n",
    "## ****"
   ]
  },
  {
   "cell_type": "code",
   "execution_count": 54,
   "id": "18a1e380",
   "metadata": {},
   "outputs": [
    {
     "data": {
      "text/plain": [
       "3"
      ]
     },
     "execution_count": 54,
     "metadata": {},
     "output_type": "execute_result"
    }
   ],
   "source": [
    "## operator overloading\n",
    "\n",
    "## some of the operators are overloaded, meaning that they can behave in more than one way\n",
    "\n",
    "1 + 2\n"
   ]
  },
  {
   "cell_type": "code",
   "execution_count": 56,
   "id": "e611bd3f",
   "metadata": {},
   "outputs": [
    {
     "data": {
      "text/plain": [
       "'first_name last_name'"
      ]
     },
     "execution_count": 56,
     "metadata": {},
     "output_type": "execute_result"
    }
   ],
   "source": [
    "'first_name' + ' last_name'"
   ]
  },
  {
   "cell_type": "code",
   "execution_count": 57,
   "id": "29cb7657",
   "metadata": {},
   "outputs": [
    {
     "data": {
      "text/plain": [
       "6"
      ]
     },
     "execution_count": 57,
     "metadata": {},
     "output_type": "execute_result"
    }
   ],
   "source": [
    "2 * 3"
   ]
  },
  {
   "cell_type": "code",
   "execution_count": 58,
   "id": "ebb5e566",
   "metadata": {},
   "outputs": [
    {
     "data": {
      "text/plain": [
       "'pythonpythonpython'"
      ]
     },
     "execution_count": 58,
     "metadata": {},
     "output_type": "execute_result"
    }
   ],
   "source": [
    "'python' * 3"
   ]
  },
  {
   "cell_type": "code",
   "execution_count": 59,
   "id": "5e205e0a",
   "metadata": {},
   "outputs": [
    {
     "name": "stdout",
     "output_type": "stream",
     "text": [
      "*\n",
      "**\n",
      "***\n",
      "****\n"
     ]
    }
   ],
   "source": [
    "num = 1\n",
    "\n",
    "while num <= 4:\n",
    "    \n",
    "    print('*'*num)\n",
    "    \n",
    "    num += 1"
   ]
  },
  {
   "cell_type": "markdown",
   "id": "033c3180",
   "metadata": {},
   "source": [
    "## `range()` function\n",
    "\n",
    "generate a range of numbers\n",
    "\n",
    "`range(start_value, stop_value, step_size)`\n",
    "\n",
    "`range(stop_value)`   start_value defaults to 0, step_size defaults to 1\n",
    "\n",
    "`range(start_value, stop_value)`  step_size defaults to 1\n",
    "\n",
    "**In python, most of the times the stop_value is exclusive in nature\n",
    "\n",
    "It only works with integers.. no floats allowed."
   ]
  },
  {
   "cell_type": "code",
   "execution_count": 65,
   "id": "d39317ac",
   "metadata": {},
   "outputs": [
    {
     "data": {
      "text/plain": [
       "[0, 1, 2, 3, 4, 5, 6, 7, 8, 9, 10]"
      ]
     },
     "execution_count": 65,
     "metadata": {},
     "output_type": "execute_result"
    }
   ],
   "source": [
    "## generate a list of numbers starting from 0 till 10\n",
    "\n",
    "list(range(0, 11, 1))  ## iterator"
   ]
  },
  {
   "cell_type": "code",
   "execution_count": 66,
   "id": "03250fec",
   "metadata": {},
   "outputs": [
    {
     "data": {
      "text/plain": [
       "[0, 1, 2, 3, 4, 5, 6, 7, 8, 9, 10]"
      ]
     },
     "execution_count": 66,
     "metadata": {},
     "output_type": "execute_result"
    }
   ],
   "source": [
    "list(range(11))"
   ]
  },
  {
   "cell_type": "code",
   "execution_count": 67,
   "id": "90b9272c",
   "metadata": {},
   "outputs": [
    {
     "data": {
      "text/plain": [
       "[2, 4, 6, 8, 10, 12, 14, 16, 18, 20]"
      ]
     },
     "execution_count": 67,
     "metadata": {},
     "output_type": "execute_result"
    }
   ],
   "source": [
    "## generate a list of even numbers starting from 2 till 20\n",
    "\n",
    "list(range(2, 21, 2))"
   ]
  },
  {
   "cell_type": "code",
   "execution_count": 70,
   "id": "a90125a3",
   "metadata": {},
   "outputs": [
    {
     "data": {
      "text/plain": [
       "[]"
      ]
     },
     "execution_count": 70,
     "metadata": {},
     "output_type": "execute_result"
    }
   ],
   "source": [
    "## generate a list of numbers starting from 10 going till 0\n",
    "\n",
    "list(range(10, -1))"
   ]
  },
  {
   "cell_type": "markdown",
   "id": "10df9e1a",
   "metadata": {},
   "source": [
    "## for loop\n",
    "\n",
    "general syntax:\n",
    "\n",
    "`for var in iterator/range:\n",
    "\n",
    "    code...\n",
    "    ...\n",
    "    \n",
    "    ...`"
   ]
  },
  {
   "cell_type": "code",
   "execution_count": 91,
   "id": "3f3c0b6c",
   "metadata": {},
   "outputs": [
    {
     "name": "stdout",
     "output_type": "stream",
     "text": [
      "0\n",
      "1\n",
      "2\n",
      "3\n",
      "4\n",
      "5\n",
      "6\n",
      "7\n",
      "8\n",
      "9\n",
      "10\n"
     ]
    }
   ],
   "source": [
    "## print the numbers 0 till 10 using for loop\n",
    "\n",
    "for i in range(11):\n",
    "    \n",
    "    print(i)"
   ]
  },
  {
   "cell_type": "code",
   "execution_count": 92,
   "id": "2b077c7f",
   "metadata": {},
   "outputs": [
    {
     "name": "stdout",
     "output_type": "stream",
     "text": [
      "0.0\n",
      "1.0\n",
      "1.4142135623730951\n",
      "1.7320508075688772\n",
      "2.0\n",
      "2.23606797749979\n",
      "2.449489742783178\n",
      "2.6457513110645907\n",
      "2.8284271247461903\n",
      "3.0\n",
      "3.1622776601683795\n"
     ]
    }
   ],
   "source": [
    "## print the squares of all numbers till 10 using a for loop.\n",
    "\n",
    "for i in range (11):\n",
    "    print (i**0.5)\n"
   ]
  },
  {
   "cell_type": "code",
   "execution_count": 95,
   "id": "c33bf9aa",
   "metadata": {},
   "outputs": [
    {
     "name": "stdout",
     "output_type": "stream",
     "text": [
      "7 x 0 = 0\n",
      "7 x 1 = 7\n",
      "7 x 2 = 14\n",
      "7 x 3 = 21\n",
      "7 x 4 = 28\n",
      "7 x 5 = 35\n",
      "7 x 6 = 42\n",
      "7 x 7 = 49\n",
      "7 x 8 = 56\n",
      "7 x 9 = 63\n",
      "7 x 10 = 70\n"
     ]
    }
   ],
   "source": [
    "## print the table of 5\n",
    "\n",
    "## 5 x 1 = 5\n",
    "## 5 x 2 = 10\n",
    "## 5 x 3 = 15\n",
    "## .. till 10\n",
    "\n",
    "num = 7\n",
    "\n",
    "for i in range(11):\n",
    "    #print(\"5 x \", i, \"=\", 5*i)\n",
    "    \n",
    "    print(f\"{num} x {i} = {num*i}\")"
   ]
  },
  {
   "cell_type": "code",
   "execution_count": 96,
   "id": "f8b76bfd",
   "metadata": {},
   "outputs": [
    {
     "data": {
      "text/plain": [
       "'1010'"
      ]
     },
     "execution_count": 96,
     "metadata": {},
     "output_type": "execute_result"
    }
   ],
   "source": [
    "'10' + '10'"
   ]
  },
  {
   "cell_type": "code",
   "execution_count": null,
   "id": "55c339de",
   "metadata": {},
   "outputs": [],
   "source": []
  }
 ],
 "metadata": {
  "kernelspec": {
   "display_name": "Python 3",
   "language": "python",
   "name": "python3"
  },
  "language_info": {
   "codemirror_mode": {
    "name": "ipython",
    "version": 3
   },
   "file_extension": ".py",
   "mimetype": "text/x-python",
   "name": "python",
   "nbconvert_exporter": "python",
   "pygments_lexer": "ipython3",
   "version": "3.8.8"
  }
 },
 "nbformat": 4,
 "nbformat_minor": 5
}
