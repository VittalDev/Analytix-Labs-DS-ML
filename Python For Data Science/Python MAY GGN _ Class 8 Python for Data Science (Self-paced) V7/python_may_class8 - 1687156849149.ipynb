{
 "cells": [
  {
   "cell_type": "markdown",
   "id": "fb842baf",
   "metadata": {},
   "source": [
    "## Questions on functions"
   ]
  },
  {
   "cell_type": "code",
   "execution_count": 1,
   "id": "9fa63828",
   "metadata": {},
   "outputs": [],
   "source": [
    "## Q: Create a function that takes a list of numbers as input and returns the average of those numbers.\n",
    "\n",
    "def calc_avg(lst):\n",
    "    \n",
    "    sum_lst = sum(lst)\n",
    "    len_lst = len(lst)\n",
    "    \n",
    "    return sum_lst / len_lst\n",
    "    "
   ]
  },
  {
   "cell_type": "code",
   "execution_count": 2,
   "id": "f619385e",
   "metadata": {},
   "outputs": [
    {
     "data": {
      "text/plain": [
       "3.625"
      ]
     },
     "execution_count": 2,
     "metadata": {},
     "output_type": "execute_result"
    }
   ],
   "source": [
    "calc_avg([1, 2, 3, 4, 5, 6, 7, 1])"
   ]
  },
  {
   "cell_type": "code",
   "execution_count": 13,
   "id": "845f87e1",
   "metadata": {},
   "outputs": [],
   "source": [
    "## Q: Write a function that checks whether a given number is prime or not. \n",
    "##    The function should take an integer as input and return True if it's prime, and False otherwise.\n",
    "\n",
    "def isPrime(num):\n",
    "    \n",
    "    if num == 1:\n",
    "        return False\n",
    "    \n",
    "    for i in range(2, num):\n",
    "        \n",
    "        if num % i == 0:\n",
    "            \n",
    "            return False\n",
    "        \n",
    "    return True  \n"
   ]
  },
  {
   "cell_type": "code",
   "execution_count": 4,
   "id": "bddd82b7",
   "metadata": {},
   "outputs": [
    {
     "data": {
      "text/plain": [
       "True"
      ]
     },
     "execution_count": 4,
     "metadata": {},
     "output_type": "execute_result"
    }
   ],
   "source": [
    "isPrime(7)"
   ]
  },
  {
   "cell_type": "code",
   "execution_count": 5,
   "id": "a7b319ae",
   "metadata": {},
   "outputs": [
    {
     "data": {
      "text/plain": [
       "False"
      ]
     },
     "execution_count": 5,
     "metadata": {},
     "output_type": "execute_result"
    }
   ],
   "source": [
    "isPrime(16)"
   ]
  },
  {
   "cell_type": "code",
   "execution_count": 6,
   "id": "da861cb1",
   "metadata": {},
   "outputs": [
    {
     "data": {
      "text/plain": [
       "False"
      ]
     },
     "execution_count": 6,
     "metadata": {},
     "output_type": "execute_result"
    }
   ],
   "source": [
    "isPrime(93)"
   ]
  },
  {
   "cell_type": "code",
   "execution_count": 7,
   "id": "f4b022c0",
   "metadata": {},
   "outputs": [
    {
     "data": {
      "text/plain": [
       "True"
      ]
     },
     "execution_count": 7,
     "metadata": {},
     "output_type": "execute_result"
    }
   ],
   "source": [
    "isPrime(2)"
   ]
  },
  {
   "cell_type": "code",
   "execution_count": 16,
   "id": "5ef51a9c",
   "metadata": {},
   "outputs": [],
   "source": [
    "## Q: Generate a list of all prime numbers between 2 and 1000.\n",
    "\n",
    "primes = []\n",
    "\n",
    "for i in range(1, 1000):\n",
    "    \n",
    "    if isPrime(i):\n",
    "        \n",
    "        primes.append(i)"
   ]
  },
  {
   "cell_type": "code",
   "execution_count": 17,
   "id": "3b866f1e",
   "metadata": {},
   "outputs": [
    {
     "name": "stdout",
     "output_type": "stream",
     "text": [
      "[2, 3, 5, 7, 11, 13, 17, 19, 23, 29, 31, 37, 41, 43, 47, 53, 59, 61, 67, 71, 73, 79, 83, 89, 97, 101, 103, 107, 109, 113, 127, 131, 137, 139, 149, 151, 157, 163, 167, 173, 179, 181, 191, 193, 197, 199, 211, 223, 227, 229, 233, 239, 241, 251, 257, 263, 269, 271, 277, 281, 283, 293, 307, 311, 313, 317, 331, 337, 347, 349, 353, 359, 367, 373, 379, 383, 389, 397, 401, 409, 419, 421, 431, 433, 439, 443, 449, 457, 461, 463, 467, 479, 487, 491, 499, 503, 509, 521, 523, 541, 547, 557, 563, 569, 571, 577, 587, 593, 599, 601, 607, 613, 617, 619, 631, 641, 643, 647, 653, 659, 661, 673, 677, 683, 691, 701, 709, 719, 727, 733, 739, 743, 751, 757, 761, 769, 773, 787, 797, 809, 811, 821, 823, 827, 829, 839, 853, 857, 859, 863, 877, 881, 883, 887, 907, 911, 919, 929, 937, 941, 947, 953, 967, 971, 977, 983, 991, 997]\n"
     ]
    }
   ],
   "source": [
    "print(primes)"
   ]
  },
  {
   "cell_type": "code",
   "execution_count": 157,
   "id": "9eae9d0a",
   "metadata": {},
   "outputs": [
    {
     "name": "stdout",
     "output_type": "stream",
     "text": [
      "[2, 3, 5, 7, 11, 13, 17, 19, 23, 29, 31, 37, 41, 43, 47, 53, 59, 61, 67, 71, 73, 79, 83, 89, 97]\n"
     ]
    }
   ],
   "source": [
    "## alternate method\n",
    "\n",
    "print(list(filter(isPrime,range(1,100))))"
   ]
  },
  {
   "cell_type": "code",
   "execution_count": null,
   "id": "8c99ea5e",
   "metadata": {},
   "outputs": [],
   "source": [
    "## HW\n",
    "\n",
    "## Q: Take as input from the user the number of prime numbers to generate and generate\n",
    "##    that many prime numbers starting from 2."
   ]
  },
  {
   "cell_type": "code",
   "execution_count": 24,
   "id": "ce79e727",
   "metadata": {},
   "outputs": [],
   "source": [
    "## Q: Create a function that accepts a string as a parameter \n",
    "##     and counts the number of vowels (a, e, i, o, u) in the string. The function should return the count.\n",
    "\n",
    "def count_vowels(str1):\n",
    "    \n",
    "    \n",
    "    \n",
    "    str1 = str1.lower()\n",
    "    \n",
    "    count = 0\n",
    "    \n",
    "    for char in str1:\n",
    "        \n",
    "        if char in ('a', 'e', 'i', 'o', 'u'):\n",
    "            \n",
    "            count += 1\n",
    "            \n",
    "    return count\n",
    "        "
   ]
  },
  {
   "cell_type": "code",
   "execution_count": 25,
   "id": "5403a7a9",
   "metadata": {},
   "outputs": [
    {
     "data": {
      "text/plain": [
       "3"
      ]
     },
     "execution_count": 25,
     "metadata": {},
     "output_type": "execute_result"
    }
   ],
   "source": [
    "count_vowels('hello world')"
   ]
  },
  {
   "cell_type": "code",
   "execution_count": 27,
   "id": "f3194c5f",
   "metadata": {},
   "outputs": [
    {
     "name": "stdout",
     "output_type": "stream",
     "text": [
      "h\n",
      "e\n",
      "l\n",
      "l\n",
      "o\n",
      " \n",
      "w\n",
      "o\n",
      "r\n",
      "l\n",
      "d\n"
     ]
    }
   ],
   "source": [
    "for var in 'hello world':\n",
    "    print(var)"
   ]
  },
  {
   "cell_type": "code",
   "execution_count": 31,
   "id": "1fc288b2",
   "metadata": {},
   "outputs": [],
   "source": [
    "# Q: Write a function that takes a string as input and checks \n",
    "#    if it is a palindrome (reads the same forwards and backwards). \n",
    "#    The function should return True if it's a palindrome, and False otherwise.\n",
    "\n",
    "## Examples of palindromes\n",
    "## 'mom'\n",
    "## 'dad'\n",
    "## 'racecar'\n",
    "## 'radar'\n",
    "## 'level'\n",
    "\n"
   ]
  },
  {
   "cell_type": "code",
   "execution_count": 32,
   "id": "7904501e",
   "metadata": {},
   "outputs": [],
   "source": [
    "str1 = 'racecar'"
   ]
  },
  {
   "cell_type": "code",
   "execution_count": 33,
   "id": "4d16bfdc",
   "metadata": {},
   "outputs": [
    {
     "data": {
      "text/plain": [
       "'racecar'"
      ]
     },
     "execution_count": 33,
     "metadata": {},
     "output_type": "execute_result"
    }
   ],
   "source": [
    "str1[::-1]"
   ]
  },
  {
   "cell_type": "code",
   "execution_count": 35,
   "id": "7e59996e",
   "metadata": {},
   "outputs": [],
   "source": [
    "def isPalindrome(str1):\n",
    "    \n",
    "    if str1 == str1[::-1]:\n",
    "        \n",
    "        return True\n",
    "    \n",
    "    else:\n",
    "        return False"
   ]
  },
  {
   "cell_type": "code",
   "execution_count": 38,
   "id": "ecd8beea",
   "metadata": {},
   "outputs": [
    {
     "data": {
      "text/plain": [
       "True"
      ]
     },
     "execution_count": 38,
     "metadata": {},
     "output_type": "execute_result"
    }
   ],
   "source": [
    "isPalindrome('racecar')"
   ]
  },
  {
   "cell_type": "code",
   "execution_count": 40,
   "id": "201cf3cb",
   "metadata": {},
   "outputs": [],
   "source": [
    "## Q: given a list of words, check if each word is palindrome or not and output a list of booleans\n",
    "\n",
    "words = ['mom', 'dad', 'hello', 'world']\n",
    "\n",
    "## [True, True, False, False]"
   ]
  },
  {
   "cell_type": "code",
   "execution_count": 41,
   "id": "5c2caa7c",
   "metadata": {},
   "outputs": [
    {
     "data": {
      "text/plain": [
       "[True, True, False, False]"
      ]
     },
     "execution_count": 41,
     "metadata": {},
     "output_type": "execute_result"
    }
   ],
   "source": [
    "list(map(isPalindrome, words ))"
   ]
  },
  {
   "cell_type": "code",
   "execution_count": 48,
   "id": "e2c412f9",
   "metadata": {},
   "outputs": [],
   "source": [
    "## Q: Create a function that calculates the factorial of a given number.\n",
    "## The function should take an integer as input and return the factorial.\n",
    "\n",
    "def calc_factorial(num):\n",
    "    \n",
    "    fact = 1\n",
    "    \n",
    "    \n",
    "    for i in range(1, num+1):\n",
    "        \n",
    "        fact *= i  ## fact = fact * i\n",
    "        \n",
    "\n",
    "    return fact\n",
    "        "
   ]
  },
  {
   "cell_type": "code",
   "execution_count": 49,
   "id": "ce2fb480",
   "metadata": {},
   "outputs": [
    {
     "data": {
      "text/plain": [
       "24"
      ]
     },
     "execution_count": 49,
     "metadata": {},
     "output_type": "execute_result"
    }
   ],
   "source": [
    "calc_factorial(4)"
   ]
  },
  {
   "cell_type": "code",
   "execution_count": 51,
   "id": "ec43008d",
   "metadata": {},
   "outputs": [
    {
     "data": {
      "text/plain": [
       "[0, 1, 2, 3, 4, 5, 6, 7, 8, 9]"
      ]
     },
     "execution_count": 51,
     "metadata": {},
     "output_type": "execute_result"
    }
   ],
   "source": [
    "list(range(10))"
   ]
  },
  {
   "cell_type": "code",
   "execution_count": 52,
   "id": "abb25aa9",
   "metadata": {},
   "outputs": [],
   "source": [
    "## Q: Judge the sentiment of a text. create a function that takes in a text and returns a sentiment_score\n",
    "## that gives\n",
    "## 0 - neutral\n",
    "## -ve - bad sentiment\n",
    "## +ve - good sentiment\n",
    "\n",
    "\n"
   ]
  },
  {
   "cell_type": "code",
   "execution_count": 158,
   "id": "b2e0de7a",
   "metadata": {},
   "outputs": [],
   "source": [
    "def calc_sentiment(str1):\n",
    "    \n",
    "    \n",
    "    ## clean text\n",
    "    str1 = str1.lower().replace(',', '').replace('.', '').replace(';', '')\n",
    "    \n",
    "    ## split into words\n",
    "    words = str1.split()\n",
    "    \n",
    "    ## initialize bad and good words\n",
    "    bad_words_weightages = {\n",
    "        'bad': -0.2,\n",
    "        'worse': -0.3,\n",
    "        'worst': -1,\n",
    "        'terrible': -1,\n",
    "        'pathetic': -1.2   \n",
    "    }\n",
    "\n",
    "    good_words_weightages = {\n",
    "        'good': 0.2,\n",
    "        'pleasent': 0.3,\n",
    "        'awesome': 1,\n",
    "        'great': 1.2,\n",
    "        'best': 1.3,\n",
    "        'amazing': 1.5\n",
    "\n",
    "    }\n",
    "    \n",
    "    ## initialize sentiment to 0\n",
    "    sentiment_score = 0\n",
    "\n",
    "    \n",
    "    ## iterate over the words\n",
    "    for word in words:\n",
    "\n",
    "        if word in bad_words_weightages:\n",
    "\n",
    "            sentiment_score += bad_words_weightages[word]\n",
    "\n",
    "        elif word in good_words_weightages:\n",
    "\n",
    "            sentiment_score += good_words_weightages[word]\n",
    "            \n",
    "            \n",
    "    return sentiment_score\n",
    "\n"
   ]
  },
  {
   "cell_type": "code",
   "execution_count": 159,
   "id": "680fc1c8",
   "metadata": {},
   "outputs": [],
   "source": [
    "str1 = 'experience was worst. service was great. ambience was amazing. food was bad. waiting was terrible'"
   ]
  },
  {
   "cell_type": "code",
   "execution_count": 160,
   "id": "429d2b51",
   "metadata": {},
   "outputs": [
    {
     "data": {
      "text/plain": [
       "0.5"
      ]
     },
     "execution_count": 160,
     "metadata": {},
     "output_type": "execute_result"
    }
   ],
   "source": [
    "calc_sentiment(str1)"
   ]
  },
  {
   "cell_type": "code",
   "execution_count": 161,
   "id": "dc078817",
   "metadata": {},
   "outputs": [],
   "source": [
    "str2 = 'worst worst worst food ever'"
   ]
  },
  {
   "cell_type": "code",
   "execution_count": 162,
   "id": "a5462856",
   "metadata": {},
   "outputs": [
    {
     "data": {
      "text/plain": [
       "-3"
      ]
     },
     "execution_count": 162,
     "metadata": {},
     "output_type": "execute_result"
    }
   ],
   "source": [
    "calc_sentiment(str2)"
   ]
  },
  {
   "cell_type": "code",
   "execution_count": 163,
   "id": "ccd3e55b",
   "metadata": {},
   "outputs": [],
   "source": [
    "str3 = 'great food and amazing service. will definitely recomment'"
   ]
  },
  {
   "cell_type": "code",
   "execution_count": 164,
   "id": "0ec7d8ca",
   "metadata": {},
   "outputs": [
    {
     "data": {
      "text/plain": [
       "2.7"
      ]
     },
     "execution_count": 164,
     "metadata": {},
     "output_type": "execute_result"
    }
   ],
   "source": [
    "calc_sentiment(str3)"
   ]
  },
  {
   "cell_type": "markdown",
   "id": "fa153962",
   "metadata": {},
   "source": [
    "## creating a module\n",
    "\n",
    "2 extensions of python files\n",
    "- `.ipynb` - cell like structure\n",
    "- `.py` - proper end to end programs; also called **scripts**\n",
    "\n",
    "Modules are `.py` files that can be imported into a separate file using the `import` statement in python. For example,\n",
    "if we had a module named `module2.py` somewhere in the working directorty, we can import that file here as `import module2`. Notice that we do not provide the extension here.\n",
    "\n",
    "4 popular ways of using the import statement\n",
    "\n",
    "- `import package_name`\n",
    "\n",
    "- `import package_name as alias_name`\n",
    "\n",
    "- `from package import func_or_object_name`\n",
    "\n",
    "- `from package import *`\n",
    "\n",
    "Once a module is imported, if we wish to use anything from that module, we can access it using the `dot (.) operator`."
   ]
  },
  {
   "cell_type": "code",
   "execution_count": 82,
   "id": "12813e6c",
   "metadata": {},
   "outputs": [],
   "source": [
    "import my_module1 as m1"
   ]
  },
  {
   "cell_type": "code",
   "execution_count": 81,
   "id": "4a65793a",
   "metadata": {},
   "outputs": [],
   "source": [
    "#import sys\n",
    "#sys.path.append(r'c:/users/sidan')"
   ]
  },
  {
   "cell_type": "code",
   "execution_count": 165,
   "id": "042a3dda",
   "metadata": {},
   "outputs": [
    {
     "data": {
      "text/plain": [
       "True"
      ]
     },
     "execution_count": 165,
     "metadata": {},
     "output_type": "execute_result"
    }
   ],
   "source": [
    "## now the functions saved in the module are available to be worked with here.\n",
    "\n",
    "m1.isPalindrome('mom')"
   ]
  },
  {
   "cell_type": "code",
   "execution_count": 166,
   "id": "33cea9ba",
   "metadata": {},
   "outputs": [
    {
     "data": {
      "text/plain": [
       "2.7"
      ]
     },
     "execution_count": 166,
     "metadata": {},
     "output_type": "execute_result"
    }
   ],
   "source": [
    "m1.calc_sentiment(str3)"
   ]
  },
  {
   "cell_type": "markdown",
   "id": "d2008874",
   "metadata": {},
   "source": [
    "## pip and PyPI\n",
    "\n",
    "pip is the package manager for python. It connects to Python Package Index (PyPI) and downloads any package that you require."
   ]
  },
  {
   "cell_type": "markdown",
   "id": "12aa7a96",
   "metadata": {},
   "source": [
    "## Numpy - Numerical python\n",
    "\n",
    "great for scientific computation in python.\n",
    "\n",
    "Moreover, many important packages are built on top of numpy. like `pandas`, `opencv`, `scikit-learn`\n",
    "\n",
    "Applications of numpy\n",
    "\n",
    "1. gives a base for storing large data sets\n",
    "2. great for Linear Algebra and other scientific computation\n",
    "3. is the base for many other important packages such as pandas, tensorflow, keras, openCV\n",
    "4. Random number generation"
   ]
  },
  {
   "cell_type": "code",
   "execution_count": 3,
   "id": "28136fa2",
   "metadata": {},
   "outputs": [],
   "source": [
    "import numpy as np"
   ]
  },
  {
   "cell_type": "code",
   "execution_count": 4,
   "id": "ce33a0d3",
   "metadata": {},
   "outputs": [],
   "source": [
    "np?"
   ]
  },
  {
   "cell_type": "markdown",
   "id": "ced7f79a",
   "metadata": {},
   "source": [
    "Numpy provides to me another datastructure which is called the `ndarray`"
   ]
  },
  {
   "cell_type": "markdown",
   "id": "bc98ecb2",
   "metadata": {},
   "source": [
    "## properties of `ndarray`\n",
    "\n",
    "written in C\n",
    "\n",
    "1. Homogeneous in nature\n",
    "2. Allows broadcasting and vectorization\n",
    "3. Provides efficicent mathematical operations\n",
    "\n",
    "Things to look at\n",
    "\n",
    "1. How to create\n",
    "2. How to iterate\n",
    "3. Important methods and attributes\n",
    "4. How to make calculations"
   ]
  },
  {
   "cell_type": "markdown",
   "id": "a3e1a9ac",
   "metadata": {},
   "source": [
    "## creation\n",
    "\n",
    "using the type conversion function `np.array()`"
   ]
  },
  {
   "cell_type": "code",
   "execution_count": 6,
   "id": "cfd37225",
   "metadata": {},
   "outputs": [
    {
     "name": "stdout",
     "output_type": "stream",
     "text": [
      "[1 2 3 4]\n"
     ]
    }
   ],
   "source": [
    "a1 = np.array([1, 2, 3, 4])\n",
    "print(a1)"
   ]
  },
  {
   "cell_type": "code",
   "execution_count": 7,
   "id": "7549c4e5",
   "metadata": {},
   "outputs": [
    {
     "data": {
      "text/plain": [
       "numpy.ndarray"
      ]
     },
     "execution_count": 7,
     "metadata": {},
     "output_type": "execute_result"
    }
   ],
   "source": [
    "type(a1)"
   ]
  },
  {
   "cell_type": "markdown",
   "id": "94ff5f19",
   "metadata": {},
   "source": [
    "## some important attributes to inspect an array\n",
    "\n",
    "`.shape` `.size` `.dtype` `.nbytes` `.ndim`"
   ]
  },
  {
   "cell_type": "code",
   "execution_count": 8,
   "id": "56821eae",
   "metadata": {},
   "outputs": [
    {
     "data": {
      "text/plain": [
       "(4,)"
      ]
     },
     "execution_count": 8,
     "metadata": {},
     "output_type": "execute_result"
    }
   ],
   "source": [
    "a1.shape ## gives the shape of the array in the form of a tuple"
   ]
  },
  {
   "cell_type": "code",
   "execution_count": 9,
   "id": "6f13dc21",
   "metadata": {},
   "outputs": [
    {
     "data": {
      "text/plain": [
       "1"
      ]
     },
     "execution_count": 9,
     "metadata": {},
     "output_type": "execute_result"
    }
   ],
   "source": [
    "a1.ndim"
   ]
  },
  {
   "cell_type": "code",
   "execution_count": 10,
   "id": "0c609f61",
   "metadata": {},
   "outputs": [
    {
     "data": {
      "text/plain": [
       "dtype('int32')"
      ]
     },
     "execution_count": 10,
     "metadata": {},
     "output_type": "execute_result"
    }
   ],
   "source": [
    "a1.dtype"
   ]
  },
  {
   "cell_type": "code",
   "execution_count": 13,
   "id": "66a41ab7",
   "metadata": {},
   "outputs": [
    {
     "name": "stdout",
     "output_type": "stream",
     "text": [
      "[1 2 3 4]\n"
     ]
    }
   ],
   "source": [
    "a2 = np.array([1, 2, 3, 4], dtype='int8')\n",
    "print(a2)"
   ]
  },
  {
   "cell_type": "code",
   "execution_count": 14,
   "id": "f185435c",
   "metadata": {},
   "outputs": [
    {
     "data": {
      "text/plain": [
       "16"
      ]
     },
     "execution_count": 14,
     "metadata": {},
     "output_type": "execute_result"
    }
   ],
   "source": [
    "a1.nbytes"
   ]
  },
  {
   "cell_type": "code",
   "execution_count": 15,
   "id": "450cb629",
   "metadata": {},
   "outputs": [
    {
     "data": {
      "text/plain": [
       "4"
      ]
     },
     "execution_count": 15,
     "metadata": {},
     "output_type": "execute_result"
    }
   ],
   "source": [
    "a2.nbytes"
   ]
  },
  {
   "cell_type": "code",
   "execution_count": 16,
   "id": "3866177b",
   "metadata": {},
   "outputs": [
    {
     "data": {
      "text/plain": [
       "dtype('int8')"
      ]
     },
     "execution_count": 16,
     "metadata": {},
     "output_type": "execute_result"
    }
   ],
   "source": [
    "a2.dtype"
   ]
  },
  {
   "cell_type": "code",
   "execution_count": 17,
   "id": "fce3da89",
   "metadata": {},
   "outputs": [
    {
     "name": "stdout",
     "output_type": "stream",
     "text": [
      "['a' 'b' 'c' 'd']\n"
     ]
    }
   ],
   "source": [
    "a3 = np.array(['a', 'b', 'c', 'd'])\n",
    "print(a3)"
   ]
  },
  {
   "cell_type": "code",
   "execution_count": 18,
   "id": "e55f886a",
   "metadata": {},
   "outputs": [
    {
     "data": {
      "text/plain": [
       "numpy.ndarray"
      ]
     },
     "execution_count": 18,
     "metadata": {},
     "output_type": "execute_result"
    }
   ],
   "source": [
    "type(a3)"
   ]
  },
  {
   "cell_type": "code",
   "execution_count": 19,
   "id": "0185dd40",
   "metadata": {},
   "outputs": [
    {
     "data": {
      "text/plain": [
       "dtype('<U1')"
      ]
     },
     "execution_count": 19,
     "metadata": {},
     "output_type": "execute_result"
    }
   ],
   "source": [
    "a3.dtype"
   ]
  },
  {
   "cell_type": "code",
   "execution_count": 20,
   "id": "b315e5a0",
   "metadata": {},
   "outputs": [
    {
     "name": "stdout",
     "output_type": "stream",
     "text": [
      "4\n",
      "1\n",
      "(4,)\n",
      "16\n"
     ]
    }
   ],
   "source": [
    "print(a3.size)\n",
    "print(a3.ndim)\n",
    "print(a3.shape)\n",
    "print(a3.nbytes)"
   ]
  },
  {
   "cell_type": "code",
   "execution_count": 21,
   "id": "85d94e04",
   "metadata": {},
   "outputs": [
    {
     "name": "stdout",
     "output_type": "stream",
     "text": [
      "['1' '2' 'a' '1.5' 'b']\n"
     ]
    }
   ],
   "source": [
    "a4 = np.array([1, 2, 'a', 1.5, 'b'])\n",
    "print(a4)"
   ]
  },
  {
   "cell_type": "code",
   "execution_count": 22,
   "id": "d1afece2",
   "metadata": {},
   "outputs": [
    {
     "data": {
      "text/plain": [
       "dtype('<U32')"
      ]
     },
     "execution_count": 22,
     "metadata": {},
     "output_type": "execute_result"
    }
   ],
   "source": [
    "a4.dtype"
   ]
  },
  {
   "cell_type": "code",
   "execution_count": 23,
   "id": "077b2f74",
   "metadata": {},
   "outputs": [
    {
     "data": {
      "text/plain": [
       "array([[1, 2, 3, 4],\n",
       "       [5, 6, 7, 8]])"
      ]
     },
     "execution_count": 23,
     "metadata": {},
     "output_type": "execute_result"
    }
   ],
   "source": [
    "## 2D array\n",
    "\n",
    "a5 = np.array([[1, 2, 3, 4], [5, 6, 7, 8]])\n",
    "a5"
   ]
  },
  {
   "cell_type": "code",
   "execution_count": 24,
   "id": "825c3d80",
   "metadata": {},
   "outputs": [
    {
     "data": {
      "text/plain": [
       "2"
      ]
     },
     "execution_count": 24,
     "metadata": {},
     "output_type": "execute_result"
    }
   ],
   "source": [
    "a5.ndim"
   ]
  },
  {
   "cell_type": "code",
   "execution_count": 25,
   "id": "060f3ab5",
   "metadata": {},
   "outputs": [
    {
     "data": {
      "text/plain": [
       "(2, 4)"
      ]
     },
     "execution_count": 25,
     "metadata": {},
     "output_type": "execute_result"
    }
   ],
   "source": [
    "a5.shape"
   ]
  },
  {
   "cell_type": "code",
   "execution_count": 26,
   "id": "bb9193b8",
   "metadata": {},
   "outputs": [
    {
     "data": {
      "text/plain": [
       "2"
      ]
     },
     "execution_count": 26,
     "metadata": {},
     "output_type": "execute_result"
    }
   ],
   "source": [
    "a5.shape[0]"
   ]
  },
  {
   "cell_type": "code",
   "execution_count": 27,
   "id": "752a06ca",
   "metadata": {},
   "outputs": [
    {
     "data": {
      "text/plain": [
       "4"
      ]
     },
     "execution_count": 27,
     "metadata": {},
     "output_type": "execute_result"
    }
   ],
   "source": [
    "a5.shape[1]"
   ]
  },
  {
   "cell_type": "markdown",
   "id": "86ddda85",
   "metadata": {},
   "source": [
    "## Other important functions that help create arrays\n",
    "\n",
    "`np.arange()` `np.linspace()`"
   ]
  },
  {
   "cell_type": "code",
   "execution_count": 43,
   "id": "822b5a47",
   "metadata": {},
   "outputs": [
    {
     "data": {
      "text/plain": [
       "array([ 0,  1,  2,  3,  4,  5,  6,  7,  8,  9, 10])"
      ]
     },
     "execution_count": 43,
     "metadata": {},
     "output_type": "execute_result"
    }
   ],
   "source": [
    "## Q: create an array of integers starting from 0 till 10\n",
    "\n",
    "a7 = np.arange(0, 11)\n",
    "a7"
   ]
  },
  {
   "cell_type": "code",
   "execution_count": 47,
   "id": "83c6a574",
   "metadata": {},
   "outputs": [
    {
     "data": {
      "text/plain": [
       "array([0.  , 0.01, 0.02, 0.03, 0.04, 0.05, 0.06, 0.07, 0.08, 0.09, 0.1 ,\n",
       "       0.11, 0.12, 0.13, 0.14, 0.15, 0.16, 0.17, 0.18, 0.19, 0.2 , 0.21,\n",
       "       0.22, 0.23, 0.24, 0.25, 0.26, 0.27, 0.28, 0.29, 0.3 , 0.31, 0.32,\n",
       "       0.33, 0.34, 0.35, 0.36, 0.37, 0.38, 0.39, 0.4 , 0.41, 0.42, 0.43,\n",
       "       0.44, 0.45, 0.46, 0.47, 0.48, 0.49, 0.5 , 0.51, 0.52, 0.53, 0.54,\n",
       "       0.55, 0.56, 0.57, 0.58, 0.59, 0.6 , 0.61, 0.62, 0.63, 0.64, 0.65,\n",
       "       0.66, 0.67, 0.68, 0.69, 0.7 , 0.71, 0.72, 0.73, 0.74, 0.75, 0.76,\n",
       "       0.77, 0.78, 0.79, 0.8 , 0.81, 0.82, 0.83, 0.84, 0.85, 0.86, 0.87,\n",
       "       0.88, 0.89, 0.9 , 0.91, 0.92, 0.93, 0.94, 0.95, 0.96, 0.97, 0.98,\n",
       "       0.99, 1.  ])"
      ]
     },
     "execution_count": 47,
     "metadata": {},
     "output_type": "execute_result"
    }
   ],
   "source": [
    "a8 = np.arange(0, 1.01, 0.01)  ## it works with float values as well. range() function didn't\n",
    "a8"
   ]
  },
  {
   "cell_type": "code",
   "execution_count": 51,
   "id": "6ecd4805",
   "metadata": {},
   "outputs": [
    {
     "data": {
      "text/plain": [
       "array([ 0.        ,  0.2020202 ,  0.4040404 ,  0.60606061,  0.80808081,\n",
       "        1.01010101,  1.21212121,  1.41414141,  1.61616162,  1.81818182,\n",
       "        2.02020202,  2.22222222,  2.42424242,  2.62626263,  2.82828283,\n",
       "        3.03030303,  3.23232323,  3.43434343,  3.63636364,  3.83838384,\n",
       "        4.04040404,  4.24242424,  4.44444444,  4.64646465,  4.84848485,\n",
       "        5.05050505,  5.25252525,  5.45454545,  5.65656566,  5.85858586,\n",
       "        6.06060606,  6.26262626,  6.46464646,  6.66666667,  6.86868687,\n",
       "        7.07070707,  7.27272727,  7.47474747,  7.67676768,  7.87878788,\n",
       "        8.08080808,  8.28282828,  8.48484848,  8.68686869,  8.88888889,\n",
       "        9.09090909,  9.29292929,  9.49494949,  9.6969697 ,  9.8989899 ,\n",
       "       10.1010101 , 10.3030303 , 10.50505051, 10.70707071, 10.90909091,\n",
       "       11.11111111, 11.31313131, 11.51515152, 11.71717172, 11.91919192,\n",
       "       12.12121212, 12.32323232, 12.52525253, 12.72727273, 12.92929293,\n",
       "       13.13131313, 13.33333333, 13.53535354, 13.73737374, 13.93939394,\n",
       "       14.14141414, 14.34343434, 14.54545455, 14.74747475, 14.94949495,\n",
       "       15.15151515, 15.35353535, 15.55555556, 15.75757576, 15.95959596,\n",
       "       16.16161616, 16.36363636, 16.56565657, 16.76767677, 16.96969697,\n",
       "       17.17171717, 17.37373737, 17.57575758, 17.77777778, 17.97979798,\n",
       "       18.18181818, 18.38383838, 18.58585859, 18.78787879, 18.98989899,\n",
       "       19.19191919, 19.39393939, 19.5959596 , 19.7979798 , 20.        ])"
      ]
     },
     "execution_count": 51,
     "metadata": {},
     "output_type": "execute_result"
    }
   ],
   "source": [
    "## Q: generate 100 linearly spaced numbers between 0 and 20\n",
    "\n",
    "a9 = np.linspace(0, 20, 100)  ## in linspace, the end value is also included\n",
    "a9"
   ]
  },
  {
   "cell_type": "code",
   "execution_count": 146,
   "id": "9f0f65a4",
   "metadata": {},
   "outputs": [],
   "source": [
    "## example on numpy\n",
    "## explanation to come later\n",
    "\n",
    "import matplotlib.pyplot as plt\n",
    "import numpy as np"
   ]
  },
  {
   "cell_type": "code",
   "execution_count": 149,
   "id": "83b583f1",
   "metadata": {},
   "outputs": [],
   "source": [
    "img = plt.imread('d:/Einstein_tongue.jpg')"
   ]
  },
  {
   "cell_type": "code",
   "execution_count": 154,
   "id": "e689d3a8",
   "metadata": {},
   "outputs": [
    {
     "data": {
      "text/plain": [
       "<matplotlib.image.AxesImage at 0x292fcda91c0>"
      ]
     },
     "execution_count": 154,
     "metadata": {},
     "output_type": "execute_result"
    },
    {
     "data": {
      "image/png": "[encoded data removed]",
      "text/plain": [
       "<Figure size 432x288 with 1 Axes>"
      ]
     },
     "metadata": {
      "needs_background": "light"
     },
     "output_type": "display_data"
    }
   ],
   "source": [
    "plt.imshow(img, cmap='gray')"
   ]
  },
  {
   "cell_type": "code",
   "execution_count": 151,
   "id": "f6bf6d48",
   "metadata": {},
   "outputs": [
    {
     "data": {
      "text/plain": [
       "array([[59, 60, 62, ..., 62, 60, 48],\n",
       "       [61, 62, 64, ..., 61, 56, 47],\n",
       "       [61, 63, 64, ..., 56, 51, 47],\n",
       "       ...,\n",
       "       [45, 48, 43, ..., 37, 50, 34],\n",
       "       [36, 50, 44, ..., 29, 40, 22],\n",
       "       [29, 48, 43, ..., 19, 50, 45]], dtype=uint8)"
      ]
     },
     "execution_count": 151,
     "metadata": {},
     "output_type": "execute_result"
    }
   ],
   "source": [
    "img"
   ]
  },
  {
   "cell_type": "code",
   "execution_count": 153,
   "id": "44c7a4e3",
   "metadata": {},
   "outputs": [
    {
     "data": {
      "text/plain": [
       "<matplotlib.image.AxesImage at 0x292fcd4a790>"
      ]
     },
     "execution_count": 153,
     "metadata": {},
     "output_type": "execute_result"
    },
    {
     "data": {
      "image/png": "[encoded data removed]",
      "text/plain": [
       "<Figure size 432x288 with 1 Axes>"
      ]
     },
     "metadata": {
      "needs_background": "light"
     },
     "output_type": "display_data"
    }
   ],
   "source": [
    "plt.imshow(img[100:140, 50:150])"
   ]
  }
 ],
 "metadata": {
  "kernelspec": {
   "display_name": "Python 3",
   "language": "python",
   "name": "python3"
  },
  "language_info": {
   "codemirror_mode": {
    "name": "ipython",
    "version": 3
   },
   "file_extension": ".py",
   "mimetype": "text/x-python",
   "name": "python",
   "nbconvert_exporter": "python",
   "pygments_lexer": "ipython3",
   "version": "3.8.8"
  }
 },
 "nbformat": 4,
 "nbformat_minor": 5
}
