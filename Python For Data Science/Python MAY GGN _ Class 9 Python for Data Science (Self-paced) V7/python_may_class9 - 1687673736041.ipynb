{
 "cells": [
  {
   "cell_type": "markdown",
   "id": "d2008874",
   "metadata": {},
   "source": [
    "## pip and PyPI\n",
    "\n",
    "pip is the package manager for python. It connects to Python Package Index (PyPI) and downloads any package that you require."
   ]
  },
  {
   "cell_type": "markdown",
   "id": "12aa7a96",
   "metadata": {},
   "source": [
    "## Numpy - Numerical python\n",
    "\n",
    "great for scientific computation in python.\n",
    "\n",
    "Moreover, many important packages are built on top of numpy. like `pandas`, `opencv`, `scikit-learn`\n",
    "\n",
    "Applications of numpy\n",
    "\n",
    "1. gives a base for storing large data sets\n",
    "2. great for Linear Algebra and other scientific computation\n",
    "3. is the base for many other important packages such as pandas, tensorflow, keras, openCV\n",
    "4. Random number generation"
   ]
  },
  {
   "cell_type": "code",
   "execution_count": 2,
   "id": "28136fa2",
   "metadata": {},
   "outputs": [],
   "source": [
    "import numpy as np"
   ]
  },
  {
   "cell_type": "code",
   "execution_count": 3,
   "id": "ce33a0d3",
   "metadata": {},
   "outputs": [
    {
     "name": "stdout",
     "output_type": "stream",
     "text": [
      "\u001b[1;31mType:\u001b[0m        module\n",
      "\u001b[1;31mString form:\u001b[0m <module 'numpy' from 'c:\\\\Users\\\\Vitta\\\\anaconda3\\\\lib\\\\site-packages\\\\numpy\\\\__init__.py'>\n",
      "\u001b[1;31mFile:\u001b[0m        c:\\users\\vitta\\anaconda3\\lib\\site-packages\\numpy\\__init__.py\n",
      "\u001b[1;31mDocstring:\u001b[0m  \n",
      "NumPy\n",
      "=====\n",
      "\n",
      "Provides\n",
      "  1. An array object of arbitrary homogeneous items\n",
      "  2. Fast mathematical operations over arrays\n",
      "  3. Linear Algebra, Fourier Transforms, Random Number Generation\n",
      "\n",
      "How to use the documentation\n",
      "----------------------------\n",
      "Documentation is available in two forms: docstrings provided\n",
      "with the code, and a loose standing reference guide, available from\n",
      "`the NumPy homepage <https://numpy.org>`_.\n",
      "\n",
      "We recommend exploring the docstrings using\n",
      "`IPython <https://ipython.org>`_, an advanced Python shell with\n",
      "TAB-completion and introspection capabilities.  See below for further\n",
      "instructions.\n",
      "\n",
      "The docstring examples assume that `numpy` has been imported as ``np``::\n",
      "\n",
      "  >>> import numpy as np\n",
      "\n",
      "Code snippets are indicated by three greater-than signs::\n",
      "\n",
      "  >>> x = 42\n",
      "  >>> x = x + 1\n",
      "\n",
      "Use the built-in ``help`` function to view a function's docstring::\n",
      "\n",
      "  >>> help(np.sort)\n",
      "  ... # doctest: +SKIP\n",
      "\n",
      "For some objects, ``np.info(obj)`` may provide additional help.  This is\n",
      "particularly true if you see the line \"Help on ufunc object:\" at the top\n",
      "of the help() page.  Ufuncs are implemented in C, not Python, for speed.\n",
      "The native Python help() does not know how to view their help, but our\n",
      "np.info() function does.\n",
      "\n",
      "To search for documents containing a keyword, do::\n",
      "\n",
      "  >>> np.lookfor('keyword')\n",
      "  ... # doctest: +SKIP\n",
      "\n",
      "General-purpose documents like a glossary and help on the basic concepts\n",
      "of numpy are available under the ``doc`` sub-module::\n",
      "\n",
      "  >>> from numpy import doc\n",
      "  >>> help(doc)\n",
      "  ... # doctest: +SKIP\n",
      "\n",
      "Available subpackages\n",
      "---------------------\n",
      "lib\n",
      "    Basic functions used by several sub-packages.\n",
      "random\n",
      "    Core Random Tools\n",
      "linalg\n",
      "    Core Linear Algebra Tools\n",
      "fft\n",
      "    Core FFT routines\n",
      "polynomial\n",
      "    Polynomial tools\n",
      "testing\n",
      "    NumPy testing tools\n",
      "distutils\n",
      "    Enhancements to distutils with support for\n",
      "    Fortran compilers support and more  (for Python <= 3.11).\n",
      "\n",
      "Utilities\n",
      "---------\n",
      "test\n",
      "    Run numpy unittests\n",
      "show_config\n",
      "    Show numpy build configuration\n",
      "matlib\n",
      "    Make everything matrices.\n",
      "__version__\n",
      "    NumPy version string\n",
      "\n",
      "Viewing documentation using IPython\n",
      "-----------------------------------\n",
      "\n",
      "Start IPython and import `numpy` usually under the alias ``np``: `import\n",
      "numpy as np`.  Then, directly past or use the ``%cpaste`` magic to paste\n",
      "examples into the shell.  To see which functions are available in `numpy`,\n",
      "type ``np.<TAB>`` (where ``<TAB>`` refers to the TAB key), or use\n",
      "``np.*cos*?<ENTER>`` (where ``<ENTER>`` refers to the ENTER key) to narrow\n",
      "down the list.  To view the docstring for a function, use\n",
      "``np.cos?<ENTER>`` (to view the docstring) and ``np.cos??<ENTER>`` (to view\n",
      "the source code).\n",
      "\n",
      "Copies vs. in-place operation\n",
      "-----------------------------\n",
      "Most of the functions in `numpy` return a copy of the array argument\n",
      "(e.g., `np.sort`).  In-place versions of these functions are often\n",
      "available as array methods, i.e. ``x = np.array([1,2,3]); x.sort()``.\n",
      "Exceptions to this rule are documented.\n"
     ]
    }
   ],
   "source": [
    "np?"
   ]
  },
  {
   "cell_type": "markdown",
   "id": "ced7f79a",
   "metadata": {},
   "source": [
    "Numpy provides to me another datastructure which is called the `ndarray`"
   ]
  },
  {
   "cell_type": "markdown",
   "id": "bc98ecb2",
   "metadata": {},
   "source": [
    "## properties of `ndarray`\n",
    "\n",
    "written in C\n",
    "\n",
    "1. Homogeneous in nature\n",
    "2. Allows broadcasting and vectorization\n",
    "3. Provides efficicent mathematical operations\n",
    "\n",
    "Things to look at\n",
    "\n",
    "1. How to create\n",
    "2. How to iterate\n",
    "3. Important methods and attributes\n",
    "4. How to make calculations"
   ]
  },
  {
   "cell_type": "markdown",
   "id": "a3e1a9ac",
   "metadata": {},
   "source": [
    "## creation\n",
    "\n",
    "using the type conversion function `np.array()`"
   ]
  },
  {
   "cell_type": "code",
   "execution_count": 6,
   "id": "cfd37225",
   "metadata": {},
   "outputs": [
    {
     "name": "stdout",
     "output_type": "stream",
     "text": [
      "[1 2 3 4]\n"
     ]
    }
   ],
   "source": [
    "a1 = np.array([1, 2, 3, 4])\n",
    "print(a1)"
   ]
  },
  {
   "cell_type": "code",
   "execution_count": 7,
   "id": "7549c4e5",
   "metadata": {},
   "outputs": [
    {
     "data": {
      "text/plain": [
       "numpy.ndarray"
      ]
     },
     "execution_count": 7,
     "metadata": {},
     "output_type": "execute_result"
    }
   ],
   "source": [
    "type(a1)"
   ]
  },
  {
   "cell_type": "markdown",
   "id": "94ff5f19",
   "metadata": {},
   "source": [
    "## some important attributes to inspect an array\n",
    "\n",
    "`.shape` `.size` `.dtype` `.nbytes` `.ndim`"
   ]
  },
  {
   "cell_type": "code",
   "execution_count": 8,
   "id": "56821eae",
   "metadata": {},
   "outputs": [
    {
     "data": {
      "text/plain": [
       "(4,)"
      ]
     },
     "execution_count": 8,
     "metadata": {},
     "output_type": "execute_result"
    }
   ],
   "source": [
    "a1.shape ## gives the shape of the array in the form of a tuple"
   ]
  },
  {
   "cell_type": "code",
   "execution_count": 9,
   "id": "6f13dc21",
   "metadata": {},
   "outputs": [
    {
     "data": {
      "text/plain": [
       "1"
      ]
     },
     "execution_count": 9,
     "metadata": {},
     "output_type": "execute_result"
    }
   ],
   "source": [
    "a1.ndim"
   ]
  },
  {
   "cell_type": "code",
   "execution_count": 10,
   "id": "0c609f61",
   "metadata": {},
   "outputs": [
    {
     "data": {
      "text/plain": [
       "dtype('int32')"
      ]
     },
     "execution_count": 10,
     "metadata": {},
     "output_type": "execute_result"
    }
   ],
   "source": [
    "a1.dtype"
   ]
  },
  {
   "cell_type": "code",
   "execution_count": 13,
   "id": "66a41ab7",
   "metadata": {},
   "outputs": [
    {
     "name": "stdout",
     "output_type": "stream",
     "text": [
      "[1 2 3 4]\n"
     ]
    }
   ],
   "source": [
    "a2 = np.array([1, 2, 3, 4], dtype='int8')\n",
    "print(a2)"
   ]
  },
  {
   "cell_type": "code",
   "execution_count": 14,
   "id": "f185435c",
   "metadata": {},
   "outputs": [
    {
     "data": {
      "text/plain": [
       "16"
      ]
     },
     "execution_count": 14,
     "metadata": {},
     "output_type": "execute_result"
    }
   ],
   "source": [
    "a1.nbytes"
   ]
  },
  {
   "cell_type": "code",
   "execution_count": 15,
   "id": "450cb629",
   "metadata": {},
   "outputs": [
    {
     "data": {
      "text/plain": [
       "4"
      ]
     },
     "execution_count": 15,
     "metadata": {},
     "output_type": "execute_result"
    }
   ],
   "source": [
    "a2.nbytes"
   ]
  },
  {
   "cell_type": "code",
   "execution_count": 16,
   "id": "3866177b",
   "metadata": {},
   "outputs": [
    {
     "data": {
      "text/plain": [
       "dtype('int8')"
      ]
     },
     "execution_count": 16,
     "metadata": {},
     "output_type": "execute_result"
    }
   ],
   "source": [
    "a2.dtype"
   ]
  },
  {
   "cell_type": "code",
   "execution_count": 17,
   "id": "fce3da89",
   "metadata": {},
   "outputs": [
    {
     "name": "stdout",
     "output_type": "stream",
     "text": [
      "['a' 'b' 'c' 'd']\n"
     ]
    }
   ],
   "source": [
    "a3 = np.array(['a', 'b', 'c', 'd'])\n",
    "print(a3)"
   ]
  },
  {
   "cell_type": "code",
   "execution_count": 18,
   "id": "e55f886a",
   "metadata": {},
   "outputs": [
    {
     "data": {
      "text/plain": [
       "numpy.ndarray"
      ]
     },
     "execution_count": 18,
     "metadata": {},
     "output_type": "execute_result"
    }
   ],
   "source": [
    "type(a3)"
   ]
  },
  {
   "cell_type": "code",
   "execution_count": 19,
   "id": "0185dd40",
   "metadata": {},
   "outputs": [
    {
     "data": {
      "text/plain": [
       "dtype('<U1')"
      ]
     },
     "execution_count": 19,
     "metadata": {},
     "output_type": "execute_result"
    }
   ],
   "source": [
    "a3.dtype"
   ]
  },
  {
   "cell_type": "code",
   "execution_count": 20,
   "id": "b315e5a0",
   "metadata": {},
   "outputs": [
    {
     "name": "stdout",
     "output_type": "stream",
     "text": [
      "4\n",
      "1\n",
      "(4,)\n",
      "16\n"
     ]
    }
   ],
   "source": [
    "print(a3.size)\n",
    "print(a3.ndim)\n",
    "print(a3.shape)\n",
    "print(a3.nbytes)"
   ]
  },
  {
   "cell_type": "code",
   "execution_count": 21,
   "id": "85d94e04",
   "metadata": {},
   "outputs": [
    {
     "name": "stdout",
     "output_type": "stream",
     "text": [
      "['1' '2' 'a' '1.5' 'b']\n"
     ]
    }
   ],
   "source": [
    "a4 = np.array([1, 2, 'a', 1.5, 'b'])\n",
    "print(a4)"
   ]
  },
  {
   "cell_type": "code",
   "execution_count": 22,
   "id": "d1afece2",
   "metadata": {},
   "outputs": [
    {
     "data": {
      "text/plain": [
       "dtype('<U32')"
      ]
     },
     "execution_count": 22,
     "metadata": {},
     "output_type": "execute_result"
    }
   ],
   "source": [
    "a4.dtype"
   ]
  },
  {
   "cell_type": "code",
   "execution_count": 23,
   "id": "077b2f74",
   "metadata": {},
   "outputs": [
    {
     "data": {
      "text/plain": [
       "array([[1, 2, 3, 4],\n",
       "       [5, 6, 7, 8]])"
      ]
     },
     "execution_count": 23,
     "metadata": {},
     "output_type": "execute_result"
    }
   ],
   "source": [
    "## 2D array\n",
    "\n",
    "a5 = np.array([[1, 2, 3, 4], [5, 6, 7, 8]])\n",
    "a5"
   ]
  },
  {
   "cell_type": "code",
   "execution_count": 24,
   "id": "825c3d80",
   "metadata": {},
   "outputs": [
    {
     "data": {
      "text/plain": [
       "2"
      ]
     },
     "execution_count": 24,
     "metadata": {},
     "output_type": "execute_result"
    }
   ],
   "source": [
    "a5.ndim"
   ]
  },
  {
   "cell_type": "code",
   "execution_count": 25,
   "id": "060f3ab5",
   "metadata": {},
   "outputs": [
    {
     "data": {
      "text/plain": [
       "(2, 4)"
      ]
     },
     "execution_count": 25,
     "metadata": {},
     "output_type": "execute_result"
    }
   ],
   "source": [
    "a5.shape"
   ]
  },
  {
   "cell_type": "code",
   "execution_count": 26,
   "id": "bb9193b8",
   "metadata": {},
   "outputs": [
    {
     "data": {
      "text/plain": [
       "2"
      ]
     },
     "execution_count": 26,
     "metadata": {},
     "output_type": "execute_result"
    }
   ],
   "source": [
    "a5.shape[0]"
   ]
  },
  {
   "cell_type": "code",
   "execution_count": 27,
   "id": "752a06ca",
   "metadata": {},
   "outputs": [
    {
     "data": {
      "text/plain": [
       "4"
      ]
     },
     "execution_count": 27,
     "metadata": {},
     "output_type": "execute_result"
    }
   ],
   "source": [
    "a5.shape[1]"
   ]
  },
  {
   "cell_type": "code",
   "execution_count": 38,
   "id": "12db59c3",
   "metadata": {},
   "outputs": [
    {
     "data": {
      "text/plain": [
       "array([[[ 1,  2,  3,  4],\n",
       "        [ 5,  6,  7,  8],\n",
       "        [11, 12, 13, 14]],\n",
       "\n",
       "       [[ 1,  2,  3,  4],\n",
       "        [ 5,  6,  7,  8],\n",
       "        [11, 12, 13, 14]]])"
      ]
     },
     "execution_count": 38,
     "metadata": {},
     "output_type": "execute_result"
    }
   ],
   "source": [
    "a6 = np.array([[[1, 2, 3, 4], [5, 6, 7, 8], [11, 12, 13, 14]],\n",
    "              [[1, 2, 3, 4], [5, 6, 7, 8], [11, 12, 13, 14]]\n",
    "              ])\n",
    "a6"
   ]
  },
  {
   "cell_type": "code",
   "execution_count": 39,
   "id": "4e8844a0",
   "metadata": {},
   "outputs": [
    {
     "data": {
      "text/plain": [
       "3"
      ]
     },
     "execution_count": 39,
     "metadata": {},
     "output_type": "execute_result"
    }
   ],
   "source": [
    "a6.ndim"
   ]
  },
  {
   "cell_type": "code",
   "execution_count": 40,
   "id": "20a86cfa",
   "metadata": {},
   "outputs": [
    {
     "data": {
      "text/plain": [
       "(2, 3, 4)"
      ]
     },
     "execution_count": 40,
     "metadata": {},
     "output_type": "execute_result"
    }
   ],
   "source": [
    "a6.shape"
   ]
  },
  {
   "cell_type": "markdown",
   "id": "86ddda85",
   "metadata": {},
   "source": [
    "## Other important functions that help create arrays\n",
    "\n",
    "`np.arange()` `np.linspace()`"
   ]
  },
  {
   "cell_type": "code",
   "execution_count": 43,
   "id": "822b5a47",
   "metadata": {},
   "outputs": [
    {
     "data": {
      "text/plain": [
       "array([ 0,  1,  2,  3,  4,  5,  6,  7,  8,  9, 10])"
      ]
     },
     "execution_count": 43,
     "metadata": {},
     "output_type": "execute_result"
    }
   ],
   "source": [
    "## Q: create an array of integers starting from 0 till 10\n",
    "\n",
    "a7 = np.arange(0, 11)\n",
    "a7"
   ]
  },
  {
   "cell_type": "code",
   "execution_count": 47,
   "id": "83c6a574",
   "metadata": {},
   "outputs": [
    {
     "data": {
      "text/plain": [
       "array([0.  , 0.01, 0.02, 0.03, 0.04, 0.05, 0.06, 0.07, 0.08, 0.09, 0.1 ,\n",
       "       0.11, 0.12, 0.13, 0.14, 0.15, 0.16, 0.17, 0.18, 0.19, 0.2 , 0.21,\n",
       "       0.22, 0.23, 0.24, 0.25, 0.26, 0.27, 0.28, 0.29, 0.3 , 0.31, 0.32,\n",
       "       0.33, 0.34, 0.35, 0.36, 0.37, 0.38, 0.39, 0.4 , 0.41, 0.42, 0.43,\n",
       "       0.44, 0.45, 0.46, 0.47, 0.48, 0.49, 0.5 , 0.51, 0.52, 0.53, 0.54,\n",
       "       0.55, 0.56, 0.57, 0.58, 0.59, 0.6 , 0.61, 0.62, 0.63, 0.64, 0.65,\n",
       "       0.66, 0.67, 0.68, 0.69, 0.7 , 0.71, 0.72, 0.73, 0.74, 0.75, 0.76,\n",
       "       0.77, 0.78, 0.79, 0.8 , 0.81, 0.82, 0.83, 0.84, 0.85, 0.86, 0.87,\n",
       "       0.88, 0.89, 0.9 , 0.91, 0.92, 0.93, 0.94, 0.95, 0.96, 0.97, 0.98,\n",
       "       0.99, 1.  ])"
      ]
     },
     "execution_count": 47,
     "metadata": {},
     "output_type": "execute_result"
    }
   ],
   "source": [
    "a8 = np.arange(0, 1.01, 0.01)  ## it works with float values as well. range() function didn't\n",
    "a8"
   ]
  },
  {
   "cell_type": "code",
   "execution_count": 51,
   "id": "6ecd4805",
   "metadata": {},
   "outputs": [
    {
     "data": {
      "text/plain": [
       "array([ 0.        ,  0.2020202 ,  0.4040404 ,  0.60606061,  0.80808081,\n",
       "        1.01010101,  1.21212121,  1.41414141,  1.61616162,  1.81818182,\n",
       "        2.02020202,  2.22222222,  2.42424242,  2.62626263,  2.82828283,\n",
       "        3.03030303,  3.23232323,  3.43434343,  3.63636364,  3.83838384,\n",
       "        4.04040404,  4.24242424,  4.44444444,  4.64646465,  4.84848485,\n",
       "        5.05050505,  5.25252525,  5.45454545,  5.65656566,  5.85858586,\n",
       "        6.06060606,  6.26262626,  6.46464646,  6.66666667,  6.86868687,\n",
       "        7.07070707,  7.27272727,  7.47474747,  7.67676768,  7.87878788,\n",
       "        8.08080808,  8.28282828,  8.48484848,  8.68686869,  8.88888889,\n",
       "        9.09090909,  9.29292929,  9.49494949,  9.6969697 ,  9.8989899 ,\n",
       "       10.1010101 , 10.3030303 , 10.50505051, 10.70707071, 10.90909091,\n",
       "       11.11111111, 11.31313131, 11.51515152, 11.71717172, 11.91919192,\n",
       "       12.12121212, 12.32323232, 12.52525253, 12.72727273, 12.92929293,\n",
       "       13.13131313, 13.33333333, 13.53535354, 13.73737374, 13.93939394,\n",
       "       14.14141414, 14.34343434, 14.54545455, 14.74747475, 14.94949495,\n",
       "       15.15151515, 15.35353535, 15.55555556, 15.75757576, 15.95959596,\n",
       "       16.16161616, 16.36363636, 16.56565657, 16.76767677, 16.96969697,\n",
       "       17.17171717, 17.37373737, 17.57575758, 17.77777778, 17.97979798,\n",
       "       18.18181818, 18.38383838, 18.58585859, 18.78787879, 18.98989899,\n",
       "       19.19191919, 19.39393939, 19.5959596 , 19.7979798 , 20.        ])"
      ]
     },
     "execution_count": 51,
     "metadata": {},
     "output_type": "execute_result"
    }
   ],
   "source": [
    "## Q: generate 100 linearly spaced numbers between 0 and 20\n",
    "\n",
    "a9 = np.linspace(0, 20, 100)  ## in linspace, the end value is also included\n",
    "a9"
   ]
  },
  {
   "cell_type": "markdown",
   "id": "3330bc27",
   "metadata": {},
   "source": [
    "## generate random numbers\n",
    "\n",
    "`np.random.random()`  `np.random.randint()`"
   ]
  },
  {
   "cell_type": "code",
   "execution_count": 4,
   "id": "6510d0ec",
   "metadata": {},
   "outputs": [
    {
     "data": {
      "text/plain": [
       "array([[0.41554967, 0.7011935 ],\n",
       "       [0.77437472, 0.07518223],\n",
       "       [0.62503312, 0.7328282 ],\n",
       "       [0.86020792, 0.94591536],\n",
       "       [0.84044888, 0.68652195],\n",
       "       [0.11341112, 0.56258364],\n",
       "       [0.16678215, 0.30017786],\n",
       "       [0.20275358, 0.19016264],\n",
       "       [0.51908141, 0.62457223],\n",
       "       [0.21144426, 0.56360184],\n",
       "       [0.34251076, 0.18911549],\n",
       "       [0.68722882, 0.1021145 ],\n",
       "       [0.73088507, 0.64128508],\n",
       "       [0.58794815, 0.16966847],\n",
       "       [0.04015077, 0.56803639],\n",
       "       [0.50334774, 0.74433354],\n",
       "       [0.20075417, 0.01799558],\n",
       "       [0.90008317, 0.19265827],\n",
       "       [0.13260728, 0.00427211],\n",
       "       [0.61805935, 0.56012234],\n",
       "       [0.92098258, 0.27553796],\n",
       "       [0.39732097, 0.7498418 ],\n",
       "       [0.81012083, 0.37426395],\n",
       "       [0.93345256, 0.92719905],\n",
       "       [0.30917284, 0.94705889],\n",
       "       [0.63057423, 0.94527284],\n",
       "       [0.30711829, 0.28282019],\n",
       "       [0.31071334, 0.90848022],\n",
       "       [0.47973761, 0.00234947],\n",
       "       [0.28267414, 0.71787823],\n",
       "       [0.10435764, 0.78108929],\n",
       "       [0.35499272, 0.71938412],\n",
       "       [0.19969216, 0.0197088 ],\n",
       "       [0.77185879, 0.51030076],\n",
       "       [0.6585505 , 0.07040807],\n",
       "       [0.21479622, 0.24349549],\n",
       "       [0.3995834 , 0.60423413],\n",
       "       [0.73842759, 0.29783437],\n",
       "       [0.26708484, 0.60625789],\n",
       "       [0.57518952, 0.625298  ],\n",
       "       [0.00640098, 0.58748676],\n",
       "       [0.14028065, 0.25396976],\n",
       "       [0.00310364, 0.02332386],\n",
       "       [0.92518312, 0.23564562],\n",
       "       [0.98154405, 0.37657131],\n",
       "       [0.1559521 , 0.91874632],\n",
       "       [0.21172877, 0.091116  ],\n",
       "       [0.61637295, 0.00298919],\n",
       "       [0.35919094, 0.72588287],\n",
       "       [0.85490193, 0.57073119],\n",
       "       [0.07785614, 0.55409393],\n",
       "       [0.37807542, 0.9366847 ],\n",
       "       [0.27136446, 0.66371991],\n",
       "       [0.63813219, 0.35003646],\n",
       "       [0.73199964, 0.2492331 ],\n",
       "       [0.76182788, 0.82779987],\n",
       "       [0.60086646, 0.13218562],\n",
       "       [0.62790243, 0.47436241],\n",
       "       [0.83652863, 0.18158012],\n",
       "       [0.50704598, 0.6404438 ],\n",
       "       [0.62573935, 0.75622922],\n",
       "       [0.93710227, 0.79253995],\n",
       "       [0.47168599, 0.62051676],\n",
       "       [0.56480792, 0.47126199],\n",
       "       [0.64644683, 0.80275895],\n",
       "       [0.3656902 , 0.99409693],\n",
       "       [0.76695099, 0.1623922 ],\n",
       "       [0.12749297, 0.99592854],\n",
       "       [0.92588495, 0.8892951 ],\n",
       "       [0.29543717, 0.97339448],\n",
       "       [0.23613037, 0.57178721],\n",
       "       [0.35877206, 0.56565196],\n",
       "       [0.58463375, 0.34267847],\n",
       "       [0.62349888, 0.74123367],\n",
       "       [0.11602057, 0.38117036],\n",
       "       [0.3500277 , 0.14752601],\n",
       "       [0.63932695, 0.14572537],\n",
       "       [0.1984581 , 0.60420243],\n",
       "       [0.45172186, 0.36144455],\n",
       "       [0.85455356, 0.60143397],\n",
       "       [0.82775451, 0.42270329],\n",
       "       [0.97403129, 0.7552637 ],\n",
       "       [0.2796105 , 0.83825306],\n",
       "       [0.59315362, 0.06366186],\n",
       "       [0.90708066, 0.27137891],\n",
       "       [0.95958698, 0.37057265],\n",
       "       [0.52463739, 0.62251971],\n",
       "       [0.67685861, 0.22017913],\n",
       "       [0.74760745, 0.70831342],\n",
       "       [0.43281456, 0.68571399],\n",
       "       [0.31949144, 0.51686156],\n",
       "       [0.53567522, 0.58503577],\n",
       "       [0.90797593, 0.97047043],\n",
       "       [0.7705721 , 0.01095164],\n",
       "       [0.12269316, 0.28560633],\n",
       "       [0.78284458, 0.51754679],\n",
       "       [0.89927415, 0.59116662],\n",
       "       [0.9518759 , 0.68308001],\n",
       "       [0.05218745, 0.79581303],\n",
       "       [0.70722978, 0.48757749]])"
      ]
     },
     "execution_count": 4,
     "metadata": {},
     "output_type": "execute_result"
    }
   ],
   "source": [
    "np.random.random((100, 2))"
   ]
  },
  {
   "cell_type": "code",
   "execution_count": 5,
   "id": "c2cb1733",
   "metadata": {},
   "outputs": [
    {
     "data": {
      "text/plain": [
       "array([[0.01368336, 0.11314762, 0.99689218, 0.53357223, 0.73570064,\n",
       "        0.20670832, 0.84190716, 0.41328103, 0.78320538, 0.42500464],\n",
       "       [0.49495777, 0.00283747, 0.3968945 , 0.36725753, 0.18076677,\n",
       "        0.52474291, 0.73018734, 0.77528717, 0.42307315, 0.90057864],\n",
       "       [0.8929631 , 0.71296811, 0.96277718, 0.91652032, 0.37699023,\n",
       "        0.29175061, 0.29114173, 0.45781986, 0.0529834 , 0.09382295],\n",
       "       [0.40215045, 0.87834398, 0.35507424, 0.02848635, 0.19451378,\n",
       "        0.15638524, 0.45103998, 0.7144127 , 0.25276635, 0.56755359],\n",
       "       [0.07212673, 0.09863474, 0.9211975 , 0.25942165, 0.24949674,\n",
       "        0.01885492, 0.28315432, 0.36615678, 0.63560222, 0.81661013],\n",
       "       [0.06778698, 0.45089816, 0.16910508, 0.03997388, 0.55254376,\n",
       "        0.22721058, 0.5864713 , 0.1208749 , 0.98054795, 0.91207434],\n",
       "       [0.15651175, 0.18647782, 0.62823497, 0.10475648, 0.61683818,\n",
       "        0.82896349, 0.25741582, 0.67225711, 0.6039438 , 0.06545736],\n",
       "       [0.87876036, 0.24437705, 0.88400689, 0.29977342, 0.78407452,\n",
       "        0.4778059 , 0.05405835, 0.74400927, 0.68137323, 0.68261309],\n",
       "       [0.13859349, 0.88499203, 0.97102833, 0.77451626, 0.78964168,\n",
       "        0.91213654, 0.23414707, 0.39028187, 0.64907462, 0.59465127],\n",
       "       [0.03089194, 0.18561536, 0.1061904 , 0.59033513, 0.20623475,\n",
       "        0.59752234, 0.90424766, 0.3355984 , 0.95798997, 0.88274507]])"
      ]
     },
     "execution_count": 5,
     "metadata": {},
     "output_type": "execute_result"
    }
   ],
   "source": [
    "## generate a 2d array of 10 by 10 and fill the array with random numbers between 0 and 1.\n",
    "\n",
    "a9 = np.random.random((10, 10))\n",
    "a9"
   ]
  },
  {
   "cell_type": "code",
   "execution_count": 119,
   "id": "98f8ddf0",
   "metadata": {},
   "outputs": [
    {
     "data": {
      "text/plain": [
       "array([84, 15, 37, 13, 47])"
      ]
     },
     "execution_count": 119,
     "metadata": {},
     "output_type": "execute_result"
    }
   ],
   "source": [
    "np.random.randint(10, 100, 5)"
   ]
  },
  {
   "cell_type": "code",
   "execution_count": 103,
   "id": "a7075771",
   "metadata": {},
   "outputs": [
    {
     "data": {
      "text/plain": [
       "array([3, 3, 8, 1, 4, 3, 8, 8, 8, 2, 9, 4, 5, 2, 8])"
      ]
     },
     "execution_count": 103,
     "metadata": {},
     "output_type": "execute_result"
    }
   ],
   "source": [
    "## Q: Generate 15 random numbers between 0 and 10\n",
    "\n",
    "a9 = np.random.randint(0, 10, 15)\n",
    "a9"
   ]
  },
  {
   "cell_type": "markdown",
   "id": "d2add9ae",
   "metadata": {},
   "source": [
    "## `.reshape()`"
   ]
  },
  {
   "cell_type": "code",
   "execution_count": 105,
   "id": "6d58bfb1",
   "metadata": {},
   "outputs": [
    {
     "data": {
      "text/plain": [
       "array([3, 3, 8, 1, 4, 3, 8, 8, 8, 2, 9, 4, 5, 2, 8])"
      ]
     },
     "execution_count": 105,
     "metadata": {},
     "output_type": "execute_result"
    }
   ],
   "source": [
    "a9"
   ]
  },
  {
   "cell_type": "code",
   "execution_count": 106,
   "id": "3682d83e",
   "metadata": {},
   "outputs": [
    {
     "data": {
      "text/plain": [
       "(15,)"
      ]
     },
     "execution_count": 106,
     "metadata": {},
     "output_type": "execute_result"
    }
   ],
   "source": [
    "a9.shape"
   ]
  },
  {
   "cell_type": "code",
   "execution_count": 109,
   "id": "b964f3bc",
   "metadata": {},
   "outputs": [
    {
     "data": {
      "text/plain": [
       "array([[3, 3, 8],\n",
       "       [1, 4, 3],\n",
       "       [8, 8, 8],\n",
       "       [2, 9, 4],\n",
       "       [5, 2, 8]])"
      ]
     },
     "execution_count": 109,
     "metadata": {},
     "output_type": "execute_result"
    }
   ],
   "source": [
    "a9.reshape((5, 3))"
   ]
  },
  {
   "cell_type": "markdown",
   "id": "6af2ed0d",
   "metadata": {},
   "source": [
    "`np.zeros()` `np.ones()` `np.full()` `np.identity()`"
   ]
  },
  {
   "cell_type": "code",
   "execution_count": 6,
   "id": "79593096",
   "metadata": {},
   "outputs": [
    {
     "data": {
      "text/plain": [
       "array([[0., 0., 0., 0., 0., 0., 0., 0., 0., 0.],\n",
       "       [0., 0., 0., 0., 0., 0., 0., 0., 0., 0.],\n",
       "       [0., 0., 0., 0., 0., 0., 0., 0., 0., 0.],\n",
       "       [0., 0., 0., 0., 0., 0., 0., 0., 0., 0.],\n",
       "       [0., 0., 0., 0., 0., 0., 0., 0., 0., 0.],\n",
       "       [0., 0., 0., 0., 0., 0., 0., 0., 0., 0.],\n",
       "       [0., 0., 0., 0., 0., 0., 0., 0., 0., 0.],\n",
       "       [0., 0., 0., 0., 0., 0., 0., 0., 0., 0.],\n",
       "       [0., 0., 0., 0., 0., 0., 0., 0., 0., 0.],\n",
       "       [0., 0., 0., 0., 0., 0., 0., 0., 0., 0.]])"
      ]
     },
     "execution_count": 6,
     "metadata": {},
     "output_type": "execute_result"
    }
   ],
   "source": [
    "np.zeros((10, 10))"
   ]
  },
  {
   "cell_type": "code",
   "execution_count": 9,
   "id": "596e4dc8",
   "metadata": {},
   "outputs": [
    {
     "data": {
      "text/plain": [
       "array([[[0., 0.],\n",
       "        [0., 0.],\n",
       "        [0., 0.],\n",
       "        [0., 0.],\n",
       "        [0., 0.],\n",
       "        [0., 0.],\n",
       "        [0., 0.],\n",
       "        [0., 0.],\n",
       "        [0., 0.],\n",
       "        [0., 0.]],\n",
       "\n",
       "       [[0., 0.],\n",
       "        [0., 0.],\n",
       "        [0., 0.],\n",
       "        [0., 0.],\n",
       "        [0., 0.],\n",
       "        [0., 0.],\n",
       "        [0., 0.],\n",
       "        [0., 0.],\n",
       "        [0., 0.],\n",
       "        [0., 0.]],\n",
       "\n",
       "       [[0., 0.],\n",
       "        [0., 0.],\n",
       "        [0., 0.],\n",
       "        [0., 0.],\n",
       "        [0., 0.],\n",
       "        [0., 0.],\n",
       "        [0., 0.],\n",
       "        [0., 0.],\n",
       "        [0., 0.],\n",
       "        [0., 0.]],\n",
       "\n",
       "       [[0., 0.],\n",
       "        [0., 0.],\n",
       "        [0., 0.],\n",
       "        [0., 0.],\n",
       "        [0., 0.],\n",
       "        [0., 0.],\n",
       "        [0., 0.],\n",
       "        [0., 0.],\n",
       "        [0., 0.],\n",
       "        [0., 0.]],\n",
       "\n",
       "       [[0., 0.],\n",
       "        [0., 0.],\n",
       "        [0., 0.],\n",
       "        [0., 0.],\n",
       "        [0., 0.],\n",
       "        [0., 0.],\n",
       "        [0., 0.],\n",
       "        [0., 0.],\n",
       "        [0., 0.],\n",
       "        [0., 0.]],\n",
       "\n",
       "       [[0., 0.],\n",
       "        [0., 0.],\n",
       "        [0., 0.],\n",
       "        [0., 0.],\n",
       "        [0., 0.],\n",
       "        [0., 0.],\n",
       "        [0., 0.],\n",
       "        [0., 0.],\n",
       "        [0., 0.],\n",
       "        [0., 0.]],\n",
       "\n",
       "       [[0., 0.],\n",
       "        [0., 0.],\n",
       "        [0., 0.],\n",
       "        [0., 0.],\n",
       "        [0., 0.],\n",
       "        [0., 0.],\n",
       "        [0., 0.],\n",
       "        [0., 0.],\n",
       "        [0., 0.],\n",
       "        [0., 0.]],\n",
       "\n",
       "       [[0., 0.],\n",
       "        [0., 0.],\n",
       "        [0., 0.],\n",
       "        [0., 0.],\n",
       "        [0., 0.],\n",
       "        [0., 0.],\n",
       "        [0., 0.],\n",
       "        [0., 0.],\n",
       "        [0., 0.],\n",
       "        [0., 0.]],\n",
       "\n",
       "       [[0., 0.],\n",
       "        [0., 0.],\n",
       "        [0., 0.],\n",
       "        [0., 0.],\n",
       "        [0., 0.],\n",
       "        [0., 0.],\n",
       "        [0., 0.],\n",
       "        [0., 0.],\n",
       "        [0., 0.],\n",
       "        [0., 0.]],\n",
       "\n",
       "       [[0., 0.],\n",
       "        [0., 0.],\n",
       "        [0., 0.],\n",
       "        [0., 0.],\n",
       "        [0., 0.],\n",
       "        [0., 0.],\n",
       "        [0., 0.],\n",
       "        [0., 0.],\n",
       "        [0., 0.],\n",
       "        [0., 0.]]])"
      ]
     },
     "execution_count": 9,
     "metadata": {},
     "output_type": "execute_result"
    }
   ],
   "source": [
    "np.zeros((10, 10,2))"
   ]
  },
  {
   "cell_type": "code",
   "execution_count": 7,
   "id": "e9ec02c6",
   "metadata": {},
   "outputs": [
    {
     "data": {
      "text/plain": [
       "array([[1., 1., 1., 1., 1., 1., 1., 1., 1., 1.],\n",
       "       [1., 1., 1., 1., 1., 1., 1., 1., 1., 1.],\n",
       "       [1., 1., 1., 1., 1., 1., 1., 1., 1., 1.],\n",
       "       [1., 1., 1., 1., 1., 1., 1., 1., 1., 1.],\n",
       "       [1., 1., 1., 1., 1., 1., 1., 1., 1., 1.],\n",
       "       [1., 1., 1., 1., 1., 1., 1., 1., 1., 1.],\n",
       "       [1., 1., 1., 1., 1., 1., 1., 1., 1., 1.],\n",
       "       [1., 1., 1., 1., 1., 1., 1., 1., 1., 1.],\n",
       "       [1., 1., 1., 1., 1., 1., 1., 1., 1., 1.],\n",
       "       [1., 1., 1., 1., 1., 1., 1., 1., 1., 1.]])"
      ]
     },
     "execution_count": 7,
     "metadata": {},
     "output_type": "execute_result"
    }
   ],
   "source": [
    "np.ones((10, 10))"
   ]
  },
  {
   "cell_type": "code",
   "execution_count": 8,
   "id": "822985ef",
   "metadata": {},
   "outputs": [
    {
     "data": {
      "text/plain": [
       "array([['python', 'python', 'python', 'python', 'python', 'python',\n",
       "        'python', 'python', 'python', 'python'],\n",
       "       ['python', 'python', 'python', 'python', 'python', 'python',\n",
       "        'python', 'python', 'python', 'python'],\n",
       "       ['python', 'python', 'python', 'python', 'python', 'python',\n",
       "        'python', 'python', 'python', 'python'],\n",
       "       ['python', 'python', 'python', 'python', 'python', 'python',\n",
       "        'python', 'python', 'python', 'python'],\n",
       "       ['python', 'python', 'python', 'python', 'python', 'python',\n",
       "        'python', 'python', 'python', 'python'],\n",
       "       ['python', 'python', 'python', 'python', 'python', 'python',\n",
       "        'python', 'python', 'python', 'python'],\n",
       "       ['python', 'python', 'python', 'python', 'python', 'python',\n",
       "        'python', 'python', 'python', 'python'],\n",
       "       ['python', 'python', 'python', 'python', 'python', 'python',\n",
       "        'python', 'python', 'python', 'python'],\n",
       "       ['python', 'python', 'python', 'python', 'python', 'python',\n",
       "        'python', 'python', 'python', 'python'],\n",
       "       ['python', 'python', 'python', 'python', 'python', 'python',\n",
       "        'python', 'python', 'python', 'python']], dtype='<U6')"
      ]
     },
     "execution_count": 8,
     "metadata": {},
     "output_type": "execute_result"
    }
   ],
   "source": [
    "np.full((10, 10), 'python')"
   ]
  },
  {
   "cell_type": "code",
   "execution_count": 118,
   "id": "d59bfc15",
   "metadata": {},
   "outputs": [
    {
     "data": {
      "text/plain": [
       "array([[1., 0., 0., 0., 0., 0., 0., 0., 0., 0.],\n",
       "       [0., 1., 0., 0., 0., 0., 0., 0., 0., 0.],\n",
       "       [0., 0., 1., 0., 0., 0., 0., 0., 0., 0.],\n",
       "       [0., 0., 0., 1., 0., 0., 0., 0., 0., 0.],\n",
       "       [0., 0., 0., 0., 1., 0., 0., 0., 0., 0.],\n",
       "       [0., 0., 0., 0., 0., 1., 0., 0., 0., 0.],\n",
       "       [0., 0., 0., 0., 0., 0., 1., 0., 0., 0.],\n",
       "       [0., 0., 0., 0., 0., 0., 0., 1., 0., 0.],\n",
       "       [0., 0., 0., 0., 0., 0., 0., 0., 1., 0.],\n",
       "       [0., 0., 0., 0., 0., 0., 0., 0., 0., 1.]])"
      ]
     },
     "execution_count": 118,
     "metadata": {},
     "output_type": "execute_result"
    }
   ],
   "source": [
    "np.identity(10)"
   ]
  },
  {
   "cell_type": "markdown",
   "id": "79c4a2dd",
   "metadata": {},
   "source": [
    "## Access elements out of an array\n",
    "\n",
    "`[]`\n",
    "\n",
    "In multidimensional arrays, indexes need to be separated by commas for each dimension."
   ]
  },
  {
   "cell_type": "code",
   "execution_count": 130,
   "id": "dbfe9371",
   "metadata": {},
   "outputs": [
    {
     "data": {
      "text/plain": [
       "array([1, 2, 3, 4])"
      ]
     },
     "execution_count": 130,
     "metadata": {},
     "output_type": "execute_result"
    }
   ],
   "source": [
    "a1"
   ]
  },
  {
   "cell_type": "code",
   "execution_count": 131,
   "id": "732c5452",
   "metadata": {},
   "outputs": [
    {
     "data": {
      "text/plain": [
       "1"
      ]
     },
     "execution_count": 131,
     "metadata": {},
     "output_type": "execute_result"
    }
   ],
   "source": [
    "a1[0]"
   ]
  },
  {
   "cell_type": "code",
   "execution_count": 132,
   "id": "a9bc9bf6",
   "metadata": {},
   "outputs": [
    {
     "data": {
      "text/plain": [
       "4"
      ]
     },
     "execution_count": 132,
     "metadata": {},
     "output_type": "execute_result"
    }
   ],
   "source": [
    "a1[-1]"
   ]
  },
  {
   "cell_type": "code",
   "execution_count": 134,
   "id": "f71191ae",
   "metadata": {},
   "outputs": [
    {
     "data": {
      "text/plain": [
       "array([1, 2, 3])"
      ]
     },
     "execution_count": 134,
     "metadata": {},
     "output_type": "execute_result"
    }
   ],
   "source": [
    "## slicing\n",
    "\n",
    "a1[:3]"
   ]
  },
  {
   "cell_type": "code",
   "execution_count": 137,
   "id": "431f77dc",
   "metadata": {},
   "outputs": [],
   "source": [
    "a10 = a9.reshape((5, 3))"
   ]
  },
  {
   "cell_type": "code",
   "execution_count": 138,
   "id": "87dcd90d",
   "metadata": {},
   "outputs": [
    {
     "data": {
      "text/plain": [
       "array([[3, 3, 8],\n",
       "       [1, 4, 3],\n",
       "       [8, 8, 8],\n",
       "       [2, 9, 4],\n",
       "       [5, 2, 8]])"
      ]
     },
     "execution_count": 138,
     "metadata": {},
     "output_type": "execute_result"
    }
   ],
   "source": [
    "a10"
   ]
  },
  {
   "cell_type": "code",
   "execution_count": 139,
   "id": "a43e7f78",
   "metadata": {},
   "outputs": [
    {
     "data": {
      "text/plain": [
       "3"
      ]
     },
     "execution_count": 139,
     "metadata": {},
     "output_type": "execute_result"
    }
   ],
   "source": [
    "a10[0, 0]"
   ]
  },
  {
   "cell_type": "code",
   "execution_count": 141,
   "id": "afe4f8e1",
   "metadata": {},
   "outputs": [
    {
     "data": {
      "text/plain": [
       "array([3, 3, 8])"
      ]
     },
     "execution_count": 141,
     "metadata": {},
     "output_type": "execute_result"
    }
   ],
   "source": [
    "a10[0, :]"
   ]
  },
  {
   "cell_type": "code",
   "execution_count": 142,
   "id": "3edcc23e",
   "metadata": {},
   "outputs": [
    {
     "data": {
      "text/plain": [
       "9"
      ]
     },
     "execution_count": 142,
     "metadata": {},
     "output_type": "execute_result"
    }
   ],
   "source": [
    "a10[3, 1]"
   ]
  },
  {
   "cell_type": "code",
   "execution_count": 145,
   "id": "b0df7bb0",
   "metadata": {},
   "outputs": [
    {
     "data": {
      "text/plain": [
       "array([3, 4, 8, 9, 2])"
      ]
     },
     "execution_count": 145,
     "metadata": {},
     "output_type": "execute_result"
    }
   ],
   "source": [
    "## fetch the first column\n",
    "\n",
    "a10[: , 1]"
   ]
  },
  {
   "cell_type": "code",
   "execution_count": 146,
   "id": "f194d7de",
   "metadata": {},
   "outputs": [
    {
     "data": {
      "text/plain": [
       "array([[3, 3, 8],\n",
       "       [1, 4, 3],\n",
       "       [8, 8, 8],\n",
       "       [2, 9, 4],\n",
       "       [5, 2, 8]])"
      ]
     },
     "execution_count": 146,
     "metadata": {},
     "output_type": "execute_result"
    }
   ],
   "source": [
    "a10"
   ]
  },
  {
   "cell_type": "code",
   "execution_count": 150,
   "id": "2d600625",
   "metadata": {},
   "outputs": [
    {
     "data": {
      "text/plain": [
       "array([[4, 3],\n",
       "       [8, 8]])"
      ]
     },
     "execution_count": 150,
     "metadata": {},
     "output_type": "execute_result"
    }
   ],
   "source": [
    "a10[1:3, 1:3]"
   ]
  },
  {
   "cell_type": "code",
   "execution_count": 152,
   "id": "fa2cbb84",
   "metadata": {},
   "outputs": [
    {
     "data": {
      "text/plain": [
       "array([8, 3, 8, 4, 8])"
      ]
     },
     "execution_count": 152,
     "metadata": {},
     "output_type": "execute_result"
    }
   ],
   "source": [
    "a10[:, -1]"
   ]
  },
  {
   "cell_type": "code",
   "execution_count": 154,
   "id": "bc54b23b",
   "metadata": {},
   "outputs": [
    {
     "data": {
      "text/plain": [
       "array([[2, 9, 4],\n",
       "       [5, 2, 8]])"
      ]
     },
     "execution_count": 154,
     "metadata": {},
     "output_type": "execute_result"
    }
   ],
   "source": [
    "a10[3:, :]"
   ]
  },
  {
   "cell_type": "code",
   "execution_count": 156,
   "id": "d08fe87f",
   "metadata": {},
   "outputs": [
    {
     "data": {
      "text/plain": [
       "array([[8, 8],\n",
       "       [9, 4],\n",
       "       [2, 8]])"
      ]
     },
     "execution_count": 156,
     "metadata": {},
     "output_type": "execute_result"
    }
   ],
   "source": [
    "a10[2:, 1:]"
   ]
  },
  {
   "cell_type": "markdown",
   "id": "dd216e8c",
   "metadata": {},
   "source": [
    "## updating elements"
   ]
  },
  {
   "cell_type": "code",
   "execution_count": 157,
   "id": "dc2bca44",
   "metadata": {},
   "outputs": [
    {
     "data": {
      "text/plain": [
       "array([[3, 3, 8],\n",
       "       [1, 4, 3],\n",
       "       [8, 8, 8],\n",
       "       [2, 9, 4],\n",
       "       [5, 2, 8]])"
      ]
     },
     "execution_count": 157,
     "metadata": {},
     "output_type": "execute_result"
    }
   ],
   "source": [
    "a10"
   ]
  },
  {
   "cell_type": "code",
   "execution_count": 159,
   "id": "1e490922",
   "metadata": {},
   "outputs": [],
   "source": [
    "a10[0, 0] = -1"
   ]
  },
  {
   "cell_type": "code",
   "execution_count": 160,
   "id": "f8d13128",
   "metadata": {},
   "outputs": [
    {
     "data": {
      "text/plain": [
       "array([[-1,  3,  8],\n",
       "       [ 1,  4,  3],\n",
       "       [ 8,  8,  8],\n",
       "       [ 2,  9,  4],\n",
       "       [ 5,  2,  8]])"
      ]
     },
     "execution_count": 160,
     "metadata": {},
     "output_type": "execute_result"
    }
   ],
   "source": [
    "a10"
   ]
  },
  {
   "cell_type": "code",
   "execution_count": 170,
   "id": "d7a4191c",
   "metadata": {},
   "outputs": [
    {
     "data": {
      "text/plain": [
       "array([[-1,  3,  8],\n",
       "       [ 1,  4,  3],\n",
       "       [-1,  0,  0],\n",
       "       [ 2,  0,  0],\n",
       "       [ 5,  2,  8]])"
      ]
     },
     "execution_count": 170,
     "metadata": {},
     "output_type": "execute_result"
    }
   ],
   "source": [
    "a10"
   ]
  },
  {
   "cell_type": "code",
   "execution_count": 172,
   "id": "96d7f4b8",
   "metadata": {},
   "outputs": [],
   "source": [
    "a10[2] = [-1, -2, -3]"
   ]
  },
  {
   "cell_type": "code",
   "execution_count": 173,
   "id": "728bb1f1",
   "metadata": {},
   "outputs": [
    {
     "data": {
      "text/plain": [
       "array([[-1,  3,  8],\n",
       "       [ 1,  4,  3],\n",
       "       [-1, -2, -3],\n",
       "       [ 2,  0,  0],\n",
       "       [ 5,  2,  8]])"
      ]
     },
     "execution_count": 173,
     "metadata": {},
     "output_type": "execute_result"
    }
   ],
   "source": [
    "a10"
   ]
  },
  {
   "cell_type": "code",
   "execution_count": 164,
   "id": "d76ef75f",
   "metadata": {},
   "outputs": [],
   "source": [
    "a10[2] = -1 ## not possible for a list"
   ]
  },
  {
   "cell_type": "code",
   "execution_count": 165,
   "id": "cf0439b6",
   "metadata": {},
   "outputs": [
    {
     "data": {
      "text/plain": [
       "array([[-1,  3,  8],\n",
       "       [ 1,  4,  3],\n",
       "       [-1, -1, -1],\n",
       "       [ 2,  9,  4],\n",
       "       [ 5,  2,  8]])"
      ]
     },
     "execution_count": 165,
     "metadata": {},
     "output_type": "execute_result"
    }
   ],
   "source": [
    "a10"
   ]
  },
  {
   "cell_type": "code",
   "execution_count": 166,
   "id": "0024e354",
   "metadata": {},
   "outputs": [
    {
     "data": {
      "text/plain": [
       "array([[-1,  3,  8],\n",
       "       [ 1,  4,  3],\n",
       "       [-1, -1, -1],\n",
       "       [ 2,  9,  4],\n",
       "       [ 5,  2,  8]])"
      ]
     },
     "execution_count": 166,
     "metadata": {},
     "output_type": "execute_result"
    }
   ],
   "source": [
    "a10"
   ]
  },
  {
   "cell_type": "code",
   "execution_count": 168,
   "id": "7a357a95",
   "metadata": {},
   "outputs": [],
   "source": [
    "a10[2:4, 1:] = 0"
   ]
  },
  {
   "cell_type": "code",
   "execution_count": 169,
   "id": "f156f9d8",
   "metadata": {},
   "outputs": [
    {
     "data": {
      "text/plain": [
       "array([[-1,  3,  8],\n",
       "       [ 1,  4,  3],\n",
       "       [-1,  0,  0],\n",
       "       [ 2,  0,  0],\n",
       "       [ 5,  2,  8]])"
      ]
     },
     "execution_count": 169,
     "metadata": {},
     "output_type": "execute_result"
    }
   ],
   "source": [
    "a10"
   ]
  },
  {
   "cell_type": "markdown",
   "id": "fee194af",
   "metadata": {},
   "source": [
    "`.transpose()`, `.T`"
   ]
  },
  {
   "cell_type": "code",
   "execution_count": 177,
   "id": "cdd5e2ef",
   "metadata": {},
   "outputs": [
    {
     "name": "stdout",
     "output_type": "stream",
     "text": [
      "[[-1  3  8]\n",
      " [ 1  4  3]\n",
      " [-1 -2 -3]\n",
      " [ 2  0  0]\n",
      " [ 5  2  8]]\n",
      "[[-1  1 -1  2  5]\n",
      " [ 3  4 -2  0  2]\n",
      " [ 8  3 -3  0  8]]\n"
     ]
    }
   ],
   "source": [
    "print(a10)\n",
    "a10 = a10.transpose() ## no permanent change\n",
    "print(a10)"
   ]
  },
  {
   "cell_type": "code",
   "execution_count": 178,
   "id": "584b0e93",
   "metadata": {},
   "outputs": [
    {
     "data": {
      "text/plain": [
       "array([[-1,  3,  8],\n",
       "       [ 1,  4,  3],\n",
       "       [-1, -2, -3],\n",
       "       [ 2,  0,  0],\n",
       "       [ 5,  2,  8]])"
      ]
     },
     "execution_count": 178,
     "metadata": {},
     "output_type": "execute_result"
    }
   ],
   "source": [
    "a10.T    ## no brackets required here"
   ]
  },
  {
   "cell_type": "markdown",
   "id": "16dc5003",
   "metadata": {},
   "source": [
    "## Making calculations on arrays"
   ]
  },
  {
   "cell_type": "code",
   "execution_count": 181,
   "id": "ef92e57a",
   "metadata": {},
   "outputs": [
    {
     "data": {
      "text/plain": [
       "array([[ 9, 11,  9, 12, 15],\n",
       "       [13, 14,  8, 10, 12],\n",
       "       [18, 13,  7, 10, 18]])"
      ]
     },
     "execution_count": 181,
     "metadata": {},
     "output_type": "execute_result"
    }
   ],
   "source": [
    "a10 + 10"
   ]
  },
  {
   "cell_type": "code",
   "execution_count": 182,
   "id": "6503fdbf",
   "metadata": {},
   "outputs": [
    {
     "data": {
      "text/plain": [
       "array([[ 1,  1,  1,  4, 25],\n",
       "       [ 9, 16,  4,  0,  4],\n",
       "       [64,  9,  9,  0, 64]], dtype=int32)"
      ]
     },
     "execution_count": 182,
     "metadata": {},
     "output_type": "execute_result"
    }
   ],
   "source": [
    "a10 ** 2"
   ]
  },
  {
   "cell_type": "code",
   "execution_count": 183,
   "id": "d8f67243",
   "metadata": {},
   "outputs": [
    {
     "data": {
      "text/plain": [
       "array([[-1,  0, -1,  0,  0],\n",
       "       [ 0,  0, -1,  0,  0],\n",
       "       [ 0,  0, -1,  0,  0]], dtype=int32)"
      ]
     },
     "execution_count": 183,
     "metadata": {},
     "output_type": "execute_result"
    }
   ],
   "source": [
    "a10 // 10"
   ]
  },
  {
   "cell_type": "code",
   "execution_count": 184,
   "id": "37859869",
   "metadata": {},
   "outputs": [
    {
     "data": {
      "text/plain": [
       "array([[ 1, -1,  1, -2, -5],\n",
       "       [-3, -4,  2,  0, -2],\n",
       "       [-8, -3,  3,  0, -8]])"
      ]
     },
     "execution_count": 184,
     "metadata": {},
     "output_type": "execute_result"
    }
   ],
   "source": [
    "a10 * -1"
   ]
  },
  {
   "cell_type": "code",
   "execution_count": 186,
   "id": "a7680604",
   "metadata": {},
   "outputs": [],
   "source": [
    "## Boolean indexing or filtering numpy arrays"
   ]
  },
  {
   "cell_type": "code",
   "execution_count": 188,
   "id": "dcc1938d",
   "metadata": {},
   "outputs": [
    {
     "data": {
      "text/plain": [
       "array([1, 2])"
      ]
     },
     "execution_count": 188,
     "metadata": {},
     "output_type": "execute_result"
    }
   ],
   "source": [
    "a1[[True, True, False, False]]"
   ]
  },
  {
   "cell_type": "code",
   "execution_count": 191,
   "id": "ad43ff60",
   "metadata": {},
   "outputs": [
    {
     "data": {
      "text/plain": [
       "array([3, 4])"
      ]
     },
     "execution_count": 191,
     "metadata": {},
     "output_type": "execute_result"
    }
   ],
   "source": [
    "a1[ a1 > 2 ]"
   ]
  },
  {
   "cell_type": "code",
   "execution_count": 193,
   "id": "a1388479",
   "metadata": {},
   "outputs": [
    {
     "data": {
      "text/plain": [
       "array([1, 2, 4])"
      ]
     },
     "execution_count": 193,
     "metadata": {},
     "output_type": "execute_result"
    }
   ],
   "source": [
    "a1[[True, True, False, True]]"
   ]
  },
  {
   "cell_type": "code",
   "execution_count": 195,
   "id": "74da62e2",
   "metadata": {},
   "outputs": [
    {
     "data": {
      "text/plain": [
       "array([3, 4])"
      ]
     },
     "execution_count": 195,
     "metadata": {},
     "output_type": "execute_result"
    }
   ],
   "source": [
    "a1[ a1 > 2 ]"
   ]
  },
  {
   "cell_type": "code",
   "execution_count": 197,
   "id": "3d1cddca",
   "metadata": {},
   "outputs": [
    {
     "data": {
      "text/plain": [
       "array([5, 8, 8])"
      ]
     },
     "execution_count": 197,
     "metadata": {},
     "output_type": "execute_result"
    }
   ],
   "source": [
    "a10[ a10 > 4 ]"
   ]
  },
  {
   "cell_type": "code",
   "execution_count": 204,
   "id": "543fd0fc",
   "metadata": {},
   "outputs": [
    {
     "data": {
      "text/plain": [
       "array([5])"
      ]
     },
     "execution_count": 204,
     "metadata": {},
     "output_type": "execute_result"
    }
   ],
   "source": [
    "a10[ (a10 > 4) & (a10 < 8)]"
   ]
  },
  {
   "cell_type": "code",
   "execution_count": 205,
   "id": "f41c3fe4",
   "metadata": {},
   "outputs": [
    {
     "data": {
      "text/plain": [
       "array([[12,  8, 18, 10],\n",
       "       [12, 10, 17,  8],\n",
       "       [17,  6, 10,  8],\n",
       "       [11, 13, 14, 18],\n",
       "       [ 8,  6, 16, 10]])"
      ]
     },
     "execution_count": 205,
     "metadata": {},
     "output_type": "execute_result"
    }
   ],
   "source": [
    "a11 = np.random.randint(5, 20, (5, 4))\n",
    "a11"
   ]
  },
  {
   "cell_type": "code",
   "execution_count": 208,
   "id": "c402ed5b",
   "metadata": {},
   "outputs": [
    {
     "data": {
      "text/plain": [
       "array([12,  8, 18, 10, 12, 10, 17,  8, 17, 10,  8, 11, 13, 14, 18,  8, 16,\n",
       "       10])"
      ]
     },
     "execution_count": 208,
     "metadata": {},
     "output_type": "execute_result"
    }
   ],
   "source": [
    "## Q: get all the elemnts which are not 6\n",
    "\n",
    "a11[~(a11 == 6)]"
   ]
  },
  {
   "cell_type": "markdown",
   "id": "ee573cf0",
   "metadata": {},
   "source": [
    "`np.hstack()`\n",
    "\n",
    "`np.vstack()`"
   ]
  },
  {
   "cell_type": "code",
   "execution_count": 209,
   "id": "4887d6af",
   "metadata": {},
   "outputs": [],
   "source": [
    "np.hstack?"
   ]
  },
  {
   "cell_type": "code",
   "execution_count": 210,
   "id": "fce64abc",
   "metadata": {},
   "outputs": [
    {
     "data": {
      "text/plain": [
       "array([[-1,  1, -1,  2,  5],\n",
       "       [ 3,  4, -2,  0,  2],\n",
       "       [ 8,  3, -3,  0,  8]])"
      ]
     },
     "execution_count": 210,
     "metadata": {},
     "output_type": "execute_result"
    }
   ],
   "source": [
    "a10"
   ]
  },
  {
   "cell_type": "code",
   "execution_count": 215,
   "id": "61a84e27",
   "metadata": {},
   "outputs": [
    {
     "data": {
      "text/plain": [
       "array([[5, 6, 9],\n",
       "       [9, 8, 7],\n",
       "       [7, 5, 5]])"
      ]
     },
     "execution_count": 215,
     "metadata": {},
     "output_type": "execute_result"
    }
   ],
   "source": [
    "a12 = np.random.randint(5, 10, (3, 3))\n",
    "a12"
   ]
  },
  {
   "cell_type": "code",
   "execution_count": 216,
   "id": "3e8279ef",
   "metadata": {},
   "outputs": [
    {
     "data": {
      "text/plain": [
       "array([[-1,  1, -1,  2,  5,  5,  6,  9],\n",
       "       [ 3,  4, -2,  0,  2,  9,  8,  7],\n",
       "       [ 8,  3, -3,  0,  8,  7,  5,  5]])"
      ]
     },
     "execution_count": 216,
     "metadata": {},
     "output_type": "execute_result"
    }
   ],
   "source": [
    "np.hstack((a10, a12)) ## horizontal stacking"
   ]
  },
  {
   "cell_type": "code",
   "execution_count": 217,
   "id": "cb938898",
   "metadata": {},
   "outputs": [
    {
     "data": {
      "text/plain": [
       "array([[-1,  1, -1,  2,  5],\n",
       "       [ 3,  4, -2,  0,  2],\n",
       "       [ 8,  3, -3,  0,  8]])"
      ]
     },
     "execution_count": 217,
     "metadata": {},
     "output_type": "execute_result"
    }
   ],
   "source": [
    "a10"
   ]
  },
  {
   "cell_type": "code",
   "execution_count": 218,
   "id": "21d11fc7",
   "metadata": {},
   "outputs": [
    {
     "data": {
      "text/plain": [
       "array([[6, 8, 5, 5, 6],\n",
       "       [7, 7, 7, 7, 7],\n",
       "       [6, 6, 7, 5, 9],\n",
       "       [5, 5, 7, 7, 7],\n",
       "       [5, 6, 5, 7, 6]])"
      ]
     },
     "execution_count": 218,
     "metadata": {},
     "output_type": "execute_result"
    }
   ],
   "source": [
    "a13 = np.random.randint(5, 10, (5, 5))\n",
    "a13"
   ]
  },
  {
   "cell_type": "code",
   "execution_count": 220,
   "id": "b51fb1f4",
   "metadata": {},
   "outputs": [
    {
     "data": {
      "text/plain": [
       "array([[ 6,  8,  5,  5,  6],\n",
       "       [ 7,  7,  7,  7,  7],\n",
       "       [ 6,  6,  7,  5,  9],\n",
       "       [ 5,  5,  7,  7,  7],\n",
       "       [ 5,  6,  5,  7,  6],\n",
       "       [-1,  1, -1,  2,  5],\n",
       "       [ 3,  4, -2,  0,  2],\n",
       "       [ 8,  3, -3,  0,  8]])"
      ]
     },
     "execution_count": 220,
     "metadata": {},
     "output_type": "execute_result"
    }
   ],
   "source": [
    "np.vstack((a13, a10))"
   ]
  },
  {
   "cell_type": "code",
   "execution_count": null,
   "id": "36d7ea9d",
   "metadata": {},
   "outputs": [],
   "source": []
  }
 ],
 "metadata": {
  "kernelspec": {
   "display_name": "Python 3",
   "language": "python",
   "name": "python3"
  },
  "language_info": {
   "codemirror_mode": {
    "name": "ipython",
    "version": 3
   },
   "file_extension": ".py",
   "mimetype": "text/x-python",
   "name": "python",
   "nbconvert_exporter": "python",
   "pygments_lexer": "ipython3",
   "version": "3.9.7"
  }
 },
 "nbformat": 4,
 "nbformat_minor": 5
}
