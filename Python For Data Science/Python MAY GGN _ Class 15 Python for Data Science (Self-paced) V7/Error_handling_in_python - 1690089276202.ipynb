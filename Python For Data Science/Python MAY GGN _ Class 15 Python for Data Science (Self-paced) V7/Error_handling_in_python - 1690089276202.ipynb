{
 "cells": [
  {
   "cell_type": "markdown",
   "id": "a78d0305",
   "metadata": {},
   "source": [
    "## Error handling\n",
    "\n",
    "Error handling is a very important part of coding. It will make sure our code runs smoothly even with edge cases. `try` and `except` are the syntax we use in error handling. Let's create a function to demonstrate how this works. \n",
    "\n",
    "We start with a function that calculates the quotient of two numbers. There are two inputs of the function: `nominator` and `denominator`. The function works only when:\n",
    "\n",
    "* both inputs are numerical numbers\n",
    "* the denominator is not zero\n",
    "\n",
    "We can use `try` and `except` to make sure the function runs smoothly even with error inputs."
   ]
  },
  {
   "cell_type": "code",
   "execution_count": 2,
   "id": "c49bfd94",
   "metadata": {},
   "outputs": [],
   "source": [
    "def get_quotient(nominator, denominator):\n",
    "    try:\n",
    "        quotient = nominator / denominator\n",
    "        return quotient\n",
    "    except:  # if the above returns an exception\n",
    "        return print(\"function not working\")"
   ]
  },
  {
   "cell_type": "markdown",
   "id": "0e898d91",
   "metadata": {},
   "source": [
    "The function will return the quotient as long as there are no errors."
   ]
  },
  {
   "cell_type": "code",
   "execution_count": 3,
   "id": "13d96513",
   "metadata": {},
   "outputs": [
    {
     "data": {
      "text/plain": [
       "0.5"
      ]
     },
     "execution_count": 3,
     "metadata": {},
     "output_type": "execute_result"
    }
   ],
   "source": [
    "get_quotient(1, 2)"
   ]
  },
  {
   "cell_type": "markdown",
   "id": "46b9053f",
   "metadata": {},
   "source": [
    "The function will go the except section and print a message when an error is encountered."
   ]
  },
  {
   "cell_type": "code",
   "execution_count": 4,
   "id": "fd6cbca6",
   "metadata": {},
   "outputs": [
    {
     "name": "stdout",
     "output_type": "stream",
     "text": [
      "function not working\n",
      "control came back to the main program\n"
     ]
    }
   ],
   "source": [
    "get_quotient(1, 0)\n",
    "print('control came back to the main program')"
   ]
  },
  {
   "cell_type": "code",
   "execution_count": 5,
   "id": "3e8a06b3",
   "metadata": {},
   "outputs": [],
   "source": [
    "## without the use of try and except, the following code would just crash and would not know what\n",
    "## to do if an error is an encountered. It will just stop\n",
    "\n",
    "def get_quotient2(nominator, denominator):\n",
    "        quotient = nominator / denominator\n",
    "        return quotient"
   ]
  },
  {
   "cell_type": "code",
   "execution_count": 6,
   "id": "ae91a74c",
   "metadata": {},
   "outputs": [
    {
     "ename": "ZeroDivisionError",
     "evalue": "division by zero",
     "output_type": "error",
     "traceback": [
      "\u001b[1;31m---------------------------------------------------------------------------\u001b[0m",
      "\u001b[1;31mZeroDivisionError\u001b[0m                         Traceback (most recent call last)",
      "\u001b[1;32m<ipython-input-6-24b656a0e7af>\u001b[0m in \u001b[0;36m<module>\u001b[1;34m\u001b[0m\n\u001b[1;32m----> 1\u001b[1;33m \u001b[0mget_quotient2\u001b[0m\u001b[1;33m(\u001b[0m\u001b[1;36m1\u001b[0m\u001b[1;33m,\u001b[0m \u001b[1;36m0\u001b[0m\u001b[1;33m)\u001b[0m\u001b[1;33m\u001b[0m\u001b[1;33m\u001b[0m\u001b[0m\n\u001b[0m\u001b[0;32m      2\u001b[0m \u001b[0mprint\u001b[0m\u001b[1;33m(\u001b[0m\u001b[1;34m'control never came back'\u001b[0m\u001b[1;33m)\u001b[0m\u001b[1;33m\u001b[0m\u001b[1;33m\u001b[0m\u001b[0m\n",
      "\u001b[1;32m<ipython-input-5-923f40f644a9>\u001b[0m in \u001b[0;36mget_quotient2\u001b[1;34m(nominator, denominator)\u001b[0m\n\u001b[0;32m      3\u001b[0m \u001b[1;33m\u001b[0m\u001b[0m\n\u001b[0;32m      4\u001b[0m \u001b[1;32mdef\u001b[0m \u001b[0mget_quotient2\u001b[0m\u001b[1;33m(\u001b[0m\u001b[0mnominator\u001b[0m\u001b[1;33m,\u001b[0m \u001b[0mdenominator\u001b[0m\u001b[1;33m)\u001b[0m\u001b[1;33m:\u001b[0m\u001b[1;33m\u001b[0m\u001b[1;33m\u001b[0m\u001b[0m\n\u001b[1;32m----> 5\u001b[1;33m         \u001b[0mquotient\u001b[0m \u001b[1;33m=\u001b[0m \u001b[0mnominator\u001b[0m \u001b[1;33m/\u001b[0m \u001b[0mdenominator\u001b[0m\u001b[1;33m\u001b[0m\u001b[1;33m\u001b[0m\u001b[0m\n\u001b[0m\u001b[0;32m      6\u001b[0m         \u001b[1;32mreturn\u001b[0m \u001b[0mquotient\u001b[0m\u001b[1;33m\u001b[0m\u001b[1;33m\u001b[0m\u001b[0m\n",
      "\u001b[1;31mZeroDivisionError\u001b[0m: division by zero"
     ]
    }
   ],
   "source": [
    "get_quotient2(1, 0)\n",
    "print('control never came back')"
   ]
  },
  {
   "cell_type": "markdown",
   "id": "79a44e5a",
   "metadata": {},
   "source": [
    "## Raising Errors\n",
    "\n",
    "Even though the previous function can handle the errors, it doesn't tell us what is the error causing the issue. In this case, we can print out the error message:"
   ]
  },
  {
   "cell_type": "code",
   "execution_count": 7,
   "id": "9731fd3c",
   "metadata": {},
   "outputs": [],
   "source": [
    "def get_quotient(nominator, denominator):\n",
    "    try:\n",
    "        quotient = nominator / denominator\n",
    "        return quotient\n",
    "    except Exception as e:  ## Exception is the most general/base class for all built-in excpetions in python\n",
    "                                ## you might have already seen some exceptions like `ValueError`, `TypeError`, etc.\n",
    "        return print(e)"
   ]
  },
  {
   "cell_type": "code",
   "execution_count": 8,
   "id": "46bb2d9e",
   "metadata": {},
   "outputs": [
    {
     "data": {
      "text/plain": [
       "0.5"
      ]
     },
     "execution_count": 8,
     "metadata": {},
     "output_type": "execute_result"
    }
   ],
   "source": [
    "get_quotient(1, 2)"
   ]
  },
  {
   "cell_type": "code",
   "execution_count": 9,
   "id": "3c043300",
   "metadata": {},
   "outputs": [
    {
     "name": "stdout",
     "output_type": "stream",
     "text": [
      "division by zero\n",
      "control comes back\n"
     ]
    }
   ],
   "source": [
    "get_quotient(1, 0)\n",
    "print('control comes back')"
   ]
  },
  {
   "cell_type": "code",
   "execution_count": 10,
   "id": "8d0c263b",
   "metadata": {},
   "outputs": [],
   "source": [
    "## try is what must be tried first\n",
    "## if an error happens what must happen is given in except\n",
    "## there can be multiple except blocks after a try block to handle different errors differently.\n"
   ]
  },
  {
   "cell_type": "code",
   "execution_count": 20,
   "id": "35dad2dd",
   "metadata": {},
   "outputs": [],
   "source": [
    "def get_quotient3(nominator, denominator):\n",
    "    try:\n",
    "        quotient = nominator / denominator\n",
    "        return quotient\n",
    "    except ZeroDivisionError:\n",
    "        print(\"can't divide by zero. Dividing by an extremely small quantity\")\n",
    "        quotient = nominator / 1e-8\n",
    "        return quotient\n",
    "    except:  # for  everything else\n",
    "        return print(\"an error occured\")"
   ]
  },
  {
   "cell_type": "code",
   "execution_count": 21,
   "id": "fd1cc8b1",
   "metadata": {},
   "outputs": [
    {
     "data": {
      "text/plain": [
       "5.0"
      ]
     },
     "execution_count": 21,
     "metadata": {},
     "output_type": "execute_result"
    }
   ],
   "source": [
    "get_quotient3(10, 2)"
   ]
  },
  {
   "cell_type": "code",
   "execution_count": 22,
   "id": "deef40ab",
   "metadata": {},
   "outputs": [
    {
     "name": "stdout",
     "output_type": "stream",
     "text": [
      "can't divide by zero. Dividing by an extremely small quantity\n"
     ]
    },
    {
     "data": {
      "text/plain": [
       "1000000000.0"
      ]
     },
     "execution_count": 22,
     "metadata": {},
     "output_type": "execute_result"
    }
   ],
   "source": [
    "get_quotient3(10, 0)"
   ]
  },
  {
   "cell_type": "code",
   "execution_count": 23,
   "id": "5c64ad2a",
   "metadata": {},
   "outputs": [
    {
     "name": "stdout",
     "output_type": "stream",
     "text": [
      "an error occured\n"
     ]
    }
   ],
   "source": [
    "get_quotient3(10, '5')"
   ]
  },
  {
   "cell_type": "code",
   "execution_count": null,
   "id": "849944d8",
   "metadata": {},
   "outputs": [],
   "source": []
  }
 ],
 "metadata": {
  "kernelspec": {
   "display_name": "Python 3",
   "language": "python",
   "name": "python3"
  },
  "language_info": {
   "codemirror_mode": {
    "name": "ipython",
    "version": 3
   },
   "file_extension": ".py",
   "mimetype": "text/x-python",
   "name": "python",
   "nbconvert_exporter": "python",
   "pygments_lexer": "ipython3",
   "version": "3.8.8"
  }
 },
 "nbformat": 4,
 "nbformat_minor": 5
}
