{
 "cells": [
  {
   "cell_type": "code",
   "execution_count": 1,
   "id": "9ae9a342",
   "metadata": {},
   "outputs": [],
   "source": [
    "import pandas as pd\n",
    "import numpy as np\n",
    "import seaborn as sns\n",
    "import matplotlib.pyplot as plt\n",
    "\n",
    "import scipy.stats as stats"
   ]
  },
  {
   "cell_type": "code",
   "execution_count": 4,
   "id": "3f15206f",
   "metadata": {},
   "outputs": [],
   "source": [
    "%matplotlib inline"
   ]
  },
  {
   "cell_type": "code",
   "execution_count": 5,
   "id": "82d27be1",
   "metadata": {},
   "outputs": [],
   "source": [
    "tips = sns.load_dataset('tips')"
   ]
  },
  {
   "cell_type": "code",
   "execution_count": 6,
   "id": "6e4f24e8",
   "metadata": {},
   "outputs": [
    {
     "data": {
      "text/html": [
       "<div>\n",
       "<style scoped>\n",
       "    .dataframe tbody tr th:only-of-type {\n",
       "        vertical-align: middle;\n",
       "    }\n",
       "\n",
       "    .dataframe tbody tr th {\n",
       "        vertical-align: top;\n",
       "    }\n",
       "\n",
       "    .dataframe thead th {\n",
       "        text-align: right;\n",
       "    }\n",
       "</style>\n",
       "<table border=\"1\" class=\"dataframe\">\n",
       "  <thead>\n",
       "    <tr style=\"text-align: right;\">\n",
       "      <th></th>\n",
       "      <th>total_bill</th>\n",
       "      <th>tip</th>\n",
       "      <th>sex</th>\n",
       "      <th>smoker</th>\n",
       "      <th>day</th>\n",
       "      <th>time</th>\n",
       "      <th>size</th>\n",
       "    </tr>\n",
       "  </thead>\n",
       "  <tbody>\n",
       "    <tr>\n",
       "      <th>0</th>\n",
       "      <td>16.99</td>\n",
       "      <td>1.01</td>\n",
       "      <td>Female</td>\n",
       "      <td>No</td>\n",
       "      <td>Sun</td>\n",
       "      <td>Dinner</td>\n",
       "      <td>2</td>\n",
       "    </tr>\n",
       "    <tr>\n",
       "      <th>1</th>\n",
       "      <td>10.34</td>\n",
       "      <td>1.66</td>\n",
       "      <td>Male</td>\n",
       "      <td>No</td>\n",
       "      <td>Sun</td>\n",
       "      <td>Dinner</td>\n",
       "      <td>3</td>\n",
       "    </tr>\n",
       "    <tr>\n",
       "      <th>2</th>\n",
       "      <td>21.01</td>\n",
       "      <td>3.50</td>\n",
       "      <td>Male</td>\n",
       "      <td>No</td>\n",
       "      <td>Sun</td>\n",
       "      <td>Dinner</td>\n",
       "      <td>3</td>\n",
       "    </tr>\n",
       "    <tr>\n",
       "      <th>3</th>\n",
       "      <td>23.68</td>\n",
       "      <td>3.31</td>\n",
       "      <td>Male</td>\n",
       "      <td>No</td>\n",
       "      <td>Sun</td>\n",
       "      <td>Dinner</td>\n",
       "      <td>2</td>\n",
       "    </tr>\n",
       "    <tr>\n",
       "      <th>4</th>\n",
       "      <td>24.59</td>\n",
       "      <td>3.61</td>\n",
       "      <td>Female</td>\n",
       "      <td>No</td>\n",
       "      <td>Sun</td>\n",
       "      <td>Dinner</td>\n",
       "      <td>4</td>\n",
       "    </tr>\n",
       "  </tbody>\n",
       "</table>\n",
       "</div>"
      ],
      "text/plain": [
       "   total_bill   tip     sex smoker  day    time  size\n",
       "0       16.99  1.01  Female     No  Sun  Dinner     2\n",
       "1       10.34  1.66    Male     No  Sun  Dinner     3\n",
       "2       21.01  3.50    Male     No  Sun  Dinner     3\n",
       "3       23.68  3.31    Male     No  Sun  Dinner     2\n",
       "4       24.59  3.61  Female     No  Sun  Dinner     4"
      ]
     },
     "execution_count": 6,
     "metadata": {},
     "output_type": "execute_result"
    }
   ],
   "source": [
    "tips.head()"
   ]
  },
  {
   "cell_type": "code",
   "execution_count": 7,
   "id": "89be963f",
   "metadata": {},
   "outputs": [
    {
     "data": {
      "text/plain": [
       "19.785942622950824"
      ]
     },
     "execution_count": 7,
     "metadata": {},
     "output_type": "execute_result"
    }
   ],
   "source": [
    "tips.total_bill.mean()"
   ]
  },
  {
   "cell_type": "code",
   "execution_count": 8,
   "id": "277e3923",
   "metadata": {},
   "outputs": [
    {
     "data": {
      "text/plain": [
       "Ttest_1sampResult(statistic=-3.884866483201325, pvalue=0.00013206278606622297)"
      ]
     },
     "execution_count": 8,
     "metadata": {},
     "output_type": "execute_result"
    }
   ],
   "source": [
    "## Q1: A report claims that the average total_bill in the New Jersey area is $22. Check this claim.\n",
    "\n",
    "## H0: mean of total bill in new jersey = $22\n",
    "## Ha: mean != $22\n",
    "\n",
    "\n",
    "## Confidence interval: 95%\n",
    "## p value critical: 5%\n",
    "\n",
    "## what kind of test? t test\n",
    "\n",
    "## t test\n",
    "\n",
    "stats.ttest_1samp(tips.total_bill, 22)"
   ]
  },
  {
   "cell_type": "code",
   "execution_count": 12,
   "id": "6b7b222a",
   "metadata": {},
   "outputs": [
    {
     "data": {
      "text/plain": [
       "-3.8848664832013187"
      ]
     },
     "execution_count": 12,
     "metadata": {},
     "output_type": "execute_result"
    }
   ],
   "source": [
    "(tips.total_bill.mean() - 22) / (tips.total_bill.std() / tips.total_bill.count() ** 0.5)"
   ]
  },
  {
   "cell_type": "code",
   "execution_count": 14,
   "id": "1f0307bb",
   "metadata": {},
   "outputs": [],
   "source": [
    "## Q2: Check whether in general males tip higher than females.\n",
    "\n",
    "## t test\n",
    "\n",
    "\n",
    "female_tips = tips.loc[tips.sex == 'Female', 'tip']\n",
    "male_tips = tips.loc[tips.sex == 'Male', 'tip']"
   ]
  },
  {
   "cell_type": "code",
   "execution_count": 15,
   "id": "00f25b0c",
   "metadata": {},
   "outputs": [
    {
     "data": {
      "text/plain": [
       "2.833448275862069"
      ]
     },
     "execution_count": 15,
     "metadata": {},
     "output_type": "execute_result"
    }
   ],
   "source": [
    "female_tips.mean()"
   ]
  },
  {
   "cell_type": "code",
   "execution_count": 16,
   "id": "2e22895c",
   "metadata": {},
   "outputs": [
    {
     "data": {
      "text/plain": [
       "3.0896178343949052"
      ]
     },
     "execution_count": 16,
     "metadata": {},
     "output_type": "execute_result"
    }
   ],
   "source": [
    "male_tips.mean()"
   ]
  },
  {
   "cell_type": "code",
   "execution_count": 17,
   "id": "9e775ff8",
   "metadata": {},
   "outputs": [
    {
     "data": {
      "image/png": "[encoded data removed]",
      "text/plain": [
       "<Figure size 432x288 with 1 Axes>"
      ]
     },
     "metadata": {},
     "output_type": "display_data"
    }
   ],
   "source": [
    "sns.set(style=\"whitegrid\")\n",
    "sns.histplot(male_tips, label='male tips')\n",
    "sns.histplot(female_tips, color='orange', label='female tips')\n",
    "plt.axvline(female_tips.mean(), color='red', linestyle='--', label='female tips mean')\n",
    "plt.axvline(male_tips.mean(), color='green', linestyle='--', label='male tips mean')\n",
    "plt.legend()\n",
    "plt.show() "
   ]
  },
  {
   "cell_type": "code",
   "execution_count": 18,
   "id": "44a6a08f",
   "metadata": {},
   "outputs": [
    {
     "data": {
      "text/plain": [
       "Ttest_indResult(statistic=-1.3878597054212687, pvalue=0.16645623503456763)"
      ]
     },
     "execution_count": 18,
     "metadata": {},
     "output_type": "execute_result"
    }
   ],
   "source": [
    "## H0: mean of female tips = mean of male tips\n",
    "## Ha: they are not equal\n",
    "\n",
    "## confidence: 95%\n",
    "## significance: 5%\n",
    "\n",
    "## t test\n",
    "\n",
    "stats.ttest_ind(female_tips, male_tips)"
   ]
  },
  {
   "cell_type": "code",
   "execution_count": 19,
   "id": "237db7e1",
   "metadata": {},
   "outputs": [],
   "source": [
    "## we fail to reject the null hypothesis because the p value lies in the acceptance region or the confidence region."
   ]
  },
  {
   "cell_type": "code",
   "execution_count": 21,
   "id": "22a67a72",
   "metadata": {},
   "outputs": [],
   "source": [
    "## Q3: is there any relationship between the gender of a person and whether they are a smoker or not.\n",
    "\n",
    "## H0: there is no relationship\n",
    "## Ha: there is a relationship\n",
    "\n",
    "## confidence interval: 95%\n",
    "\n",
    "## test? chi2 test\n",
    "\n",
    "stats.chi2_contingency?"
   ]
  },
  {
   "cell_type": "code",
   "execution_count": 27,
   "id": "d66c377a",
   "metadata": {},
   "outputs": [
    {
     "data": {
      "text/html": [
       "<div>\n",
       "<style scoped>\n",
       "    .dataframe tbody tr th:only-of-type {\n",
       "        vertical-align: middle;\n",
       "    }\n",
       "\n",
       "    .dataframe tbody tr th {\n",
       "        vertical-align: top;\n",
       "    }\n",
       "\n",
       "    .dataframe thead th {\n",
       "        text-align: right;\n",
       "    }\n",
       "</style>\n",
       "<table border=\"1\" class=\"dataframe\">\n",
       "  <thead>\n",
       "    <tr style=\"text-align: right;\">\n",
       "      <th>smoker</th>\n",
       "      <th>Yes</th>\n",
       "      <th>No</th>\n",
       "    </tr>\n",
       "    <tr>\n",
       "      <th>sex</th>\n",
       "      <th></th>\n",
       "      <th></th>\n",
       "    </tr>\n",
       "  </thead>\n",
       "  <tbody>\n",
       "    <tr>\n",
       "      <th>Male</th>\n",
       "      <td>60</td>\n",
       "      <td>97</td>\n",
       "    </tr>\n",
       "    <tr>\n",
       "      <th>Female</th>\n",
       "      <td>33</td>\n",
       "      <td>54</td>\n",
       "    </tr>\n",
       "  </tbody>\n",
       "</table>\n",
       "</div>"
      ],
      "text/plain": [
       "smoker  Yes  No\n",
       "sex            \n",
       "Male     60  97\n",
       "Female   33  54"
      ]
     },
     "execution_count": 27,
     "metadata": {},
     "output_type": "execute_result"
    }
   ],
   "source": [
    "observed = pd.crosstab(tips.sex, tips.smoker)\n",
    "observed"
   ]
  },
  {
   "cell_type": "code",
   "execution_count": 26,
   "id": "14ca7c04",
   "metadata": {},
   "outputs": [
    {
     "data": {
      "text/plain": [
       "(0.008763290531773594,\n",
       " 0.925417020494423,\n",
       " 1,\n",
       " array([[59.84016393, 97.15983607],\n",
       "        [33.15983607, 53.84016393]]))"
      ]
     },
     "execution_count": 26,
     "metadata": {},
     "output_type": "execute_result"
    }
   ],
   "source": [
    "stats.chi2_contingency(observed)"
   ]
  },
  {
   "cell_type": "code",
   "execution_count": null,
   "id": "ee7f8b7c",
   "metadata": {},
   "outputs": [],
   "source": [
    "## In fact, the data also suggests that our null hypothesis might be right."
   ]
  },
  {
   "cell_type": "code",
   "execution_count": null,
   "id": "2bd20a48",
   "metadata": {},
   "outputs": [],
   "source": [
    "## Based on the sample data that we got, we reject the null hypothesis meaning that the $22 is off."
   ]
  },
  {
   "cell_type": "code",
   "execution_count": 28,
   "id": "031cdf6c",
   "metadata": {},
   "outputs": [],
   "source": [
    "## Q4: Check whether there is a significant difference between the mean bill amounts for\n",
    "## the different days in the data"
   ]
  },
  {
   "cell_type": "code",
   "execution_count": 30,
   "id": "759c237f",
   "metadata": {},
   "outputs": [
    {
     "data": {
      "text/plain": [
       "['Sun', 'Sat', 'Thur', 'Fri']\n",
       "Categories (4, object): ['Sun', 'Sat', 'Thur', 'Fri']"
      ]
     },
     "execution_count": 30,
     "metadata": {},
     "output_type": "execute_result"
    }
   ],
   "source": [
    "tips.day.unique()"
   ]
  },
  {
   "cell_type": "code",
   "execution_count": 35,
   "id": "9d8c7274",
   "metadata": {},
   "outputs": [],
   "source": [
    "Sun_bills = tips.loc[tips.day=='Sun', 'total_bill']\n",
    "Sat_bills = tips.loc[tips.day=='Sat', 'total_bill']\n",
    "Thur_bills = tips.loc[tips.day=='Thur', 'total_bill']\n",
    "Fri_bills = tips.loc[tips.day=='Fri', 'total_bill']"
   ]
  },
  {
   "cell_type": "code",
   "execution_count": 36,
   "id": "aa718126",
   "metadata": {},
   "outputs": [
    {
     "name": "stdout",
     "output_type": "stream",
     "text": [
      "21.410000000000004\n",
      "20.441379310344825\n",
      "17.682741935483865\n",
      "17.151578947368417\n"
     ]
    }
   ],
   "source": [
    "print(Sun_bills.mean())\n",
    "print(Sat_bills.mean())\n",
    "print(Thur_bills.mean())\n",
    "print(Fri_bills.mean())"
   ]
  },
  {
   "cell_type": "code",
   "execution_count": 37,
   "id": "f567a19c",
   "metadata": {},
   "outputs": [
    {
     "data": {
      "text/plain": [
       "<AxesSubplot:xlabel='day', ylabel='total_bill'>"
      ]
     },
     "execution_count": 37,
     "metadata": {},
     "output_type": "execute_result"
    },
    {
     "data": {
      "image/png": "[encoded data removed]",
      "text/plain": [
       "<Figure size 432x288 with 1 Axes>"
      ]
     },
     "metadata": {},
     "output_type": "display_data"
    }
   ],
   "source": [
    "sns.boxplot(y=tips.total_bill, x=tips.day)"
   ]
  },
  {
   "cell_type": "code",
   "execution_count": 39,
   "id": "2b86a12f",
   "metadata": {},
   "outputs": [],
   "source": [
    "## H0: there is not difference in total bills on any particular\n",
    "## Ha: there is a difference\n",
    "\n",
    "## confidence: 99%\n",
    "## p critical 1%\n",
    "\n",
    "## test? anova\n",
    "\n",
    "result = stats.f_oneway(Sun_bills, Sat_bills, Fri_bills, Thur_bills)"
   ]
  },
  {
   "cell_type": "code",
   "execution_count": 40,
   "id": "fa9fe728",
   "metadata": {},
   "outputs": [
    {
     "name": "stdout",
     "output_type": "stream",
     "text": [
      "['__add__', '__class__', '__contains__', '__delattr__', '__dir__', '__doc__', '__eq__', '__format__', '__ge__', '__getattribute__', '__getitem__', '__getnewargs__', '__gt__', '__hash__', '__init__', '__init_subclass__', '__iter__', '__le__', '__len__', '__lt__', '__module__', '__mul__', '__ne__', '__new__', '__reduce__', '__reduce_ex__', '__repr__', '__rmul__', '__setattr__', '__sizeof__', '__slots__', '__str__', '__subclasshook__', '_asdict', '_field_defaults', '_fields', '_fields_defaults', '_make', '_replace', 'count', 'index', 'pvalue', 'statistic']\n"
     ]
    }
   ],
   "source": [
    "print(dir(result))"
   ]
  },
  {
   "cell_type": "code",
   "execution_count": 43,
   "id": "2a46cd83",
   "metadata": {},
   "outputs": [
    {
     "data": {
      "text/plain": [
       "0.04245383328952047"
      ]
     },
     "execution_count": 43,
     "metadata": {},
     "output_type": "execute_result"
    }
   ],
   "source": [
    "result.pvalue"
   ]
  },
  {
   "cell_type": "markdown",
   "id": "26cdcd3f",
   "metadata": {},
   "source": [
    "## Machine learning\n",
    "\n",
    "\n",
    "This is a new way of programming where we feed the input and the output and the machine figures out the patterns\n",
    "between them.\n",
    "\n",
    "In Machine learning, we have\n",
    "\n",
    "Y variable / Dependent variable / Target variable / labels.\n",
    "\n",
    "X variables / Independent variables / Predictors / Features\n",
    "\n",
    "\n",
    "either y can be continuous or it be categorical\n",
    "\n",
    "\n",
    "Machine learnings\n",
    "\n",
    "1. Regression problem\n",
    "        y variable is continuous\n",
    "        \n",
    "        Examples: House price prediction, stock price forecasting,\n",
    "            Interest rate prediction, eligible loan amount.\n",
    "            how many sales will see of a product.\n",
    "            \n",
    "            \n",
    "2. Classification problems\n",
    "    y variable is categorical in nature\n",
    "    \n",
    "    Examples: weather prediction, spam email, which team would win a game,\n",
    "                image detection, handwriting detection, employee churn, attrition rates.\n",
    "                audio to text, sentiment analysis.\n",
    "                \n",
    "                \n",
    "                \n",
    "3. Segmentation problems:\n",
    "        clustering your data into logical groups using ml.\n",
    "\n",
    "\n",
    "4. Forecasting problem\n",
    "\n",
    "    stock price prediction, sales predictions, aqi prediction\n",
    "    where time is involved, gdp forecasting, interest rate forecasting.\n",
    "    \n",
    "    \n",
    "    here one of the variables is past values of the y\n",
    "    \n",
    "    y_t = f(y_(t-1))   ** still more x variables can be there.\n",
    " \n",
    "\n",
    "\n",
    "70-80% of machine learning problems - classification problems\n",
    "\n",
    "10-15% - regression problems\n",
    "\n",
    "remaining - forecasting problem / segmentation problem\n",
    "\n",
    "\n",
    "Another way of categorizing machine learning\n",
    "\n",
    "1. Supervised learning\n",
    "    y variable is present\n",
    "2. Unsupervised learning\n",
    "    y variable is not required\n",
    "    segmentation problem is unsurpervised.\n",
    "    \n",
    "3. Re-inforcement learning\n",
    "    the algorithms just tries many many things to learn what is right and what is wrong.\n"
   ]
  },
  {
   "cell_type": "markdown",
   "id": "f1d8bc0e",
   "metadata": {},
   "source": [
    "## Steps of a machine learning project\n",
    "\n",
    "\n",
    "\n",
    "Step1: pre-modelling\n",
    "\n",
    "What is the business problem?\n",
    "convert the business object into a statistical problem\n",
    "    y, X\n",
    "    what kind of technique?\n",
    "    \n",
    "Gathering the data.\n",
    "    Internal sources\n",
    "    External sources\n",
    "        web scraping, pdfs\n",
    "        \n",
    "        Data vendors\n",
    "            Nielson, ZS,...\n",
    "            \n",
    "            \n",
    "Exploratory data analysis\n",
    "\n",
    "Data auditing\n",
    "    (Garbage in garbage out)\n",
    "\n",
    "Step2: modelling\n",
    "\n",
    "Data preparation / Data cleaning\n",
    "    missing values\n",
    "    outlier treatment\n",
    "    fix the problems\n",
    "    \n",
    "    Most machine learning only recognized numbers / continuous\n",
    "    convert categorical columns to numbers\n",
    "    \n",
    "        1. label encoding\n",
    "        2. dummy variable creation / one hot encoding\n",
    "        \n",
    "        \n",
    "    Feature engineering\n",
    "        coming up with some new KPIs\n",
    "        feature selection\n",
    "        combining existing features to create new meaningful features based on machine learning\n",
    "        \n",
    "        \n",
    "     select what algorithm works best for my problem.\n",
    "     \n",
    "     \n",
    "     train-test split\n",
    "     \n",
    "         accuracy_training >> testing accuracy\t\t\t-> overfitting\t\n",
    "         accuracy_training is itself low.\t\t\t-> underfitting\t\n",
    "         training_accuracy ~ testing accuracy\t\t\t-> balanced model\t\n",
    "\n",
    "\n",
    "    create the model\n",
    "            based on the algorithm that we decided.\n",
    "            \n",
    "            \n",
    "3. Post modelling\n",
    "\n",
    "    judging the model's accuracy on new data.\n",
    "    integrate the model with your website.\n",
    "    *keep on incrementally training the model on new data. \n",
    "    "
   ]
  },
  {
   "cell_type": "code",
   "execution_count": null,
   "id": "f965f0b9",
   "metadata": {},
   "outputs": [],
   "source": [
    "## big data\n",
    "## hadoop, spark (pandas version for distibuted data), hive, impala (sql for distributed)\n",
    "## oltp vs olap (data warehousing)"
   ]
  },
  {
   "cell_type": "code",
   "execution_count": null,
   "id": "adaeb1f5",
   "metadata": {},
   "outputs": [],
   "source": [
    "## Case study\n",
    "\n",
    "## Intro\n",
    "## Statistical models\n",
    "\n",
    "## 1. Linear Regression\n",
    "## 2. Logistic Regression"
   ]
  }
 ],
 "metadata": {
  "kernelspec": {
   "display_name": "Python 3",
   "language": "python",
   "name": "python3"
  },
  "language_info": {
   "codemirror_mode": {
    "name": "ipython",
    "version": 3
   },
   "file_extension": ".py",
   "mimetype": "text/x-python",
   "name": "python",
   "nbconvert_exporter": "python",
   "pygments_lexer": "ipython3",
   "version": "3.8.8"
  }
 },
 "nbformat": 4,
 "nbformat_minor": 5
}
