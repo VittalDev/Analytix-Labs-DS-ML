{
 "cells": [
  {
   "cell_type": "markdown",
   "id": "30ddd813",
   "metadata": {},
   "source": [
    "## Introduction to Jupyter\n",
    "\n",
    "Jupyter is a browser based environment for writing python. It is just the front end where we can write python programs and generate data analysis reports. There are many other IDEs or front ends as well that one can use to write python code.\n",
    "\n",
    "Also, it is cell based, meaning that the entire environment is broken down into cells where we can write code and write explanations. This kind of file that has python code and is broken down into cells like this has the extension `.ipynb` or `ipython notebook`.\n",
    "\n",
    "Each cell in jupyter has 2 states and 3 different modes.\n",
    "\n",
    "2 states\n",
    "\n",
    "    - command state (esc) - manipulate or move around the file as a whole\n",
    "    - edit state (enter) - is to enter a particular cell\n",
    "    \n",
    "    \n",
    "3 modes\n",
    "\n",
    "    - Markdown mode ( stylized text )\n",
    "    - code mode ( write python )\n",
    "    - RawNBConvert ( regular text, plain text)\n",
    "    \n",
    "    \n",
    "    \n",
    "shortcuts\n",
    "\n",
    "changing the mode\n",
    "\n",
    "    first come to the command state\n",
    "    \n",
    "        Markdown - esc + m\n",
    "        code - esc + y\n",
    "        RawNBconvert - esc + r\n",
    "        \n",
    "        \n",
    "other shortcuts\n",
    "\n",
    "        add a cell below - esc + b\n",
    "        add a cell above - esc + a\n",
    "     \n",
    "        delete cell - esc + dd\n",
    "        \n",
    "        \n",
    "        copy - esc + c\n",
    "        paste - esc + v\n",
    "        cut - esc + x\n",
    "        \n",
    "        \n",
    "execute cell\n",
    "\n",
    "           shift + enter ( execute the current cell and move the control to the cell below )\n",
    "           ctrl + enter ( execute the current and stay with the current cell )\n",
    "           \n",
    "           \n",
    "Each cell can only exist in one particular mode at a time.\n",
    "           "
   ]
  },
  {
   "cell_type": "code",
   "execution_count": 22,
   "id": "3922b87a",
   "metadata": {},
   "outputs": [],
   "source": [
    "# in python, comments can be given using #\n",
    "# python doesn't support multi line comments"
   ]
  },
  {
   "cell_type": "markdown",
   "id": "c3634330",
   "metadata": {},
   "source": [
    "## Intro to python\n",
    "\n",
    "While learning any programming language, we will need some core concepts. These include the following\n",
    "\n",
    "- variables\n",
    "- operators\n",
    "- data types\n",
    "- data structures\n",
    "- functions\n",
    "- control flow statements\n",
    "    \n",
    "    - loops\n",
    "    - if else ...\n",
    "    \n",
    "    \n",
    "- objects and classes (object oriented programming)\n",
    "- Identifier Naming convention\n",
    "- exception handling or error handling\n",
    "- file handling\n",
    "- packages\n"
   ]
  },
  {
   "cell_type": "markdown",
   "id": "c13a06ec",
   "metadata": {},
   "source": [
    "# The 5 heading styles in Jupyter Markdown mode\n",
    "\n",
    "# Variables\n",
    "## Variables\n",
    "### Variables\n",
    "#### Variables\n",
    "##### Variables\n",
    "###### Variables\n"
   ]
  },
  {
   "cell_type": "markdown",
   "id": "b794afa8",
   "metadata": {},
   "source": [
    "<h1> Variables </h1>\n",
    "<h2> Variables </h2>\n",
    "<h3> Variables </h3>\n",
    "<h4> Variables </h4>\n",
    "<h5> Variables </h5>\n",
    "<h6> Variables </h6>\n"
   ]
  },
  {
   "cell_type": "markdown",
   "id": "0334d2a4",
   "metadata": {},
   "source": [
    "## Variables\n",
    "\n",
    "What are variables?\n",
    "\n",
    "container in memory that holds some information. any information, when you wish to store it in memory must be stored\n",
    "as a variable.\n",
    "\n",
    "It is created using the `=` sign and just assigning the information to be stored a `name`."
   ]
  },
  {
   "cell_type": "code",
   "execution_count": 1,
   "id": "9ae7f4b9",
   "metadata": {},
   "outputs": [],
   "source": [
    "## give a name on the left side,, give an = sign, and the information to be stored on the right\n",
    "var1 = 2"
   ]
  },
  {
   "cell_type": "code",
   "execution_count": 2,
   "id": "884db71a",
   "metadata": {},
   "outputs": [
    {
     "name": "stdout",
     "output_type": "stream",
     "text": [
      "2\n"
     ]
    }
   ],
   "source": [
    "# use the print function to see what is inside the variable\n",
    "print(var1)"
   ]
  },
  {
   "cell_type": "code",
   "execution_count": 3,
   "id": "44671c57",
   "metadata": {},
   "outputs": [],
   "source": [
    "var1 = 2\n",
    "var2 = 3.14\n",
    "var3 = 'hello world'   ## for strings either use single quotes or double quotes"
   ]
  },
  {
   "cell_type": "code",
   "execution_count": 4,
   "id": "66ee7606",
   "metadata": {},
   "outputs": [
    {
     "data": {
      "text/plain": [
       "'hello world'"
      ]
     },
     "execution_count": 4,
     "metadata": {},
     "output_type": "execute_result"
    }
   ],
   "source": [
    "var3"
   ]
  },
  {
   "cell_type": "code",
   "execution_count": 7,
   "id": "a2bc1d8b",
   "metadata": {},
   "outputs": [],
   "source": [
    "var4 = \"hello word2\" ## double quotes are also fine"
   ]
  },
  {
   "cell_type": "code",
   "execution_count": 8,
   "id": "0fe3acc2",
   "metadata": {},
   "outputs": [
    {
     "data": {
      "text/plain": [
       "'hello word2'"
      ]
     },
     "execution_count": 8,
     "metadata": {},
     "output_type": "execute_result"
    }
   ],
   "source": [
    "var4"
   ]
  },
  {
   "cell_type": "code",
   "execution_count": 44,
   "id": "06c42a05",
   "metadata": {},
   "outputs": [],
   "source": [
    "## one exception to this rule of using single or double quotes\n",
    "## when a single quote or a double is appearing inside the string itself. for example, `python's lecture 1`\n",
    "\n",
    "\n",
    "## \\ works as an escape character\n",
    "## whatever comes next, ignore the meaning of it.\n",
    "var5 = 'python\\'s class'"
   ]
  },
  {
   "cell_type": "code",
   "execution_count": 45,
   "id": "4876807b",
   "metadata": {},
   "outputs": [
    {
     "data": {
      "text/plain": [
       "\"python's class\""
      ]
     },
     "execution_count": 45,
     "metadata": {},
     "output_type": "execute_result"
    }
   ],
   "source": [
    "var5"
   ]
  },
  {
   "cell_type": "code",
   "execution_count": 9,
   "id": "8c5eda2f",
   "metadata": {},
   "outputs": [],
   "source": [
    "## storing multiline strings in a variable\n",
    "\n",
    "var6 = \"\"\"Jewellers in India, the world's second largest \n",
    "gold consuming country after China, have started receiving m\n",
    "ore inquiries for purchase of gold or silver immediately after \n",
    "the Reserve Bank's announcement to withdraw ₹2,000 notes from circulation.\n",
    "ers body GJC said on Sunday.'\"\"\""
   ]
  },
  {
   "cell_type": "code",
   "execution_count": 10,
   "id": "f1437576",
   "metadata": {},
   "outputs": [
    {
     "data": {
      "text/plain": [
       "\"Jewellers in India, the world's second largest \\ngold consuming country after China, have started receiving m\\nore inquiries for purchase of gold or silver immediately after \\nthe Reserve Bank's announcement to withdraw ₹2,000 notes from circulation.\\ners body GJC said on Sunday.'\""
      ]
     },
     "execution_count": 10,
     "metadata": {},
     "output_type": "execute_result"
    }
   ],
   "source": [
    "var6"
   ]
  },
  {
   "cell_type": "code",
   "execution_count": 11,
   "id": "871c6f37",
   "metadata": {},
   "outputs": [],
   "source": [
    "var7 = '''select * from table_name \n",
    "where column_name = Delhi'''"
   ]
  },
  {
   "cell_type": "code",
   "execution_count": 12,
   "id": "48d5b033",
   "metadata": {},
   "outputs": [
    {
     "name": "stdout",
     "output_type": "stream",
     "text": [
      "select * from table_name \n",
      "where column_name = Delhi\n"
     ]
    }
   ],
   "source": [
    "print(var7)"
   ]
  },
  {
   "cell_type": "code",
   "execution_count": 14,
   "id": "9fac08aa",
   "metadata": {},
   "outputs": [
    {
     "data": {
      "text/plain": [
       "str"
      ]
     },
     "execution_count": 14,
     "metadata": {},
     "output_type": "execute_result"
    }
   ],
   "source": [
    "# python is a dynamically typed language meaning that it does not require us to\n",
    "## specify the data type of the information being stored in a variable\n",
    "\n",
    "## Other languages do\n",
    "\n",
    "## Python avoids this by itself interpreting what datatype it should assign to a\n",
    "## variable\n",
    "\n",
    "## to check the type of a variable itself assigned by python, using type() function\n",
    "\n",
    "type(var7)"
   ]
  },
  {
   "cell_type": "code",
   "execution_count": null,
   "id": "43cb7810",
   "metadata": {},
   "outputs": [],
   "source": [
    "print(type(var1))"
   ]
  },
  {
   "cell_type": "code",
   "execution_count": null,
   "id": "538bdf7e",
   "metadata": {},
   "outputs": [],
   "source": []
  },
  {
   "cell_type": "code",
   "execution_count": 15,
   "id": "3edf2f0a",
   "metadata": {},
   "outputs": [
    {
     "name": "stdout",
     "output_type": "stream",
     "text": [
      "<class 'int'>\n",
      "<class 'float'>\n",
      "<class 'str'>\n"
     ]
    }
   ],
   "source": [
    "print(type(var1))\n",
    "print(type(var2))\n",
    "print(type(var3))"
   ]
  },
  {
   "cell_type": "code",
   "execution_count": null,
   "id": "e893b041",
   "metadata": {},
   "outputs": [],
   "source": []
  }
 ],
 "metadata": {
  "kernelspec": {
   "display_name": "Python 3",
   "language": "python",
   "name": "python3"
  },
  "language_info": {
   "codemirror_mode": {
    "name": "ipython",
    "version": 3
   },
   "file_extension": ".py",
   "mimetype": "text/x-python",
   "name": "python",
   "nbconvert_exporter": "python",
   "pygments_lexer": "ipython3",
   "version": "3.8.8"
  }
 },
 "nbformat": 4,
 "nbformat_minor": 5
}
